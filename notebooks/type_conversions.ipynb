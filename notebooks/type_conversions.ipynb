{
 "cells": [
  {
   "cell_type": "markdown",
   "metadata": {},
   "source": [
    "### Type Conversions\n",
    "\n",
    "In Python, type conversions (also known as type casting) allow you to change the data type of a variable from one type to another. Python provides several built-in functions and techniques for type conversion. Here are some common type conversions in Python.\n",
    "\n",
    "Python is an object oriented programming language. That is why it uses constructor functions of classes to do conversions from one type into another.\n",
    "\n",
    "* [Implicit Type Conversion (Coercion)](#implicit-type-conversion-coercion)\n",
    "* [Explicit Type Conversion (Type Casting)](#explicit-type-conversion-type-casting)\n",
    "* [Using Constructors](#using-constructors)\n",
    "* [Using eval()](#using-eval)\n",
    "* [Using Format Conversion](#using-format-conversion)\n",
    "* [Using Arithmetic Operations](#using-arithmetic-operations)"
   ]
  },
  {
   "cell_type": "markdown",
   "metadata": {},
   "source": [
    "## Implicit Type Conversion (Coercion)\n",
    "\n",
    "Python can perform implicit type conversion when you mix different data types in expressions. For example, when you add an integer and a float, Python will automatically convert the integer to a float before performing the addition.\n",
    "\n",
    "Implicit type conversion in Python can be convenient, but it's important to understand when and how it occurs, as it may impact the results of your operations.\n",
    "\n",
    "Implicit type conversion, also known as coercion, happens when Python automatically converts one data type to another during an operation. Here are some examples:"
   ]
  },
  {
   "cell_type": "markdown",
   "metadata": {},
   "source": [
    "### Integer and Float\n",
    "\n",
    "When you mix an integer and a float in an operation, Python will convert the integer to a float to perform the operation."
   ]
  },
  {
   "cell_type": "code",
   "execution_count": 1,
   "metadata": {},
   "outputs": [
    {
     "name": "stdout",
     "output_type": "stream",
     "text": [
      "5 2.5 7.5\n"
     ]
    }
   ],
   "source": [
    "x = 5   # integer\n",
    "y = 2.5 # float\n",
    "result = x + y\n",
    "# Here, the integer 5 is implicitly converted to a float before the addition.\n",
    "# The result will be 7.5 (float).\n",
    "\n",
    "print(x, y, result)"
   ]
  },
  {
   "cell_type": "markdown",
   "metadata": {},
   "source": [
    "### Integer and String (Concatenation)\n",
    "\n",
    "You can concatenate strings with integers without explicitly converting the integer to a string. Python will perform the conversion automatically."
   ]
  },
  {
   "cell_type": "code",
   "execution_count": 2,
   "metadata": {},
   "outputs": [
    {
     "name": "stdout",
     "output_type": "stream",
     "text": [
      "Alice 30 My name is Alice and I am 30 years old.\n"
     ]
    }
   ],
   "source": [
    "name = \"Alice\"\n",
    "age = 30\n",
    "message = \"My name is \" + name + \" and I am \" + str(age) + \" years old.\"\n",
    "# The integer 'age' is implicitly converted to a string for concatenation.\n",
    "# The 'message' will be \"My name is Alice and I am 30 years old.\"\n",
    "\n",
    "print(name, age, message)"
   ]
  },
  {
   "cell_type": "markdown",
   "metadata": {},
   "source": [
    "### Boolean and Numeric Types\n",
    "\n",
    "Boolean values (True and False) can be used in numeric operations, where True is treated as 1, and False is treated as 0."
   ]
  },
  {
   "cell_type": "code",
   "execution_count": 3,
   "metadata": {},
   "outputs": [
    {
     "name": "stdout",
     "output_type": "stream",
     "text": [
      "10 True False 11 10\n"
     ]
    }
   ],
   "source": [
    "x = 10\n",
    "is_true = True\n",
    "is_false = False\n",
    "\n",
    "result1 = x + is_true\n",
    "# Here, True is implicitly converted to 1.\n",
    "# The result1 will be 11.\n",
    "\n",
    "result2 = x + is_false\n",
    "# Here, False is implicitly converted to 0.\n",
    "# The result2 will be 10.\n",
    "\n",
    "print(x, is_true, is_false, result1, result2)"
   ]
  },
  {
   "cell_type": "markdown",
   "metadata": {},
   "source": [
    "### String and Numbers in Formatting\n",
    "\n",
    "When using f-strings or string formatting, you can mix numbers and strings without explicit conversion."
   ]
  },
  {
   "cell_type": "code",
   "execution_count": 4,
   "metadata": {},
   "outputs": [
    {
     "name": "stdout",
     "output_type": "stream",
     "text": [
      "19.99 The price is $19.99\n"
     ]
    }
   ],
   "source": [
    "price = 19.99\n",
    "message = f\"The price is ${price}\"\n",
    "# The 'price' (a float) is implicitly converted to a string within the f-string.\n",
    "# The 'message' will be \"The price is $19.99\".\n",
    "\n",
    "print(price, message)"
   ]
  },
  {
   "cell_type": "markdown",
   "metadata": {},
   "source": [
    "### List Concatenation\n",
    "\n",
    "You can concatenate lists of different data types without explicit conversion."
   ]
  },
  {
   "cell_type": "code",
   "execution_count": 5,
   "metadata": {},
   "outputs": [
    {
     "name": "stdout",
     "output_type": "stream",
     "text": [
      "[1, 2, 3] ['apple', 'banana', 'cherry'] [1, 2, 3, 'apple', 'banana', 'cherry']\n"
     ]
    }
   ],
   "source": [
    "list1 = [1, 2, 3]\n",
    "list2 = [\"apple\", \"banana\", \"cherry\"]\n",
    "combined_list = list1 + list2\n",
    "# Lists can contain mixed data types.\n",
    "# The 'combined_list' will be [1, 2, 3, \"apple\", \"banana\", \"cherry\"].\n",
    "\n",
    "print(list1, list2, combined_list)"
   ]
  },
  {
   "cell_type": "markdown",
   "metadata": {},
   "source": [
    "## Explicit Type Conversion (Type Casting)\n",
    "\n",
    "You can explicitly convert one data type to another using built-in functions like **int()**, **float()**, **str()**, etc.\n",
    "\n",
    "Explicit type conversion is useful when you need to ensure that data is of a specific type for a particular operation or when you want to change the representation of data for output or storage.\n",
    "\n",
    "Explicit type conversion, often referred to as type **casting**, involves manually changing the data type of a variable or value in Python using built-in functions. Here are examples of explicit type conversion:"
   ]
  },
  {
   "cell_type": "markdown",
   "metadata": {},
   "source": [
    "### Integer to Float\n",
    "\n",
    "You can convert an integer to a float using the **float()** function."
   ]
  },
  {
   "cell_type": "code",
   "execution_count": 6,
   "metadata": {},
   "outputs": [
    {
     "name": "stdout",
     "output_type": "stream",
     "text": [
      "42 42.0\n"
     ]
    }
   ],
   "source": [
    "x = 42\n",
    "y = float(x)\n",
    "# 'y' will be 42.0 (a float).\n",
    "\n",
    "print(x, y)"
   ]
  },
  {
   "cell_type": "markdown",
   "metadata": {},
   "source": [
    "### Float to Integer\n",
    "\n",
    "You can convert a float to an integer using the **int()** function. This conversion truncates the decimal part."
   ]
  },
  {
   "cell_type": "code",
   "execution_count": 7,
   "metadata": {},
   "outputs": [
    {
     "name": "stdout",
     "output_type": "stream",
     "text": [
      "3.7 3\n"
     ]
    }
   ],
   "source": [
    "a = 3.7\n",
    "b = int(a)\n",
    "# 'b' will be 3 (an integer).\n",
    "\n",
    "print(a, b)"
   ]
  },
  {
   "cell_type": "markdown",
   "metadata": {},
   "source": [
    "### String to Integer or Float\n",
    "\n",
    "To convert a string containing a number to an integer or float, use **int()** or **float()**."
   ]
  },
  {
   "cell_type": "code",
   "execution_count": 8,
   "metadata": {},
   "outputs": [
    {
     "name": "stdout",
     "output_type": "stream",
     "text": [
      "123 123\n",
      "3.14 3.14\n"
     ]
    }
   ],
   "source": [
    "num_str = \"123\"\n",
    "num_int = int(num_str)\n",
    "# 'num_int' will be 123 (an integer).\n",
    "\n",
    "print(num_str, num_int)\n",
    "\n",
    "num_str = \"3.14\"\n",
    "num_float = float(num_str)\n",
    "# 'num_float' will be 3.14 (a float).\n",
    "\n",
    "print(num_str, num_float)"
   ]
  },
  {
   "cell_type": "markdown",
   "metadata": {},
   "source": [
    "### Integer/Float to String\n",
    "\n",
    "You can convert an integer or float to a string using the **str()** function."
   ]
  },
  {
   "cell_type": "code",
   "execution_count": 9,
   "metadata": {},
   "outputs": [
    {
     "name": "stdout",
     "output_type": "stream",
     "text": [
      "42 3.14 42 3.14\n"
     ]
    }
   ],
   "source": [
    "x = 42\n",
    "y = 3.14\n",
    "str_x = str(x)\n",
    "str_y = str(y)\n",
    "# 'str_x' will be \"42\" (a string).\n",
    "# 'str_y' will be \"3.14\" (a string).\n",
    "\n",
    "print(x, y, str_x, str_y)"
   ]
  },
  {
   "cell_type": "markdown",
   "metadata": {},
   "source": [
    "### String to List or Tuple\n",
    "\n",
    "To convert a string to a list or tuple, you can use the **list()** or **tuple()** constructor."
   ]
  },
  {
   "cell_type": "code",
   "execution_count": 10,
   "metadata": {},
   "outputs": [
    {
     "name": "stdout",
     "output_type": "stream",
     "text": [
      "Hello ['H', 'e', 'l', 'l', 'o'] ('H', 'e', 'l', 'l', 'o')\n"
     ]
    }
   ],
   "source": [
    "my_string = \"Hello\"\n",
    "string_list = list(my_string)\n",
    "string_tuple = tuple(my_string)\n",
    "# 'string_list' will be ['H', 'e', 'l', 'l', 'o'] (a list).\n",
    "# 'string_tuple' will be ('H', 'e', 'l', 'l', 'o') (a tuple).\n",
    "\n",
    "print(my_string, string_list, string_tuple)"
   ]
  },
  {
   "cell_type": "markdown",
   "metadata": {},
   "source": [
    "### List to Set\n",
    "\n",
    "To convert a list to a set, you can use the **set()** constructor. This removes duplicate elements."
   ]
  },
  {
   "cell_type": "code",
   "execution_count": 11,
   "metadata": {},
   "outputs": [
    {
     "name": "stdout",
     "output_type": "stream",
     "text": [
      "[1, 2, 2, 3, 4, 4, 5] {1, 2, 3, 4, 5}\n"
     ]
    }
   ],
   "source": [
    "my_list = [1, 2, 2, 3, 4, 4, 5]\n",
    "my_set = set(my_list)\n",
    "# 'my_set' will be {1, 2, 3, 4, 5} (a set).\n",
    "\n",
    "print(my_list, my_set)"
   ]
  },
  {
   "cell_type": "markdown",
   "metadata": {},
   "source": [
    "### Set to List\n",
    "\n",
    "To convert a set to a list, you can use the **list()** constructor."
   ]
  },
  {
   "cell_type": "code",
   "execution_count": 12,
   "metadata": {},
   "outputs": [
    {
     "name": "stdout",
     "output_type": "stream",
     "text": [
      "{1, 2, 3, 4, 5}\n",
      "[1, 2, 3, 4, 5]\n"
     ]
    }
   ],
   "source": [
    "my_set = {1, 2, 3, 4, 5}\n",
    "my_list = list(my_set)\n",
    "# 'my_list' will be [1, 2, 3, 4, 5] (a list).\n",
    "\n",
    "print(my_set)\n",
    "print(my_list)"
   ]
  },
  {
   "cell_type": "markdown",
   "metadata": {},
   "source": [
    "### Boolean to Integer\n",
    "\n",
    "You can convert a boolean value to an integer, where True becomes 1 and False becomes 0."
   ]
  },
  {
   "cell_type": "code",
   "execution_count": 13,
   "metadata": {},
   "outputs": [
    {
     "name": "stdout",
     "output_type": "stream",
     "text": [
      "True False 1 0\n"
     ]
    }
   ],
   "source": [
    "is_true = True\n",
    "is_false = False\n",
    "int_true = int(is_true)\n",
    "int_false = int(is_false)\n",
    "# 'int_true' will be 1 (an integer).\n",
    "# 'int_false' will be 0 (an integer).\n",
    "\n",
    "print(is_true, is_false, int_true, int_false)"
   ]
  },
  {
   "cell_type": "markdown",
   "metadata": {},
   "source": [
    "### Numeric Operation for Explicit Conversion\n",
    "\n",
    "You can explicitly convert data types during operations. For example, adding an integer and a float."
   ]
  },
  {
   "cell_type": "code",
   "execution_count": 14,
   "metadata": {},
   "outputs": [
    {
     "name": "stdout",
     "output_type": "stream",
     "text": [
      "5 2.5 7\n"
     ]
    }
   ],
   "source": [
    "x = 5\n",
    "y = 2.5\n",
    "result = x + int(y)\n",
    "# 'y' is explicitly cast to an integer before addition.\n",
    "# 'result' will be 7 (an integer).\n",
    "\n",
    "print(x, y, result)"
   ]
  },
  {
   "cell_type": "markdown",
   "metadata": {},
   "source": [
    "## Using Constructors\n",
    "\n",
    "Using constructors in Python involves creating objects of specific data types using their respective constructors or class constructors.\n",
    "\n",
    "Using constructors allows you to create objects of specific data types and classes, making it easier to work with data and implement custom data structures or objects in your Python code.\n",
    "\n",
    "Here are some examples of using constructors:"
   ]
  },
  {
   "cell_type": "markdown",
   "metadata": {},
   "source": [
    "### Integer Constructor int()\n",
    "\n",
    "You can use the **int()** constructor to create integer objects."
   ]
  },
  {
   "cell_type": "code",
   "execution_count": 15,
   "metadata": {},
   "outputs": [
    {
     "name": "stdout",
     "output_type": "stream",
     "text": [
      "42\n"
     ]
    }
   ],
   "source": [
    "x = int(42)\n",
    "# 'x' is an integer object with the value 42.\n",
    "\n",
    "print(x)"
   ]
  },
  {
   "cell_type": "markdown",
   "metadata": {},
   "source": [
    "### Float Constructor float()\n",
    "\n",
    "The **float()** constructor creates floating-point number objects."
   ]
  },
  {
   "cell_type": "code",
   "execution_count": 16,
   "metadata": {},
   "outputs": [
    {
     "name": "stdout",
     "output_type": "stream",
     "text": [
      "3.14\n"
     ]
    }
   ],
   "source": [
    "y = float(3.14)\n",
    "# 'y' is a float object with the value 3.14.\n",
    "\n",
    "print(y)"
   ]
  },
  {
   "cell_type": "markdown",
   "metadata": {},
   "source": [
    "### String Constructor str()\n",
    "\n",
    "The **str()** constructor creates string objects."
   ]
  },
  {
   "cell_type": "code",
   "execution_count": 17,
   "metadata": {},
   "outputs": [
    {
     "name": "stdout",
     "output_type": "stream",
     "text": [
      "Alice\n"
     ]
    }
   ],
   "source": [
    "name = str(\"Alice\")\n",
    "# 'name' is a string object with the value \"Alice\".\n",
    "\n",
    "print(name)"
   ]
  },
  {
   "cell_type": "markdown",
   "metadata": {},
   "source": [
    "### List Constructor list()\n",
    "\n",
    "To create a list object, you can use the **list()** constructor."
   ]
  },
  {
   "cell_type": "code",
   "execution_count": 18,
   "metadata": {},
   "outputs": [
    {
     "name": "stdout",
     "output_type": "stream",
     "text": [
      "[1, 2, 3]\n"
     ]
    }
   ],
   "source": [
    "my_list = list([1, 2, 3])\n",
    "# 'my_list' is a list object containing the elements [1, 2, 3].\n",
    "\n",
    "print(my_list)"
   ]
  },
  {
   "cell_type": "markdown",
   "metadata": {},
   "source": [
    "### Tuple Constructor tuple()\n",
    "\n",
    "The **tuple()** constructor creates a tuple object."
   ]
  },
  {
   "cell_type": "code",
   "execution_count": 19,
   "metadata": {},
   "outputs": [
    {
     "name": "stdout",
     "output_type": "stream",
     "text": [
      "(4, 5, 6)\n"
     ]
    }
   ],
   "source": [
    "my_tuple = tuple((4, 5, 6))\n",
    "# 'my_tuple' is a tuple object containing the elements (4, 5, 6).\n",
    "\n",
    "print(my_tuple)"
   ]
  },
  {
   "cell_type": "markdown",
   "metadata": {},
   "source": [
    "### Set Constructor set()\n",
    "\n",
    "You can use the **set()** constructor to create a set object."
   ]
  },
  {
   "cell_type": "code",
   "execution_count": 20,
   "metadata": {},
   "outputs": [
    {
     "name": "stdout",
     "output_type": "stream",
     "text": [
      "{1, 2, 3}\n"
     ]
    }
   ],
   "source": [
    "my_set = set({1, 2, 2, 3, 3, 3})\n",
    "# 'my_set' is a set object containing the elements {1, 2, 3}.\n",
    "\n",
    "print(my_set)"
   ]
  },
  {
   "cell_type": "markdown",
   "metadata": {},
   "source": [
    "### Dictionary Constructor dict()\n",
    "\n",
    "The **dict()** constructor is used to create dictionary objects."
   ]
  },
  {
   "cell_type": "code",
   "execution_count": 21,
   "metadata": {},
   "outputs": [
    {
     "name": "stdout",
     "output_type": "stream",
     "text": [
      "{'name': 'Bob', 'age': 30}\n"
     ]
    }
   ],
   "source": [
    "my_dict = dict({\"name\": \"Bob\", \"age\": 30})\n",
    "# 'my_dict' is a dictionary object with the key-value pairs {\"name\": \"Bob\", \"age\": 30}.\n",
    "\n",
    "print(my_dict)"
   ]
  },
  {
   "cell_type": "markdown",
   "metadata": {},
   "source": [
    "### Custom Class Constructor\n",
    "\n",
    "You can define your own class and its constructor to create custom objects."
   ]
  },
  {
   "cell_type": "code",
   "execution_count": 22,
   "metadata": {},
   "outputs": [
    {
     "name": "stdout",
     "output_type": "stream",
     "text": [
      "<__main__.Person object at 0x7f626752d1f0> <__main__.Person object at 0x7f626752c5c0>\n"
     ]
    }
   ],
   "source": [
    "class Person:\n",
    "    def __init__(self, name, age):\n",
    "        self.name = name\n",
    "        self.age = age\n",
    "\n",
    "person1 = Person(\"Alice\", 25)\n",
    "person2 = Person(\"Bob\", 30)\n",
    "# 'person1' and 'person2' are objects of the 'Person' class with custom attributes.\n",
    "\n",
    "print(person1, person2)"
   ]
  },
  {
   "cell_type": "markdown",
   "metadata": {},
   "source": [
    "## Using eval()\n",
    "\n",
    "The **eval()** function in Python is used to evaluate and execute a dynamically created Python expression as a string. It can also be used to convert a string to its corresponding data type. However, you should be cautious when using **eval()** as it can execute arbitrary code, making it a potential security risk if not used carefully.\n",
    "\n",
    "Remember that using **eval()** with user input can be risky, so it's important to validate and sanitize the input to avoid potential security vulnerabilities.\n",
    "\n",
    "Here are some examples of using **eval()**:"
   ]
  },
  {
   "cell_type": "markdown",
   "metadata": {},
   "source": [
    "### Evaluating Expressions\n",
    "\n",
    "You can use **eval()** to evaluate mathematical expressions stored as strings."
   ]
  },
  {
   "cell_type": "code",
   "execution_count": 23,
   "metadata": {},
   "outputs": [
    {
     "name": "stdout",
     "output_type": "stream",
     "text": [
      "3 + 5 * 2\n",
      "13\n"
     ]
    }
   ],
   "source": [
    "expression = \"3 + 5 * 2\"\n",
    "result = eval(expression)\n",
    "# 'result' will be 13.\n",
    "\n",
    "print(expression)\n",
    "print(result)"
   ]
  },
  {
   "cell_type": "markdown",
   "metadata": {},
   "source": [
    "### Converting Strings to Integers or Floats\n",
    "\n",
    "The **eval()** can convert a string containing a number to its corresponding data type."
   ]
  },
  {
   "cell_type": "code",
   "execution_count": 24,
   "metadata": {},
   "outputs": [
    {
     "name": "stdout",
     "output_type": "stream",
     "text": [
      "42 42\n",
      "3.14 3.14\n"
     ]
    }
   ],
   "source": [
    "num_str = \"42\"\n",
    "num_int = eval(num_str)\n",
    "# 'num_int' will be 42 (an integer).\n",
    "\n",
    "print(num_str, num_int)\n",
    "\n",
    "num_str = \"3.14\"\n",
    "num_float = eval(num_str)\n",
    "# 'num_float' will be 3.14 (a float).\n",
    "\n",
    "print(num_str, num_float)"
   ]
  },
  {
   "cell_type": "markdown",
   "metadata": {},
   "source": [
    "### Converting a List or Tuple from a String\n",
    "\n",
    "You can use **eval()** to convert a string representation of a list or tuple back into a list or tuple."
   ]
  },
  {
   "cell_type": "code",
   "execution_count": 25,
   "metadata": {},
   "outputs": [
    {
     "name": "stdout",
     "output_type": "stream",
     "text": [
      "[1, 2, 3, 4, 5] [1, 2, 3, 4, 5]\n",
      "(4, 5, 6) (4, 5, 6)\n"
     ]
    }
   ],
   "source": [
    "list_str = \"[1, 2, 3, 4, 5]\"\n",
    "my_list = eval(list_str)\n",
    "# 'my_list' will be [1, 2, 3, 4, 5] (a list).\n",
    "\n",
    "tuple_str = \"(4, 5, 6)\"\n",
    "my_tuple = eval(tuple_str)\n",
    "# 'my_tuple' will be (4, 5, 6) (a tuple).\n",
    "\n",
    "print(list_str, my_list)\n",
    "print(tuple_str, my_tuple)"
   ]
  },
  {
   "cell_type": "markdown",
   "metadata": {},
   "source": [
    "### Using Variables in Eval\n",
    "\n",
    "You can include variables in the code passed to **eval()**.\n",
    "\n",
    "Be cautious when using variables within **eval()** to prevent potential security issues."
   ]
  },
  {
   "cell_type": "code",
   "execution_count": 26,
   "metadata": {},
   "outputs": [
    {
     "name": "stdout",
     "output_type": "stream",
     "text": [
      "10 x * 2 20\n"
     ]
    }
   ],
   "source": [
    "x = 10\n",
    "expression = \"x * 2\"\n",
    "result = eval(expression)\n",
    "# 'result' will be 20.\n",
    "\n",
    "print(x, expression, result)"
   ]
  },
  {
   "cell_type": "markdown",
   "metadata": {},
   "source": [
    "### Creating Custom Expressions\n",
    "\n",
    "You can allow users to input and evaluate custom expressions using **eval()**. However, this should be done carefully to avoid code injection vulnerabilities."
   ]
  },
  {
   "cell_type": "code",
   "execution_count": 27,
   "metadata": {},
   "outputs": [
    {
     "name": "stdout",
     "output_type": "stream",
     "text": [
      "Error: name 'Hola' is not defined\n"
     ]
    }
   ],
   "source": [
    "user_input = input(\"Enter an expression: \")\n",
    "try:\n",
    "    result = eval(user_input)\n",
    "    print(\"Result:\", result)\n",
    "except Exception as e:\n",
    "    print(\"Error:\", e)"
   ]
  },
  {
   "cell_type": "markdown",
   "metadata": {},
   "source": [
    "## Using Format Conversion\n",
    "\n",
    "Format conversion in Python involves using methods like **f-strings**, string formatting, or other techniques to convert values to strings with a specific format.\n",
    "\n",
    "Format conversion is useful for creating neatly **formatted strings**, particularly when displaying data or generating reports in Python.\n",
    "\n",
    "Here are examples of using format conversion:"
   ]
  },
  {
   "cell_type": "markdown",
   "metadata": {},
   "source": [
    "### Using F-strings\n",
    "\n",
    "F-strings are a convenient way to format strings in Python by embedding expressions inside string literals. They automatically convert variables to strings and allow for formatting."
   ]
  },
  {
   "cell_type": "code",
   "execution_count": 28,
   "metadata": {},
   "outputs": [
    {
     "name": "stdout",
     "output_type": "stream",
     "text": [
      "Alice 30 My name is Alice and I am 30 years old.\n"
     ]
    }
   ],
   "source": [
    "name = \"Alice\"\n",
    "age = 30\n",
    "formatted_string = f\"My name is {name} and I am {age} years old.\"\n",
    "# 'formatted_string' will be \"My name is Alice and I am 30 years old.\"\n",
    "\n",
    "print(name, age, formatted_string)"
   ]
  },
  {
   "cell_type": "markdown",
   "metadata": {},
   "source": [
    "### Using .format() Method\n",
    "\n",
    "You can use the **.format()** method to format strings, replacing placeholders with values."
   ]
  },
  {
   "cell_type": "code",
   "execution_count": 29,
   "metadata": {},
   "outputs": [
    {
     "name": "stdout",
     "output_type": "stream",
     "text": [
      "Bob 25 My name is Bob and I am 25 years old.\n"
     ]
    }
   ],
   "source": [
    "name = \"Bob\"\n",
    "age = 25\n",
    "formatted_string = \"My name is {} and I am {} years old.\".format(name, age)\n",
    "# 'formatted_string' will be \"My name is Bob and I am 25 years old.\"\n",
    "\n",
    "print(name, age, formatted_string)"
   ]
  },
  {
   "cell_type": "markdown",
   "metadata": {},
   "source": [
    "### Using String Concatenation\n",
    "\n",
    "You can concatenate strings with other data types to implicitly convert them to strings."
   ]
  },
  {
   "cell_type": "code",
   "execution_count": 30,
   "metadata": {},
   "outputs": [
    {
     "name": "stdout",
     "output_type": "stream",
     "text": [
      "19.99 The price is $19.99\n"
     ]
    }
   ],
   "source": [
    "price = 19.99\n",
    "message = \"The price is $\" + str(price)\n",
    "# 'message' will be \"The price is $19.99\".\n",
    "\n",
    "print(price, message)"
   ]
  },
  {
   "cell_type": "markdown",
   "metadata": {},
   "source": [
    "### Using str() for Explicit Conversion\n",
    "\n",
    "You can use the **str()** function to explicitly convert a value to a string."
   ]
  },
  {
   "cell_type": "code",
   "execution_count": 31,
   "metadata": {},
   "outputs": [
    {
     "name": "stdout",
     "output_type": "stream",
     "text": [
      "42 42\n"
     ]
    }
   ],
   "source": [
    "x = 42\n",
    "x_str = str(x)\n",
    "# 'x_str' will be \"42\".\n",
    "\n",
    "print(x, x_str)"
   ]
  },
  {
   "cell_type": "markdown",
   "metadata": {},
   "source": [
    "### Formatting with Precision (Float to String)\n",
    "\n",
    "You can use formatting to control the precision of floating-point numbers."
   ]
  },
  {
   "cell_type": "code",
   "execution_count": 32,
   "metadata": {},
   "outputs": [
    {
     "name": "stdout",
     "output_type": "stream",
     "text": [
      "3.14159265359 3.14\n"
     ]
    }
   ],
   "source": [
    "value = 3.14159265359\n",
    "formatted_value = f\"{value:.2f}\"\n",
    "# 'formatted_value' will be \"3.14\".\n",
    "\n",
    "print(value, formatted_value)"
   ]
  },
  {
   "cell_type": "markdown",
   "metadata": {},
   "source": [
    "### Using join() to Convert a List to a String\n",
    "\n",
    "You can use the **join()** method to convert a list to a string with a specific separator."
   ]
  },
  {
   "cell_type": "code",
   "execution_count": 33,
   "metadata": {},
   "outputs": [
    {
     "name": "stdout",
     "output_type": "stream",
     "text": [
      "['apple', 'banana', 'cherry'] apple, banana, cherry\n"
     ]
    }
   ],
   "source": [
    "items = [\"apple\", \"banana\", \"cherry\"]\n",
    "item_string = \", \".join(items)\n",
    "# 'item_string' will be \"apple, banana, cherry\".\n",
    "\n",
    "print(items, item_string)"
   ]
  },
  {
   "cell_type": "markdown",
   "metadata": {},
   "source": [
    "### Using String Slicing\n",
    "\n",
    "You can convert a portion of a string to another string using **slicing**."
   ]
  },
  {
   "cell_type": "code",
   "execution_count": 34,
   "metadata": {},
   "outputs": [
    {
     "name": "stdout",
     "output_type": "stream",
     "text": [
      "Hello, World Hello\n"
     ]
    }
   ],
   "source": [
    "full_string = \"Hello, World\"\n",
    "sliced_string = full_string[0:5]\n",
    "# 'sliced_string' will be \"Hello\".\n",
    "\n",
    "print(full_string, sliced_string)"
   ]
  },
  {
   "cell_type": "markdown",
   "metadata": {},
   "source": [
    "### Using format() for Complex Formatting\n",
    "\n",
    "You can use the **format()** method to perform more complex formatting, including aligning text and specifying field widths."
   ]
  },
  {
   "cell_type": "code",
   "execution_count": 35,
   "metadata": {},
   "outputs": [
    {
     "name": "stdout",
     "output_type": "stream",
     "text": [
      "John 25 Name: John       | Age:  25\n"
     ]
    }
   ],
   "source": [
    "name = \"John\"\n",
    "age = 25\n",
    "formatted_string = \"Name: {0:10} | Age: {1:3}\".format(name, age)\n",
    "# 'formatted_string' will be \"Name: John       | Age: 25\".\n",
    "\n",
    "print(name, age, formatted_string)"
   ]
  },
  {
   "cell_type": "markdown",
   "metadata": {},
   "source": [
    "## Using Arithmetic Operations\n",
    "\n",
    "Arithmetic operations can implicitly convert data types. For example, division (/) between two integers results in a float.\n",
    "\n",
    "Using arithmetic operations in Python can implicitly convert data types and provide various results.\n",
    "\n",
    "Arithmetic operations in Python provide opportunities for implicit type conversion, which can be useful for working with mixed data types and for getting the desired results from calculations.\n",
    "\n",
    "Here are examples of using arithmetic operations for type conversion:"
   ]
  },
  {
   "cell_type": "markdown",
   "metadata": {},
   "source": [
    "### Integer Division //\n",
    "\n",
    "When you perform integer division between two integers, Python returns an integer result. It implicitly converts the result to an integer by discarding the decimal part."
   ]
  },
  {
   "cell_type": "code",
   "execution_count": 36,
   "metadata": {},
   "outputs": [
    {
     "name": "stdout",
     "output_type": "stream",
     "text": [
      "10 3 3\n"
     ]
    }
   ],
   "source": [
    "x = 10\n",
    "y = 3\n",
    "result = x // y\n",
    "# 'result' will be 3 (an integer).\n",
    "\n",
    "print(x, y, result)"
   ]
  },
  {
   "cell_type": "markdown",
   "metadata": {},
   "source": [
    "### Float Division /\n",
    "\n",
    "If you want to ensure a floating-point result from division, you can use the / operator. This explicitly converts the result to a float."
   ]
  },
  {
   "cell_type": "code",
   "execution_count": 37,
   "metadata": {},
   "outputs": [
    {
     "name": "stdout",
     "output_type": "stream",
     "text": [
      "10 3 3.3333333333333335\n"
     ]
    }
   ],
   "source": [
    "x = 10\n",
    "y = 3\n",
    "result = x / y\n",
    "# 'result' will be 3.3333333333333335 (a float).\n",
    "\n",
    "print(x, y, result)"
   ]
  },
  {
   "cell_type": "markdown",
   "metadata": {},
   "source": [
    "### Mixed Data Types in Arithmetic Operations\n",
    "\n",
    "Python implicitly converts data types during arithmetic operations. For example, when you add an integer and a float, the integer is converted to a float to perform the operation."
   ]
  },
  {
   "cell_type": "code",
   "execution_count": 38,
   "metadata": {},
   "outputs": [
    {
     "name": "stdout",
     "output_type": "stream",
     "text": [
      "5 2.5 7.5\n"
     ]
    }
   ],
   "source": [
    "x = 5  # integer\n",
    "y = 2.5  # float\n",
    "result = x + y\n",
    "# 'result' will be 7.5 (a float).\n",
    "\n",
    "print(x, y, result)"
   ]
  },
  {
   "cell_type": "markdown",
   "metadata": {},
   "source": [
    "### Implicit Conversion in Expressions\n",
    "\n",
    "Implicit type conversion occurs when different data types are combined in expressions. For instance, when adding an integer and a boolean."
   ]
  },
  {
   "cell_type": "code",
   "execution_count": 39,
   "metadata": {},
   "outputs": [
    {
     "name": "stdout",
     "output_type": "stream",
     "text": [
      "10 True 11\n"
     ]
    }
   ],
   "source": [
    "x = 10\n",
    "is_true = True\n",
    "result = x + is_true\n",
    "# 'is_true' (boolean) is implicitly converted to 1, and the result is 11 (an integer).\n",
    "\n",
    "print(x, is_true, result)"
   ]
  },
  {
   "cell_type": "markdown",
   "metadata": {},
   "source": [
    "### Implicit Conversion in Boolean Expressions\n",
    "\n",
    "Boolean expressions often involve implicit conversion. For example, when comparing an integer and a float."
   ]
  },
  {
   "cell_type": "code",
   "execution_count": 40,
   "metadata": {},
   "outputs": [
    {
     "name": "stdout",
     "output_type": "stream",
     "text": [
      "5 5.0 True\n"
     ]
    }
   ],
   "source": [
    "x = 5\n",
    "y = 5.0\n",
    "result = x == y\n",
    "# The integer 'x' is implicitly converted to a float before the comparison.\n",
    "# 'result' will be True (a boolean).\n",
    "\n",
    "print(x, y, result)"
   ]
  },
  {
   "cell_type": "markdown",
   "metadata": {},
   "source": [
    "### Mixed Data Types in Other Operations\n",
    "\n",
    "Implicit conversion also occurs in other operations, such as subtraction, multiplication, and modulus."
   ]
  },
  {
   "cell_type": "code",
   "execution_count": 41,
   "metadata": {},
   "outputs": [
    {
     "name": "stdout",
     "output_type": "stream",
     "text": [
      "7 2.0 5.0 14.0 1\n"
     ]
    }
   ],
   "source": [
    "x = 7  # integer\n",
    "y = 2.0  # float\n",
    "result1 = x - y  # Implicit conversion to float, result1 will be 5.0.\n",
    "result2 = x * y  # Implicit conversion to float, result2 will be 14.0.\n",
    "result3 = x % 3  # Implicit conversion to integer, result3 will be 1.\n",
    "\n",
    "print(x, y, result1, result2, result3)"
   ]
  },
  {
   "cell_type": "markdown",
   "metadata": {},
   "source": [
    "### Using Arithmetic Operations for Explicit Conversion\n",
    "\n",
    "You can use arithmetic operations to explicitly convert data types. For example, adding an integer and a float and then converting the result to an integer."
   ]
  },
  {
   "cell_type": "code",
   "execution_count": 42,
   "metadata": {},
   "outputs": [
    {
     "name": "stdout",
     "output_type": "stream",
     "text": [
      "5 2.5 7\n"
     ]
    }
   ],
   "source": [
    "x = 5\n",
    "y = 2.5\n",
    "result = int(x + y)\n",
    "# 'x' and 'y' are added, and the result is 7.5 (a float),\n",
    "# which is then explicitly converted to an integer.\n",
    "# 'result' will be 7 (an integer).\n",
    "\n",
    "print(x, y, result)"
   ]
  },
  {
   "cell_type": "markdown",
   "metadata": {},
   "source": [
    "---\n",
    "\n",
    "It's important to be aware of the potential loss of information or unexpected results when performing type conversions, especially between different numeric types. Ensure that the conversion makes sense in the context of your program and handle exceptions if necessary."
   ]
  }
 ],
 "metadata": {
  "kernelspec": {
   "display_name": ".venv",
   "language": "python",
   "name": "python3"
  },
  "language_info": {
   "codemirror_mode": {
    "name": "ipython",
    "version": 3
   },
   "file_extension": ".py",
   "mimetype": "text/x-python",
   "name": "python",
   "nbconvert_exporter": "python",
   "pygments_lexer": "ipython3",
   "version": "3.12.0"
  }
 },
 "nbformat": 4,
 "nbformat_minor": 2
}
