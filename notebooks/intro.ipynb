{
 "cells": [
  {
   "attachments": {},
   "cell_type": "markdown",
   "metadata": {},
   "source": [
    "# Learn Python Programming"
   ]
  },
  {
   "attachments": {},
   "cell_type": "markdown",
   "metadata": {},
   "source": [
    "## What is Python?\n",
    "\n",
    "Python is a high-level, interpreted, and versatile programming language that was created by Guido van Rossum and released in 1991.\n",
    "\n",
    "Python is known for its simplicity, readability, and extensive ecosystem of libraries and frameworks for various applications, such as web development, scientific computing, machine learning, and more.\n",
    "\n",
    "With its large and active community of developers, Python has become one of the most widely used programming languages worldwide, making it a popular choice for both beginners and experienced developers alike.\n",
    "\n",
    "According to Guido van Rossum, Python is a:\n",
    "\n",
    "> \"high-level programming language, and its core design philosophy is all about code readability and a syntax which allows programmers to express concepts in a few lines of code.\"\n",
    "\n",
    "Guido van Rossum [Personal Home Page](https://gvanrossum.github.io/ \"Personal Home Page\")"
   ]
  },
  {
   "attachments": {},
   "cell_type": "markdown",
   "metadata": {},
   "source": [
    "## Benefits of Learning Python\n",
    "\n",
    "* **Versatility**: Python is a versatile language that can be used for a wide range of applications, including web development, scientific computing, data analysis, machine learning, artificial intelligence, automation, and more. Its versatility makes it a valuable skill in different industries and domains.\n",
    "\n",
    "* **Simplicity and Readability**: Python's syntax is designed to be simple and readable, which makes it easy to understand and write code. Python's use of indentation for block structure and its clear and expressive syntax make it an ideal language for beginners and experienced programmers alike.\n",
    "\n",
    "* **Large Ecosystem of Libraries and Frameworks**: Python has a large ecosystem of libraries and frameworks that extend its capabilities and allow developers to easily build complex applications. Libraries such as NumPy, Pandas, TensorFlow, PyTorch, Django, Flask, and many others provide pre-built functionality, saving time and effort in development.\n",
    "\n",
    "* **Strong Community Support**: Python has a large and active community of developers who contribute to its development, provide support through online forums and communities, and create extensive documentation and tutorials. This strong community support makes learning Python easier and provides a wealth of resources for solving problems and expanding skills.\n",
    "\n",
    "* **Career Opportunities**: Python is widely used in various industries and domains, which creates abundant career opportunities for Python developers. With its popularity in areas such as data science, machine learning, web development, and automation, learning Python can open doors to lucrative job prospects.\n",
    "\n",
    "* **Rapid Prototyping and Development**: Python's simplicity and availability of libraries and frameworks make it an excellent language for rapid prototyping and development. Python allows developers to quickly build and test ideas, iterate on projects, and deliver solutions in a timely manner.\n",
    "\n",
    "* **Cross-Platform Compatibility**: Python is a cross-platform language, which means that Python code can run on different operating systems, including Windows, macOS, Linux, and others, without any major modifications. This makes Python a flexible choice for developing applications that need to run on different platforms.\n",
    "\n",
    "In summary, learning Python offers numerous benefits, including its versatility, simplicity, extensive ecosystem of libraries and frameworks, strong community support, career opportunities, rapid prototyping capabilities, and cross-platform compatibility, making it a valuable language to acquire in today's technology-driven world.\n"
   ]
  },
  {
   "attachments": {},
   "cell_type": "markdown",
   "metadata": {},
   "source": [
    "## Disadvantages of learning Python\n",
    "\n",
    "* **Performance**: Python's interpreted nature can result in reduced performance for certain computationally-intensive tasks compared to compiled languages like C or Java.\n",
    "\n",
    "* **Global Interpreter Lock (GIL)**: Python's Global Interpreter Lock (GIL) limits the potential for true parallelism in multi-threaded applications, impacting performance for CPU-bound tasks.\n",
    "\n",
    "* **Mobile and Embedded Systems**: Python may not be the best choice for resource-constrained environments like mobile or embedded systems due to its interpreted nature and higher memory footprint.\n",
    "\n",
    "* **Dependency Management**: Managing dependencies and ensuring compatibility among different libraries and frameworks in Python's extensive ecosystem can be challenging, especially in large-scale projects.\n",
    "\n",
    "* **Steeper Learning Curve for Advanced Concepts**: Mastery of advanced programming concepts or low-level systems programming in Python may require additional effort and expertise compared to lower-level languages like C or C++.\n",
    "\n",
    "It's important to note that these disadvantages are relative and may not be significant for all use cases. Python remains a popular and versatile language with a large community of developers, and its advantages often outweigh the disadvantages for many applications.\n"
   ]
  },
  {
   "attachments": {},
   "cell_type": "markdown",
   "metadata": {},
   "source": [
    "## What is PEP?\n",
    "\n",
    "PEP stands for \"Python Enhancement Proposal.\" It is a document that outlines a proposed change or addition to the Python programming language. PEPs serve as a formalized way for the Python community to discuss, evaluate, and document improvements to the language, its standard library, or related tools and processes.\n",
    "\n",
    "PEPs follow a specific format and are written and submitted by members of the Python community, including Python developers, users, and enthusiasts. They cover a wide range of topics, such as new language features, improvements to existing features, changes to the Python syntax or semantics, updates to the Python standard library, and guidelines for coding conventions, documentation, and community processes.\n",
    "\n",
    "PEPs are reviewed and discussed by the Python community through mailing lists, forums, and other channels, and they are ultimately accepted, rejected, or deferred based on the consensus of the community. Once a PEP is accepted, it may be implemented in a future version of Python, and the proposal and its implementation become part of the Python Enhancement Proposal repository, which serves as a reference for the Python language and its development. PEPs are an important mechanism for maintaining Python's open and collaborative development process, allowing the community to contribute to the evolution of the language.\n",
    "\n",
    "[PEP 0 – Index of Python Enhancement Proposals](https://peps.python.org/ \"PEP 0 – Index of Python Enhancement Proposals\")\n"
   ]
  },
  {
   "attachments": {},
   "cell_type": "markdown",
   "metadata": {},
   "source": [
    "## What is The Zen of Python?\n",
    "\n",
    "PEP 20, also known as \"The Zen of Python,\" is a set of guiding principles or aphorisms that capture the philosophy and design principles of the Python programming language. It was authored by Tim Peters and serves as a concise and informal summary of the core values that guide the development and use of Python. The Zen of Python is often referred to as a set of guiding principles that reflect the overall spirit and philosophy of the Python language.\n",
    "\n",
    "The Zen of Python is included as an Easter egg in the Python interpreter and can be accessed by typing import this in a Python script or interactive session. It consists of 20 aphorisms that emphasize simplicity, readability, and practicality, and encourage Python programmers to write clean, elegant, and efficient code.\n",
    "\n",
    "The Zen of Python serves as a guiding philosophy for Python developers, encouraging them to follow best practices and write code that is not only functional, but also easy to understand, maintain, and collaborate on. It reflects the community's commitment to simplicity, readability, and practicality, and has helped shape the design and development of the Python language and its ecosystem.\n",
    "\n",
    "[PEP 20 – The Zen of Python](https://peps.python.org/pep-0020/ \"PEP 20 – The Zen of Python\")\n"
   ]
  },
  {
   "cell_type": "code",
   "execution_count": 1,
   "metadata": {},
   "outputs": [
    {
     "name": "stdout",
     "output_type": "stream",
     "text": [
      "The Zen of Python, by Tim Peters\n",
      "\n",
      "Beautiful is better than ugly.\n",
      "Explicit is better than implicit.\n",
      "Simple is better than complex.\n",
      "Complex is better than complicated.\n",
      "Flat is better than nested.\n",
      "Sparse is better than dense.\n",
      "Readability counts.\n",
      "Special cases aren't special enough to break the rules.\n",
      "Although practicality beats purity.\n",
      "Errors should never pass silently.\n",
      "Unless explicitly silenced.\n",
      "In the face of ambiguity, refuse the temptation to guess.\n",
      "There should be one-- and preferably only one --obvious way to do it.\n",
      "Although that way may not be obvious at first unless you're Dutch.\n",
      "Now is better than never.\n",
      "Although never is often better than *right* now.\n",
      "If the implementation is hard to explain, it's a bad idea.\n",
      "If the implementation is easy to explain, it may be a good idea.\n",
      "Namespaces are one honking great idea -- let's do more of those!\n"
     ]
    }
   ],
   "source": [
    "# The Zen of Python, by Tim Peters\n",
    "import this"
   ]
  },
  {
   "attachments": {},
   "cell_type": "markdown",
   "metadata": {},
   "source": [
    "## What is Docstring Conventions?\n",
    "\n",
    "PEP 257, titled \"Docstring Conventions,\" is a Python Enhancement Proposal that provides guidelines for writing docstrings in Python code. Docstrings are documentation strings that are used to document Python modules, classes, functions, and methods, and they are an essential part of Python's built-in documentation system.\n",
    "\n",
    "PEP 257 outlines the recommended conventions for writing docstrings in a consistent and standardized manner. It covers topics such as the format, content, and style of docstrings, with the goal of improving code readability, maintainability, and documentation generation.\n",
    "\n",
    "Some key recommendations from PEP 257 include:\n",
    "\n",
    "* Use triple quotes for docstrings, allowing for multi-line docstrings.\n",
    "* Start the docstring with a one-line summary that briefly describes the purpose or functionality of the object being documented.\n",
    "* Use complete sentences and clear language to describe the usage, parameters, return values, and exceptions of functions and methods.\n",
    "* Use the reStructuredText markup language for more complex docstrings that need to be processed by documentation generation tools.\n",
    "* Include examples, if appropriate, to illustrate how to use the object being documented.\n",
    "\n",
    "PEP 257 serves as a guide for Python developers to write high-quality docstrings that can be easily understood by others and used as a reference for using and understanding Python code. Following these conventions helps improve code documentation, which in turn contributes to the maintainability and readability of Python code.\n",
    "\n",
    "[PEP 257 – Docstring Conventions](https://peps.python.org/pep-0257/ \"PEP 257 – Docstring Conventions\")\n"
   ]
  },
  {
   "attachments": {},
   "cell_type": "markdown",
   "metadata": {},
   "source": [
    "### One-line Docstrings\n"
   ]
  },
  {
   "cell_type": "code",
   "execution_count": 2,
   "metadata": {},
   "outputs": [],
   "source": [
    "def greet(name):\n",
    "    \"\"\"Return a greeting message for the given name.\"\"\"\n"
   ]
  },
  {
   "attachments": {},
   "cell_type": "markdown",
   "metadata": {},
   "source": [
    "In this example, the one-line docstring provides a brief summary of the function's purpose, which is to return a greeting message for a given name. This concise docstring communicates the basic functionality of the function in a single line, making it easy to understand at a glance. However, it's important to note that one-line docstrings may not always be sufficient for more complex functions or for functions with multiple parameters, return values, or exceptions. In such cases, it's recommended to provide more detailed docstrings that follow the conventions outlined in PEP 257 for better documentation and code understanding."
   ]
  },
  {
   "attachments": {},
   "cell_type": "markdown",
   "metadata": {},
   "source": [
    "### Multi-line Docstrings\n"
   ]
  },
  {
   "cell_type": "code",
   "execution_count": 3,
   "metadata": {},
   "outputs": [],
   "source": [
    "def calculate_area(length, width):\n",
    "    \"\"\"\n",
    "    Calculate the area of a rectangle.\n",
    "\n",
    "    This function takes the length and width of a rectangle as input,\n",
    "    calculates the area using the formula `area = length * width`, and\n",
    "    returns the calculated area. The parameters 'length' and 'width'\n",
    "    should be numeric values, and the function returns a numeric value\n",
    "    as well.\n",
    "\n",
    "    :param length: Length of the rectangle.\n",
    "    :type length: int or float\n",
    "    :param width: Width of the rectangle.\n",
    "    :type width: int or float\n",
    "    :return: The area of the rectangle.\n",
    "    :rtype: int or float\n",
    "    :raises TypeError: If 'length' or 'width' are not numeric values.\n",
    "    \"\"\"\n",
    "    if not isinstance(length, (int, float)) or not isinstance(width, (int, float)):\n",
    "        raise TypeError(\"Both 'length' and 'width' must be numeric values.\")\n",
    "\n",
    "    area = length * width\n",
    "    return area\n"
   ]
  },
  {
   "attachments": {},
   "cell_type": "markdown",
   "metadata": {},
   "source": [
    "In this example, the multi-line docstring provides a detailed description of the function, including the input parameters, return value, and any exceptions that may be raised. It uses the reStructuredText markup language to format the docstring, including the use of :param, :type, :return, and :raises directives to provide additional information about the function's parameters, return value, and potential exceptions. The docstring is enclosed in triple quotes, which allows for multiple lines of documentation to be included, making it more comprehensive and informative."
   ]
  },
  {
   "attachments": {},
   "cell_type": "markdown",
   "metadata": {},
   "source": [
    "### What about using # for a one-line docstring?\n"
   ]
  },
  {
   "cell_type": "code",
   "execution_count": 4,
   "metadata": {},
   "outputs": [],
   "source": [
    "def greet(name):\n",
    "    # Return a greeting message for the given name\n",
    "    pass\n"
   ]
  },
  {
   "attachments": {},
   "cell_type": "markdown",
   "metadata": {},
   "source": [
    "In this example, the one-line docstring is preceded by a \"#\" character, and it provides a brief summary of the function's purpose, which is to return a greeting message for a given name.\n",
    "\n",
    "However, it's worth noting that the use of \"#\" for one-line docstrings is not considered as the standard style in Python. PEP 8, the Python style guide, recommends using triple quotes for docstrings, even for one-liners, to ensure consistency and readability. Triple-quoted docstrings also allow for multi-line docstrings, which can be helpful for providing more detailed documentation. So, while you can use \"#\" for one-line docstrings, it's generally recommended to use triple quotes to follow the standard Python docstring conventions.\n"
   ]
  },
  {
   "attachments": {},
   "cell_type": "markdown",
   "metadata": {},
   "source": [
    "#### Instead use inline comments sparingly\n",
    "\n",
    "An inline comment is a comment on the same line as a statement. Inline comments should be separated by at least two spaces from the statement. They should start with a # and a single space.\n",
    "\n",
    "Inline comments are unnecessary and in fact distracting if they state the obvious.\n",
    "\n",
    "Don’t do this:\n",
    "```python\n",
    "x = x + 1       # Increment x\n",
    "```\n",
    "\n",
    "But sometimes, this is useful:\n",
    "```python\n",
    "x = x + 1       # Compensate for border\n",
    "```\n"
   ]
  },
  {
   "attachments": {},
   "cell_type": "markdown",
   "metadata": {},
   "source": [
    "## What is Style Guide for Python Code?\n",
    "PEP 8 is a style guide for Python code, officially titled \"Style Guide for Python Code\". PEP stands for \"Python Enhancement Proposal,\" and it is a set of documents that provide guidelines and recommendations for improving various aspects of the Python programming language, including its design, syntax, and coding conventions. PEP 8 specifically focuses on the style and formatting of Python code to promote consistency and readability, making it easier for developers to understand, maintain, and collaborate on Python projects.\n",
    "\n",
    "PEP 8 covers a wide range of topics related to coding style, including naming conventions for variables, functions, and classes; indentation and whitespace; line length; comments and docstrings; imports; and more. It provides recommendations on how to structure and format Python code in a consistent and readable manner to make it more Pythonic and in line with the community's best practices.\n",
    "\n",
    "Following PEP 8 guidelines is considered good practice in the Python community, as it helps to write code that is more readable, maintainable, and consistent. Adhering to PEP 8 can also improve code quality, reduce the likelihood of introducing bugs, and make Python code more approachable for other developers who may need to work on or review the code.\n",
    "\n",
    "[PEP 8 – Style Guide for Python Code](https://peps.python.org/pep-0008/ \"PEP 8 – Style Guide for Python Code\")\n"
   ]
  },
  {
   "cell_type": "markdown",
   "metadata": {},
   "source": [
    "## Python help() Function\n",
    "In Python, the **help()** function is a built-in utility that provides interactive help and documentation about various objects, modules, functions, classes, and other Python entities. It is a useful tool for getting information about how to use different elements of the Python language and its standard library.\n",
    "\n",
    "You can use the **help()** function in two ways:\n",
    "\n",
    "1. **Using the Interactive Console**: In an interactive Python session, you can simply type **help()** and press Enter. This will start the interactive help mode, where you can enter the name of the object, module, or function you want to get information about.\n",
    "\n",
    "![Interactive Console](../imgs/help.png \"Interactive Console\")\n"
   ]
  },
  {
   "cell_type": "code",
   "execution_count": 5,
   "metadata": {},
   "outputs": [
    {
     "name": "stdout",
     "output_type": "stream",
     "text": [
      "Help on _Helper in module _sitebuiltins object:\n",
      "\n",
      "class _Helper(builtins.object)\n",
      " |  Define the builtin 'help'.\n",
      " |\n",
      " |  This is a wrapper around pydoc.help that provides a helpful message\n",
      " |  when 'help' is typed at the Python interactive prompt.\n",
      " |\n",
      " |  Calling help() at the Python prompt starts an interactive help session.\n",
      " |  Calling help(thing) prints help for the python object 'thing'.\n",
      " |\n",
      " |  Methods defined here:\n",
      " |\n",
      " |  __call__(self, *args, **kwds)\n",
      " |      Call self as a function.\n",
      " |\n",
      " |  __repr__(self)\n",
      " |      Return repr(self).\n",
      " |\n",
      " |  ----------------------------------------------------------------------\n",
      " |  Data descriptors defined here:\n",
      " |\n",
      " |  __dict__\n",
      " |      dictionary for instance variables (if defined)\n",
      " |\n",
      " |  __weakref__\n",
      " |      list of weak references to the object (if defined)\n",
      "\n"
     ]
    }
   ],
   "source": [
    "# In the terminal type:\n",
    "help(help)\n",
    "# Provide information about the 'help' function"
   ]
  },
  {
   "cell_type": "markdown",
   "metadata": {},
   "source": [
    "To exit the **Interactive Console** help mode, you can type quit or press Ctrl+D"
   ]
  },
  {
   "cell_type": "markdown",
   "metadata": {},
   "source": [
    "2. **Using the Function Directly**: You can also pass an object, function, or module directly as an argument to the **help()** function."
   ]
  },
  {
   "cell_type": "code",
   "execution_count": 6,
   "metadata": {},
   "outputs": [
    {
     "name": "stdout",
     "output_type": "stream",
     "text": [
      "Help on built-in function print in module builtins:\n",
      "\n",
      "print(*args, sep=' ', end='\\n', file=None, flush=False)\n",
      "    Prints the values to a stream, or to sys.stdout by default.\n",
      "\n",
      "    sep\n",
      "      string inserted between values, default a space.\n",
      "    end\n",
      "      string appended after the last value, default a newline.\n",
      "    file\n",
      "      a file-like object (stream); defaults to the current sys.stdout.\n",
      "    flush\n",
      "      whether to forcibly flush the stream.\n",
      "\n"
     ]
    }
   ],
   "source": [
    "# Provides information about the 'print' function\n",
    "help(print)"
   ]
  },
  {
   "cell_type": "markdown",
   "metadata": {},
   "source": [
    "The **help()** function displays the **documentation and docstrings** associated with the provided object, giving you information about its usage, parameters, methods, attributes, and more. It's a valuable tool for learning and exploring Python's features and libraries."
   ]
  },
  {
   "cell_type": "markdown",
   "metadata": {},
   "source": [
    "## Python print() Function\n",
    "The **print()** function in Python is a built-in function that is used to output (display) text or other data to the standard output (usually the console or terminal). It allows you to display information to the user, debug your code, or provide feedback during program execution.\n",
    "\n",
    "The basic syntax of the **print()** function is as follows:\n",
    "\n",
    "```python\n",
    "print(*args, sep=' ', end='\\n', file=sys.stdout, flush=False)\n",
    "```\n",
    "\n",
    "Here's what the different parameters mean:\n",
    "\n",
    "* **args**: One or more objects to be printed. You can pass multiple objects separated by commas, and they will be displayed sequentially.\n",
    "\n",
    "* **sep**: Separator used between the objects. The default is a space character ' '.\n",
    "\n",
    "* **end**: The string that is printed at the end of the output. The default is a newline character '\\n'.\n",
    "\n",
    "* **file**: The file-like object where the output should be directed. By default, it is set to sys.stdout, which represents the standard output.\n",
    "\n",
    "* **flush**: If True, the output buffer will be flushed after printing. The default is False."
   ]
  },
  {
   "cell_type": "code",
   "execution_count": 7,
   "metadata": {},
   "outputs": [
    {
     "name": "stdout",
     "output_type": "stream",
     "text": [
      "Hello, world!\n",
      "Hello, world!\n",
      "This is a line Continuing on the same line.\n"
     ]
    }
   ],
   "source": [
    "# Here are some examples of using the print() function\n",
    "print(\"Hello, world!\")  # Prints a simple string\n",
    "print(\"Hello\", \"world!\", sep=', ')  # Prints multiple objects (args) with a custom separator\n",
    "print(\"This is a line\", end=' ')   # Prints without a newline at the end\n",
    "print(\"Continuing on the same line.\")"
   ]
  },
  {
   "cell_type": "markdown",
   "metadata": {},
   "source": [
    "The **print()** function is commonly used for debugging purposes, to provide information to the user, or to format and display data in a human-readable way. It's an essential tool for any Python programmer."
   ]
  }
 ],
 "metadata": {
  "kernelspec": {
   "display_name": "Python 3",
   "language": "python",
   "name": "python3"
  },
  "language_info": {
   "codemirror_mode": {
    "name": "ipython",
    "version": 3
   },
   "file_extension": ".py",
   "mimetype": "text/x-python",
   "name": "python",
   "nbconvert_exporter": "python",
   "pygments_lexer": "ipython3",
   "version": "3.12.0"
  },
  "orig_nbformat": 4
 },
 "nbformat": 4,
 "nbformat_minor": 2
}
