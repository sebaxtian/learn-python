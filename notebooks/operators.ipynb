{
 "cells": [
  {
   "cell_type": "markdown",
   "metadata": {},
   "source": [
    "# Operators in Python\n",
    "\n",
    "In Python, operators are symbols or special characters used to perform operations on values or variables. Python supports various types of operators, which can be categorized into the following groups:\n",
    "\n",
    "* [Arithmetic](#arithmetic-operators)\n",
    "* [Comparison](#comparison-operators)\n",
    "* [Logical](#logical-operators)\n",
    "* [Assignment](#assignment-operators)\n",
    "* [Identity](#identity-operators)\n",
    "* [Membership](#membership-operators)\n",
    "* [Bitwise](#bitwise-operators)"
   ]
  },
  {
   "cell_type": "markdown",
   "metadata": {},
   "source": [
    "## Arithmetic operators"
   ]
  },
  {
   "cell_type": "markdown",
   "metadata": {},
   "source": [
    "### Addition +"
   ]
  },
  {
   "cell_type": "code",
   "execution_count": 1,
   "metadata": {},
   "outputs": [
    {
     "name": "stdout",
     "output_type": "stream",
     "text": [
      "3\n",
      "10\n"
     ]
    }
   ],
   "source": [
    "# Adds two or more numbers\n",
    "print(1 + 2)\n",
    "print(2 + 3 + 5)"
   ]
  },
  {
   "cell_type": "markdown",
   "metadata": {},
   "source": [
    "### Subtraction -"
   ]
  },
  {
   "cell_type": "code",
   "execution_count": 2,
   "metadata": {},
   "outputs": [
    {
     "name": "stdout",
     "output_type": "stream",
     "text": [
      "-1\n",
      "4\n"
     ]
    }
   ],
   "source": [
    "# Subtracts the second number from the first\n",
    "print(1 - 2)\n",
    "print(12 - 3 - 5)"
   ]
  },
  {
   "cell_type": "markdown",
   "metadata": {},
   "source": [
    "### Multiplication *"
   ]
  },
  {
   "cell_type": "code",
   "execution_count": 3,
   "metadata": {},
   "outputs": [
    {
     "name": "stdout",
     "output_type": "stream",
     "text": [
      "4\n",
      "8\n",
      "18\n"
     ]
    }
   ],
   "source": [
    "# Multiplies two or more numbers\n",
    "print(2 * 2)\n",
    "print(8 * 1)\n",
    "print(3 * 3 * 2)"
   ]
  },
  {
   "cell_type": "markdown",
   "metadata": {},
   "source": [
    "### Division /"
   ]
  },
  {
   "cell_type": "code",
   "execution_count": 4,
   "metadata": {},
   "outputs": [
    {
     "name": "stdout",
     "output_type": "stream",
     "text": [
      "1.0\n",
      "3.4285714285714284\n",
      "2.1666666666666665\n"
     ]
    }
   ],
   "source": [
    "# Divides the first number by the second (resulting in a float)\n",
    "print(2 / 2)\n",
    "print(24 / 7)\n",
    "print(13 / 3 / 2)"
   ]
  },
  {
   "cell_type": "markdown",
   "metadata": {},
   "source": [
    "### Floor Division //"
   ]
  },
  {
   "cell_type": "code",
   "execution_count": 5,
   "metadata": {},
   "outputs": [
    {
     "name": "stdout",
     "output_type": "stream",
     "text": [
      "1\n",
      "3\n",
      "2\n"
     ]
    }
   ],
   "source": [
    "# Divides the first number by the second, discarding the fractional part (resulting in an integer)\n",
    "print(2 // 2)\n",
    "print(24 // 7)\n",
    "print(13 // 3 // 2)"
   ]
  },
  {
   "cell_type": "markdown",
   "metadata": {},
   "source": [
    "### Modulus %"
   ]
  },
  {
   "cell_type": "code",
   "execution_count": 6,
   "metadata": {},
   "outputs": [
    {
     "name": "stdout",
     "output_type": "stream",
     "text": [
      "0\n",
      "3\n",
      "1\n"
     ]
    }
   ],
   "source": [
    "# Returns the remainder after division\n",
    "print(2 % 2)\n",
    "print(24 % 7)\n",
    "print(13 % 3 % 2)"
   ]
  },
  {
   "cell_type": "markdown",
   "metadata": {},
   "source": [
    "### Exponentiation **"
   ]
  },
  {
   "cell_type": "code",
   "execution_count": 7,
   "metadata": {},
   "outputs": [
    {
     "name": "stdout",
     "output_type": "stream",
     "text": [
      "4\n",
      "125\n",
      "16\n"
     ]
    }
   ],
   "source": [
    "# Raises the first number to the power of the second\n",
    "print(2 ** 2)\n",
    "print(5 ** 3)\n",
    "print(2 ** 2 ** 2)"
   ]
  },
  {
   "cell_type": "markdown",
   "metadata": {},
   "source": [
    "## Comparison operators"
   ]
  },
  {
   "cell_type": "markdown",
   "metadata": {},
   "source": [
    "### Equal to =="
   ]
  },
  {
   "cell_type": "code",
   "execution_count": 8,
   "metadata": {},
   "outputs": [
    {
     "name": "stdout",
     "output_type": "stream",
     "text": [
      "True\n",
      "False\n",
      "True\n",
      "False\n",
      "True\n",
      "True\n",
      "False\n",
      "<class 'bool'>\n",
      "<class 'int'>\n"
     ]
    }
   ],
   "source": [
    "# Checks if two values are equal\n",
    "print(2 == 2)\n",
    "print(3 == 1)\n",
    "print('1' == '1')\n",
    "print(0 == '0')\n",
    "print(1 == True) # True\n",
    "print(0 == False) # True\n",
    "print(1 == False)\n",
    "print(type(True))\n",
    "print(type(1))"
   ]
  },
  {
   "cell_type": "markdown",
   "metadata": {},
   "source": [
    "### Not equal to !="
   ]
  },
  {
   "cell_type": "code",
   "execution_count": 9,
   "metadata": {},
   "outputs": [
    {
     "name": "stdout",
     "output_type": "stream",
     "text": [
      "False\n",
      "True\n",
      "True\n",
      "True\n",
      "False\n",
      "<class 'bool'>\n",
      "<class 'int'>\n"
     ]
    }
   ],
   "source": [
    "# Checks if two values are not equal\n",
    "print(3 != 3)\n",
    "print(0 != 1)\n",
    "print(True != 0) # True\n",
    "print(False != 1) # True\n",
    "print(True != 1)\n",
    "print(type(False))\n",
    "print(type(0))"
   ]
  },
  {
   "cell_type": "markdown",
   "metadata": {},
   "source": [
    "### Greater than >"
   ]
  },
  {
   "cell_type": "code",
   "execution_count": 10,
   "metadata": {},
   "outputs": [
    {
     "name": "stdout",
     "output_type": "stream",
     "text": [
      "False\n",
      "False\n",
      "True\n",
      "True\n",
      "False\n",
      "<class 'bool'>\n",
      "<class 'int'>\n"
     ]
    }
   ],
   "source": [
    "# Checks if the first value is greater than the second\n",
    "print(2 > 3)\n",
    "print(5 > 5)\n",
    "print(3 > 2 > 1)\n",
    "print(True > False) # True\n",
    "print(False > 0) # False\n",
    "print(type(True))\n",
    "print(type(0))"
   ]
  },
  {
   "cell_type": "markdown",
   "metadata": {},
   "source": [
    "### Less than <"
   ]
  },
  {
   "cell_type": "code",
   "execution_count": 11,
   "metadata": {},
   "outputs": [
    {
     "name": "stdout",
     "output_type": "stream",
     "text": [
      "True\n",
      "False\n",
      "False\n",
      "False\n",
      "False\n",
      "<class 'bool'>\n",
      "<class 'int'>\n"
     ]
    }
   ],
   "source": [
    "# Checks if the first value is less than the second\n",
    "print(2 < 3)\n",
    "print(5 < 5)\n",
    "print(3 < 2 < 1)\n",
    "print(True < False) # False\n",
    "print(False < 0) # False\n",
    "print(type(False))\n",
    "print(type(1))"
   ]
  },
  {
   "cell_type": "markdown",
   "metadata": {},
   "source": [
    "### Greater than or equal to >="
   ]
  },
  {
   "cell_type": "code",
   "execution_count": 12,
   "metadata": {},
   "outputs": [
    {
     "name": "stdout",
     "output_type": "stream",
     "text": [
      "False\n",
      "True\n",
      "True\n",
      "True\n",
      "True\n",
      "<class 'bool'>\n",
      "<class 'int'>\n"
     ]
    }
   ],
   "source": [
    "# Checks if the first value is greater than or equal to the second\n",
    "print(2 >= 3)\n",
    "print(5 >= 5)\n",
    "print(3 >= 2 >= 1)\n",
    "print(True >= False) # True\n",
    "print(False >= 0) # True\n",
    "print(type(True))\n",
    "print(type(0))"
   ]
  },
  {
   "cell_type": "markdown",
   "metadata": {},
   "source": [
    "### Less than or equal to <="
   ]
  },
  {
   "cell_type": "code",
   "execution_count": 13,
   "metadata": {},
   "outputs": [
    {
     "name": "stdout",
     "output_type": "stream",
     "text": [
      "True\n",
      "True\n",
      "False\n",
      "False\n",
      "True\n",
      "<class 'bool'>\n",
      "<class 'int'>\n"
     ]
    }
   ],
   "source": [
    "# Checks if the first value is less than or equal to the second\n",
    "print(2 <= 3)\n",
    "print(5 <= 5)\n",
    "print(3 <= 2 <= 1)\n",
    "print(True <= False) # False\n",
    "print(False <= 0) # True\n",
    "print(type(False))\n",
    "print(type(1))"
   ]
  },
  {
   "cell_type": "markdown",
   "metadata": {},
   "source": [
    "## Logical operators"
   ]
  },
  {
   "cell_type": "markdown",
   "metadata": {},
   "source": [
    "### and"
   ]
  },
  {
   "cell_type": "code",
   "execution_count": 14,
   "metadata": {},
   "outputs": [
    {
     "name": "stdout",
     "output_type": "stream",
     "text": [
      "True\n",
      "True\n",
      "False\n",
      "True\n",
      "False\n",
      "True\n"
     ]
    }
   ],
   "source": [
    "# Returns True if both conditions are True\n",
    "print(2 < 3 and 1 > 0)\n",
    "print(2 + 2 == 4 and 3 != 4)\n",
    "print(False and False) # False\n",
    "print(True and True) # True\n",
    "print(False and True) # False\n",
    "print(True == 1 and False == 0)"
   ]
  },
  {
   "cell_type": "markdown",
   "metadata": {},
   "source": [
    "### or"
   ]
  },
  {
   "cell_type": "code",
   "execution_count": 15,
   "metadata": {},
   "outputs": [
    {
     "name": "stdout",
     "output_type": "stream",
     "text": [
      "True\n",
      "True\n",
      "False\n",
      "True\n",
      "True\n",
      "True\n"
     ]
    }
   ],
   "source": [
    "# Returns True if at least one condition is True\n",
    "print(2 < 3 or 1 > 0)\n",
    "print(2 + 2 == 4 or 3 == 4)\n",
    "print(False or False) # False\n",
    "print(True or True) # True\n",
    "print(False or True) # True\n",
    "print(True == 1 or False == 0)"
   ]
  },
  {
   "cell_type": "markdown",
   "metadata": {},
   "source": [
    "### not"
   ]
  },
  {
   "cell_type": "code",
   "execution_count": 16,
   "metadata": {},
   "outputs": [
    {
     "name": "stdout",
     "output_type": "stream",
     "text": [
      "False\n",
      "True\n",
      "False\n",
      "True\n",
      "False\n",
      "True\n"
     ]
    }
   ],
   "source": [
    "# Returns the opposite of the condition (True becomes False, and False becomes True)\n",
    "print(not 2 < 3)\n",
    "print(2 + 2 == 4 and not 3 == 4)\n",
    "print(False and False) # False\n",
    "print(True or True) # True\n",
    "print(False and not True) # False\n",
    "print(True == 1 or False == 0)"
   ]
  },
  {
   "cell_type": "markdown",
   "metadata": {},
   "source": [
    "## Assignment operators"
   ]
  },
  {
   "cell_type": "markdown",
   "metadata": {},
   "source": [
    "### ="
   ]
  },
  {
   "cell_type": "code",
   "execution_count": 17,
   "metadata": {},
   "outputs": [
    {
     "name": "stdout",
     "output_type": "stream",
     "text": [
      "2 5 1 True 0\n",
      "6\n",
      "7\n",
      "<class 'str'>\n"
     ]
    }
   ],
   "source": [
    "# Assigns a value to a variable\n",
    "variable = 2\n",
    "x = 5\n",
    "y: int = 1\n",
    "z: bool = True\n",
    "w: int = '0'\n",
    "print(variable, x, y, z, w)\n",
    "print(x + y)\n",
    "print(x + y + z)\n",
    "print(type(w))\n",
    "# print(x + y + w) # error"
   ]
  },
  {
   "cell_type": "code",
   "execution_count": 18,
   "metadata": {},
   "outputs": [
    {
     "name": "stdout",
     "output_type": "stream",
     "text": [
      "Fatos 28 Europe\n"
     ]
    }
   ],
   "source": [
    "# We can also declare multiple variables in the same line\n",
    "name, age, location = \"Fatos\", 28, \"Europe\"\n",
    "print(name, age, location)"
   ]
  },
  {
   "cell_type": "code",
   "execution_count": 19,
   "metadata": {},
   "outputs": [
    {
     "name": "stdout",
     "output_type": "stream",
     "text": [
      "1\n",
      "2\n",
      "2\n",
      "1\n",
      "1\n",
      "2\n",
      "2\n",
      "1\n"
     ]
    }
   ],
   "source": [
    "# We can use this as a way to also swap values between variables. For example, let's say that we have two variables a and b and we want to switch their values.\n",
    "\n",
    "# One logical way to do that would be to introduce a third variable that serves as a temporary variable:\n",
    "a, b = 1, 2\n",
    "\n",
    "print(a)  # 1\n",
    "print(b)  # 2\n",
    "\n",
    "c = a\n",
    "a = b\n",
    "b = c\n",
    "\n",
    "print(a)  # 2\n",
    "print(b)  # 1\n",
    "\n",
    "# We can do that in a single line in the following way:\n",
    "a, b = 1, 2\n",
    "\n",
    "print(a)  # 1\n",
    "print(b)  # 2\n",
    "\n",
    "b, a = a, b\n",
    "\n",
    "print(a)  # 2\n",
    "print(b)  # 1"
   ]
  },
  {
   "cell_type": "markdown",
   "metadata": {},
   "source": [
    "### +="
   ]
  },
  {
   "cell_type": "code",
   "execution_count": 20,
   "metadata": {},
   "outputs": [
    {
     "name": "stdout",
     "output_type": "stream",
     "text": [
      "2 True 5 False\n",
      "3 6 5 False\n"
     ]
    }
   ],
   "source": [
    "# Adds the right operand to the left operand and assigns the result to the left operand\n",
    "x: int = 2\n",
    "y: bool = True # 1\n",
    "z: int = 5\n",
    "w: bool = False # 0\n",
    "print(x, y, z, w)\n",
    "x += y\n",
    "y += z\n",
    "z += w\n",
    "print(x, y, z, w)"
   ]
  },
  {
   "cell_type": "markdown",
   "metadata": {},
   "source": [
    "### -="
   ]
  },
  {
   "cell_type": "code",
   "execution_count": 21,
   "metadata": {},
   "outputs": [
    {
     "name": "stdout",
     "output_type": "stream",
     "text": [
      "2 True 5 False\n",
      "1 -4 5 False\n"
     ]
    }
   ],
   "source": [
    "# Subtracts the right operand from the left operand and assigns the result to the left operand\n",
    "x: int = 2\n",
    "y: bool = True # 1\n",
    "z: int = 5\n",
    "w: bool = False # 0\n",
    "print(x, y, z, w)\n",
    "x -= y\n",
    "y -= z\n",
    "z -= w\n",
    "print(x, y, z, w)"
   ]
  },
  {
   "cell_type": "markdown",
   "metadata": {},
   "source": [
    "### *="
   ]
  },
  {
   "cell_type": "code",
   "execution_count": 22,
   "metadata": {},
   "outputs": [
    {
     "name": "stdout",
     "output_type": "stream",
     "text": [
      "2 True 5 False\n",
      "2 5 0 False\n"
     ]
    }
   ],
   "source": [
    "# Multiplies the left operand by the right operand and assigns the result to the left operand\n",
    "x: int = 2\n",
    "y: bool = True # 1\n",
    "z: int = 5\n",
    "w: bool = False # 0\n",
    "print(x, y, z, w)\n",
    "x *= y\n",
    "y *= z\n",
    "z *= w\n",
    "print(x, y, z, w)"
   ]
  },
  {
   "cell_type": "markdown",
   "metadata": {},
   "source": [
    "### /="
   ]
  },
  {
   "cell_type": "code",
   "execution_count": 23,
   "metadata": {},
   "outputs": [
    {
     "name": "stdout",
     "output_type": "stream",
     "text": [
      "2 True 5 False\n",
      "2.0 0.2 5.0 False\n"
     ]
    }
   ],
   "source": [
    "# Divides the left operand by the right operand and assigns the result to the left operand\n",
    "x: int = 2\n",
    "y: bool = True # 1\n",
    "z: int = 5\n",
    "w: bool = False # 0\n",
    "print(x, y, z, w)\n",
    "x /= y\n",
    "y /= z\n",
    "z /= w + True\n",
    "print(x, y, z, w)"
   ]
  },
  {
   "cell_type": "markdown",
   "metadata": {},
   "source": [
    "### //="
   ]
  },
  {
   "cell_type": "code",
   "execution_count": 24,
   "metadata": {},
   "outputs": [
    {
     "name": "stdout",
     "output_type": "stream",
     "text": [
      "3 True 5 False\n",
      "1 0 2 False\n"
     ]
    }
   ],
   "source": [
    "# Performs floor division and assigns the result to the left operand\n",
    "x: int = 3\n",
    "y: bool = True # 1\n",
    "z: int = 5\n",
    "w: bool = False # 0\n",
    "print(x, y, z, w)\n",
    "x //= y * 2\n",
    "y //= z\n",
    "z //= w + True + 1\n",
    "print(x, y, z, w)"
   ]
  },
  {
   "cell_type": "markdown",
   "metadata": {},
   "source": [
    "### %="
   ]
  },
  {
   "cell_type": "code",
   "execution_count": 25,
   "metadata": {},
   "outputs": [
    {
     "name": "stdout",
     "output_type": "stream",
     "text": [
      "2 True 5 False\n",
      "0 1 0 False\n"
     ]
    }
   ],
   "source": [
    "# Computes the modulus and assigns the result to the left operand\n",
    "x: int = 2\n",
    "y: bool = True # 1\n",
    "z: int = 5\n",
    "w: bool = False # 0\n",
    "print(x, y, z, w)\n",
    "x %= y\n",
    "y %= z\n",
    "z %= w + True\n",
    "print(x, y, z, w)"
   ]
  },
  {
   "cell_type": "markdown",
   "metadata": {},
   "source": [
    "### **="
   ]
  },
  {
   "cell_type": "code",
   "execution_count": 26,
   "metadata": {},
   "outputs": [
    {
     "name": "stdout",
     "output_type": "stream",
     "text": [
      "2 True 5 False\n",
      "16 1 25 False\n"
     ]
    }
   ],
   "source": [
    "# Raises the left operand to the power of the right operand and assigns the result to the left operand\n",
    "x: int = 2\n",
    "y: bool = True # 1\n",
    "z: int = 5\n",
    "w: bool = False # 0\n",
    "print(x, y, z, w)\n",
    "x **= y + 3\n",
    "y **= z\n",
    "z **= w + True + 1\n",
    "print(x, y, z, w)"
   ]
  },
  {
   "cell_type": "markdown",
   "metadata": {},
   "source": [
    "## Identity operators\n",
    "\n",
    "Identity operators in Python are used to check whether two variables or objects refer to the same memory location."
   ]
  },
  {
   "cell_type": "markdown",
   "metadata": {},
   "source": [
    "### is"
   ]
  },
  {
   "cell_type": "code",
   "execution_count": 27,
   "metadata": {},
   "outputs": [
    {
     "name": "stdout",
     "output_type": "stream",
     "text": [
      "True\n",
      "False\n",
      "True\n",
      "True\n"
     ]
    }
   ],
   "source": [
    "# is: Returns True if two variables are the same object\n",
    "x = 5\n",
    "y: bool = x\n",
    "z: int = 2\n",
    "w: int = y\n",
    "print(y is x)\n",
    "print(z is y)\n",
    "print(w is x)\n",
    "print(w is y)"
   ]
  },
  {
   "cell_type": "markdown",
   "metadata": {},
   "source": [
    "### is not"
   ]
  },
  {
   "cell_type": "code",
   "execution_count": 28,
   "metadata": {},
   "outputs": [
    {
     "name": "stdout",
     "output_type": "stream",
     "text": [
      "False\n",
      "True\n",
      "False\n",
      "False\n"
     ]
    }
   ],
   "source": [
    "# Returns True if two variables are not the same object\n",
    "x = 5\n",
    "y: bool = x\n",
    "z: int = 2\n",
    "w: int = y\n",
    "print(y is not x)\n",
    "print(z is not y)\n",
    "print(w is not x)\n",
    "print(w is not y)"
   ]
  },
  {
   "cell_type": "markdown",
   "metadata": {},
   "source": [
    "## Membership operators\n",
    "\n",
    "Membership operators in Python are used to check if a value is a member of a Sequence or Container, such as a list, tuple, string, or set."
   ]
  },
  {
   "cell_type": "markdown",
   "metadata": {},
   "source": [
    "### in"
   ]
  },
  {
   "cell_type": "code",
   "execution_count": 29,
   "metadata": {},
   "outputs": [
    {
     "name": "stdout",
     "output_type": "stream",
     "text": [
      "True\n",
      "False\n"
     ]
    }
   ],
   "source": [
    "# Returns True if a value is found in a sequence (e.g., list, tuple, string)\n",
    "my_list: list[int] = [1, 2, 3, 4]\n",
    "# Check if a value is in the list\n",
    "result: bool = 3 in my_list\n",
    "print(result)  # True\n",
    "result = 6 in my_list\n",
    "print(result)  # False"
   ]
  },
  {
   "cell_type": "markdown",
   "metadata": {},
   "source": [
    "### not in"
   ]
  },
  {
   "cell_type": "code",
   "execution_count": 30,
   "metadata": {},
   "outputs": [
    {
     "name": "stdout",
     "output_type": "stream",
     "text": [
      "True\n",
      "False\n"
     ]
    }
   ],
   "source": [
    "# Returns True if a value is not found in a sequence\n",
    "my_string = \"Hello, World!\"\n",
    "# Check if a substring is not in the string\n",
    "result = \"Python\" not in my_string\n",
    "print(result)  # True\n",
    "result: bool = \"World\" not in my_string\n",
    "print(result)  # False"
   ]
  },
  {
   "cell_type": "markdown",
   "metadata": {},
   "source": [
    "## Bitwise operators\n",
    "\n",
    "Bitwise operators in Python operate on the individual bits of integers.\n",
    "\n",
    "Bitwise operators are typically used in low-level programming, embedded systems, and when working with binary data. They can also be useful for certain optimization and manipulation tasks in Python."
   ]
  },
  {
   "cell_type": "markdown",
   "metadata": {},
   "source": [
    "### &"
   ]
  },
  {
   "cell_type": "code",
   "execution_count": 31,
   "metadata": {},
   "outputs": [
    {
     "name": "stdout",
     "output_type": "stream",
     "text": [
      "1\n"
     ]
    }
   ],
   "source": [
    "# The & operator performs a bitwise AND operation on the binary representations of the numbers.\n",
    "# Bitwise AND of 5 and 3\n",
    "result: int = 5 & 3\n",
    "print(result)  # Output: 1 (binary: 101 & 011 = 001)"
   ]
  },
  {
   "cell_type": "markdown",
   "metadata": {},
   "source": [
    "### |"
   ]
  },
  {
   "cell_type": "code",
   "execution_count": 32,
   "metadata": {},
   "outputs": [
    {
     "name": "stdout",
     "output_type": "stream",
     "text": [
      "7\n"
     ]
    }
   ],
   "source": [
    "# The | operator performs a bitwise OR operation.\n",
    "# Bitwise OR of 5 and 3\n",
    "result: int = 5 | 3\n",
    "print(result)  # Output: 7 (binary: 101 | 011 = 111)"
   ]
  },
  {
   "cell_type": "markdown",
   "metadata": {},
   "source": [
    "### ^"
   ]
  },
  {
   "cell_type": "code",
   "execution_count": 33,
   "metadata": {},
   "outputs": [
    {
     "name": "stdout",
     "output_type": "stream",
     "text": [
      "6\n"
     ]
    }
   ],
   "source": [
    "# The ^ operator performs a bitwise XOR operation.\n",
    "# Bitwise XOR of 5 and 3\n",
    "result: int = 5 ^ 3\n",
    "print(result)  # Output: 6 (binary: 101 ^ 011 = 110)"
   ]
  },
  {
   "cell_type": "markdown",
   "metadata": {},
   "source": [
    "### ~"
   ]
  },
  {
   "cell_type": "code",
   "execution_count": 34,
   "metadata": {},
   "outputs": [
    {
     "name": "stdout",
     "output_type": "stream",
     "text": [
      "-6\n",
      "0b101\n",
      "-0b110\n",
      "-0b110\n"
     ]
    }
   ],
   "source": [
    "# The ~ operator inverts the bits of a number.\n",
    "# Bitwise NOT of 5\n",
    "result: int = ~5\n",
    "print(result)  # Output: -6 (binary: ~101 = 110)\n",
    "print(bin(5))\n",
    "print(bin(~5))\n",
    "print(bin(-6))"
   ]
  },
  {
   "cell_type": "markdown",
   "metadata": {},
   "source": [
    "### <<"
   ]
  },
  {
   "cell_type": "code",
   "execution_count": 35,
   "metadata": {},
   "outputs": [
    {
     "name": "stdout",
     "output_type": "stream",
     "text": [
      "20\n"
     ]
    }
   ],
   "source": [
    "# The << operator shifts the bits to the left by the specified number of positions.\n",
    "# Left shifting 5 by 2 positions\n",
    "result: int = 5 << 2\n",
    "print(result)  # Output: 20 (binary: 101 << 2 = 10100)"
   ]
  },
  {
   "cell_type": "markdown",
   "metadata": {},
   "source": [
    "### >>"
   ]
  },
  {
   "cell_type": "code",
   "execution_count": 36,
   "metadata": {},
   "outputs": [
    {
     "name": "stdout",
     "output_type": "stream",
     "text": [
      "5\n"
     ]
    }
   ],
   "source": [
    "# The >> operator shifts the bits to the right by the specified number of positions.\n",
    "# Right shifting 20 by 2 positions\n",
    "result: int = 20 >> 2\n",
    "print(result)  # Output: 5 (binary: 10100 >> 2 = 101)"
   ]
  }
 ],
 "metadata": {
  "kernelspec": {
   "display_name": ".venv",
   "language": "python",
   "name": "python3"
  },
  "language_info": {
   "codemirror_mode": {
    "name": "ipython",
    "version": 3
   },
   "file_extension": ".py",
   "mimetype": "text/x-python",
   "name": "python",
   "nbconvert_exporter": "python",
   "pygments_lexer": "ipython3",
   "version": "3.12.0"
  }
 },
 "nbformat": 4,
 "nbformat_minor": 2
}
