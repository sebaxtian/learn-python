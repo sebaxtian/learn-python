{
 "cells": [
  {
   "cell_type": "markdown",
   "metadata": {},
   "source": [
    "# Variables\n",
    "\n",
    "In Python, a variable is a symbolic name that refers to a value stored in computer memory. Variables are used to store and manipulate data in your programs. Here are some key points about variables in Python:\n",
    "\n",
    "* [Variable Naming Rules](#variable-naming-rules)\n",
    "* [Variable Assignment](#variable-assignment)\n",
    "* [Data Types](#data-types)\n",
    "* [Variable Reassignment](#variable-reassignment)\n",
    "* [Variable Scope](#variable-scope)\n",
    "* [Constants](#constants)\n",
    "* [Deleting Variables](#deleting-variables)\n",
    "* [Multiple Assignment](#multiple-assignment)\n",
    "* [Variable Types and Casting](#variable-types-and-casting)\n",
    "\n",
    "Every variable in Python is an object.\n",
    "\n",
    "A variable is created in the moment it is initialized with a value.\n",
    "\n",
    "The moment you want to change a value, you can just change it in one place and that new value that you just changed is going to get reflected everywhere else where that variable is used.\n",
    "\n",
    "We can use pretty much any name that we want, but it is a better practice to use names that both you and other any colleagues who work with you can understand."
   ]
  },
  {
   "cell_type": "markdown",
   "metadata": {},
   "source": [
    "## Variable Naming Rules\n",
    "\n",
    "* Variable names are case-sensitive, which means **myvar** and **myVar** are considered different variables.\n",
    "* Variable names can consist of letters (both uppercase and lowercase), digits, and underscores.\n",
    "* Variable names must start with a letter (a-z, A-Z) or an underscore (_).\n",
    "* **Snake case** is the naming convention in Python [Snake case](https://en.wikipedia.org/wiki/Snake_case)"
   ]
  },
  {
   "cell_type": "markdown",
   "metadata": {},
   "source": [
    "### Snake case"
   ]
  },
  {
   "cell_type": "code",
   "execution_count": 1,
   "metadata": {},
   "outputs": [],
   "source": [
    "# Snake case is the naming convention in Python\n",
    "# \n",
    "# my_var\n",
    "# MY_VAR\n",
    "# this_is_another_variable\n",
    "# _also_this_is_legal\n",
    "# __my_var\n",
    "# numeral_123\n",
    "# CAPITAL_LETTERS_TO_INDICATE_CONSTANTS\n",
    "#\n"
   ]
  },
  {
   "cell_type": "markdown",
   "metadata": {},
   "source": [
    "## Variable Assignment\n",
    "\n",
    "You can assign a value to a variable using the = operator. For example:"
   ]
  },
  {
   "cell_type": "code",
   "execution_count": 2,
   "metadata": {},
   "outputs": [
    {
     "name": "stdout",
     "output_type": "stream",
     "text": [
      "42\n",
      "John\n"
     ]
    }
   ],
   "source": [
    "# Variable Assignment =\n",
    "my_variable = 42\n",
    "name = \"John\"\n",
    "\n",
    "print(my_variable)\n",
    "print(name)"
   ]
  },
  {
   "cell_type": "markdown",
   "metadata": {},
   "source": [
    "## Data Types\n",
    "\n",
    "Python is dynamically typed, which means you don't need to declare the data type of a variable explicitly. The type of a variable is determined automatically based on the value it holds. Common data types in Python include integers, floats, strings, lists, dictionaries, and more."
   ]
  },
  {
   "cell_type": "code",
   "execution_count": 3,
   "metadata": {},
   "outputs": [
    {
     "name": "stdout",
     "output_type": "stream",
     "text": [
      "25 <class 'int'>\n",
      "5.9 <class 'float'>\n",
      "Alice <class 'str'>\n",
      "[1, 2, 3] <class 'list'>\n",
      "{'key': 'value'} <class 'dict'>\n"
     ]
    }
   ],
   "source": [
    "# Data Types\n",
    "age = 25        # Integer\n",
    "height = 5.9    # Float\n",
    "name = \"Alice\"  # String\n",
    "my_list = [1, 2, 3]  # List\n",
    "my_dict = {'key': 'value'}  # Dictionary\n",
    "\n",
    "print(age, type(age))\n",
    "print(height, type(height))\n",
    "print(name, type(name))\n",
    "print(my_list, type(my_list))\n",
    "print(my_dict, type(my_dict))"
   ]
  },
  {
   "cell_type": "markdown",
   "metadata": {},
   "source": [
    "## Variable Reassignment\n",
    "\n",
    "You can change the value of a variable by assigning a new value to it. Python will update the variable's content accordingly."
   ]
  },
  {
   "cell_type": "code",
   "execution_count": 4,
   "metadata": {},
   "outputs": [
    {
     "name": "stdout",
     "output_type": "stream",
     "text": [
      "5\n",
      "10\n"
     ]
    }
   ],
   "source": [
    "# Variable Reassignment\n",
    "x = 5\n",
    "print(x)\n",
    "x = 10  # Reassigning the value of x\n",
    "\n",
    "print(x)"
   ]
  },
  {
   "cell_type": "markdown",
   "metadata": {},
   "source": [
    "## Variable Scope\n",
    "\n",
    "Variables have different scopes in Python. The scope of a variable determines where it can be accessed in your code. The two main types of scope are global and local. Variables defined outside of any function are considered global, while variables defined within a function are local.\n",
    "\n",
    "This example illustrates the distinction between global and local variable scope in Python. Global variables are accessible from anywhere in the program, while local variables are confined to the specific function or block in which they are defined:"
   ]
  },
  {
   "cell_type": "code",
   "execution_count": 5,
   "metadata": {},
   "outputs": [
    {
     "name": "stdout",
     "output_type": "stream",
     "text": [
      "Inside the function:\n",
      "local_variable = 5\n",
      "global_variable = 10\n",
      "Outside the function: global_variable = 10\n",
      "After modifying global_variable: 20\n"
     ]
    }
   ],
   "source": [
    "# Variable Scope\n",
    "\n",
    "# Global variable\n",
    "global_variable = 10\n",
    "\n",
    "def my_function():\n",
    "    # Local variable\n",
    "    local_variable = 5\n",
    "    print(\"Inside the function:\")\n",
    "    print(\"local_variable =\", local_variable)  # Accessing the local variable\n",
    "    print(\"global_variable =\", global_variable)  # Accessing the global variable\n",
    "\n",
    "my_function()\n",
    "\n",
    "# Attempting to access local_variable outside the function will result in an error.\n",
    "# Uncommenting the line below would cause a NameError.\n",
    "# print(\"Outside the function: local_variable =\", local_variable)\n",
    "\n",
    "print(\"Outside the function: global_variable =\", global_variable)  # Accessing the global variable\n",
    "\n",
    "# You can also modify the global variable within a function using the global keyword.\n",
    "def modify_global_variable():\n",
    "    global global_variable\n",
    "    global_variable = 20\n",
    "\n",
    "modify_global_variable()\n",
    "\n",
    "print(\"After modifying global_variable:\", global_variable)  # Global variable has been modified\n"
   ]
  },
  {
   "cell_type": "markdown",
   "metadata": {},
   "source": [
    "In the example above:\n",
    "\n",
    "1. **global_variable** is a global variable, defined outside any function, and it can be accessed from both inside and outside the function.\n",
    "2. **local_variable** is a local variable, defined within the my_function. It is only accessible within the function's scope. Attempting to access it outside the function would result in a **NameError**.\n",
    "3. The **modify_global_variable** function demonstrates how you can modify a global variable from within a function using the **global** keyword.\n"
   ]
  },
  {
   "cell_type": "markdown",
   "metadata": {},
   "source": [
    "## Constants\n",
    "\n",
    "While Python doesn't have constants like some other programming languages, it is common practice to use variable names in all capital letters to indicate that a variable's value should not be changed. This is a convention rather than a language-enforced rule."
   ]
  },
  {
   "cell_type": "code",
   "execution_count": 6,
   "metadata": {},
   "outputs": [
    {
     "name": "stdout",
     "output_type": "stream",
     "text": [
      "3.14159\n"
     ]
    }
   ],
   "source": [
    "# Constants\n",
    "PI = 3.14159\n",
    "\n",
    "print(PI)"
   ]
  },
  {
   "cell_type": "markdown",
   "metadata": {},
   "source": [
    "## Deleting Variables\n",
    "\n",
    "You can delete a variable using the del statement. Once deleted, the variable is no longer available."
   ]
  },
  {
   "cell_type": "code",
   "execution_count": 7,
   "metadata": {},
   "outputs": [
    {
     "name": "stdout",
     "output_type": "stream",
     "text": [
      "10\n"
     ]
    }
   ],
   "source": [
    "# Deleting Variables\n",
    "\n",
    "x = 10\n",
    "print(x)\n",
    "del x  # Deletes the variable x\n",
    "\n",
    "# print(x) # NameError, name 'x' is not defined"
   ]
  },
  {
   "cell_type": "markdown",
   "metadata": {},
   "source": [
    "## Multiple Assignment\n",
    "\n",
    "You can assign values to multiple variables in a single line."
   ]
  },
  {
   "cell_type": "code",
   "execution_count": 8,
   "metadata": {},
   "outputs": [
    {
     "name": "stdout",
     "output_type": "stream",
     "text": [
      "1\n",
      "2\n",
      "3\n"
     ]
    }
   ],
   "source": [
    "# Miltiple Assignment\n",
    "a, b, c = 1, 2, 3\n",
    "\n",
    "print(a)\n",
    "print(b)\n",
    "print(c)"
   ]
  },
  {
   "cell_type": "markdown",
   "metadata": {},
   "source": [
    "## Variable Types and Casting\n",
    "\n",
    "You can change the type of a variable through casting, such as converting an integer to a string or vice versa."
   ]
  },
  {
   "cell_type": "code",
   "execution_count": 9,
   "metadata": {},
   "outputs": [
    {
     "name": "stdout",
     "output_type": "stream",
     "text": [
      "5 <class 'int'>\n",
      "5 <class 'str'>\n"
     ]
    }
   ],
   "source": [
    "# Variable Types and Casting\n",
    "x = 5\n",
    "y = str(x)  # Converts the integer x to a string and assigns it to y\n",
    "\n",
    "print(x, type(x))\n",
    "print(y, type(y))"
   ]
  },
  {
   "cell_type": "markdown",
   "metadata": {},
   "source": [
    "---\n",
    "These are the basic concepts of variables in Python. Variables are fundamental to programming in Python, and they play a crucial role in storing and manipulating data within your programs."
   ]
  }
 ],
 "metadata": {
  "kernelspec": {
   "display_name": ".venv",
   "language": "python",
   "name": "python3"
  },
  "language_info": {
   "codemirror_mode": {
    "name": "ipython",
    "version": 3
   },
   "file_extension": ".py",
   "mimetype": "text/x-python",
   "name": "python",
   "nbconvert_exporter": "python",
   "pygments_lexer": "ipython3",
   "version": "3.12.0"
  }
 },
 "nbformat": 4,
 "nbformat_minor": 2
}
