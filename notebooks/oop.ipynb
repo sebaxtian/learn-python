{
 "cells": [
  {
   "cell_type": "markdown",
   "metadata": {},
   "source": [
    "# OOP: Object Oriented Programming\n",
    "\n",
    "In Python, **OOP** is a programming paradigm that uses objects and classes to organize code and data. Python is a multi-paradigm language that supports OOP, and it allows you to create classes and objects for building robust and modular applications.\n",
    "\n",
    "The concept of **classes**, the definitions for the data format (**attributes**) and available procedures (**behaviours**) for a given type or class of object; may also contain data and procedures (known as class **methods**) themselves, i.e. classes contain the data members and member functions, classes are blueprints that define attributes and behaviours.\n",
    "\n",
    "The concept of **objects**, are instances of class that can contain data and code: data in the form of fields (often known as attributes or **properties**), and code in the form of procedures (often known as **methods**).\n",
    "\n",
    "Here are some key concepts and principles of object-oriented programming in Python:\n",
    "\n",
    "* [Abstraction](#abstraction)\n",
    "* [Classes and Objects](#classes-and-objects)\n",
    "* [Constructor](#constructor)\n",
    "* [Attributes and Methods](#attributes-and-methods)\n",
    "* [Inheritance](#inheritance)\n",
    "* [Encapsulation](#encapsulation)\n",
    "* [Polymorphism](#polymorphism)\n",
    "* [Cohesion](#cohesion)\n",
    "* [Coupling](#coupling)"
   ]
  },
  {
   "cell_type": "markdown",
   "metadata": {},
   "source": [
    "## Abstraction\n",
    "\n",
    "In object oriented programming (**OOP**), abstraction is one of the fundamental principles. **Abstraction** involves simplifying complex systems by modeling classes based on the essential **properties and behaviors** they share, while hiding the unnecessary details. It is a way of managing complexity by focusing on the relevant aspects of an object and ignoring the irrelevant ones.\n",
    "\n",
    "There are two main types of abstraction in OOP:\n",
    "\n",
    "1. **Data Abstraction**:\n",
    "- **Encapsulation**: This is the process of bundling the data (**attributes or properties**) and the methods (**functions or procedures**) that operate on the data into a single unit known as a **class**. Encapsulation **hides the internal details** of an object and **restricts direct access to some of its components**, allowing the object to **control its state and behavior**.\n",
    "\n",
    "- **Data Hiding**: Encapsulation also involves the concept of **data hiding**, where the internal details of an object are hidden from the outside world. Access to the internal data is controlled through **public and private access modifiers**, ensuring that only the necessary information is exposed to the external environment.\n",
    "\n",
    "2. **Behavioral Abstraction**:\n",
    "- **Inheritance**: This is a mechanism that allows a class (subclass or derived class) to inherit the properties and behaviors of another class (superclass or base class). Inheritance **promotes code reuse and establishes a relationship between classes**, with the subclass inheriting the characteristics of the superclass. It enables the creation of a hierarchy of classes, making it easier to understand and manage the relationships between different objects.\n",
    "\n",
    "- **Polymorphism**: This allows objects of different classes to be treated as objects of a common base class. Polymorphism enables a single interface to represent different types of objects, providing flexibility and extensibility. There are **two types of polymorphism**: compile-time (**method overloading**) and runtime (**method overriding**)."
   ]
  },
  {
   "cell_type": "code",
   "execution_count": 1,
   "metadata": {},
   "outputs": [
    {
     "name": "stdout",
     "output_type": "stream",
     "text": [
      "78.5\n"
     ]
    }
   ],
   "source": [
    "# Abstraction\n",
    "from abc import ABC, abstractmethod\n",
    "\n",
    "class Shape(ABC):\n",
    "    @abstractmethod\n",
    "    def calculate_area(self):\n",
    "        pass\n",
    "\n",
    "class Circle(Shape):\n",
    "    def __init__(self, radius):\n",
    "        self.radius = radius\n",
    "\n",
    "    def calculate_area(self):\n",
    "        return 3.14 * self.radius * self.radius\n",
    "\n",
    "# Usage\n",
    "circle = Circle(5)\n",
    "print(circle.calculate_area())"
   ]
  },
  {
   "cell_type": "markdown",
   "metadata": {},
   "source": [
    "## Classes and Objects\n",
    "\n",
    "Object oriented programming (**OOP**) is a programming paradigm that organizes code into **objects**, **which are instances of classes**. Classes serve as blueprints or templates for creating objects, and objects are instances of those classes. This paradigm helps in organizing and structuring code in a more modular and reusable way.\n",
    "\n",
    "1. **Class**:\n",
    "\n",
    "- A class is a **blueprint or a template** for creating objects.\n",
    "- It defines a set of **attributes** (data members) and **methods** (functions) that the objects created from the class will have.\n",
    "- Classes are used to model real-world entities and their behaviors.\n",
    "\n",
    "2. **Object**:\n",
    "\n",
    "- An object is an instance of a class.\n",
    "- It is created based on the blueprint defined by the class.\n",
    "- Objects **encapsulate data** (attributes) and **behavior** (methods) in a **single unit**.\n",
    "\n",
    "3. **Attributes**:\n",
    "\n",
    "- Attributes are variables that store data within a class or an object.\n",
    "- They represent **the state of an object**.\n",
    "\n",
    "4. **Methods**:\n",
    "\n",
    "- Methods are functions defined within a class.\n",
    "- They represent **the behavior of an object**.\n",
    "\n",
    "These concepts of classes and objects are fundamental to understanding and working with object oriented programming. They provide a way to structure code, promote code reusability, and model real-world entities in a more intuitive and organized manner."
   ]
  },
  {
   "cell_type": "code",
   "execution_count": 2,
   "metadata": {},
   "outputs": [
    {
     "name": "stdout",
     "output_type": "stream",
     "text": [
      "Toyota Camry\n",
      "Suzuki Jimny\n"
     ]
    }
   ],
   "source": [
    "# Classes and Objects\n",
    "\n",
    "class Car:\n",
    "    def __init__(self, make, model):\n",
    "        self.make = make\n",
    "        self.model = model\n",
    "\n",
    "my_car = Car(\"Toyota\", \"Camry\")\n",
    "other_car = Car(\"Suzuki\", \"Jimny\")\n",
    "print(my_car.make, my_car.model)\n",
    "print(other_car.make, other_car.model)"
   ]
  },
  {
   "cell_type": "markdown",
   "metadata": {},
   "source": [
    "## Constructor\n",
    "\n",
    "In object oriented programming (**OOP**), a constructor is a special method that is automatically called when an object of a class is created. Its primary purpose is to **initialize the object's attributes or set up the object's state**. Constructors play a crucial role in ensuring that objects are properly initialized before they are used.\n",
    "\n",
    "- The **__init__** method is a special method used to initialize the attributes of an object when it is created.\n",
    "- It is also known as a constructor, and it is called automatically when you create an object."
   ]
  },
  {
   "cell_type": "code",
   "execution_count": 3,
   "metadata": {},
   "outputs": [
    {
     "name": "stdout",
     "output_type": "stream",
     "text": [
      "Alice 25\n"
     ]
    }
   ],
   "source": [
    "# Constructor\n",
    "\n",
    "class Person:\n",
    "    def __init__(self, name, age):\n",
    "        self.name = name\n",
    "        self.age = age\n",
    "\n",
    "person = Person(\"Alice\", 25)\n",
    "print(person.name, person.age)"
   ]
  },
  {
   "cell_type": "markdown",
   "metadata": {},
   "source": [
    "## Attributes and Methods\n",
    "\n",
    "In Object Oriented Programming (**OOP**), classes are used to model real-world entities by **encapsulating data** (attributes) and **behavior** (methods) into a single unit.\n",
    "\n",
    "<br>\n",
    "\n",
    "1. **Attributes**: Are properties or characteristics that describe **the state of an object**. They represent the data members of a class and define what the object is. Attributes are also known as **fields, properties, or member variables**. Here are some key points about attributes:\n",
    "\n",
    "- **Instance Variables**: Attributes are often implemented as **instance variables**, which means **each object of the class has its own set of these variables**.\n",
    "\n",
    "- **Access Control**: Attributes can have different levels of visibility or access control, such as public, private, or protected, to **control how they can be accessed or modified**.\n",
    "\n",
    "- **Data Types**: Attributes have data types that specify **the kind of values they can hold**, such as integers, strings, or custom objects.\n",
    "\n",
    "- **Initialization**: Attributes can be initialized **when an object is created** or during the object's lifecycle.\n",
    "\n",
    "<br>\n",
    "\n",
    "2. **Methods**: Are functions associated with an object that **define its behavior**. They represent the **actions or operations** that an object can perform. Here are some key points about methods:\n",
    "\n",
    "- **Instance Methods**: Methods are typically defined as instance methods, meaning **they operate on an instance of the class**. They have access to the instance's attributes.\n",
    "\n",
    "- **Self Parameter**: In many OOP languages like Python, the first parameter of a method is conventionally named **self**, **representing the instance** on which the method is called.\n",
    "\n",
    "- **Encapsulation**: Methods contribute to encapsulation by allowing controlled access to the object's state. They **provide an interface for interacting** with the object.\n",
    "\n",
    "- **Return Values**: Methods can return values, which may be used by other parts of the program."
   ]
  },
  {
   "cell_type": "code",
   "execution_count": 4,
   "metadata": {},
   "outputs": [
    {
     "name": "stdout",
     "output_type": "stream",
     "text": [
      "Buddy says Woof!\n"
     ]
    }
   ],
   "source": [
    "# Attributes and Methods\n",
    "\n",
    "class Dog:\n",
    "    def __init__(self, name):\n",
    "        self.name = name\n",
    "\n",
    "    # Instance method\n",
    "    def bark(self):\n",
    "        print(f\"{self.name} says Woof!\")\n",
    "\n",
    "my_dog = Dog(\"Buddy\")\n",
    "my_dog.bark()"
   ]
  },
  {
   "cell_type": "markdown",
   "metadata": {},
   "source": [
    "## Inheritance\n",
    "\n",
    "Inheritance is a fundamental concept in Object Oriented Programming (**OOP**) that allows one class to **inherit properties and behaviors from another class**. The class that is being inherited from is called the \"**parent class**\" or \"**base class**,\" and the class that inherits from it is called the \"**child class**\" or \"**derived class**.\" Inheritance promotes code reuse and helps create a hierarchical structure in your code.\n",
    "\n",
    "Here are some key points about inheritance in OOP:\n",
    "\n",
    "1. **Base Class (Parent Class)**:\n",
    "\n",
    "- The class whose properties and behaviors are inherited by another class.\n",
    "- It is also referred to as the superclass or base class.\n",
    "\n",
    "2. **Derived Class (Child Class)**:\n",
    "\n",
    "- The class that inherits properties and behaviors from another class.\n",
    "- It is also referred to as the subclass or derived class.\n",
    "\n",
    "3. **Access to Base Class Members**:\n",
    "\n",
    "- The child class can access the properties and methods of the base class.\n",
    "- Depending on the programming language, you might use keywords like super() to refer to the parent class.\n",
    "\n",
    "4. **Types of Inheritance**:\n",
    "\n",
    "- **Single Inheritance**: A class inherits from only one base class.\n",
    "- **Multiple Inheritance**: A class inherits from more than one base class.\n",
    "- **Multilevel Inheritance**: A class inherits from another class, and then another class inherits from it.\n",
    "\n",
    "5. **Method Overriding**:\n",
    "\n",
    "- The child class can provide a specific implementation for a method that is already defined in the parent class. This is known as method overriding.\n",
    "\n",
    "6. **Constructor in Inheritance**:\n",
    "\n",
    "- Constructors of both the parent and child classes are usually called. In some languages, you may need to explicitly call the constructor of the parent class.\n",
    "\n",
    "Inheritance is a powerful concept that facilitates code organization, reusability, and the creation of class hierarchies. However, it should be used judiciously to avoid creating overly complex and tightly coupled class structures."
   ]
  },
  {
   "cell_type": "code",
   "execution_count": 5,
   "metadata": {},
   "outputs": [
    {
     "name": "stdout",
     "output_type": "stream",
     "text": [
      "Woof!\n",
      "Meow!\n"
     ]
    }
   ],
   "source": [
    "# Inheritance\n",
    "\n",
    "# Base Class\n",
    "class Animal:\n",
    "    def speak(self):\n",
    "        pass\n",
    "\n",
    "# Child Class\n",
    "class Dog(Animal):\n",
    "    def speak(self):\n",
    "        return \"Woof!\"\n",
    "\n",
    "# Child Class\n",
    "class Cat(Animal):\n",
    "    def speak(self):\n",
    "        return \"Meow!\"\n",
    "\n",
    "dog = Dog()\n",
    "cat = Cat()\n",
    "\n",
    "print(dog.speak())\n",
    "print(cat.speak())"
   ]
  },
  {
   "cell_type": "markdown",
   "metadata": {},
   "source": [
    "## Encapsulation\n",
    "\n",
    "Encapsulation is one of the four fundamental principles of Object Oriented Programming (**OOP**), the others being **inheritance**, **polymorphism**, and **abstraction**. Encapsulation refers to the bundling of data (**attributes** or properties) and the **methods** (functions or procedures) that operate on the data into a single unit, known as a class. It is a **way to restrict access to the internal state of an object** and only allow controlled access **through methods**.\n",
    "\n",
    "The main goals of encapsulation are to:\n",
    "\n",
    "1. **Data Hiding**: Encapsulation **hides the internal details of how an object works and exposes only what is necessary**. This helps to prevent the direct manipulation of an object's data from outside the class, which is important for maintaining a clear and consistent state.\n",
    "\n",
    "2. **Modularity**: Encapsulation promotes modularity by **organizing the code into manageable units (classes)**. Each class encapsulates a specific set of functionalities, making it easier to understand, maintain, and modify the code without affecting other parts of the program.\n",
    "\n",
    "Encapsulation helps in building robust and secure software by hiding implementation details and exposing a well-defined interface for interacting with objects. This way, the internal workings of an object can be modified without affecting the code that uses the object, promoting code maintainability and flexibility."
   ]
  },
  {
   "cell_type": "code",
   "execution_count": 6,
   "metadata": {},
   "outputs": [
    {
     "name": "stdout",
     "output_type": "stream",
     "text": [
      "100\n"
     ]
    }
   ],
   "source": [
    "# Encapsulation\n",
    "\n",
    "class BankAccount:\n",
    "    def __init__(self):\n",
    "        # Data Hiding\n",
    "        self._balance = 0\n",
    "\n",
    "    # Modularity\n",
    "    def deposit(self, amount):\n",
    "        if amount > 0:\n",
    "            self._balance += amount\n",
    "\n",
    "    # Modularity\n",
    "    def get_balance(self):\n",
    "        return self._balance\n",
    "\n",
    "account = BankAccount()\n",
    "account.deposit(100)\n",
    "print(account.get_balance())"
   ]
  },
  {
   "cell_type": "markdown",
   "metadata": {},
   "source": [
    "## Polymorphism\n",
    "\n",
    "Polymorphism is a fundamental concept in object oriented programming (**OOP**) that allows objects of different classes to be treated as objects of a common base class. It enables a single interface to represent different types of objects and provides a way to use a **single interface to represent various types of behavior**.\n",
    "\n",
    "There are two main types of polymorphism in OOP:\n",
    "\n",
    "1. **Compile-time (Static) Polymorphism**:\n",
    "\n",
    "- Also known as **method overloading** or function overloading.\n",
    "- Occurs when multiple methods in the same class have the same name but different parameters (number or type).\n",
    "- The appropriate **method is selected by the compiler based on the number and types of arguments passed to it**.\n",
    "\n",
    "2. **Run-time (Dynamic) Polymorphism**:\n",
    "\n",
    "- Also known as **method overriding**.\n",
    "- Occurs when a subclass provides a specific implementation for a method that is already defined in its superclass.\n",
    "- The decision on which method to call is made at **runtime based on the actual type of the object**.\n",
    "- Requires the use of inheritance and the @Override annotation in languages like Java.\n",
    "\n",
    "Polymorphism helps improve code organization, readability, and reusability by allowing code to work with objects at a higher, more abstract level. It's a key concept in designing flexible and extensible object-oriented systems.\n",
    "\n",
    "In Python, polymorphism is achieved through a combination of **dynamic typing**, **duck typing**, and **method overriding**. Here's how polymorphism works in Python:\n",
    "\n",
    "1. **Duck Typing**:\n",
    "\n",
    "- Python is **dynamically typed**, meaning the type of an object is **determined at runtime**.\n",
    "- Duck typing allows you to **use an object based on its behavior** (methods and properties) rather than its actual type.\n",
    "- If an object walks like a duck and quacks like a duck, then it's treated as a duck.\n",
    "\n",
    "2. **Method Overriding**:\n",
    "\n",
    "- In Python, polymorphism is often achieved **through method overriding**, where a subclass provides a specific implementation for a method that is already defined in its superclass.\n",
    "- It enables method overriding and dynamic method binding, which means that the **method called is determined at runtime**.\n",
    "\n",
    "It's important to note that while Python does support polymorphism, it may not be as explicit or enforced as in statically typed languages like Java. The flexibility of Python's **dynamic typing and duck typing** allows for a more fluid and expressive coding style."
   ]
  },
  {
   "cell_type": "code",
   "execution_count": 7,
   "metadata": {},
   "outputs": [
    {
     "name": "stdout",
     "output_type": "stream",
     "text": [
      "Chirp!\n",
      "Squawk!\n"
     ]
    }
   ],
   "source": [
    "# Polymorphism\n",
    "\n",
    "# Base Class\n",
    "class Bird:\n",
    "    def make_sound(self):\n",
    "        pass\n",
    "\n",
    "# Child Class\n",
    "class Sparrow(Bird):\n",
    "    # Method Overriding\n",
    "    def make_sound(self):\n",
    "        return \"Chirp!\"\n",
    "\n",
    "# Child Class\n",
    "class Parrot(Bird):\n",
    "    # Method Overriding\n",
    "    def make_sound(self):\n",
    "        return \"Squawk!\"\n",
    "\n",
    "birds = [Sparrow(), Parrot()]\n",
    "\n",
    "for bird in birds:\n",
    "    print(bird.make_sound())"
   ]
  },
  {
   "cell_type": "markdown",
   "metadata": {},
   "source": [
    "## Cohesion\n",
    "\n",
    "In object oriented programming (**OOP**), cohesion refers to the degree to which the elements within a module (class) are related to each other. It's a measure of how closely the methods and attributes of a class are related and how focused the class is on a single, **well-defined responsibility**.\n",
    "\n",
    "There are generally four types of cohesion:\n",
    "\n",
    "1. **Functional Cohesion**: Methods within a class perform similar tasks and contribute to a single, well-defined functionality. This is often considered the highest level of cohesion.\n",
    "\n",
    "2. **Sequential Cohesion**: Methods within a class are arranged in a sequence, and the output of one method is the input for the next. While this can be cohesive, it's not as desirable as functional cohesion because it might indicate a lack of reusability.\n",
    "\n",
    "3. **Communicational Cohesion**: Methods within a class operate on the same set of data. They are cohesive because they manipulate the same set of attributes, but this can be less desirable if the methods are not logically related.\n",
    "\n",
    "4. **Procedural Cohesion**: Methods within a class are grouped together because they all contribute to a particular task, but the relationship might not be as strong as in functional cohesion. This is often considered a lower level of cohesion.\n",
    "\n",
    "In general, **high cohesion is desirable** because it leads to more maintainable and reusable code. Classes with high cohesion tend to have methods that work together **to accomplish a single, well-defined task**, making the code easier to understand and modify.\n",
    "\n",
    "On the other hand, **low cohesion can result in classes that are harder to understand, maintain, and reuse**. Classes with low cohesion often have methods that are not closely related or that perform a variety of unrelated tasks, making the class less focused and more difficult to work with.\n",
    "\n",
    "When designing classes in an object-oriented system, it's generally a good practice to aim for **high cohesion** to create well-organized and maintainable code."
   ]
  },
  {
   "cell_type": "code",
   "execution_count": 8,
   "metadata": {},
   "outputs": [
    {
     "name": "stdout",
     "output_type": "stream",
     "text": [
      "8 15\n"
     ]
    }
   ],
   "source": [
    "# Cohesion\n",
    "\n",
    "# Function Cohesion\n",
    "class MathOperations:\n",
    "    # Well-defined functionality\n",
    "    @staticmethod\n",
    "    def add(a, b):\n",
    "        return a + b\n",
    "    ## Well-defined functionality\n",
    "    @staticmethod\n",
    "    def multiply(a, b):\n",
    "        return a * b\n",
    "\n",
    "# Usage\n",
    "result_sum = MathOperations.add(5, 3)\n",
    "result_product = MathOperations.multiply(5, 3)\n",
    "print(result_sum, result_product)"
   ]
  },
  {
   "cell_type": "markdown",
   "metadata": {},
   "source": [
    "## Coupling\n",
    "\n",
    "In object oriented programming (**OOP**), coupling refers to the **degree of dependence** between different classes or modules. It measures how closely one class or module is connected to, or relies on, another. There are two types of coupling: loose coupling and tight coupling.\n",
    "\n",
    "1. **Loose Coupling**:\n",
    "\n",
    "- In a loosely coupled system, the **components are independent** and can operate without detailed knowledge of each other.\n",
    "- Changes in one class or module **have minimal impact on other classes** or modules.\n",
    "- Loose coupling promotes **flexibility**, **maintainability**, and **reusability**.\n",
    "- Achieved through the use of **interfaces**, **abstract classes**, and **dependency injection**.\n",
    "\n",
    "2. Tight Coupling:\n",
    "\n",
    "- In a tightly coupled system, **classes or modules are highly dependent** on each other.\n",
    "- Changes in one class may require modifications in other classes, leading to a higher risk of errors and **increased difficulty in maintenance**.\n",
    "- Tight coupling can **make the system less flexible** and **harder to understand**.\n",
    "- It is generally **discouraged** in object-oriented design.\n",
    "\n",
    "**Ways to Achieve Loose Coupling**:\n",
    "\n",
    "1. **Abstraction**:\n",
    "\n",
    "- Use **interfaces** and **abstract classes** to define a common interface **without exposing the details of the implementation**.\n",
    "- Clients **depend on abstractions** rather than concrete classes.\n",
    "\n",
    "2. **Dependency Injection**:\n",
    "\n",
    "- Instead of creating dependencies within a class, **inject them from the outside**. This makes the class more flexible and easier to test.\n",
    "- Dependency injection frameworks can help manage dependencies.\n",
    "\n",
    "3. **Event Handling**:\n",
    "\n",
    "- Use events and listeners to decouple components. **One component can notify others about changes without them needing to know each other**.\n",
    "\n",
    "4. **Service Locator and Dependency Inversion**:\n",
    "\n",
    "- Implement a service locator or use dependency inversion to **invert the flow of control** and reduce direct dependencies.\n",
    "\n",
    "5. **Design Patterns**:\n",
    "\n",
    "- Apply design patterns like the **Observer pattern**, **Strategy pattern**, and **Adapter pattern** to achieve loose coupling."
   ]
  },
  {
   "cell_type": "code",
   "execution_count": 9,
   "metadata": {},
   "outputs": [
    {
     "name": "stdout",
     "output_type": "stream",
     "text": [
      "Engine started\n"
     ]
    }
   ],
   "source": [
    "# Coupling\n",
    "\n",
    "# Abstraction\n",
    "class Engine:\n",
    "    def start(self):\n",
    "        return \"Engine started\"\n",
    "\n",
    "class Car:\n",
    "    # Dependency Injection\n",
    "    def __init__(self, engine):\n",
    "        self.engine = engine\n",
    "\n",
    "    def start(self):\n",
    "        return self.engine.start()\n",
    "\n",
    "# Usage\n",
    "car_engine = Engine()\n",
    "my_car = Car(car_engine)\n",
    "print(my_car.start())"
   ]
  },
  {
   "cell_type": "markdown",
   "metadata": {},
   "source": [
    "---\n",
    "These are some of the fundamental concepts of object oriented programming in Python. By using these concepts effectively, you can create well-organized, modular, and reusable code."
   ]
  }
 ],
 "metadata": {
  "kernelspec": {
   "display_name": ".venv",
   "language": "python",
   "name": "python3"
  },
  "language_info": {
   "codemirror_mode": {
    "name": "ipython",
    "version": 3
   },
   "file_extension": ".py",
   "mimetype": "text/x-python",
   "name": "python",
   "nbconvert_exporter": "python",
   "pygments_lexer": "ipython3",
   "version": "3.12.0"
  }
 },
 "nbformat": 4,
 "nbformat_minor": 2
}
