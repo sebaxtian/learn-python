{
 "cells": [
  {
   "cell_type": "markdown",
   "metadata": {},
   "source": [
    "# Lists\n",
    "\n",
    "In Python, a list is a built-in data structure that can hold a collection of items. Lists are versatile and widely used for storing and manipulating data.\n",
    "Here are some key points about lists in Python:\n",
    "\n",
    "* [Creating Lists](#creating-lists)\n",
    "* [List Elements](#list-elements)\n",
    "* [Accessing Elements](#accessing-elements)\n",
    "* [Slicing Lists](#slicing-lists)\n",
    "* [Modifying Lists](#modifying-lists)\n",
    "* [List Built-in Functions](#list-built-in-functions)\n",
    "* [List Methods](#list-methods)\n",
    "* [List Comprehensions](#list-comprehensions)\n",
    "* [Nesting Lists](#nesting-lists)\n",
    "* [List Operations](#list-operations)"
   ]
  },
  {
   "cell_type": "markdown",
   "metadata": {},
   "source": [
    "## Creating Lists\n",
    "\n",
    "You can create a list by enclosing a comma-separated sequence of items in square brackets []"
   ]
  },
  {
   "cell_type": "code",
   "execution_count": 1,
   "metadata": {},
   "outputs": [
    {
     "name": "stdout",
     "output_type": "stream",
     "text": [
      "[1, 2, 3, 4, 5]\n",
      "[]\n"
     ]
    }
   ],
   "source": [
    "# Creating Lists\n",
    "# You can create a list by enclosing a comma-separated sequence of items in square brackets []\n",
    "my_list = [1, 2, 3, 4, 5]\n",
    "empty_list = []\n",
    "\n",
    "print(my_list)\n",
    "print(empty_list)"
   ]
  },
  {
   "cell_type": "markdown",
   "metadata": {},
   "source": [
    "## List Elements\n",
    "\n",
    "Lists can contain elements of different data types, including numbers, strings, and even other lists."
   ]
  },
  {
   "cell_type": "code",
   "execution_count": 2,
   "metadata": {},
   "outputs": [
    {
     "name": "stdout",
     "output_type": "stream",
     "text": [
      "['1', 3, True, -1, 'Hola Mundo', False, 3.14, [-2, True, 2.25, 'Hello', 'P']]\n"
     ]
    }
   ],
   "source": [
    "# List Elements\n",
    "# Lists can contain elements of different data types, including numbers, strings, and even other lists.\n",
    "my_list = [-2, True, 2.25, \"Hello\", 'P']\n",
    "second_list = ['1', 3, True, -1, \"Hola Mundo\", False, 3.14, my_list]\n",
    "\n",
    "print(second_list)"
   ]
  },
  {
   "cell_type": "markdown",
   "metadata": {},
   "source": [
    "## Accessing Elements\n",
    "\n",
    "You can access elements of a list by their index. Python uses 0-based indexing, so the first element is at index 0."
   ]
  },
  {
   "cell_type": "code",
   "execution_count": 3,
   "metadata": {},
   "outputs": [
    {
     "name": "stdout",
     "output_type": "stream",
     "text": [
      "-2\n",
      "True\n",
      "Hello\n"
     ]
    }
   ],
   "source": [
    "# Accesing Elements\n",
    "# You can access elements of a list by their index. Python uses 0-based indexing, so the first element is at index 0.\n",
    "first_element = my_list[0]  # Retrieves the first element (1)\n",
    "second_element = my_list[1]\n",
    "nth_element = my_list[-2]\n",
    "\n",
    "print(first_element)\n",
    "print(second_element)\n",
    "print(nth_element)"
   ]
  },
  {
   "cell_type": "markdown",
   "metadata": {},
   "source": [
    "## Slicing Lists\n",
    "\n",
    "You can extract a subset of elements from a list using slicing. Slicing is done with the colon : operator."
   ]
  },
  {
   "cell_type": "code",
   "execution_count": 4,
   "metadata": {},
   "outputs": [
    {
     "name": "stdout",
     "output_type": "stream",
     "text": [
      "[10, 20, 30, 40, 50]\n",
      "[20, 30, 40]\n"
     ]
    }
   ],
   "source": [
    "# Slicing Lists\n",
    "# You can extract a subset of elements from a list using slicing. Slicing is done with the colon : operator.\n",
    "my_list = [10, 20, 30, 40, 50]\n",
    "\n",
    "# Slicing to get a subset of elements\n",
    "subset = my_list[1:4]\n",
    "\n",
    "print(my_list)\n",
    "print(subset)"
   ]
  },
  {
   "cell_type": "markdown",
   "metadata": {},
   "source": [
    "In the example above, **my_list** contains five elements. We use slicing to extract a **subset** of elements from index 1 (inclusive) to index 4 (exclusive). So, subset will contain elements at indices 1, 2, and 3, which are **20**, **30**, and **40**.\n",
    "\n",
    "The syntax for slicing is **my_list[start:stop]**, where **start** is the index of the first element you want to include in the slice, and **stop** is the index of the first element you want to exclude from the slice."
   ]
  },
  {
   "cell_type": "code",
   "execution_count": 5,
   "metadata": {},
   "outputs": [
    {
     "name": "stdout",
     "output_type": "stream",
     "text": [
      "[10, 20, 30, 40, 50, 60, 70, 80, 90]\n",
      "[20, 40, 60]\n"
     ]
    }
   ],
   "source": [
    "# Slicing Lists\n",
    "# You can also use slicing with steps to extract elements from a list at regular intervals.\n",
    "my_list = [10, 20, 30, 40, 50, 60, 70, 80, 90]\n",
    "\n",
    "# Slicing with a step of 2\n",
    "subset = my_list[1:7:2]\n",
    "\n",
    "print(my_list)\n",
    "print(subset)"
   ]
  },
  {
   "cell_type": "markdown",
   "metadata": {},
   "source": [
    "The example above, **my_list** contains nine elements. We use slicing with a step of 2 to extract elements from index 1 to index 7 with a step of 2. So, **subset** will contain elements at indices 1, 3, and 5, which are **20**, **40**, and **60**.\n",
    "\n",
    "The syntax for slicing with steps is **my_list[start:stop:step]**, where **start** is the index of the first element you want to include in the slice, **stop** is the index of the first element you want to exclude from the slice, and **step** is the interval between elements to include in the slice."
   ]
  },
  {
   "cell_type": "markdown",
   "metadata": {},
   "source": [
    "## Modifying Lists\n",
    "\n",
    "Lists are mutable, which means you can change their contents. You can update elements by assigning new values to them, add elements using the **append()** method, or remove elements using the **remove()** or **pop()** methods."
   ]
  },
  {
   "cell_type": "code",
   "execution_count": 6,
   "metadata": {},
   "outputs": [
    {
     "name": "stdout",
     "output_type": "stream",
     "text": [
      "[10, 20, 30, 40, 50, 60, 70, 80, 90]\n",
      "[10, 20, 42, 40, 60, 70, 80, 90, 6]\n"
     ]
    }
   ],
   "source": [
    "# Modifying Lists\n",
    "print(my_list)\n",
    "my_list[2] = 42  # Updates the third element\n",
    "my_list.append(6)  # Appends 6 to the end of the list\n",
    "my_list.remove(50)  # Removes the element with the value 4\n",
    "\n",
    "print(my_list)"
   ]
  },
  {
   "cell_type": "markdown",
   "metadata": {},
   "source": [
    "## List Built-in Functions\n",
    "\n",
    "Python provides several built-in functions for working with lists, such as **len()**, **sort()**, **reverse()**, and **sum()**. These functions make it easier to manipulate and analyze lists."
   ]
  },
  {
   "cell_type": "markdown",
   "metadata": {},
   "source": [
    "### all(iterable)\n",
    "\n",
    "Return True if all elements of an iterable are true (or if the iterable is empty)"
   ]
  },
  {
   "cell_type": "code",
   "execution_count": 7,
   "metadata": {},
   "outputs": [
    {
     "name": "stdout",
     "output_type": "stream",
     "text": [
      "[True, True, True, False]\n",
      "False\n"
     ]
    }
   ],
   "source": [
    "# all(iterable): Return True if all elements of an iterable are true (or if the iterable is empty)\n",
    "iterable = [True, True, True, False]\n",
    "result = all(iterable)\n",
    "\n",
    "print(iterable)\n",
    "print(result)  # Output: False"
   ]
  },
  {
   "cell_type": "markdown",
   "metadata": {},
   "source": [
    "### any(iterable)\n",
    "\n",
    "Return True if any element of an iterable is true. If the iterable is empty, return False"
   ]
  },
  {
   "cell_type": "code",
   "execution_count": 8,
   "metadata": {},
   "outputs": [
    {
     "name": "stdout",
     "output_type": "stream",
     "text": [
      "[False, False, True, False]\n",
      "True\n"
     ]
    }
   ],
   "source": [
    "# any(iterable): Return True if any element of an iterable is true. If the iterable is empty, return False\n",
    "iterable = [False, False, True, False]\n",
    "result = any(iterable)\n",
    "\n",
    "print(iterable)\n",
    "print(result)  # Output: True"
   ]
  },
  {
   "cell_type": "markdown",
   "metadata": {},
   "source": [
    "### enumerate(iterable)\n",
    "\n",
    "Return an enumerate object that produces pairs of index and value from an iterable"
   ]
  },
  {
   "cell_type": "code",
   "execution_count": 9,
   "metadata": {},
   "outputs": [
    {
     "name": "stdout",
     "output_type": "stream",
     "text": [
      "1 apple\n",
      "2 banana\n",
      "3 cherry\n",
      "['apple', 'banana', 'cherry']\n",
      "<enumerate object at 0x7f2accb6e610>\n"
     ]
    }
   ],
   "source": [
    "# enumerate(iterable, start=0): Return an enumerate object that produces pairs of index and value from an iterable\n",
    "my_list = ['apple', 'banana', 'cherry']\n",
    "my_enum = enumerate(my_list, start=1)\n",
    "for index, value in my_enum:\n",
    "    print(index, value)\n",
    "\n",
    "print(my_list)\n",
    "# Output:\n",
    "# 1 apple\n",
    "# 2 banana\n",
    "# 3 cherry\n",
    "print(my_enum)"
   ]
  },
  {
   "cell_type": "markdown",
   "metadata": {},
   "source": [
    "### max(iterable)\n",
    "\n",
    "Return the largest item in an iterable or the largest of two or more arguments"
   ]
  },
  {
   "cell_type": "code",
   "execution_count": 10,
   "metadata": {},
   "outputs": [
    {
     "name": "stdout",
     "output_type": "stream",
     "text": [
      "[10, 25, 5, 30, 15]\n",
      "30\n"
     ]
    }
   ],
   "source": [
    "# max(iterable): Return the largest item in an iterable or the largest of two or more arguments\n",
    "my_list = [10, 25, 5, 30, 15]\n",
    "maximum = max(my_list)\n",
    "\n",
    "print(my_list)\n",
    "print(maximum)  # Output: 30"
   ]
  },
  {
   "cell_type": "markdown",
   "metadata": {},
   "source": [
    "### min(iterable)\n",
    "\n",
    "Return the smallest item in an iterable or the smallest of two or more arguments"
   ]
  },
  {
   "cell_type": "code",
   "execution_count": 11,
   "metadata": {},
   "outputs": [
    {
     "name": "stdout",
     "output_type": "stream",
     "text": [
      "[10, 25, 5, 30, 15]\n",
      "5\n"
     ]
    }
   ],
   "source": [
    "# min(iterable): Return the smallest item in an iterable or the smallest of two or more arguments\n",
    "my_list = [10, 25, 5, 30, 15]\n",
    "minimum = min(my_list)\n",
    "\n",
    "print(my_list)\n",
    "print(minimum)  # Output: 5"
   ]
  },
  {
   "cell_type": "markdown",
   "metadata": {},
   "source": [
    "### sorted(iterable)\n",
    "\n",
    "Return a new sorted list from the elements of an iterable"
   ]
  },
  {
   "cell_type": "code",
   "execution_count": 12,
   "metadata": {},
   "outputs": [
    {
     "name": "stdout",
     "output_type": "stream",
     "text": [
      "[5, 1, 3, 2, 4]\n",
      "[1, 2, 3, 4, 5]\n"
     ]
    }
   ],
   "source": [
    "# sorted(iterable): Return a new sorted list from the elements of an iterable\n",
    "my_list = [5, 1, 3, 2, 4]\n",
    "sorted_list = sorted(my_list)\n",
    "\n",
    "print(my_list)\n",
    "print(sorted_list)  # Output: [1, 2, 3, 4, 5]"
   ]
  },
  {
   "cell_type": "markdown",
   "metadata": {},
   "source": [
    "### sum(iterable)\n",
    "\n",
    "Return the sum of all elements in an iterable"
   ]
  },
  {
   "cell_type": "code",
   "execution_count": 13,
   "metadata": {},
   "outputs": [
    {
     "name": "stdout",
     "output_type": "stream",
     "text": [
      "[1, 2, 3, 4, 5]\n",
      "15\n"
     ]
    }
   ],
   "source": [
    "# sum(iterable): Return the sum of all elements in an iterable\n",
    "my_list = [1, 2, 3, 4, 5]\n",
    "total = sum(my_list)\n",
    "\n",
    "print(my_list)\n",
    "print(total)  # Output: 15"
   ]
  },
  {
   "cell_type": "markdown",
   "metadata": {},
   "source": [
    "### len(iterable)\n",
    "\n",
    "Get the length of an iterable"
   ]
  },
  {
   "cell_type": "code",
   "execution_count": 14,
   "metadata": {},
   "outputs": [
    {
     "name": "stdout",
     "output_type": "stream",
     "text": [
      "[1, 2, 3, 4, 5]\n",
      "5\n"
     ]
    }
   ],
   "source": [
    "# len(iterable): Get the lenght of an iterable\n",
    "my_list = [1, 2, 3, 4, 5]\n",
    "length = len(my_list)\n",
    "\n",
    "print(my_list)\n",
    "print(length)  # Output: 5"
   ]
  },
  {
   "cell_type": "markdown",
   "metadata": {},
   "source": [
    "## List Methods\n",
    "\n",
    "Lists have various built-in methods to perform operations like sorting, extending, and searching. You can use methods like **sort()**, **extend()**, **index()**, and more to manipulate lists."
   ]
  },
  {
   "cell_type": "markdown",
   "metadata": {},
   "source": [
    "### append(x)\n",
    "\n",
    "Add an element to the end of the list"
   ]
  },
  {
   "cell_type": "code",
   "execution_count": 15,
   "metadata": {},
   "outputs": [
    {
     "name": "stdout",
     "output_type": "stream",
     "text": [
      "[1, 2, 3]\n",
      "[1, 2, 3, 4]\n"
     ]
    }
   ],
   "source": [
    "# append(x): Add an element to the end of the list\n",
    "my_list = [1, 2, 3]\n",
    "print(my_list)\n",
    "my_list.append(4)\n",
    "\n",
    "print(my_list)  # Output: [1, 2, 3, 4]"
   ]
  },
  {
   "cell_type": "markdown",
   "metadata": {},
   "source": [
    "### extend(iterable)\n",
    "\n",
    "Extend the list by appending elements from an iterable"
   ]
  },
  {
   "cell_type": "code",
   "execution_count": 16,
   "metadata": {},
   "outputs": [
    {
     "name": "stdout",
     "output_type": "stream",
     "text": [
      "[1, 2, 3]\n",
      "[4, 5]\n",
      "[1, 2, 3, 4, 5]\n"
     ]
    }
   ],
   "source": [
    "# extend(iterable): Extend the list by appending elements from an iterable\n",
    "my_list = [1, 2, 3]\n",
    "print(my_list)\n",
    "other_list = [4, 5]\n",
    "print(other_list)\n",
    "my_list.extend(other_list)\n",
    "\n",
    "print(my_list)  # Output: [1, 2, 3, 4, 5]"
   ]
  },
  {
   "cell_type": "markdown",
   "metadata": {},
   "source": [
    "### insert(i, x)\n",
    "\n",
    "Insert an element at a specific index"
   ]
  },
  {
   "cell_type": "code",
   "execution_count": 17,
   "metadata": {},
   "outputs": [
    {
     "name": "stdout",
     "output_type": "stream",
     "text": [
      "[1, 2, 4]\n",
      "[1, 2, 3, 4]\n"
     ]
    }
   ],
   "source": [
    "# insert(i, x): Insert an element at a specific index\n",
    "my_list = [1, 2, 4]\n",
    "print(my_list)\n",
    "my_list.insert(2, 3)  # Insert 3 at index 2\n",
    "\n",
    "print(my_list)  # Output: [1, 2, 3, 4]"
   ]
  },
  {
   "cell_type": "markdown",
   "metadata": {},
   "source": [
    "### remove(x)\n",
    "\n",
    "Remove the first occurrence of a value from the list"
   ]
  },
  {
   "cell_type": "code",
   "execution_count": 18,
   "metadata": {},
   "outputs": [
    {
     "name": "stdout",
     "output_type": "stream",
     "text": [
      "[1, 2, 3, 4, 3]\n",
      "[1, 2, 4, 3]\n"
     ]
    }
   ],
   "source": [
    "# remove(x): Remove the first occurrence of a value from the list\n",
    "my_list = [1, 2, 3, 4, 3]\n",
    "print(my_list)\n",
    "my_list.remove(3)  # Removes the first occurrence of 3\n",
    "\n",
    "print(my_list)  # Output: [1, 2, 4, 3]"
   ]
  },
  {
   "cell_type": "markdown",
   "metadata": {},
   "source": [
    "### pop(i)\n",
    "\n",
    "Remove and return an element at a specific index (or the last if index is not provided)"
   ]
  },
  {
   "cell_type": "code",
   "execution_count": 19,
   "metadata": {},
   "outputs": [
    {
     "name": "stdout",
     "output_type": "stream",
     "text": [
      "[1, 2, 3, 4]\n",
      "3\n",
      "[1, 2, 4]\n"
     ]
    }
   ],
   "source": [
    "# pop(i): Remove and return an element at a specific index (or the last if index is not provided)\n",
    "my_list = [1, 2, 3, 4]\n",
    "print(my_list)\n",
    "popped_element = my_list.pop(2)  # Removes and returns the element at index 2\n",
    "\n",
    "print(popped_element)  # Output: 3\n",
    "print(my_list)  # Output: [1, 2, 4]"
   ]
  },
  {
   "cell_type": "markdown",
   "metadata": {},
   "source": [
    "### clear()\n",
    "\n",
    "Remove all elements from the list"
   ]
  },
  {
   "cell_type": "code",
   "execution_count": 20,
   "metadata": {},
   "outputs": [
    {
     "name": "stdout",
     "output_type": "stream",
     "text": [
      "[1, 2, 3]\n",
      "[]\n"
     ]
    }
   ],
   "source": [
    "# clear(): Remove all elements from the list\n",
    "my_list = [1, 2, 3]\n",
    "print(my_list)\n",
    "my_list.clear()\n",
    "\n",
    "print(my_list)  # Output: []"
   ]
  },
  {
   "cell_type": "markdown",
   "metadata": {},
   "source": [
    "### index(x)\n",
    "\n",
    "Return the index of the first occurrence of a value"
   ]
  },
  {
   "cell_type": "code",
   "execution_count": 21,
   "metadata": {},
   "outputs": [
    {
     "name": "stdout",
     "output_type": "stream",
     "text": [
      "[10, 20, 30, 20]\n",
      "1\n"
     ]
    }
   ],
   "source": [
    "# index(x): Return the index of the first occurrence of a value\n",
    "my_list = [10, 20, 30, 20]\n",
    "index = my_list.index(20)  # Finds the index of the first occurrence of 20\n",
    "\n",
    "print(my_list)\n",
    "print(index)  # Output: 1"
   ]
  },
  {
   "cell_type": "markdown",
   "metadata": {},
   "source": [
    "### count(x)\n",
    "\n",
    "Count the number of occurrences of a value in the list"
   ]
  },
  {
   "cell_type": "code",
   "execution_count": 22,
   "metadata": {},
   "outputs": [
    {
     "name": "stdout",
     "output_type": "stream",
     "text": [
      "[10, 20, 30, 20, 20]\n",
      "3\n"
     ]
    }
   ],
   "source": [
    "# count(x): Count the number of occurrences of a value in the list\n",
    "my_list = [10, 20, 30, 20, 20]\n",
    "count = my_list.count(20)  # Counts the number of occurrences of 20\n",
    "\n",
    "print(my_list)\n",
    "print(count)  # Output: 3"
   ]
  },
  {
   "cell_type": "markdown",
   "metadata": {},
   "source": [
    "### reverse()\n",
    "\n",
    "Reverse the order of elements in the list"
   ]
  },
  {
   "cell_type": "code",
   "execution_count": 23,
   "metadata": {},
   "outputs": [
    {
     "name": "stdout",
     "output_type": "stream",
     "text": [
      "[1, 2, 3, 4, 5]\n",
      "[5, 4, 3, 2, 1]\n"
     ]
    }
   ],
   "source": [
    "# reverse(): Reverse the order of elements in the list\n",
    "my_list = [1, 2, 3, 4, 5]\n",
    "print(my_list)\n",
    "my_list.reverse()\n",
    "\n",
    "print(my_list)  # Output: [5, 4, 3, 2, 1]"
   ]
  },
  {
   "cell_type": "markdown",
   "metadata": {},
   "source": [
    "### sort()\n",
    "\n",
    "Sort the elements of a list in place"
   ]
  },
  {
   "cell_type": "code",
   "execution_count": 24,
   "metadata": {},
   "outputs": [
    {
     "name": "stdout",
     "output_type": "stream",
     "text": [
      "[5, 1, 3, 2, 4]\n",
      "[1, 2, 3, 4, 5]\n"
     ]
    }
   ],
   "source": [
    "# sort(): Sort the elements of a list in place\n",
    "my_list = [5, 1, 3, 2, 4]\n",
    "print(my_list)\n",
    "my_list.sort()  # Sorts the list in ascending order\n",
    "\n",
    "print(my_list)  # Output: [1, 2, 3, 4, 5]"
   ]
  },
  {
   "cell_type": "code",
   "execution_count": 25,
   "metadata": {},
   "outputs": [
    {
     "name": "stdout",
     "output_type": "stream",
     "text": [
      "[5, 1, 3, 2, 4]\n",
      "[5, 4, 3, 2, 1]\n"
     ]
    }
   ],
   "source": [
    "# You can also sort the list in descending order using the reverse parameter\n",
    "my_list = [5, 1, 3, 2, 4]\n",
    "print(my_list)\n",
    "my_list.sort(reverse=True)  # Sorts the list in descending order\n",
    "\n",
    "print(my_list)  # Output: [5, 4, 3, 2, 1]"
   ]
  },
  {
   "cell_type": "markdown",
   "metadata": {},
   "source": [
    "### copy()\n",
    "\n",
    "Create a shallow copy of a list"
   ]
  },
  {
   "cell_type": "code",
   "execution_count": 26,
   "metadata": {},
   "outputs": [
    {
     "name": "stdout",
     "output_type": "stream",
     "text": [
      "[1, 2, 3, [0, 99]]\n",
      "[1, 2, 3, [99, 99]]\n"
     ]
    }
   ],
   "source": [
    "# copy(): Create a shallow copy of a list\n",
    "original_list = [1, 2, 3, [0, 99]]\n",
    "copied_list = original_list.copy()\n",
    "\n",
    "print(copied_list)  # Output: [1, 2, 3, [0, 99]]\n",
    "copied_list[-1][0] = 99\n",
    "print(original_list)  # Output: [1, 2, 3, [99, 99]]"
   ]
  },
  {
   "cell_type": "markdown",
   "metadata": {},
   "source": [
    "A shallow copy creates a new list with the same elements, but it does not create new copies of the elements themselves. If the elements are objects, changes to the objects within the copied list will affect the original list, and vice versa. To create a deep copy that duplicates both the list and its elements, you can use the copy module:"
   ]
  },
  {
   "cell_type": "code",
   "execution_count": 27,
   "metadata": {},
   "outputs": [
    {
     "name": "stdout",
     "output_type": "stream",
     "text": [
      "[1, 2, [3, 4]]\n",
      "[1, 2, [3, 4]]\n",
      "[1, 2, [99, 4]]\n"
     ]
    }
   ],
   "source": [
    "# \n",
    "import copy\n",
    "\n",
    "original_list = [1, 2, [3, 4]]\n",
    "deep_copied_list = copy.deepcopy(original_list)\n",
    "\n",
    "print(deep_copied_list)\n",
    "deep_copied_list[-1][0] = 99\n",
    "print(original_list)\n",
    "print(deep_copied_list)"
   ]
  },
  {
   "cell_type": "markdown",
   "metadata": {},
   "source": [
    "## List Comprehensions\n",
    "\n",
    "List comprehensions are a concise way to create new lists by applying an expression to each item in an existing list."
   ]
  },
  {
   "cell_type": "code",
   "execution_count": 28,
   "metadata": {},
   "outputs": [
    {
     "name": "stdout",
     "output_type": "stream",
     "text": [
      "[1, 2, 3, 4, 5]\n",
      "[1, 4, 9, 16, 25]\n"
     ]
    }
   ],
   "source": [
    "# List Comprehensions: Creating a new list of squares\n",
    "numbers = [1, 2, 3, 4, 5]\n",
    "squares = [x**2 for x in numbers]\n",
    "\n",
    "print(numbers)\n",
    "print(squares)  # Output: [1, 4, 9, 16, 25]"
   ]
  },
  {
   "cell_type": "code",
   "execution_count": 29,
   "metadata": {},
   "outputs": [
    {
     "name": "stdout",
     "output_type": "stream",
     "text": [
      "[1, 2, 3, 4, 5, 6, 7, 8, 9, 10]\n",
      "[2, 4, 6, 8, 10]\n"
     ]
    }
   ],
   "source": [
    "# List Comprehensions: Filtering even numbers\n",
    "numbers = [1, 2, 3, 4, 5, 6, 7, 8, 9, 10]\n",
    "evens = [x for x in numbers if x % 2 == 0]\n",
    "\n",
    "print(numbers)\n",
    "print(evens)  # Output: [2, 4, 6, 8, 10]"
   ]
  },
  {
   "cell_type": "code",
   "execution_count": 30,
   "metadata": {},
   "outputs": [
    {
     "name": "stdout",
     "output_type": "stream",
     "text": [
      "['apple', 'banana', 'cherry']\n",
      "['APPLE', 'BANANA', 'CHERRY']\n"
     ]
    }
   ],
   "source": [
    "# List Comprehensions: Converting a list of strings to uppercase\n",
    "words = ['apple', 'banana', 'cherry']\n",
    "uppercase_words = [word.upper() for word in words]\n",
    "\n",
    "print(words)\n",
    "print(uppercase_words)  # Output: ['APPLE', 'BANANA', 'CHERRY']"
   ]
  },
  {
   "cell_type": "code",
   "execution_count": 31,
   "metadata": {},
   "outputs": [
    {
     "name": "stdout",
     "output_type": "stream",
     "text": [
      "[1, 2, 3, 4, 5]\n",
      "[(1, 1), (2, 4), (3, 9), (4, 16), (5, 25)]\n"
     ]
    }
   ],
   "source": [
    "# List Comprehensions: Creating a list of tuples with elements and their squares\n",
    "numbers = [1, 2, 3, 4, 5]\n",
    "pairs = [(x, x**2) for x in numbers]\n",
    "\n",
    "print(numbers)\n",
    "print(pairs)  # Output: [(1, 1), (2, 4), (3, 9), (4, 16), (5, 25)]"
   ]
  },
  {
   "cell_type": "code",
   "execution_count": 32,
   "metadata": {},
   "outputs": [
    {
     "name": "stdout",
     "output_type": "stream",
     "text": [
      "['apple', 'banana', 'cherry']\n",
      "['a', 'b', 'c']\n"
     ]
    }
   ],
   "source": [
    "# List Comprehensions: Extracting the first character from a list of words\n",
    "words = ['apple', 'banana', 'cherry']\n",
    "first_chars = [word[0] for word in words]\n",
    "\n",
    "print(words)\n",
    "print(first_chars)  # Output: ['a', 'b', 'c']"
   ]
  },
  {
   "cell_type": "markdown",
   "metadata": {},
   "source": [
    "List comprehensions are a powerful and concise way to create new lists and transform data. They are often used in Python for tasks that involve transforming, filtering, or mapping data from one list to another."
   ]
  },
  {
   "cell_type": "markdown",
   "metadata": {},
   "source": [
    "## Nesting Lists\n",
    "\n",
    "Lists can contain other lists, allowing you to create more complex data structures. These are often referred to as nested lists."
   ]
  },
  {
   "cell_type": "code",
   "execution_count": 33,
   "metadata": {},
   "outputs": [
    {
     "name": "stdout",
     "output_type": "stream",
     "text": [
      "[[1, 2, 3], [4, 5, 6]]\n"
     ]
    }
   ],
   "source": [
    "# Nesting Lists: Lists can contain other lists, allowing you to create more complex data structures. These are often referred to as nested lists\n",
    "nested_list = [[1, 2, 3], [4, 5, 6]]\n",
    "\n",
    "print(nested_list)"
   ]
  },
  {
   "cell_type": "code",
   "execution_count": 34,
   "metadata": {},
   "outputs": [
    {
     "name": "stdout",
     "output_type": "stream",
     "text": [
      "[[1, 2, 3], [4, 5, 6], [7, 8, 9]]\n"
     ]
    }
   ],
   "source": [
    "# Nesting Lists: Creating a simple 2D matrix using nested lists\n",
    "matrix = [[1, 2, 3], [4, 5, 6], [7, 8, 9]]\n",
    "\n",
    "print(matrix)\n",
    "# Output:\n",
    "# [[1, 2, 3],\n",
    "#  [4, 5, 6],\n",
    "#  [7, 8, 9]]"
   ]
  },
  {
   "cell_type": "code",
   "execution_count": 35,
   "metadata": {},
   "outputs": [
    {
     "name": "stdout",
     "output_type": "stream",
     "text": [
      "[[1, 2, 3], [4, 5, 6], [7, 8, 9]]\n",
      "6\n"
     ]
    }
   ],
   "source": [
    "# Nesting Lists: Accessing elements in a nested list\n",
    "matrix = [[1, 2, 3], [4, 5, 6], [7, 8, 9]]\n",
    "element = matrix[1][2]  # Accesses the element at row 1, column 2 (6)\n",
    "\n",
    "print(matrix)\n",
    "print(element)"
   ]
  },
  {
   "cell_type": "code",
   "execution_count": 36,
   "metadata": {},
   "outputs": [
    {
     "name": "stdout",
     "output_type": "stream",
     "text": [
      "[[1, 2, 3], [4, 5, 6], [7, 8, 9]]\n",
      "[1, 2, 3, 4, 5, 6, 7, 8, 9]\n"
     ]
    }
   ],
   "source": [
    "# Nesting Lists: Using list comprehensions with nested lists\n",
    "nested_list = [[1, 2, 3], [4, 5, 6], [7, 8, 9]]\n",
    "flattened_list = [x for row in nested_list for x in row]\n",
    "\n",
    "print(nested_list)\n",
    "print(flattened_list)  # Output: [1, 2, 3, 4, 5, 6, 7, 8, 9]"
   ]
  },
  {
   "cell_type": "code",
   "execution_count": 37,
   "metadata": {},
   "outputs": [
    {
     "name": "stdout",
     "output_type": "stream",
     "text": [
      "[[1, 2, 3], [4, 5, 42], [7, 8, 9]]\n"
     ]
    }
   ],
   "source": [
    "# Nesting Lists: Modifying elements in a nested list\n",
    "matrix = [[1, 2, 3], [4, 5, 6], [7, 8, 9]]\n",
    "matrix[1][2] = 42  # Modifies the element at row 1, column 2\n",
    "\n",
    "print(matrix)\n",
    "# Output:\n",
    "# [[1, 2, 3],\n",
    "#  [4, 5, 42],\n",
    "#  [7, 8, 9]]"
   ]
  },
  {
   "cell_type": "code",
   "execution_count": 38,
   "metadata": {},
   "outputs": [
    {
     "name": "stdout",
     "output_type": "stream",
     "text": [
      "[7, 8, 9]\n",
      "[[1, 2, 3], [4, 5, 6], [7, 8, 9]]\n"
     ]
    }
   ],
   "source": [
    "# Nesting Lists: Appending a new row to a nested list\n",
    "matrix = [[1, 2, 3], [4, 5, 6]]\n",
    "new_row = [7, 8, 9]\n",
    "print(new_row)\n",
    "matrix.append(new_row)\n",
    "\n",
    "print(matrix)\n",
    "# Output:\n",
    "# [[1, 2, 3],\n",
    "#  [4, 5, 6],\n",
    "#  [7, 8, 9]]"
   ]
  },
  {
   "cell_type": "markdown",
   "metadata": {},
   "source": [
    "Nesting lists allows you to represent multi-dimensional data structures, such as matrices or tables, and work with complex data in a structured manner."
   ]
  },
  {
   "cell_type": "markdown",
   "metadata": {},
   "source": [
    "## List Operations\n",
    "\n",
    "You can perform various operations on lists, such as concatenation and repetition."
   ]
  },
  {
   "cell_type": "code",
   "execution_count": 39,
   "metadata": {},
   "outputs": [
    {
     "name": "stdout",
     "output_type": "stream",
     "text": [
      "[1, 2, 3]\n",
      "[4, 5, 6]\n",
      "[1, 2, 3, 4, 5, 6]\n"
     ]
    }
   ],
   "source": [
    "# List Operations: Concatenation\n",
    "list1 = [1, 2, 3]\n",
    "list2 = [4, 5, 6]\n",
    "print(list1)\n",
    "print(list2)\n",
    "combined_list = list1 + list2\n",
    "\n",
    "print(combined_list)  # Output: [1, 2, 3, 4, 5, 6]"
   ]
  },
  {
   "cell_type": "code",
   "execution_count": 40,
   "metadata": {},
   "outputs": [
    {
     "name": "stdout",
     "output_type": "stream",
     "text": [
      "[1, 2]\n",
      "[1, 2, 1, 2, 1, 2]\n"
     ]
    }
   ],
   "source": [
    "# List Operations: Repetition\n",
    "my_list = [1, 2]\n",
    "print(my_list)\n",
    "repeated_list = my_list * 3\n",
    "\n",
    "print(repeated_list)  # Output: [1, 2, 1, 2, 1, 2]"
   ]
  },
  {
   "cell_type": "code",
   "execution_count": 41,
   "metadata": {},
   "outputs": [
    {
     "name": "stdout",
     "output_type": "stream",
     "text": [
      "[1, 2, 3, 4, 5]\n",
      "True\n"
     ]
    }
   ],
   "source": [
    "# List Operations: Membership\n",
    "my_list = [1, 2, 3, 4, 5]\n",
    "print(my_list)\n",
    "is_present = 3 in my_list\n",
    "\n",
    "print(is_present)  # Output: True"
   ]
  }
 ],
 "metadata": {
  "kernelspec": {
   "display_name": ".venv",
   "language": "python",
   "name": "python3"
  },
  "language_info": {
   "codemirror_mode": {
    "name": "ipython",
    "version": 3
   },
   "file_extension": ".py",
   "mimetype": "text/x-python",
   "name": "python",
   "nbconvert_exporter": "python",
   "pygments_lexer": "ipython3",
   "version": "3.12.0"
  }
 },
 "nbformat": 4,
 "nbformat_minor": 2
}
