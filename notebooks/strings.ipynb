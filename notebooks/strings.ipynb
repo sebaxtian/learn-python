{
 "cells": [
  {
   "cell_type": "markdown",
   "metadata": {},
   "source": [
    "# Strings\n",
    "\n",
    "In Python, a string is a sequence of characters enclosed within either single quotes (''), double quotes (\"\"), or triple quotes ('''''', \"\"\"\"\"\"), and it is used to represent text data. Strings are one of the fundamental data types in Python. Here's some basic information about working with strings in Python:\n",
    "\n",
    "* [Creation](#string-creation)\n",
    "* [Concatenation](#string-concatenation)\n",
    "* [Indexing and Slicing](#string-indexing-and-slicing)\n",
    "* [Built-in Methods](#string-built-in-methods)\n",
    "* [Formatting](#string-formatting)\n",
    "* [Escape Characters](#string-escape-characters)\n",
    "* [Immutability](#string-immutability)\n",
    "* [Operations](#string-operations)\n",
    "* [Encoding/Decoding](#string-encodingdecoding)\n"
   ]
  },
  {
   "cell_type": "markdown",
   "metadata": {},
   "source": [
    "## String Creation\n",
    "\n",
    "You can create strings using single, double, or triple quotes."
   ]
  },
  {
   "cell_type": "code",
   "execution_count": 1,
   "metadata": {},
   "outputs": [
    {
     "name": "stdout",
     "output_type": "stream",
     "text": [
      "This is a single-quoted string\n",
      "This is a double-quoted string\n",
      "This is a triple-quoted string\n"
     ]
    }
   ],
   "source": [
    "# String Creation\n",
    "single_quoted_string = 'This is a single-quoted string'\n",
    "double_quoted_string = \"This is a double-quoted string\"\n",
    "triple_quoted_string = '''This is a triple-quoted string'''\n",
    "\n",
    "print(single_quoted_string)\n",
    "print(double_quoted_string)\n",
    "print(triple_quoted_string)"
   ]
  },
  {
   "cell_type": "markdown",
   "metadata": {},
   "source": [
    "## String Concatenation\n",
    "\n",
    "You can concatenate strings using the + operator."
   ]
  },
  {
   "cell_type": "code",
   "execution_count": 2,
   "metadata": {},
   "outputs": [
    {
     "name": "stdout",
     "output_type": "stream",
     "text": [
      "Hello, world!\n"
     ]
    }
   ],
   "source": [
    "# String Concatenation\n",
    "str1 = \"Hello, \"\n",
    "str2 = \"world!\"\n",
    "result = str1 + str2  # This will create a new string \"Hello, world!\"\n",
    "\n",
    "print(result)"
   ]
  },
  {
   "cell_type": "markdown",
   "metadata": {},
   "source": [
    "## String Indexing and Slicing\n",
    "\n",
    "You can access individual characters in a string using indexing, and you can extract substrings using slicing."
   ]
  },
  {
   "cell_type": "code",
   "execution_count": 3,
   "metadata": {},
   "outputs": [
    {
     "name": "stdout",
     "output_type": "stream",
     "text": [
      "P\n",
      "yth\n",
      "Python\n",
      "is awesome\n",
      "awesom\n",
      "Pto sae\n",
      "emosewa si nohtyP\n"
     ]
    }
   ],
   "source": [
    "# String Indexing and Slicing\n",
    "my_string = \"Python\"\n",
    "\n",
    "print(my_string[0])    # Access the first character: 'P'\n",
    "print(my_string[1:4])  # Slice from index 1 to 3: 'yth'\n",
    "\n",
    "my_string = \"Python is awesome\"\n",
    "\n",
    "# Slicing from the 0th index up to, but not including, the 6th index\n",
    "substring1 = my_string[0:6]\n",
    "print(substring1)  # Output: \"Python\"\n",
    "\n",
    "# Slicing from the 7th index to the end of the string\n",
    "substring2 = my_string[7:]\n",
    "print(substring2)  # Output: \"is awesome\"\n",
    "\n",
    "# Slicing with a negative index (counting from the end of the string)\n",
    "substring3 = my_string[-7:-1]\n",
    "print(substring3)  # Output: \"awesom\"\n",
    "\n",
    "# Slicing with a step value\n",
    "substring4 = my_string[0:14:2]\n",
    "print(substring4)  # Output: \"Pto sae\"\n",
    "\n",
    "# Reverse the string using slicing\n",
    "reversed_string = my_string[::-1]\n",
    "print(reversed_string)  # Output: \"emosewa si nohtyP\""
   ]
  },
  {
   "cell_type": "markdown",
   "metadata": {},
   "source": [
    "Slicing with a step value is a way to extract every nth character from a string, where \"n\" is the step value. This means that you can skip some characters while extracting a substring. Let's take a closer look at the example of slicing with a step value."
   ]
  },
  {
   "cell_type": "code",
   "execution_count": 4,
   "metadata": {},
   "outputs": [
    {
     "name": "stdout",
     "output_type": "stream",
     "text": [
      "Pto sae\n"
     ]
    }
   ],
   "source": [
    "# Slicing with a step value\n",
    "my_string = \"Python is awesome\"\n",
    "\n",
    "substring4 = my_string[0:14:2]\n",
    "print(substring4)  # Output: \"Pto sae\""
   ]
  },
  {
   "cell_type": "markdown",
   "metadata": {},
   "source": [
    "The example above, substring4 is created by slicing my_string from index 0 to index 14 (exclusive) with a step value of 2. Here's how it works:\n",
    "\n",
    "1. Starting Index (0): The slicing starts at the 0th index of the string, which corresponds to the letter \"P.\"\n",
    "2. Ending Index (14): The slicing continues up to, but not including, the 14th index. This includes the space character right before \"is,\" so it stops at \"is.\"\n",
    "3. Step Value (2): The step value is 2, which means that for each character extracted, Python skips the next character in the string. This is why \"P\" is followed by \"t,\" and then \"o,\" and so on.\n",
    "\n",
    "The result of this slicing is \"Pto sae.\" It extracts every 2nd character from the specified range, resulting in the characters \"P,\" \"t,\" \"o,\" space, \"s,\" \"a,\" and \"e.\""
   ]
  },
  {
   "cell_type": "code",
   "execution_count": 5,
   "metadata": {},
   "outputs": [
    {
     "name": "stdout",
     "output_type": "stream",
     "text": [
      "cfi\n"
     ]
    }
   ],
   "source": [
    "# Slicing with a step value\n",
    "my_string = \"abcdefghij\"\n",
    "\n",
    "# Slicing with a step value\n",
    "substring = my_string[2:9:3]\n",
    "print(substring)  # Output: \"cfi\""
   ]
  },
  {
   "cell_type": "markdown",
   "metadata": {},
   "source": [
    "The example above, substring is created by slicing my_string from index 2 to index 9 (exclusive) with a step value of 3. Here's how it works:\n",
    "\n",
    "1. Starting Index (2): The slicing starts at the 2nd index of the string, which corresponds to the letter \"c.\"\n",
    "2. Ending Index (9): The slicing continues up to, but not including, the 9th index. This includes \"g,\" so it stops at \"g.\"\n",
    "3. Step Value (3): The step value is 3, which means that for each character extracted, Python skips the next two characters in the string. This is why \"c\" is followed by \"f,\" and then \"i.\"\n",
    "\n",
    "The result of this slicing is \"cfi.\" It extracts every 3rd character from the specified range, resulting in the characters \"c,\" \"f,\" and \"i.\" This demonstrates how you can control the spacing of the characters you extract using the step value in slicing."
   ]
  },
  {
   "cell_type": "markdown",
   "metadata": {},
   "source": [
    "## String Built-in Methods\n",
    "\n",
    "Python provides a variety of methods for manipulating strings, such as **len()**, **lower()**, **upper()**, **strip()**, **split()**, **join()**, and many more."
   ]
  },
  {
   "cell_type": "markdown",
   "metadata": {},
   "source": [
    "### len()\n",
    "\n",
    "Returns the length of a string."
   ]
  },
  {
   "cell_type": "code",
   "execution_count": 6,
   "metadata": {},
   "outputs": [
    {
     "name": "stdout",
     "output_type": "stream",
     "text": [
      "13\n"
     ]
    }
   ],
   "source": [
    "# len(): Returns the length of a string.\n",
    "my_string = \"Hello, World!\"\n",
    "length = len(my_string)\n",
    "\n",
    "print(length)  # Output: 13"
   ]
  },
  {
   "cell_type": "markdown",
   "metadata": {},
   "source": [
    "### lower()\n",
    "\n",
    "Converts all characters in the string to lowercase."
   ]
  },
  {
   "cell_type": "code",
   "execution_count": 7,
   "metadata": {},
   "outputs": [
    {
     "name": "stdout",
     "output_type": "stream",
     "text": [
      "hello, world!\n"
     ]
    }
   ],
   "source": [
    "# lower(): Converts all characters in the string to lowercase.\n",
    "my_string = \"Hello, World!\"\n",
    "lowercase = my_string.lower()\n",
    "\n",
    "print(lowercase)  # Output: \"hello, world!\""
   ]
  },
  {
   "cell_type": "markdown",
   "metadata": {},
   "source": [
    "### upper()\n",
    "\n",
    "Converts all characters in the string to uppercase."
   ]
  },
  {
   "cell_type": "code",
   "execution_count": 8,
   "metadata": {},
   "outputs": [
    {
     "name": "stdout",
     "output_type": "stream",
     "text": [
      "HELLO, WORLD!\n"
     ]
    }
   ],
   "source": [
    "# upper(): Converts all characters in the string to uppercase.\n",
    "my_string = \"Hello, World!\"\n",
    "uppercase = my_string.upper()\n",
    "\n",
    "print(uppercase)  # Output: \"HELLO, WORLD!\""
   ]
  },
  {
   "cell_type": "markdown",
   "metadata": {},
   "source": [
    "### strip()\n",
    "\n",
    "Removes leading and trailing whitespace characters from the string."
   ]
  },
  {
   "cell_type": "code",
   "execution_count": 9,
   "metadata": {},
   "outputs": [
    {
     "name": "stdout",
     "output_type": "stream",
     "text": [
      "Hello, World!\n"
     ]
    }
   ],
   "source": [
    "# strip(): Removes leading and trailing whitespace characters from the string.\n",
    "my_string = \"   Hello, World!   \"\n",
    "stripped = my_string.strip()\n",
    "\n",
    "print(stripped)  # Output: \"Hello, World!\""
   ]
  },
  {
   "cell_type": "markdown",
   "metadata": {},
   "source": [
    "### replace(substring, replacement)\n",
    "\n",
    "Replaces occurrences of a substring with a replacement string."
   ]
  },
  {
   "cell_type": "code",
   "execution_count": 10,
   "metadata": {},
   "outputs": [
    {
     "name": "stdout",
     "output_type": "stream",
     "text": [
      "Hi, World! Hi, Universe!\n"
     ]
    }
   ],
   "source": [
    "# replace(substring, replacement): Replaces occurrences of a substring with a replacement string.\n",
    "original_string = \"Hello, World! Hello, Universe!\"\n",
    "new_string = original_string.replace(\"Hello\", \"Hi\")\n",
    "\n",
    "print(new_string)\n",
    "# Output: \"Hi, World! Hi, Universe!\""
   ]
  },
  {
   "cell_type": "markdown",
   "metadata": {},
   "source": [
    "### split(delimiter)\n",
    "\n",
    "Splits a string into a list of substrings based on a delimiter."
   ]
  },
  {
   "cell_type": "code",
   "execution_count": 11,
   "metadata": {},
   "outputs": [
    {
     "name": "stdout",
     "output_type": "stream",
     "text": [
      "['This', 'is', 'a', 'sample', 'sentence.']\n",
      "['This is ', ' s', 'mple sentence.']\n"
     ]
    }
   ],
   "source": [
    "# split(delimiter): Splits a string into a list of substrings based on a delimiter.\n",
    "sentence = \"This is a sample sentence.\"\n",
    "words = sentence.split(\" \")\n",
    "words2 = sentence.split(\"a\")\n",
    "\n",
    "print(words)\n",
    "# Output: ['This', 'is', 'a', 'sample', 'sentence.']\n",
    "print(words2)"
   ]
  },
  {
   "cell_type": "markdown",
   "metadata": {},
   "source": [
    "### join(iterable)\n",
    "\n",
    "Joins the elements of an iterable into a single string using the current string as a separator."
   ]
  },
  {
   "cell_type": "code",
   "execution_count": 12,
   "metadata": {},
   "outputs": [
    {
     "name": "stdout",
     "output_type": "stream",
     "text": [
      "This is a list of words.\n",
      "This~is~a~list~of~words.\n"
     ]
    }
   ],
   "source": [
    "# join(iterable): Joins the elements of an iterable into a single string using the current string as a separator.\n",
    "words = ['This', 'is', 'a', 'list', 'of', 'words.']\n",
    "sentence = ' '.join(words)\n",
    "sentence2 = '~'.join(words)\n",
    "\n",
    "print(sentence)\n",
    "# Output: \"This is a list of words.\"\n",
    "print(sentence2)"
   ]
  },
  {
   "cell_type": "markdown",
   "metadata": {},
   "source": [
    "### count(substring)\n",
    "\n",
    "Counts the number of non-overlapping occurrences of a substring."
   ]
  },
  {
   "cell_type": "code",
   "execution_count": 13,
   "metadata": {},
   "outputs": [
    {
     "name": "stdout",
     "output_type": "stream",
     "text": [
      "4\n"
     ]
    }
   ],
   "source": [
    "# count(substring): Counts the number of non-overlapping occurrences of a substring.\n",
    "text = \"How much wood would a woodchuck chuck if a woodchuck could chuck wood?\"\n",
    "\n",
    "count = text.count(\"wood\")\n",
    "print(count)\n",
    "# Output: 4"
   ]
  },
  {
   "cell_type": "markdown",
   "metadata": {},
   "source": [
    "### find(substring)\n",
    "\n",
    "Finds the index of the first occurrence of a substring in the string."
   ]
  },
  {
   "cell_type": "code",
   "execution_count": 14,
   "metadata": {},
   "outputs": [
    {
     "name": "stdout",
     "output_type": "stream",
     "text": [
      "10\n"
     ]
    }
   ],
   "source": [
    "# find(substring): Finds the index of the first occurrence of a substring in the string.\n",
    "sentence = \"This is a sample sentence.\"\n",
    "position = sentence.find(\"sample\")\n",
    "\n",
    "print(position)\n",
    "# Output: 10"
   ]
  },
  {
   "cell_type": "markdown",
   "metadata": {},
   "source": [
    "### capitalize()\n",
    "\n",
    "Converts the first character of the string to uppercase and the rest to lowercase."
   ]
  },
  {
   "cell_type": "code",
   "execution_count": 15,
   "metadata": {},
   "outputs": [
    {
     "name": "stdout",
     "output_type": "stream",
     "text": [
      "John doe\n"
     ]
    }
   ],
   "source": [
    "# capitalize(): Converts the first character of the string to uppercase and the rest to lowercase.\n",
    "name = \"john doe\"\n",
    "capitalized_name = name.capitalize()\n",
    "\n",
    "print(capitalized_name)\n",
    "# Output: \"John doe\""
   ]
  },
  {
   "cell_type": "markdown",
   "metadata": {},
   "source": [
    "### title()\n",
    "\n",
    "Converts the first character of each word to uppercase and the rest to lowercase."
   ]
  },
  {
   "cell_type": "code",
   "execution_count": 16,
   "metadata": {},
   "outputs": [
    {
     "name": "stdout",
     "output_type": "stream",
     "text": [
      "The Quick Brown Fox\n"
     ]
    }
   ],
   "source": [
    "# title(): Converts the first character of each word to uppercase and the rest to lowercase.\n",
    "title = \"the quick brown fox\"\n",
    "title_case = title.title()\n",
    "\n",
    "print(title_case)\n",
    "# Output: \"The Quick Brown Fox\""
   ]
  },
  {
   "cell_type": "markdown",
   "metadata": {},
   "source": [
    "### isupper()\n",
    "\n",
    "Checks if all characters in the string are uppercase."
   ]
  },
  {
   "cell_type": "code",
   "execution_count": 17,
   "metadata": {},
   "outputs": [
    {
     "name": "stdout",
     "output_type": "stream",
     "text": [
      "True\n"
     ]
    }
   ],
   "source": [
    "# isupper(): Checks if all characters in the string are uppercase.\n",
    "uppercase_string = \"HELLO\"\n",
    "is_upper = uppercase_string.isupper()\n",
    "\n",
    "print(is_upper)\n",
    "# Output: True"
   ]
  },
  {
   "cell_type": "markdown",
   "metadata": {},
   "source": [
    "### islower()\n",
    "\n",
    "Checks if all characters in the string are lowercase."
   ]
  },
  {
   "cell_type": "code",
   "execution_count": 18,
   "metadata": {},
   "outputs": [
    {
     "name": "stdout",
     "output_type": "stream",
     "text": [
      "True\n"
     ]
    }
   ],
   "source": [
    "# islower(): Checks if all characters in the string are lowercase.\n",
    "lowercase_string = \"hello\"\n",
    "is_lower = lowercase_string.islower()\n",
    "\n",
    "print(is_lower)\n",
    "# Output: True"
   ]
  },
  {
   "cell_type": "markdown",
   "metadata": {},
   "source": [
    "### isalpha()\n",
    "\n",
    "Checks if all characters in the string are alphabetic (letters)."
   ]
  },
  {
   "cell_type": "code",
   "execution_count": 19,
   "metadata": {},
   "outputs": [
    {
     "name": "stdout",
     "output_type": "stream",
     "text": [
      "True\n"
     ]
    }
   ],
   "source": [
    "# isalpha(): Checks if all characters in the string are alphabetic (letters).\n",
    "alphabetic_string = \"AlphaOnly\"\n",
    "is_alpha = alphabetic_string.isalpha()\n",
    "\n",
    "print(is_alpha)\n",
    "# Output: True"
   ]
  },
  {
   "cell_type": "markdown",
   "metadata": {},
   "source": [
    "### isdecimal()\n",
    "\n",
    "Checks if all characters in the string are decimal digits."
   ]
  },
  {
   "cell_type": "code",
   "execution_count": 20,
   "metadata": {},
   "outputs": [
    {
     "name": "stdout",
     "output_type": "stream",
     "text": [
      "True\n"
     ]
    }
   ],
   "source": [
    "# isdecimal(): Checks if all characters in the string are decimal digits.\n",
    "numeric_string = \"12345\"\n",
    "is_decimal = numeric_string.isdecimal()\n",
    "\n",
    "print(is_decimal)\n",
    "# Output: True"
   ]
  },
  {
   "cell_type": "markdown",
   "metadata": {},
   "source": [
    "## String Formatting\n",
    "\n",
    "You can format strings using f-strings (Python 3.6+), the .format() method, or the % operator."
   ]
  },
  {
   "cell_type": "code",
   "execution_count": 21,
   "metadata": {},
   "outputs": [
    {
     "name": "stdout",
     "output_type": "stream",
     "text": [
      "My name is Alice and I am 30 years old.\n"
     ]
    }
   ],
   "source": [
    "# String Formatting: You can format strings using f-strings (Python 3.6+), the .format() method, or the % operator\n",
    "name = \"Alice\"\n",
    "age = 30\n",
    "formatted_string = f\"My name is {name} and I am {age} years old.\"\n",
    "\n",
    "print(formatted_string)"
   ]
  },
  {
   "cell_type": "markdown",
   "metadata": {},
   "source": [
    "## String Escape Characters\n",
    "\n",
    "You can use escape characters to include special characters within a string. For example, to include a newline character, you can use \\n."
   ]
  },
  {
   "cell_type": "code",
   "execution_count": 22,
   "metadata": {},
   "outputs": [
    {
     "name": "stdout",
     "output_type": "stream",
     "text": [
      "This is a line\n",
      "and this is a new line.\n"
     ]
    }
   ],
   "source": [
    "# String Escape Characters\n",
    "escaped_string = \"This is a line\\nand this is a new line.\"\n",
    "\n",
    "print(escaped_string)\n",
    "# Output:\n",
    "# This is a line\n",
    "# and this is a new line."
   ]
  },
  {
   "cell_type": "markdown",
   "metadata": {},
   "source": [
    "## String Immutability\n",
    "\n",
    "Strings in Python are immutable, which means you cannot change the characters in an existing string. Instead, you create a new string when you make modifications."
   ]
  },
  {
   "cell_type": "code",
   "execution_count": 23,
   "metadata": {},
   "outputs": [
    {
     "name": "stdout",
     "output_type": "stream",
     "text": [
      "Hello World\n",
      "H\n",
      "Hola\n"
     ]
    }
   ],
   "source": [
    "# String Immutability\n",
    "# Strings are immutable, so you can't change them directly. You would create a new string instead\n",
    "original_string = \"Hello\"\n",
    "modified_string = original_string + \" World\"\n",
    "\n",
    "print(modified_string)  # Output: \"Hello World\"\n",
    "print(original_string[0])\n",
    "original_string = \"Hola\"\n",
    "print(original_string)\n",
    "# original_string[0] = 'P' # TypeError, 'str' object does not support item assignment, Immutable"
   ]
  },
  {
   "cell_type": "markdown",
   "metadata": {},
   "source": [
    "### String Operations\n",
    "\n",
    "You can perform various operations on strings, such as checking if a substring is present, finding the position of a substring, and more using methods like in, find, and replace."
   ]
  },
  {
   "cell_type": "code",
   "execution_count": 24,
   "metadata": {},
   "outputs": [
    {
     "name": "stdout",
     "output_type": "stream",
     "text": [
      "Hello, World!\n",
      "Repeat me! Repeat me! Repeat me! \n",
      "Substring found!\n",
      "World found at index 7\n",
      "Hello, Python!\n"
     ]
    }
   ],
   "source": [
    "# String Operations\n",
    "my_string = \"Hello, World!\"\n",
    "\n",
    "# Concatenation\n",
    "str1 = \"Hello, \"\n",
    "str2 = \"World!\"\n",
    "result = str1 + str2\n",
    "\n",
    "print(result)  # Output: \"Hello, World!\"\n",
    "\n",
    "\n",
    "# Repetition\n",
    "original_string = \"Repeat me! \"\n",
    "repeated_string = original_string * 3\n",
    "\n",
    "print(repeated_string)\n",
    "# Output: \"Repeat me! Repeat me! Repeat me! \"\n",
    "\n",
    "# Membership Check (Substring)\n",
    "# Check if a substring is present in the string\n",
    "if \"Hello\" in my_string:\n",
    "    print(\"Substring found!\")\n",
    "\n",
    "# Substring Finding\n",
    "# Find the position of a substring\n",
    "position = my_string.find(\"World\")\n",
    "\n",
    "print(f\"World found at index {position}\")\n",
    "\n",
    "# Replacement\n",
    "# Replace a substring\n",
    "new_string = my_string.replace(\"World\", \"Python\")\n",
    "\n",
    "print(new_string)"
   ]
  },
  {
   "cell_type": "markdown",
   "metadata": {},
   "source": [
    "### String Encoding/Decoding\n",
    "\n",
    "String encoding and decoding are essential when working with text data, especially when dealing with various character encodings. In Python, you can use methods like encode() and decode() to handle character encoding and decoding."
   ]
  },
  {
   "cell_type": "code",
   "execution_count": 25,
   "metadata": {},
   "outputs": [
    {
     "name": "stdout",
     "output_type": "stream",
     "text": [
      "b'Hello, \\xe4\\xbd\\xa0\\xe5\\xa5\\xbd, \\xe3\\x81\\x93\\xe3\\x82\\x93\\xe3\\x81\\xab\\xe3\\x81\\xa1\\xe3\\x81\\xaf'\n",
      "Hello, 你好, こんにちは\n"
     ]
    }
   ],
   "source": [
    "# String Encoding/Decoding\n",
    "# String Encoding\n",
    "original_string = \"Hello, 你好, こんにちは\"\n",
    "encoded_string = original_string.encode(\"utf-8\")\n",
    "\n",
    "print(encoded_string)\n",
    "\n",
    "# String Decoding\n",
    "decoded_string = encoded_string.decode(\"utf-8\")\n",
    "\n",
    "print(decoded_string)"
   ]
  },
  {
   "cell_type": "markdown",
   "metadata": {},
   "source": [
    "The example above:\n",
    "\n",
    "1. We have an original string that contains text in multiple languages: \"Hello, 你好, こんにちは.\"\n",
    "2. We use the encode() method to encode the string into bytes using the UTF-8 encoding. The encode() method takes the encoding format as an argument.\n",
    "3. The encoded_string variable now holds the byte representation of the original string.\n",
    "4. We use the decode() method to convert the encoded byte sequence back into a string using the same UTF-8 encoding. The decode() method takes the encoding format as an argument, matching the one used for encoding.\n",
    "5. The decoded_string variable contains the decoded string, which is the same as the original string.\n",
    "\n",
    "Encoding and decoding are crucial when dealing with text data, as it ensures that characters from various languages are correctly represented and processed, regardless of their underlying byte representation. The choice of encoding (e.g., UTF-8, UTF-16, ISO-8859-1, etc.) depends on the specific requirements of your application and the character set you're working with."
   ]
  },
  {
   "cell_type": "markdown",
   "metadata": {},
   "source": [
    "---\n",
    "\n",
    "These are the basics of working with strings in Python. Strings are an essential part of any Python program for dealing with text data and manipulating it in various ways."
   ]
  }
 ],
 "metadata": {
  "kernelspec": {
   "display_name": ".venv",
   "language": "python",
   "name": "python3"
  },
  "language_info": {
   "codemirror_mode": {
    "name": "ipython",
    "version": 3
   },
   "file_extension": ".py",
   "mimetype": "text/x-python",
   "name": "python",
   "nbconvert_exporter": "python",
   "pygments_lexer": "ipython3",
   "version": "3.12.0"
  }
 },
 "nbformat": 4,
 "nbformat_minor": 2
}
