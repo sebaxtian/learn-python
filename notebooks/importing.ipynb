{
 "cells": [
  {
   "cell_type": "markdown",
   "metadata": {},
   "source": [
    "# Importing\n",
    "\n",
    "In Python, you can import modules and packages to access their functions, classes, and variables in your code. Importing is a fundamental concept in Python, and it allows you to use code written by others and organize your own code into reusable modules.\n",
    "\n",
    "One of the main benefits of using a popular language such as Python is its large number of libraries that you can use and benefit from.\n",
    "\n",
    "Many developers around the world are generous with their time and knowledge and publish a lot of really useful libraries. These libraries can save us plenty of time both in our professional work, but also on our side projects that we may do for fun.\n",
    "\n",
    "Here's how you can import in Python:\n",
    "\n",
    "* [Importing Modules](#importing-modules)\n",
    "* [Importing Specific Items from a Module](#importing-specific-items-from-a-module)\n",
    "* [Importing with Aliases](#importing-with-aliases)\n",
    "* [Importing Your Own Modules](#importing-your-own-modules)\n",
    "* [Importing from Packages](#importing-from-packages)\n",
    "* [Importing Multiple Modules at Once](#importing-multiple-modules-at-once)\n",
    "* [Issues with Importing Everything from a Module](#issues-with-importing-everything-from-a-module)"
   ]
  },
  {
   "cell_type": "markdown",
   "metadata": {},
   "source": [
    "## Importing Modules\n",
    "\n",
    "To import a module, you use the import keyword followed by the module name. For example, to import the math module."
   ]
  },
  {
   "cell_type": "code",
   "execution_count": 1,
   "metadata": {},
   "outputs": [
    {
     "name": "stdout",
     "output_type": "stream",
     "text": [
      "5.0\n"
     ]
    }
   ],
   "source": [
    "# For example, to import the math module, you would write:\n",
    "import math\n",
    "\n",
    "# After importing, you can use functions and variables from the math module like this:\n",
    "print(math.sqrt(25))  # Calculates the square root of 25"
   ]
  },
  {
   "cell_type": "markdown",
   "metadata": {},
   "source": [
    "## Importing Specific Items from a Module\n",
    "\n",
    "You can also import specific functions, classes, or variables from a module using the from keyword. For example, to import just the sqrt function from the math module."
   ]
  },
  {
   "cell_type": "code",
   "execution_count": 2,
   "metadata": {},
   "outputs": [
    {
     "name": "stdout",
     "output_type": "stream",
     "text": [
      "5.0\n"
     ]
    }
   ],
   "source": [
    "# For example, to import just the sqrt function from the math module, you can do:\n",
    "from math import sqrt\n",
    "\n",
    "# Then, you can use sqrt directly without prefixing it with the module name:\n",
    "print(sqrt(25))"
   ]
  },
  {
   "cell_type": "markdown",
   "metadata": {},
   "source": [
    "## Importing with Aliases\n",
    "\n",
    "You can import a module with an alias (a different name) to make it easier to reference. This is often used for modules with long names."
   ]
  },
  {
   "cell_type": "code",
   "execution_count": 3,
   "metadata": {},
   "outputs": [
    {
     "name": "stdout",
     "output_type": "stream",
     "text": [
      "[1 2 3]\n"
     ]
    }
   ],
   "source": [
    "# For example:\n",
    "import numpy as np\n",
    "\n",
    "# Now you can use np to refer to the numpy module:\n",
    "array = np.array([1, 2, 3])\n",
    "\n",
    "print(array)"
   ]
  },
  {
   "cell_type": "markdown",
   "metadata": {},
   "source": [
    "## Importing Your Own Modules\n",
    "\n",
    "You can create your own Python modules by placing functions, classes, or variables in a .py file. To import your own modules, use the same import statement as with built-in modules."
   ]
  },
  {
   "cell_type": "code",
   "execution_count": 4,
   "metadata": {},
   "outputs": [
    {
     "name": "stdout",
     "output_type": "stream",
     "text": [
      "Hello, Alice!\n"
     ]
    }
   ],
   "source": [
    "# For example, if you have a file named my_module.py with a function greet, you can import it like this:\n",
    "\n",
    "# Import the custom module\n",
    "import my_module\n",
    "\n",
    "# Use the greet function from the custom module\n",
    "message = my_module.greet(\"Alice\")\n",
    "\n",
    "# Print the result\n",
    "print(message)"
   ]
  },
  {
   "cell_type": "markdown",
   "metadata": {},
   "source": [
    "## Importing from Packages\n",
    "\n",
    "If you have a package (a directory containing multiple modules), you can import modules from it using dot notation.\n",
    "\n",
    "Suppose you have a package named my_package, and inside it, there's a module named my_module. You want to import and use the functions or variables defined in my_module in a separate Python script.\n",
    "\n",
    "Organize your files as follows:\n",
    "\n",
    "    my_package/\n",
    "        ├── __init__.py\n",
    "        ├── my_module.py\n",
    "\n",
    "* **my_package**: is the package directory containing your modules.\n",
    "* **\\_\\_init\\_\\_.py**: is an empty file that makes Python treat the directory as a package.\n",
    "* **my_module.py**: is the module you want to import."
   ]
  },
  {
   "cell_type": "code",
   "execution_count": 5,
   "metadata": {},
   "outputs": [
    {
     "name": "stdout",
     "output_type": "stream",
     "text": [
      "Hello, Bob!\n"
     ]
    }
   ],
   "source": [
    "# Import a module from a package\n",
    "from my_package import my_module\n",
    "\n",
    "# Use the greet function from the module\n",
    "message = my_module.greet(\"Bob\")\n",
    "\n",
    "# Print the result\n",
    "print(message)"
   ]
  },
  {
   "cell_type": "markdown",
   "metadata": {},
   "source": [
    "## Importing Multiple Modules at Once\n",
    "\n",
    "Now, let's import multiple modules at once."
   ]
  },
  {
   "cell_type": "code",
   "execution_count": 6,
   "metadata": {},
   "outputs": [
    {
     "name": "stdout",
     "output_type": "stream",
     "text": [
      "oop.ipynb\n",
      "variables.ipynb\n",
      "README.md\n",
      "__pycache__\n",
      "control_flow.ipynb\n",
      "my_module.py\n",
      "importing.ipynb\n",
      "intro.ipynb\n",
      "dictionaries.ipynb\n",
      "type_conversions.ipynb\n",
      "user_input.ipynb\n",
      "exceptions.ipynb\n",
      "strings.ipynb\n",
      "operators.ipynb\n",
      "lists.ipynb\n",
      "tuples.ipynb\n",
      "lang\n",
      "sets.ipynb\n",
      "functions.ipynb\n",
      "my_package\n",
      "data_types.ipynb\n",
      "This is an integer.\n",
      "The square root of 16 is 4.0\n"
     ]
    }
   ],
   "source": [
    "# Now, let's import multiple modules at once:\n",
    "import os, numbers, math\n",
    "\n",
    "# List files in the current directory\n",
    "files = os.listdir()\n",
    "for file in files:\n",
    "    print(file)\n",
    "\n",
    "num = 42\n",
    "\n",
    "if isinstance(num, numbers.Integral):\n",
    "    print(\"This is an integer.\")\n",
    "else:\n",
    "    print(\"This is not an integer.\")\n",
    "\n",
    "number = 16\n",
    "\n",
    "# Calculate the square root\n",
    "square_root = math.sqrt(number)\n",
    "print(f\"The square root of {number} is {square_root}\")"
   ]
  },
  {
   "cell_type": "markdown",
   "metadata": {},
   "source": [
    "## Issues with Importing Everything from a Module\n",
    "\n",
    "Importing everything from a module using a wildcard import (e.g., from module import *) can lead to several issues and is generally discouraged. While it may seem convenient, it can make your code less readable, harder to maintain, and more error-prone. Here are some of the issues with importing everything from a module:\n",
    "\n",
    "1. **Namespace Pollution**: When you import everything from a module, all its functions, classes, and variables become available in your current namespace. This can lead to name conflicts if two modules have functions or variables with the same name. It becomes challenging to determine where a specific function or variable originated from, making the code less clear.\n",
    "\n",
    "2. **Readability**: It can be difficult to understand the origin of functions and variables when you're not explicitly specifying the module they come from. This can make your code less readable and more challenging to debug.\n",
    "\n",
    "3. **Code Maintenance**: Wildcard imports make it difficult to track dependencies in your code. When you review or maintain your code in the future, it can be unclear which functions or variables are used, where they come from, and whether they are still needed.\n",
    "\n",
    "4. **Performance**: Importing everything from a module can impact performance. The module may contain a large number of functions and classes, and importing everything may consume unnecessary memory and slow down your application.\n",
    "\n",
    "5. **Code Conflicts**: Some modules may define functions or variables that have common names, like open or name. Importing everything can lead to unintentional shadowing of built-in functions or variables.\n",
    "\n",
    "6. **Security Risks**: Wildcard imports can potentially introduce security risks if you're importing functions that execute malicious code or override standard library functions.\n",
    "\n",
    "To avoid these issues, it's generally recommended to import specific functions, classes, or variables that you need from a module, or use aliasing to make the code more readable without importing everything."
   ]
  },
  {
   "cell_type": "code",
   "execution_count": 7,
   "metadata": {},
   "outputs": [],
   "source": [
    "# For example, instead of from module import *, you can use:\n",
    "# from module import function1, function2  # Import only the specific functions you need"
   ]
  },
  {
   "cell_type": "markdown",
   "metadata": {},
   "source": [
    "This approach provides better code organization, readability, and maintenance. It also reduces the risk of namespace pollution and conflicts."
   ]
  }
 ],
 "metadata": {
  "kernelspec": {
   "display_name": ".venv",
   "language": "python",
   "name": "python3"
  },
  "language_info": {
   "codemirror_mode": {
    "name": "ipython",
    "version": 3
   },
   "file_extension": ".py",
   "mimetype": "text/x-python",
   "name": "python",
   "nbconvert_exporter": "python",
   "pygments_lexer": "ipython3",
   "version": "3.12.0"
  }
 },
 "nbformat": 4,
 "nbformat_minor": 2
}
