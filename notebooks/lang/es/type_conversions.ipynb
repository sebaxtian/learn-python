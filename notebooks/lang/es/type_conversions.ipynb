{
 "cells": [
  {
   "cell_type": "markdown",
   "metadata": {},
   "source": [
    "# Conversiones de tipos\n",
    "\n",
    "En Python, las conversiones de tipos (también conocidas como casting) le permiten cambiar el tipo de datos de una variable de un tipo a otro. Python proporciona varias funciones y técnicas integradas para la conversión de tipos. A continuación se muestran algunas conversiones de tipos comunes en Python.\n",
    "\n",
    "Python es un lenguaje de programación orientado a objetos. Es por eso que utiliza funciones constructoras de clases para realizar conversiones de un tipo a otro.\n",
    "\n",
    "* [Conversión de tipo implícita (coerción)](#conversión-de-tipo-implícita-coerción)\n",
    "* [Conversión de tipo explícita (type casting)](#conversión-de-tipo-explícita-type-casting)\n",
    "* [Usando constructores](#usando-constructores)\n",
    "* [Usando eval()](#usando-eval)\n",
    "* [Usando la conversión de formato](#usando-la-conversión-de-formato)\n",
    "* [Usando operaciones aritméticas](#usando-operaciones-aritméticas)"
   ]
  },
  {
   "cell_type": "markdown",
   "metadata": {},
   "source": [
    "## Conversión de tipo implícita (coerción)\n",
    "\n",
    "Python puede realizar una conversión de tipos implícita cuando mezcla diferentes tipos de datos en expresiones. Por ejemplo, cuando agrega un número entero y un flotante, Python convertirá automáticamente el número entero en un flotante antes de realizar la suma.\n",
    "\n",
    "La conversión de tipos implícita en Python puede ser conveniente, pero es importante comprender cuándo y cómo ocurre, ya que puede afectar los resultados de sus operaciones.\n",
    "\n",
    "La conversión de tipos implícita, también conocida como coerción, ocurre cuando Python convierte automáticamente un tipo de datos en otro durante una operación. Aquí hay unos ejemplos:"
   ]
  },
  {
   "cell_type": "markdown",
   "metadata": {},
   "source": [
    "### Entero y real\n",
    "\n",
    "Cuando mezclas un número entero y un real en una operación, Python convertirá el número entero en un real para realizar la operación."
   ]
  },
  {
   "cell_type": "code",
   "execution_count": 1,
   "metadata": {},
   "outputs": [
    {
     "name": "stdout",
     "output_type": "stream",
     "text": [
      "5 2.5 7.5\n"
     ]
    }
   ],
   "source": [
    "x = 5   # integer\n",
    "y = 2.5 # float\n",
    "result = x + y\n",
    "# Here, the integer 5 is implicitly converted to a float before the addition.\n",
    "# The result will be 7.5 (float).\n",
    "\n",
    "print(x, y, result)"
   ]
  },
  {
   "cell_type": "markdown",
   "metadata": {},
   "source": [
    "### Entero y string (concatenación)\n",
    "\n",
    "Puede concatenar strings con números enteros sin convertir explícitamente el número entero en un string. Python realizará la conversión automáticamente."
   ]
  },
  {
   "cell_type": "code",
   "execution_count": 2,
   "metadata": {},
   "outputs": [
    {
     "name": "stdout",
     "output_type": "stream",
     "text": [
      "Alice 30 My name is Alice and I am 30 years old.\n"
     ]
    }
   ],
   "source": [
    "name = \"Alice\"\n",
    "age = 30\n",
    "message = \"My name is \" + name + \" and I am \" + str(age) + \" years old.\"\n",
    "# The integer 'age' is implicitly converted to a string for concatenation.\n",
    "# The 'message' will be \"My name is Alice and I am 30 years old.\"\n",
    "\n",
    "print(name, age, message)"
   ]
  },
  {
   "cell_type": "markdown",
   "metadata": {},
   "source": [
    "### Tipos booleanos y numéricos\n",
    "\n",
    "Los valores booleanos (Verdadero y Falso) se pueden utilizar en operaciones numéricas, donde Verdadero se trata como 1 y Falso se trata como 0."
   ]
  },
  {
   "cell_type": "code",
   "execution_count": 3,
   "metadata": {},
   "outputs": [
    {
     "name": "stdout",
     "output_type": "stream",
     "text": [
      "10 True False 11 10\n"
     ]
    }
   ],
   "source": [
    "x = 10\n",
    "is_true = True\n",
    "is_false = False\n",
    "\n",
    "result1 = x + is_true\n",
    "# Here, True is implicitly converted to 1.\n",
    "# The result1 will be 11.\n",
    "\n",
    "result2 = x + is_false\n",
    "# Here, False is implicitly converted to 0.\n",
    "# The result2 will be 10.\n",
    "\n",
    "print(x, is_true, is_false, result1, result2)"
   ]
  },
  {
   "cell_type": "markdown",
   "metadata": {},
   "source": [
    "### Cadenas y números en formato\n",
    "\n",
    "Al utilizar f-string o formato de string, puede mezclar números y strings sin una conversión explícita."
   ]
  },
  {
   "cell_type": "code",
   "execution_count": 4,
   "metadata": {},
   "outputs": [
    {
     "name": "stdout",
     "output_type": "stream",
     "text": [
      "19.99 The price is $19.99\n"
     ]
    }
   ],
   "source": [
    "price = 19.99\n",
    "message = f\"The price is ${price}\"\n",
    "# The 'price' (a float) is implicitly converted to a string within the f-string.\n",
    "# The 'message' will be \"The price is $19.99\".\n",
    "\n",
    "print(price, message)"
   ]
  },
  {
   "cell_type": "markdown",
   "metadata": {},
   "source": [
    "### Concatenación de listas\n",
    "\n",
    "Puede concatenar listas de diferentes tipos de datos sin una conversión explícita."
   ]
  },
  {
   "cell_type": "code",
   "execution_count": 5,
   "metadata": {},
   "outputs": [
    {
     "name": "stdout",
     "output_type": "stream",
     "text": [
      "[1, 2, 3] ['apple', 'banana', 'cherry'] [1, 2, 3, 'apple', 'banana', 'cherry']\n"
     ]
    }
   ],
   "source": [
    "list1 = [1, 2, 3]\n",
    "list2 = [\"apple\", \"banana\", \"cherry\"]\n",
    "combined_list = list1 + list2\n",
    "# Lists can contain mixed data types.\n",
    "# The 'combined_list' will be [1, 2, 3, \"apple\", \"banana\", \"cherry\"].\n",
    "\n",
    "print(list1, list2, combined_list)"
   ]
  },
  {
   "cell_type": "markdown",
   "metadata": {},
   "source": [
    "## Conversión de tipo explícita (Type Casting)\n",
    "\n",
    "Puede convertir explícitamente un tipo de datos a otro utilizando funciones integradas como **int()**, **float()**, **str()**, etc.\n",
    "\n",
    "La conversión de tipos explícita es útil cuando necesita asegurarse de que los datos sean de un tipo específico para una operación particular o cuando desea cambiar la representación de los datos para su salida o almacenamiento.\n",
    "\n",
    "La conversión de tipo explícita, a menudo denominada **casting** de tipo, implica cambiar manualmente el tipo de datos de una variable o valor en Python mediante funciones integradas. A continuación se muestran ejemplos de conversión de tipos explícita:"
   ]
  },
  {
   "cell_type": "markdown",
   "metadata": {},
   "source": [
    "### Entero a real\n",
    "\n",
    "Puede convertir un número entero en un real usando la función **float()**."
   ]
  },
  {
   "cell_type": "code",
   "execution_count": 6,
   "metadata": {},
   "outputs": [
    {
     "name": "stdout",
     "output_type": "stream",
     "text": [
      "42 42.0\n"
     ]
    }
   ],
   "source": [
    "x = 42\n",
    "y = float(x)\n",
    "# 'y' will be 42.0 (a float).\n",
    "\n",
    "print(x, y)"
   ]
  },
  {
   "cell_type": "markdown",
   "metadata": {},
   "source": [
    "### Real a entero\n",
    "\n",
    "Puede convertir un real en un número entero usando la función **int()**. Esta conversión trunca la parte decimal."
   ]
  },
  {
   "cell_type": "code",
   "execution_count": 7,
   "metadata": {},
   "outputs": [
    {
     "name": "stdout",
     "output_type": "stream",
     "text": [
      "3.7 3\n"
     ]
    }
   ],
   "source": [
    "a = 3.7\n",
    "b = int(a)\n",
    "# 'b' will be 3 (an integer).\n",
    "\n",
    "print(a, b)"
   ]
  },
  {
   "cell_type": "markdown",
   "metadata": {},
   "source": [
    "### String a entero o flotante\n",
    "\n",
    "Para convertir un string que contiene un número en un número entero o flotante, utilice **int()** o **float()**."
   ]
  },
  {
   "cell_type": "code",
   "execution_count": 8,
   "metadata": {},
   "outputs": [
    {
     "name": "stdout",
     "output_type": "stream",
     "text": [
      "123 123\n",
      "3.14 3.14\n"
     ]
    }
   ],
   "source": [
    "num_str = \"123\"\n",
    "num_int = int(num_str)\n",
    "# 'num_int' will be 123 (an integer).\n",
    "\n",
    "print(num_str, num_int)\n",
    "\n",
    "num_str = \"3.14\"\n",
    "num_float = float(num_str)\n",
    "# 'num_float' will be 3.14 (a float).\n",
    "\n",
    "print(num_str, num_float)"
   ]
  },
  {
   "cell_type": "markdown",
   "metadata": {},
   "source": [
    "### Entero/Real a cadena\n",
    "\n",
    "Puede convertir un número entero o real en una cadena usando la función **str()**."
   ]
  },
  {
   "cell_type": "code",
   "execution_count": 9,
   "metadata": {},
   "outputs": [
    {
     "name": "stdout",
     "output_type": "stream",
     "text": [
      "42 3.14 42 3.14\n"
     ]
    }
   ],
   "source": [
    "x = 42\n",
    "y = 3.14\n",
    "str_x = str(x)\n",
    "str_y = str(y)\n",
    "# 'str_x' will be \"42\" (a string).\n",
    "# 'str_y' will be \"3.14\" (a string).\n",
    "\n",
    "print(x, y, str_x, str_y)"
   ]
  },
  {
   "cell_type": "markdown",
   "metadata": {},
   "source": [
    "### String a lista o tupla\n",
    "\n",
    "Para convertir un string en una lista o tupla, puede utilizar el constructor **list()** o **tuple()**."
   ]
  },
  {
   "cell_type": "code",
   "execution_count": 10,
   "metadata": {},
   "outputs": [
    {
     "name": "stdout",
     "output_type": "stream",
     "text": [
      "Hello ['H', 'e', 'l', 'l', 'o'] ('H', 'e', 'l', 'l', 'o')\n"
     ]
    }
   ],
   "source": [
    "my_string = \"Hello\"\n",
    "string_list = list(my_string)\n",
    "string_tuple = tuple(my_string)\n",
    "# 'string_list' will be ['H', 'e', 'l', 'l', 'o'] (a list).\n",
    "# 'string_tuple' will be ('H', 'e', 'l', 'l', 'o') (a tuple).\n",
    "\n",
    "print(my_string, string_list, string_tuple)"
   ]
  },
  {
   "cell_type": "markdown",
   "metadata": {},
   "source": [
    "### Lista a conjunto\n",
    "\n",
    "Para convertir una lista en un conjunto, puede utilizar el constructor **set()**. Esto elimina elementos duplicados."
   ]
  },
  {
   "cell_type": "code",
   "execution_count": 11,
   "metadata": {},
   "outputs": [
    {
     "name": "stdout",
     "output_type": "stream",
     "text": [
      "[1, 2, 2, 3, 4, 4, 5] {1, 2, 3, 4, 5}\n"
     ]
    }
   ],
   "source": [
    "my_list = [1, 2, 2, 3, 4, 4, 5]\n",
    "my_set = set(my_list)\n",
    "# 'my_set' will be {1, 2, 3, 4, 5} (a set).\n",
    "\n",
    "print(my_list, my_set)"
   ]
  },
  {
   "cell_type": "markdown",
   "metadata": {},
   "source": [
    "### Conjunto a lista\n",
    "\n",
    "Para convertir un conjunto en una lista, puede utilizar el constructor **list()**."
   ]
  },
  {
   "cell_type": "code",
   "execution_count": 12,
   "metadata": {},
   "outputs": [
    {
     "name": "stdout",
     "output_type": "stream",
     "text": [
      "{1, 2, 3, 4, 5}\n",
      "[1, 2, 3, 4, 5]\n"
     ]
    }
   ],
   "source": [
    "my_set = {1, 2, 3, 4, 5}\n",
    "my_list = list(my_set)\n",
    "# 'my_list' will be [1, 2, 3, 4, 5] (a list).\n",
    "\n",
    "print(my_set)\n",
    "print(my_list)"
   ]
  },
  {
   "cell_type": "markdown",
   "metadata": {},
   "source": [
    "### Booleano a entero\n",
    "\n",
    "Puede convertir un valor booleano en un número entero, donde True se convierte en 1 y False se convierte en 0."
   ]
  },
  {
   "cell_type": "code",
   "execution_count": 13,
   "metadata": {},
   "outputs": [
    {
     "name": "stdout",
     "output_type": "stream",
     "text": [
      "True False 1 0\n"
     ]
    }
   ],
   "source": [
    "is_true = True\n",
    "is_false = False\n",
    "int_true = int(is_true)\n",
    "int_false = int(is_false)\n",
    "# 'int_true' will be 1 (an integer).\n",
    "# 'int_false' will be 0 (an integer).\n",
    "\n",
    "print(is_true, is_false, int_true, int_false)"
   ]
  },
  {
   "cell_type": "markdown",
   "metadata": {},
   "source": [
    "### Operación numérica para conversión explícita\n",
    "\n",
    "Puede convertir explícitamente tipos de datos durante las operaciones. Por ejemplo, sumando un número entero y un flotante."
   ]
  },
  {
   "cell_type": "code",
   "execution_count": 14,
   "metadata": {},
   "outputs": [
    {
     "name": "stdout",
     "output_type": "stream",
     "text": [
      "5 2.5 7\n"
     ]
    }
   ],
   "source": [
    "x = 5\n",
    "y = 2.5\n",
    "result = x + int(y)\n",
    "# 'y' is explicitly cast to an integer before addition.\n",
    "# 'result' will be 7 (an integer).\n",
    "\n",
    "print(x, y, result)"
   ]
  },
  {
   "cell_type": "markdown",
   "metadata": {},
   "source": [
    "## Usando constructores\n",
    "\n",
    "El uso de constructores en Python implica la creación de objetos de tipos de datos específicos utilizando sus respectivos constructores o constructores de clases.\n",
    "\n",
    "El uso de constructores le permite crear objetos de clases y tipos de datos específicos, lo que facilita trabajar con datos e implementar estructuras de datos u objetos personalizados en su código Python.\n",
    "\n",
    "A continuación se muestran algunos ejemplos del uso de constructores:"
   ]
  },
  {
   "cell_type": "markdown",
   "metadata": {},
   "source": [
    "### Constructor de enteros int()\n",
    "\n",
    "Puede utilizar el constructor **int()** para crear objetos enteros."
   ]
  },
  {
   "cell_type": "code",
   "execution_count": 15,
   "metadata": {},
   "outputs": [
    {
     "name": "stdout",
     "output_type": "stream",
     "text": [
      "42\n"
     ]
    }
   ],
   "source": [
    "x = int(42)\n",
    "# 'x' is an integer object with the value 42.\n",
    "\n",
    "print(x)"
   ]
  },
  {
   "cell_type": "markdown",
   "metadata": {},
   "source": [
    "### Constructor de reales float()\n",
    "\n",
    "El constructor **float()** crea objetos numéricos de punto flotante."
   ]
  },
  {
   "cell_type": "code",
   "execution_count": 16,
   "metadata": {},
   "outputs": [
    {
     "name": "stdout",
     "output_type": "stream",
     "text": [
      "3.14\n"
     ]
    }
   ],
   "source": [
    "y = float(3.14)\n",
    "# 'y' is a float object with the value 3.14.\n",
    "\n",
    "print(y)"
   ]
  },
  {
   "cell_type": "markdown",
   "metadata": {},
   "source": [
    "### Constructor de strings str()\n",
    "\n",
    "El constructor **str()** crea objetos de string."
   ]
  },
  {
   "cell_type": "code",
   "execution_count": 17,
   "metadata": {},
   "outputs": [
    {
     "name": "stdout",
     "output_type": "stream",
     "text": [
      "Alice\n"
     ]
    }
   ],
   "source": [
    "name = str(\"Alice\")\n",
    "# 'name' is a string object with the value \"Alice\".\n",
    "\n",
    "print(name)"
   ]
  },
  {
   "cell_type": "markdown",
   "metadata": {},
   "source": [
    "### Constructor de list()\n",
    "\n",
    "Para crear un objeto de lista, puede utilizar el constructor **list()**."
   ]
  },
  {
   "cell_type": "code",
   "execution_count": 18,
   "metadata": {},
   "outputs": [
    {
     "name": "stdout",
     "output_type": "stream",
     "text": [
      "[1, 2, 3]\n"
     ]
    }
   ],
   "source": [
    "my_list = list([1, 2, 3])\n",
    "# 'my_list' is a list object containing the elements [1, 2, 3].\n",
    "\n",
    "print(my_list)"
   ]
  },
  {
   "cell_type": "markdown",
   "metadata": {},
   "source": [
    "### Constructor de tuplas tuple()\n",
    "\n",
    "El constructor **tuple()** crea un objeto tupla."
   ]
  },
  {
   "cell_type": "code",
   "execution_count": 19,
   "metadata": {},
   "outputs": [
    {
     "name": "stdout",
     "output_type": "stream",
     "text": [
      "(4, 5, 6)\n"
     ]
    }
   ],
   "source": [
    "my_tuple = tuple((4, 5, 6))\n",
    "# 'my_tuple' is a tuple object containing the elements (4, 5, 6).\n",
    "\n",
    "print(my_tuple)"
   ]
  },
  {
   "cell_type": "markdown",
   "metadata": {},
   "source": [
    "### Constructores de conjuntos set()\n",
    "\n",
    "Puede utilizar el constructor **set()** para crear un objeto conjunto."
   ]
  },
  {
   "cell_type": "code",
   "execution_count": 20,
   "metadata": {},
   "outputs": [
    {
     "name": "stdout",
     "output_type": "stream",
     "text": [
      "{1, 2, 3}\n"
     ]
    }
   ],
   "source": [
    "my_set = set({1, 2, 2, 3, 3, 3})\n",
    "# 'my_set' is a set object containing the elements {1, 2, 3}.\n",
    "\n",
    "print(my_set)"
   ]
  },
  {
   "cell_type": "markdown",
   "metadata": {},
   "source": [
    "### Constructor de diccionario dict()\n",
    "\n",
    "El constructor **dict()** se utiliza para crear objetos de diccionario."
   ]
  },
  {
   "cell_type": "code",
   "execution_count": 21,
   "metadata": {},
   "outputs": [
    {
     "name": "stdout",
     "output_type": "stream",
     "text": [
      "{'name': 'Bob', 'age': 30}\n"
     ]
    }
   ],
   "source": [
    "my_dict = dict({\"name\": \"Bob\", \"age\": 30})\n",
    "# 'my_dict' is a dictionary object with the key-value pairs {\"name\": \"Bob\", \"age\": 30}.\n",
    "\n",
    "print(my_dict)"
   ]
  },
  {
   "cell_type": "markdown",
   "metadata": {},
   "source": [
    "### Constructor de clases personalizadas\n",
    "\n",
    "Puede definir su propia clase y su constructor para crear objetos personalizados."
   ]
  },
  {
   "cell_type": "code",
   "execution_count": 22,
   "metadata": {},
   "outputs": [
    {
     "name": "stdout",
     "output_type": "stream",
     "text": [
      "<__main__.Person object at 0x7f3cea0349b0> <__main__.Person object at 0x7f3cea037d10>\n"
     ]
    }
   ],
   "source": [
    "class Person:\n",
    "    def __init__(self, name, age):\n",
    "        self.name = name\n",
    "        self.age = age\n",
    "\n",
    "person1 = Person(\"Alice\", 25)\n",
    "person2 = Person(\"Bob\", 30)\n",
    "# 'person1' and 'person2' are objects of the 'Person' class with custom attributes.\n",
    "\n",
    "print(person1, person2)"
   ]
  },
  {
   "cell_type": "markdown",
   "metadata": {},
   "source": [
    "## Usando eval()\n",
    "\n",
    "La función **eval()** en Python se utiliza para evaluar y ejecutar una expresión de Python creada dinámicamente como una cadena. También se puede utilizar para convertir una cadena a su tipo de datos correspondiente. Sin embargo, debe tener cuidado al utilizar **eval()** ya que puede ejecutar código arbitrario, lo que lo convierte en un riesgo potencial para la seguridad si no se utiliza con cuidado.\n",
    "\n",
    "Recuerde que usar **eval()** con la entrada del usuario puede ser riesgoso, por lo que es importante validar y desinfectar la entrada para evitar posibles vulnerabilidades de seguridad.\n",
    "\n",
    "A continuación se muestran algunos ejemplos del uso de **eval()**:"
   ]
  },
  {
   "cell_type": "markdown",
   "metadata": {},
   "source": [
    "### Evaluación de expresiones\n",
    "\n",
    "Puede utilizar **eval()** para evaluar expresiones matemáticas almacenadas como cadenas."
   ]
  },
  {
   "cell_type": "code",
   "execution_count": 23,
   "metadata": {},
   "outputs": [
    {
     "name": "stdout",
     "output_type": "stream",
     "text": [
      "3 + 5 * 2\n",
      "13\n"
     ]
    }
   ],
   "source": [
    "expression = \"3 + 5 * 2\"\n",
    "result = eval(expression)\n",
    "# 'result' will be 13.\n",
    "\n",
    "print(expression)\n",
    "print(result)"
   ]
  },
  {
   "cell_type": "markdown",
   "metadata": {},
   "source": [
    "### Conversión de string a enteros o reales\n",
    "\n",
    "**eval()** puede convertir una cadena que contiene un número a su tipo de datos correspondiente."
   ]
  },
  {
   "cell_type": "code",
   "execution_count": 24,
   "metadata": {},
   "outputs": [
    {
     "name": "stdout",
     "output_type": "stream",
     "text": [
      "42 42\n",
      "3.14 3.14\n"
     ]
    }
   ],
   "source": [
    "num_str = \"42\"\n",
    "num_int = eval(num_str)\n",
    "# 'num_int' will be 42 (an integer).\n",
    "\n",
    "print(num_str, num_int)\n",
    "\n",
    "num_str = \"3.14\"\n",
    "num_float = eval(num_str)\n",
    "# 'num_float' will be 3.14 (a float).\n",
    "\n",
    "print(num_str, num_float)"
   ]
  },
  {
   "cell_type": "markdown",
   "metadata": {},
   "source": [
    "### Conversión de una lista o tupla a partir de un string\n",
    "\n",
    "Puede utilizar **eval()** para convertir una representación de string de una lista o tupla nuevamente en una lista o tupla."
   ]
  },
  {
   "cell_type": "code",
   "execution_count": 25,
   "metadata": {},
   "outputs": [
    {
     "name": "stdout",
     "output_type": "stream",
     "text": [
      "[1, 2, 3, 4, 5] [1, 2, 3, 4, 5]\n",
      "(4, 5, 6) (4, 5, 6)\n"
     ]
    }
   ],
   "source": [
    "list_str = \"[1, 2, 3, 4, 5]\"\n",
    "my_list = eval(list_str)\n",
    "# 'my_list' will be [1, 2, 3, 4, 5] (a list).\n",
    "\n",
    "tuple_str = \"(4, 5, 6)\"\n",
    "my_tuple = eval(tuple_str)\n",
    "# 'my_tuple' will be (4, 5, 6) (a tuple).\n",
    "\n",
    "print(list_str, my_list)\n",
    "print(tuple_str, my_tuple)"
   ]
  },
  {
   "cell_type": "markdown",
   "metadata": {},
   "source": [
    "### Uso de variables en Eval\n",
    "\n",
    "Puede incluir variables en el código pasado a **eval()**.\n",
    "\n",
    "Tenga cuidado al utilizar variables dentro de **eval()** para evitar posibles problemas de seguridad."
   ]
  },
  {
   "cell_type": "code",
   "execution_count": 26,
   "metadata": {},
   "outputs": [
    {
     "name": "stdout",
     "output_type": "stream",
     "text": [
      "10 x * 2 20\n"
     ]
    }
   ],
   "source": [
    "x = 10\n",
    "expression = \"x * 2\"\n",
    "result = eval(expression)\n",
    "# 'result' will be 20.\n",
    "\n",
    "print(x, expression, result)"
   ]
  },
  {
   "cell_type": "markdown",
   "metadata": {},
   "source": [
    "### Creando expresiones personalizadas\n",
    "\n",
    "Puede permitir que los usuarios ingresen y evalúen expresiones personalizadas usando **eval()**. Sin embargo, esto debe hacerse con cuidado para evitar vulnerabilidades de inyección de código."
   ]
  },
  {
   "cell_type": "code",
   "execution_count": 43,
   "metadata": {},
   "outputs": [
    {
     "name": "stdout",
     "output_type": "stream",
     "text": [
      "Result: 7\n"
     ]
    }
   ],
   "source": [
    "user_input = input(\"Enter an expression: \")\n",
    "try:\n",
    "    result = eval(user_input)\n",
    "    print(\"Result:\", result)\n",
    "except Exception as e:\n",
    "    print(\"Error:\", e)"
   ]
  },
  {
   "cell_type": "markdown",
   "metadata": {},
   "source": [
    "## Usando la conversión de formato\n",
    "\n",
    "La conversión de formato en Python implica el uso de métodos como **f-strings**, formato de cadena u otras técnicas para convertir valores en cadenas con un formato específico.\n",
    "\n",
    "La conversión de formato es útil para crear **cadenas formateadas** cuidadosamente, particularmente cuando se muestran datos o se generan informes en Python.\n",
    "\n",
    "A continuación se muestran ejemplos del uso de la conversión de formato:"
   ]
  },
  {
   "cell_type": "markdown",
   "metadata": {},
   "source": [
    "### Usando f-strings\n",
    "\n",
    "Las f-strings son una forma conveniente de formatear cadenas en Python al incorporar expresiones dentro de cadenas literales. Convierten automáticamente variables en cadenas y permiten formatear."
   ]
  },
  {
   "cell_type": "code",
   "execution_count": 28,
   "metadata": {},
   "outputs": [
    {
     "name": "stdout",
     "output_type": "stream",
     "text": [
      "Alice 30 My name is Alice and I am 30 years old.\n"
     ]
    }
   ],
   "source": [
    "name = \"Alice\"\n",
    "age = 30\n",
    "formatted_string = f\"My name is {name} and I am {age} years old.\"\n",
    "# 'formatted_string' will be \"My name is Alice and I am 30 years old.\"\n",
    "\n",
    "print(name, age, formatted_string)"
   ]
  },
  {
   "cell_type": "markdown",
   "metadata": {},
   "source": [
    "### Usando el método .format()\n",
    "\n",
    "Puede utilizar el método **.format()** para formatear cadenas, reemplazando marcadores de posición con valores."
   ]
  },
  {
   "cell_type": "code",
   "execution_count": 29,
   "metadata": {},
   "outputs": [
    {
     "name": "stdout",
     "output_type": "stream",
     "text": [
      "Bob 25 My name is Bob and I am 25 years old.\n"
     ]
    }
   ],
   "source": [
    "name = \"Bob\"\n",
    "age = 25\n",
    "formatted_string = \"My name is {} and I am {} years old.\".format(name, age)\n",
    "# 'formatted_string' will be \"My name is Bob and I am 25 years old.\"\n",
    "\n",
    "print(name, age, formatted_string)"
   ]
  },
  {
   "cell_type": "markdown",
   "metadata": {},
   "source": [
    "### Usando concatenación de strings\n",
    "\n",
    "Puede concatenar strings con otros tipos de datos para convertirlas implícitamente en cadenas."
   ]
  },
  {
   "cell_type": "code",
   "execution_count": 30,
   "metadata": {},
   "outputs": [
    {
     "name": "stdout",
     "output_type": "stream",
     "text": [
      "19.99 The price is $19.99\n"
     ]
    }
   ],
   "source": [
    "price = 19.99\n",
    "message = \"The price is $\" + str(price)\n",
    "# 'message' will be \"The price is $19.99\".\n",
    "\n",
    "print(price, message)"
   ]
  },
  {
   "cell_type": "markdown",
   "metadata": {},
   "source": [
    "### Usando str() para conversión explícita\n",
    "\n",
    "Puede utilizar la función **str()** para convertir explícitamente un valor en una cadena."
   ]
  },
  {
   "cell_type": "code",
   "execution_count": 31,
   "metadata": {},
   "outputs": [
    {
     "name": "stdout",
     "output_type": "stream",
     "text": [
      "42 42\n"
     ]
    }
   ],
   "source": [
    "x = 42\n",
    "x_str = str(x)\n",
    "# 'x_str' will be \"42\".\n",
    "\n",
    "print(x, x_str)"
   ]
  },
  {
   "cell_type": "markdown",
   "metadata": {},
   "source": [
    "### Formateo con precisión (real a cadena)\n",
    "\n",
    "Puede utilizar el formato para controlar la precisión de los números de punto flotante."
   ]
  },
  {
   "cell_type": "code",
   "execution_count": 32,
   "metadata": {},
   "outputs": [
    {
     "name": "stdout",
     "output_type": "stream",
     "text": [
      "3.14159265359 3.14\n"
     ]
    }
   ],
   "source": [
    "value = 3.14159265359\n",
    "formatted_value = f\"{value:.2f}\"\n",
    "# 'formatted_value' will be \"3.14\".\n",
    "\n",
    "print(value, formatted_value)"
   ]
  },
  {
   "cell_type": "markdown",
   "metadata": {},
   "source": [
    "### Usando join() para convertir una lista en una cadena\n",
    "\n",
    "Puede utilizar el método **join()** para convertir una lista en una cadena con un separador específico."
   ]
  },
  {
   "cell_type": "code",
   "execution_count": 33,
   "metadata": {},
   "outputs": [
    {
     "name": "stdout",
     "output_type": "stream",
     "text": [
      "['apple', 'banana', 'cherry'] apple, banana, cherry\n"
     ]
    }
   ],
   "source": [
    "items = [\"apple\", \"banana\", \"cherry\"]\n",
    "item_string = \", \".join(items)\n",
    "# 'item_string' will be \"apple, banana, cherry\".\n",
    "\n",
    "print(items, item_string)"
   ]
  },
  {
   "cell_type": "markdown",
   "metadata": {},
   "source": [
    "### Usando String Slicing\n",
    "\n",
    "Puede convertir una parte de una cadena en otra cadena usando **slicing**."
   ]
  },
  {
   "cell_type": "code",
   "execution_count": 34,
   "metadata": {},
   "outputs": [
    {
     "name": "stdout",
     "output_type": "stream",
     "text": [
      "Hello, World Hello\n"
     ]
    }
   ],
   "source": [
    "full_string = \"Hello, World\"\n",
    "sliced_string = full_string[0:5]\n",
    "# 'sliced_string' will be \"Hello\".\n",
    "\n",
    "print(full_string, sliced_string)"
   ]
  },
  {
   "cell_type": "markdown",
   "metadata": {},
   "source": [
    "### Usando format() para formato complejo\n",
    "\n",
    "Puede utilizar el método **format()** para realizar formatos más complejos, incluida la alineación del texto y la especificación del ancho de los campos."
   ]
  },
  {
   "cell_type": "code",
   "execution_count": 35,
   "metadata": {},
   "outputs": [
    {
     "name": "stdout",
     "output_type": "stream",
     "text": [
      "John 25 Name: John       | Age:  25\n"
     ]
    }
   ],
   "source": [
    "name = \"John\"\n",
    "age = 25\n",
    "formatted_string = \"Name: {0:10} | Age: {1:3}\".format(name, age)\n",
    "# 'formatted_string' will be \"Name: John       | Age: 25\".\n",
    "\n",
    "print(name, age, formatted_string)"
   ]
  },
  {
   "cell_type": "markdown",
   "metadata": {},
   "source": [
    "## Usando operaciones aritméticas\n",
    "\n",
    "Las operaciones aritméticas pueden convertir implícitamente tipos de datos. Por ejemplo, la división (/) entre dos números enteros da como resultado un valor flotante.\n",
    "\n",
    "El uso de operaciones aritméticas en Python puede convertir implícitamente tipos de datos y proporcionar varios resultados.\n",
    "\n",
    "Las operaciones aritméticas en Python brindan oportunidades para la conversión de tipos implícita, lo que puede resultar útil para trabajar con tipos de datos mixtos y para obtener los resultados deseados de los cálculos.\n",
    "\n",
    "A continuación se muestran ejemplos del uso de operaciones aritméticas para la conversión de tipos:"
   ]
  },
  {
   "cell_type": "markdown",
   "metadata": {},
   "source": [
    "### División entera //\n",
    "\n",
    "Cuando realiza una división de enteros entre dos números enteros, Python devuelve un resultado entero. Implícitamente convierte el resultado a un número entero descartando la parte decimal."
   ]
  },
  {
   "cell_type": "code",
   "execution_count": 36,
   "metadata": {},
   "outputs": [
    {
     "name": "stdout",
     "output_type": "stream",
     "text": [
      "10 3 3\n"
     ]
    }
   ],
   "source": [
    "x = 10\n",
    "y = 3\n",
    "result = x // y\n",
    "# 'result' will be 3 (an integer).\n",
    "\n",
    "print(x, y, result)"
   ]
  },
  {
   "cell_type": "markdown",
   "metadata": {},
   "source": [
    "### División real /\n",
    "\n",
    "Si desea garantizar un resultado de punto flotante a partir de la división, puede utilizar el operador /. Esto convierte explícitamente el resultado en un real."
   ]
  },
  {
   "cell_type": "code",
   "execution_count": 37,
   "metadata": {},
   "outputs": [
    {
     "name": "stdout",
     "output_type": "stream",
     "text": [
      "10 3 3.3333333333333335\n"
     ]
    }
   ],
   "source": [
    "x = 10\n",
    "y = 3\n",
    "result = x / y\n",
    "# 'result' will be 3.3333333333333335 (a float).\n",
    "\n",
    "print(x, y, result)"
   ]
  },
  {
   "cell_type": "markdown",
   "metadata": {},
   "source": [
    "### Tipos de datos mixtos en operaciones aritméticas\n",
    "\n",
    "Python convierte implícitamente tipos de datos durante operaciones aritméticas. Por ejemplo, cuando agrega un número entero y un flotante, el entero se convierte en un flotante para realizar la operación."
   ]
  },
  {
   "cell_type": "code",
   "execution_count": 38,
   "metadata": {},
   "outputs": [
    {
     "name": "stdout",
     "output_type": "stream",
     "text": [
      "5 2.5 7.5\n"
     ]
    }
   ],
   "source": [
    "x = 5  # integer\n",
    "y = 2.5  # float\n",
    "result = x + y\n",
    "# 'result' will be 7.5 (a float).\n",
    "\n",
    "print(x, y, result)"
   ]
  },
  {
   "cell_type": "markdown",
   "metadata": {},
   "source": [
    "### Conversión implícita en expresiones\n",
    "\n",
    "La conversión de tipos implícita ocurre cuando se combinan diferentes tipos de datos en expresiones. Por ejemplo, al sumar un número entero y un booleano."
   ]
  },
  {
   "cell_type": "code",
   "execution_count": 39,
   "metadata": {},
   "outputs": [
    {
     "name": "stdout",
     "output_type": "stream",
     "text": [
      "10 True 11\n"
     ]
    }
   ],
   "source": [
    "x = 10\n",
    "is_true = True\n",
    "result = x + is_true\n",
    "# 'is_true' (boolean) is implicitly converted to 1, and the result is 11 (an integer).\n",
    "\n",
    "print(x, is_true, result)"
   ]
  },
  {
   "cell_type": "markdown",
   "metadata": {},
   "source": [
    "### Conversión implícita en expresiones booleanas\n",
    "\n",
    "Las expresiones booleanas suelen implicar una conversión implícita. Por ejemplo, al comparar un número entero y un flotante."
   ]
  },
  {
   "cell_type": "code",
   "execution_count": 40,
   "metadata": {},
   "outputs": [
    {
     "name": "stdout",
     "output_type": "stream",
     "text": [
      "5 5.0 True\n"
     ]
    }
   ],
   "source": [
    "x = 5\n",
    "y = 5.0\n",
    "result = x == y\n",
    "# The integer 'x' is implicitly converted to a float before the comparison.\n",
    "# 'result' will be True (a boolean).\n",
    "\n",
    "print(x, y, result)"
   ]
  },
  {
   "cell_type": "markdown",
   "metadata": {},
   "source": [
    "### Tipos de datos mixtos en otras operaciones\n",
    "\n",
    "La conversión implícita también ocurre en otras operaciones, como la resta, la multiplicación y el módulo."
   ]
  },
  {
   "cell_type": "code",
   "execution_count": 41,
   "metadata": {},
   "outputs": [
    {
     "name": "stdout",
     "output_type": "stream",
     "text": [
      "7 2.0 5.0 14.0 1\n"
     ]
    }
   ],
   "source": [
    "x = 7  # integer\n",
    "y = 2.0  # float\n",
    "result1 = x - y  # Implicit conversion to float, result1 will be 5.0.\n",
    "result2 = x * y  # Implicit conversion to float, result2 will be 14.0.\n",
    "result3 = x % 3  # Implicit conversion to integer, result3 will be 1.\n",
    "\n",
    "print(x, y, result1, result2, result3)"
   ]
  },
  {
   "cell_type": "markdown",
   "metadata": {},
   "source": [
    "### Uso de operaciones aritméticas para conversión explícita\n",
    "\n",
    "Puede utilizar operaciones aritméticas para convertir explícitamente tipos de datos. Por ejemplo, agregar un número entero y un flotante y luego convertir el resultado a un número entero."
   ]
  },
  {
   "cell_type": "code",
   "execution_count": 42,
   "metadata": {},
   "outputs": [
    {
     "name": "stdout",
     "output_type": "stream",
     "text": [
      "5 2.5 7\n"
     ]
    }
   ],
   "source": [
    "x = 5\n",
    "y = 2.5\n",
    "result = int(x + y)\n",
    "# 'x' and 'y' are added, and the result is 7.5 (a float),\n",
    "# which is then explicitly converted to an integer.\n",
    "# 'result' will be 7 (an integer).\n",
    "\n",
    "print(x, y, result)"
   ]
  },
  {
   "cell_type": "markdown",
   "metadata": {},
   "source": [
    "---\n",
    "\n",
    "Es importante ser consciente de la posible pérdida de información o resultados inesperados al realizar conversiones de tipos, especialmente entre diferentes tipos numéricos. Asegúrese de que la conversión tenga sentido en el contexto de su programa y maneje las excepciones si es necesario."
   ]
  }
 ],
 "metadata": {
  "kernelspec": {
   "display_name": ".venv",
   "language": "python",
   "name": "python3"
  },
  "language_info": {
   "codemirror_mode": {
    "name": "ipython",
    "version": 3
   },
   "file_extension": ".py",
   "mimetype": "text/x-python",
   "name": "python",
   "nbconvert_exporter": "python",
   "pygments_lexer": "ipython3",
   "version": "3.12.0"
  }
 },
 "nbformat": 4,
 "nbformat_minor": 2
}
