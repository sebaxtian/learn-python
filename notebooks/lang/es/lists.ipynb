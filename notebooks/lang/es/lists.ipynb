{
 "cells": [
  {
   "cell_type": "markdown",
   "metadata": {},
   "source": [
    "# Listas\n",
    "\n",
    "En Python, una lista es una estructura de datos integrada que puede contener una colección de elementos. Las listas son versátiles y ampliamente utilizadas para almacenar y manipular datos.\n",
    "\n",
    "Aquí hay algunos puntos clave sobre las listas en Python:\n",
    "\n",
    "* [Creando listas](#creando-listas)\n",
    "* [Elementos de listas](#elementos-de-listas)\n",
    "* [Acceso a elementos](#accediendo-a-elementos)\n",
    "* [Slicing Lists](#slicing-lists)\n",
    "* [Modificando listas](#modificar-listas)\n",
    "* [List Built-in Functions](#list-built-in-functions)\n",
    "* [Métodos de listas](#métodos-de-lista)\n",
    "* [List Comprehensions](#list-comprehensions)\n",
    "* [Anidamiento de listas](#anidamiento-de-listas)\n",
    "* [Operaciones de listas](#operaciones-de-listas)"
   ]
  },
  {
   "cell_type": "markdown",
   "metadata": {},
   "source": [
    "## Creando listas\n",
    "\n",
    "Puede crear una lista encerrando una secuencia de elementos separados por comas entre corchetes []"
   ]
  },
  {
   "cell_type": "code",
   "execution_count": 1,
   "metadata": {},
   "outputs": [
    {
     "name": "stdout",
     "output_type": "stream",
     "text": [
      "[1, 2, 3, 4, 5]\n",
      "[]\n"
     ]
    }
   ],
   "source": [
    "# Creating Lists\n",
    "# You can create a list by enclosing a comma-separated sequence of items in square brackets []\n",
    "my_list = [1, 2, 3, 4, 5]\n",
    "empty_list = []\n",
    "\n",
    "print(my_list)\n",
    "print(empty_list)"
   ]
  },
  {
   "cell_type": "markdown",
   "metadata": {},
   "source": [
    "## Elementos de listas\n",
    "\n",
    "Las listas pueden contener elementos de diferentes tipos de datos, incluidos números, cadenas e incluso otras listas."
   ]
  },
  {
   "cell_type": "code",
   "execution_count": 2,
   "metadata": {},
   "outputs": [
    {
     "name": "stdout",
     "output_type": "stream",
     "text": [
      "['1', 3, True, -1, 'Hola Mundo', False, 3.14, [-2, True, 2.25, 'Hello', 'P']]\n"
     ]
    }
   ],
   "source": [
    "# List Elements\n",
    "# Lists can contain elements of different data types, including numbers, strings, and even other lists.\n",
    "my_list = [-2, True, 2.25, \"Hello\", 'P']\n",
    "second_list = ['1', 3, True, -1, \"Hola Mundo\", False, 3.14, my_list]\n",
    "\n",
    "print(second_list)"
   ]
  },
  {
   "cell_type": "markdown",
   "metadata": {},
   "source": [
    "## Accediendo a elementos\n",
    "\n",
    "Puede acceder a los elementos de una lista por su índice. Python usa indexación basada en 0, por lo que el primer elemento está en el índice 0."
   ]
  },
  {
   "cell_type": "code",
   "execution_count": 3,
   "metadata": {},
   "outputs": [
    {
     "name": "stdout",
     "output_type": "stream",
     "text": [
      "-2\n",
      "True\n",
      "Hello\n"
     ]
    }
   ],
   "source": [
    "# Accesing Elements\n",
    "# You can access elements of a list by their index. Python uses 0-based indexing, so the first element is at index 0.\n",
    "first_element = my_list[0]  # Retrieves the first element (1)\n",
    "second_element = my_list[1]\n",
    "nth_element = my_list[-2]\n",
    "\n",
    "print(first_element)\n",
    "print(second_element)\n",
    "print(nth_element)"
   ]
  },
  {
   "cell_type": "markdown",
   "metadata": {},
   "source": [
    "## Slicing Lists\n",
    "\n",
    "Puede extraer un subconjunto de elementos de una lista mediante corte. El corte se realiza con el operador dos puntos : ."
   ]
  },
  {
   "cell_type": "code",
   "execution_count": 4,
   "metadata": {},
   "outputs": [
    {
     "name": "stdout",
     "output_type": "stream",
     "text": [
      "[10, 20, 30, 40, 50]\n",
      "[20, 30, 40]\n"
     ]
    }
   ],
   "source": [
    "# Slicing Lists\n",
    "# You can extract a subset of elements from a list using slicing. Slicing is done with the colon : operator.\n",
    "my_list = [10, 20, 30, 40, 50]\n",
    "\n",
    "# Slicing to get a subset of elements\n",
    "subset = my_list[1:4]\n",
    "\n",
    "print(my_list)\n",
    "print(subset)"
   ]
  },
  {
   "cell_type": "markdown",
   "metadata": {},
   "source": [
    "En el ejemplo anterior, **my_list** contiene cinco elementos. Usamos el corte para extraer un **subconjunto** de elementos del índice 1 (inclusive) al índice 4 (exclusivo). Entonces, el subconjunto contendrá elementos en los índices 1, 2 y 3, que son **20**, **30** y **40**.\n",
    "\n",
    "La sintaxis para el corte es **my_list[start:stop]**, donde **start** es el índice del primer elemento que desea incluir en el corte y **stop** es el índice del primer elemento. desea excluir del segmento."
   ]
  },
  {
   "cell_type": "code",
   "execution_count": 5,
   "metadata": {},
   "outputs": [
    {
     "name": "stdout",
     "output_type": "stream",
     "text": [
      "[10, 20, 30, 40, 50, 60, 70, 80, 90]\n",
      "[20, 40, 60]\n"
     ]
    }
   ],
   "source": [
    "# Slicing Lists\n",
    "# You can also use slicing with steps to extract elements from a list at regular intervals.\n",
    "my_list = [10, 20, 30, 40, 50, 60, 70, 80, 90]\n",
    "\n",
    "# Slicing with a step of 2\n",
    "subset = my_list[1:7:2]\n",
    "\n",
    "print(my_list)\n",
    "print(subset)"
   ]
  },
  {
   "cell_type": "markdown",
   "metadata": {},
   "source": [
    "El ejemplo anterior, **my_list** contiene nueve elementos. Usamos el corte con un paso de 2 para extraer elementos del índice 1 al índice 7 con un paso de 2. Entonces, **subconjunto** contendrá elementos en los índices 1, 3 y 5, que son **20**, **40** y **60**.\n",
    "\n",
    "La sintaxis para dividir con pasos es **my_list[start:stop:step]**, donde **start** es el índice del primer elemento que desea incluir en el segmento, **stop** es el índice de el primer elemento que desea excluir del sector y **step** es el intervalo entre los elementos que se incluirán en el sector."
   ]
  },
  {
   "cell_type": "markdown",
   "metadata": {},
   "source": [
    "## Modificar listas\n",
    "\n",
    "Las listas son mutables, lo que significa que puedes cambiar su contenido. Puede actualizar elementos asignándoles nuevos valores, agregar elementos usando el método **append()** o eliminar elementos usando los métodos **remove()** o **pop()**."
   ]
  },
  {
   "cell_type": "code",
   "execution_count": 6,
   "metadata": {},
   "outputs": [
    {
     "name": "stdout",
     "output_type": "stream",
     "text": [
      "[10, 20, 30, 40, 50, 60, 70, 80, 90]\n",
      "[10, 20, 42, 40, 60, 70, 80, 90, 6]\n"
     ]
    }
   ],
   "source": [
    "# Modifying Lists\n",
    "print(my_list)\n",
    "my_list[2] = 42  # Updates the third element\n",
    "my_list.append(6)  # Appends 6 to the end of the list\n",
    "my_list.remove(50)  # Removes the element with the value 4\n",
    "\n",
    "print(my_list)"
   ]
  },
  {
   "cell_type": "markdown",
   "metadata": {},
   "source": [
    "## List Built-in Functions\n",
    "\n",
    "Python proporciona varias funciones integradas para trabajar con listas, como **len()**, **sort()**, **reverse()** y **sum()**. Estas funciones facilitan la manipulación y el análisis de listas."
   ]
  },
  {
   "cell_type": "markdown",
   "metadata": {},
   "source": [
    "### all(iterable)\n",
    "\n",
    "Devuelve Verdadero si todos los elementos de un iterable son verdaderos (o si el iterable está vacío)"
   ]
  },
  {
   "cell_type": "code",
   "execution_count": 7,
   "metadata": {},
   "outputs": [
    {
     "name": "stdout",
     "output_type": "stream",
     "text": [
      "[True, True, True, False]\n",
      "False\n"
     ]
    }
   ],
   "source": [
    "# all(iterable): Return True if all elements of an iterable are true (or if the iterable is empty)\n",
    "iterable = [True, True, True, False]\n",
    "result = all(iterable)\n",
    "\n",
    "print(iterable)\n",
    "print(result)  # Output: False"
   ]
  },
  {
   "cell_type": "markdown",
   "metadata": {},
   "source": [
    "### any(iterable)\n",
    "\n",
    "Devuelve Verdadero si algún elemento de un iterable es verdadero. Si el iterable está vacío, devuelve False"
   ]
  },
  {
   "cell_type": "code",
   "execution_count": 8,
   "metadata": {},
   "outputs": [
    {
     "name": "stdout",
     "output_type": "stream",
     "text": [
      "[False, False, True, False]\n",
      "True\n"
     ]
    }
   ],
   "source": [
    "# any(iterable): Return True if any element of an iterable is true. If the iterable is empty, return False\n",
    "iterable = [False, False, True, False]\n",
    "result = any(iterable)\n",
    "\n",
    "print(iterable)\n",
    "print(result)  # Output: True"
   ]
  },
  {
   "cell_type": "markdown",
   "metadata": {},
   "source": [
    "### enumerate(iterable)\n",
    "\n",
    "Devuelve un objeto enumerado que produce pares de índice y valor a partir de un iterable"
   ]
  },
  {
   "cell_type": "code",
   "execution_count": 9,
   "metadata": {},
   "outputs": [
    {
     "name": "stdout",
     "output_type": "stream",
     "text": [
      "1 apple\n",
      "2 banana\n",
      "3 cherry\n",
      "['apple', 'banana', 'cherry']\n",
      "<enumerate object at 0x7f3be1160270>\n"
     ]
    }
   ],
   "source": [
    "# enumerate(iterable, start=0): Return an enumerate object that produces pairs of index and value from an iterable\n",
    "my_list = ['apple', 'banana', 'cherry']\n",
    "my_enum = enumerate(my_list, start=1)\n",
    "for index, value in my_enum:\n",
    "    print(index, value)\n",
    "\n",
    "print(my_list)\n",
    "# Output:\n",
    "# 1 apple\n",
    "# 2 banana\n",
    "# 3 cherry\n",
    "print(my_enum)"
   ]
  },
  {
   "cell_type": "markdown",
   "metadata": {},
   "source": [
    "### max(iterable)\n",
    "\n",
    "Devuelve el elemento más grande en un iterable o el mayor de dos o más argumentos"
   ]
  },
  {
   "cell_type": "code",
   "execution_count": 10,
   "metadata": {},
   "outputs": [
    {
     "name": "stdout",
     "output_type": "stream",
     "text": [
      "[10, 25, 5, 30, 15]\n",
      "30\n"
     ]
    }
   ],
   "source": [
    "# max(iterable): Return the largest item in an iterable or the largest of two or more arguments\n",
    "my_list = [10, 25, 5, 30, 15]\n",
    "maximum = max(my_list)\n",
    "\n",
    "print(my_list)\n",
    "print(maximum)  # Output: 30"
   ]
  },
  {
   "cell_type": "markdown",
   "metadata": {},
   "source": [
    "### min(iterable)\n",
    "\n",
    "Devuelve el elemento más pequeño en un iterable o el más pequeño de dos o más argumentos"
   ]
  },
  {
   "cell_type": "code",
   "execution_count": 11,
   "metadata": {},
   "outputs": [
    {
     "name": "stdout",
     "output_type": "stream",
     "text": [
      "[10, 25, 5, 30, 15]\n",
      "5\n"
     ]
    }
   ],
   "source": [
    "# min(iterable): Return the smallest item in an iterable or the smallest of two or more arguments\n",
    "my_list = [10, 25, 5, 30, 15]\n",
    "minimum = min(my_list)\n",
    "\n",
    "print(my_list)\n",
    "print(minimum)  # Output: 5"
   ]
  },
  {
   "cell_type": "markdown",
   "metadata": {},
   "source": [
    "### sorted(iterable)\n",
    "\n",
    "Devuelve una nueva lista ordenada de los elementos de un iterable"
   ]
  },
  {
   "cell_type": "code",
   "execution_count": 12,
   "metadata": {},
   "outputs": [
    {
     "name": "stdout",
     "output_type": "stream",
     "text": [
      "[5, 1, 3, 2, 4]\n",
      "[1, 2, 3, 4, 5]\n"
     ]
    }
   ],
   "source": [
    "# sorted(iterable): Return a new sorted list from the elements of an iterable\n",
    "my_list = [5, 1, 3, 2, 4]\n",
    "sorted_list = sorted(my_list)\n",
    "\n",
    "print(my_list)\n",
    "print(sorted_list)  # Output: [1, 2, 3, 4, 5]"
   ]
  },
  {
   "cell_type": "markdown",
   "metadata": {},
   "source": [
    "### sum(iterable)\n",
    "\n",
    "Devuelve la suma de todos los elementos en un iterable."
   ]
  },
  {
   "cell_type": "code",
   "execution_count": 13,
   "metadata": {},
   "outputs": [
    {
     "name": "stdout",
     "output_type": "stream",
     "text": [
      "[1, 2, 3, 4, 5]\n",
      "15\n"
     ]
    }
   ],
   "source": [
    "# sum(iterable): Return the sum of all elements in an iterable\n",
    "my_list = [1, 2, 3, 4, 5]\n",
    "total = sum(my_list)\n",
    "\n",
    "print(my_list)\n",
    "print(total)  # Output: 15"
   ]
  },
  {
   "cell_type": "markdown",
   "metadata": {},
   "source": [
    "### len(iterable)\n",
    "\n",
    "Obtener la longitud de un iterable"
   ]
  },
  {
   "cell_type": "code",
   "execution_count": 14,
   "metadata": {},
   "outputs": [
    {
     "name": "stdout",
     "output_type": "stream",
     "text": [
      "[1, 2, 3, 4, 5]\n",
      "5\n"
     ]
    }
   ],
   "source": [
    "# len(iterable): Get the lenght of an iterable\n",
    "my_list = [1, 2, 3, 4, 5]\n",
    "length = len(my_list)\n",
    "\n",
    "print(my_list)\n",
    "print(length)  # Output: 5"
   ]
  },
  {
   "cell_type": "markdown",
   "metadata": {},
   "source": [
    "## Métodos de lista\n",
    "\n",
    "Las listas tienen varios métodos integrados para realizar operaciones como ordenar, ampliar y buscar. Puede utilizar métodos como **sort()**, **extend()**, **index()** y más para manipular listas."
   ]
  },
  {
   "cell_type": "markdown",
   "metadata": {},
   "source": [
    "### append(x)\n",
    "\n",
    "Agregar un elemento al final de la lista"
   ]
  },
  {
   "cell_type": "code",
   "execution_count": 15,
   "metadata": {},
   "outputs": [
    {
     "name": "stdout",
     "output_type": "stream",
     "text": [
      "[1, 2, 3]\n",
      "[1, 2, 3, 4]\n"
     ]
    }
   ],
   "source": [
    "# append(x): Add an element to the end of the list\n",
    "my_list = [1, 2, 3]\n",
    "print(my_list)\n",
    "my_list.append(4)\n",
    "\n",
    "print(my_list)  # Output: [1, 2, 3, 4]"
   ]
  },
  {
   "cell_type": "markdown",
   "metadata": {},
   "source": [
    "### extend(iterable)\n",
    "\n",
    "Amplíe la lista agregando elementos de un iterable"
   ]
  },
  {
   "cell_type": "code",
   "execution_count": 16,
   "metadata": {},
   "outputs": [
    {
     "name": "stdout",
     "output_type": "stream",
     "text": [
      "[1, 2, 3]\n",
      "[4, 5]\n",
      "[1, 2, 3, 4, 5]\n"
     ]
    }
   ],
   "source": [
    "# extend(iterable): Extend the list by appending elements from an iterable\n",
    "my_list = [1, 2, 3]\n",
    "print(my_list)\n",
    "other_list = [4, 5]\n",
    "print(other_list)\n",
    "my_list.extend(other_list)\n",
    "\n",
    "print(my_list)  # Output: [1, 2, 3, 4, 5]"
   ]
  },
  {
   "cell_type": "markdown",
   "metadata": {},
   "source": [
    "### insert(i, x)\n",
    "\n",
    "Insertar un elemento en un índice específico"
   ]
  },
  {
   "cell_type": "code",
   "execution_count": 17,
   "metadata": {},
   "outputs": [
    {
     "name": "stdout",
     "output_type": "stream",
     "text": [
      "[1, 2, 4]\n",
      "[1, 2, 3, 4]\n"
     ]
    }
   ],
   "source": [
    "# insert(i, x): Insert an element at a specific index\n",
    "my_list = [1, 2, 4]\n",
    "print(my_list)\n",
    "my_list.insert(2, 3)  # Insert 3 at index 2\n",
    "\n",
    "print(my_list)  # Output: [1, 2, 3, 4]"
   ]
  },
  {
   "cell_type": "markdown",
   "metadata": {},
   "source": [
    "### remove(x)\n",
    "\n",
    "Eliminar la primera aparición de un valor de la lista"
   ]
  },
  {
   "cell_type": "code",
   "execution_count": 18,
   "metadata": {},
   "outputs": [
    {
     "name": "stdout",
     "output_type": "stream",
     "text": [
      "[1, 2, 3, 4, 3]\n",
      "[1, 2, 4, 3]\n"
     ]
    }
   ],
   "source": [
    "# remove(x): Remove the first occurrence of a value from the list\n",
    "my_list = [1, 2, 3, 4, 3]\n",
    "print(my_list)\n",
    "my_list.remove(3)  # Removes the first occurrence of 3\n",
    "\n",
    "print(my_list)  # Output: [1, 2, 4, 3]"
   ]
  },
  {
   "cell_type": "markdown",
   "metadata": {},
   "source": [
    "### pop(i)\n",
    "\n",
    "Eliminar y devolver un elemento en un índice específico (o el último si no se proporciona el índice)"
   ]
  },
  {
   "cell_type": "code",
   "execution_count": 19,
   "metadata": {},
   "outputs": [
    {
     "name": "stdout",
     "output_type": "stream",
     "text": [
      "[1, 2, 3, 4]\n",
      "3\n",
      "[1, 2, 4]\n"
     ]
    }
   ],
   "source": [
    "# pop(i): Remove and return an element at a specific index (or the last if index is not provided)\n",
    "my_list = [1, 2, 3, 4]\n",
    "print(my_list)\n",
    "popped_element = my_list.pop(2)  # Removes and returns the element at index 2\n",
    "\n",
    "print(popped_element)  # Output: 3\n",
    "print(my_list)  # Output: [1, 2, 4]"
   ]
  },
  {
   "cell_type": "markdown",
   "metadata": {},
   "source": [
    "### clear()\n",
    "\n",
    "Eliminar todos los elementos de la lista."
   ]
  },
  {
   "cell_type": "code",
   "execution_count": 20,
   "metadata": {},
   "outputs": [
    {
     "name": "stdout",
     "output_type": "stream",
     "text": [
      "[1, 2, 3]\n",
      "[]\n"
     ]
    }
   ],
   "source": [
    "# clear(): Remove all elements from the list\n",
    "my_list = [1, 2, 3]\n",
    "print(my_list)\n",
    "my_list.clear()\n",
    "\n",
    "print(my_list)  # Output: []"
   ]
  },
  {
   "cell_type": "markdown",
   "metadata": {},
   "source": [
    "### index(x)\n",
    "\n",
    "Devuelve el índice de la primera aparición de un valor."
   ]
  },
  {
   "cell_type": "code",
   "execution_count": 21,
   "metadata": {},
   "outputs": [
    {
     "name": "stdout",
     "output_type": "stream",
     "text": [
      "[10, 20, 30, 20]\n",
      "1\n"
     ]
    }
   ],
   "source": [
    "# index(x): Return the index of the first occurrence of a value\n",
    "my_list = [10, 20, 30, 20]\n",
    "index = my_list.index(20)  # Finds the index of the first occurrence of 20\n",
    "\n",
    "print(my_list)\n",
    "print(index)  # Output: 1"
   ]
  },
  {
   "cell_type": "markdown",
   "metadata": {},
   "source": [
    "### count(x)\n",
    "\n",
    "Cuenta el número de apariciones de un valor en la lista"
   ]
  },
  {
   "cell_type": "code",
   "execution_count": 22,
   "metadata": {},
   "outputs": [
    {
     "name": "stdout",
     "output_type": "stream",
     "text": [
      "[10, 20, 30, 20, 20]\n",
      "3\n"
     ]
    }
   ],
   "source": [
    "# count(x): Count the number of occurrences of a value in the list\n",
    "my_list = [10, 20, 30, 20, 20]\n",
    "count = my_list.count(20)  # Counts the number of occurrences of 20\n",
    "\n",
    "print(my_list)\n",
    "print(count)  # Output: 3"
   ]
  },
  {
   "cell_type": "markdown",
   "metadata": {},
   "source": [
    "### reverse()\n",
    "\n",
    "Invertir el orden de los elementos en la lista."
   ]
  },
  {
   "cell_type": "code",
   "execution_count": 23,
   "metadata": {},
   "outputs": [
    {
     "name": "stdout",
     "output_type": "stream",
     "text": [
      "[1, 2, 3, 4, 5]\n",
      "[5, 4, 3, 2, 1]\n"
     ]
    }
   ],
   "source": [
    "# reverse(): Reverse the order of elements in the list\n",
    "my_list = [1, 2, 3, 4, 5]\n",
    "print(my_list)\n",
    "my_list.reverse()\n",
    "\n",
    "print(my_list)  # Output: [5, 4, 3, 2, 1]"
   ]
  },
  {
   "cell_type": "markdown",
   "metadata": {},
   "source": [
    "### sort()\n",
    "\n",
    "Ordenar los elementos de una lista en su lugar"
   ]
  },
  {
   "cell_type": "code",
   "execution_count": 24,
   "metadata": {},
   "outputs": [
    {
     "name": "stdout",
     "output_type": "stream",
     "text": [
      "[5, 1, 3, 2, 4]\n",
      "[1, 2, 3, 4, 5]\n"
     ]
    }
   ],
   "source": [
    "# sort(): Sort the elements of a list in place\n",
    "my_list = [5, 1, 3, 2, 4]\n",
    "print(my_list)\n",
    "my_list.sort()  # Sorts the list in ascending order\n",
    "\n",
    "print(my_list)  # Output: [1, 2, 3, 4, 5]"
   ]
  },
  {
   "cell_type": "code",
   "execution_count": 25,
   "metadata": {},
   "outputs": [
    {
     "name": "stdout",
     "output_type": "stream",
     "text": [
      "[5, 1, 3, 2, 4]\n",
      "[5, 4, 3, 2, 1]\n"
     ]
    }
   ],
   "source": [
    "# You can also sort the list in descending order using the reverse parameter\n",
    "my_list = [5, 1, 3, 2, 4]\n",
    "print(my_list)\n",
    "my_list.sort(reverse=True)  # Sorts the list in descending order\n",
    "\n",
    "print(my_list)  # Output: [5, 4, 3, 2, 1]"
   ]
  },
  {
   "cell_type": "markdown",
   "metadata": {},
   "source": [
    "### copy()\n",
    "\n",
    "Crear una copia superficial de una lista"
   ]
  },
  {
   "cell_type": "code",
   "execution_count": 26,
   "metadata": {},
   "outputs": [
    {
     "name": "stdout",
     "output_type": "stream",
     "text": [
      "[1, 2, 3, [0, 99]]\n",
      "[1, 2, 3, [99, 99]]\n"
     ]
    }
   ],
   "source": [
    "# copy(): Create a shallow copy of a list\n",
    "original_list = [1, 2, 3, [0, 99]]\n",
    "copied_list = original_list.copy()\n",
    "\n",
    "print(copied_list)  # Output: [1, 2, 3, [0, 99]]\n",
    "copied_list[-1][0] = 99\n",
    "print(original_list)  # Output: [1, 2, 3, [99, 99]]"
   ]
  },
  {
   "cell_type": "markdown",
   "metadata": {},
   "source": [
    "Una copia superficial crea una nueva lista con los mismos elementos, pero no crea nuevas copias de los elementos en sí. Si los elementos son objetos, los cambios en los objetos dentro de la lista copiada afectarán la lista original y viceversa. Para crear una copia profunda que duplique tanto la lista como sus elementos, puedes usar el módulo de copia:"
   ]
  },
  {
   "cell_type": "code",
   "execution_count": 27,
   "metadata": {},
   "outputs": [
    {
     "name": "stdout",
     "output_type": "stream",
     "text": [
      "[1, 2, [3, 4]]\n",
      "[1, 2, [3, 4]]\n",
      "[1, 2, [99, 4]]\n"
     ]
    }
   ],
   "source": [
    "# \n",
    "import copy\n",
    "\n",
    "original_list = [1, 2, [3, 4]]\n",
    "deep_copied_list = copy.deepcopy(original_list)\n",
    "\n",
    "print(deep_copied_list)\n",
    "deep_copied_list[-1][0] = 99\n",
    "print(original_list)\n",
    "print(deep_copied_list)"
   ]
  },
  {
   "cell_type": "markdown",
   "metadata": {},
   "source": [
    "## List Comprehensions\n",
    "\n",
    "Las listas por comprensión son una forma concisa de crear nuevas listas aplicando una expresión a cada elemento de una lista existente."
   ]
  },
  {
   "cell_type": "code",
   "execution_count": 28,
   "metadata": {},
   "outputs": [
    {
     "name": "stdout",
     "output_type": "stream",
     "text": [
      "[1, 2, 3, 4, 5]\n",
      "[1, 4, 9, 16, 25]\n"
     ]
    }
   ],
   "source": [
    "# List Comprehensions: Creating a new list of squares\n",
    "numbers = [1, 2, 3, 4, 5]\n",
    "squares = [x**2 for x in numbers]\n",
    "\n",
    "print(numbers)\n",
    "print(squares)  # Output: [1, 4, 9, 16, 25]"
   ]
  },
  {
   "cell_type": "code",
   "execution_count": 29,
   "metadata": {},
   "outputs": [
    {
     "name": "stdout",
     "output_type": "stream",
     "text": [
      "[1, 2, 3, 4, 5, 6, 7, 8, 9, 10]\n",
      "[2, 4, 6, 8, 10]\n"
     ]
    }
   ],
   "source": [
    "# List Comprehensions: Filtering even numbers\n",
    "numbers = [1, 2, 3, 4, 5, 6, 7, 8, 9, 10]\n",
    "evens = [x for x in numbers if x % 2 == 0]\n",
    "\n",
    "print(numbers)\n",
    "print(evens)  # Output: [2, 4, 6, 8, 10]"
   ]
  },
  {
   "cell_type": "code",
   "execution_count": 30,
   "metadata": {},
   "outputs": [
    {
     "name": "stdout",
     "output_type": "stream",
     "text": [
      "['apple', 'banana', 'cherry']\n",
      "['APPLE', 'BANANA', 'CHERRY']\n"
     ]
    }
   ],
   "source": [
    "# List Comprehensions: Converting a list of strings to uppercase\n",
    "words = ['apple', 'banana', 'cherry']\n",
    "uppercase_words = [word.upper() for word in words]\n",
    "\n",
    "print(words)\n",
    "print(uppercase_words)  # Output: ['APPLE', 'BANANA', 'CHERRY']"
   ]
  },
  {
   "cell_type": "code",
   "execution_count": 31,
   "metadata": {},
   "outputs": [
    {
     "name": "stdout",
     "output_type": "stream",
     "text": [
      "[1, 2, 3, 4, 5]\n",
      "[(1, 1), (2, 4), (3, 9), (4, 16), (5, 25)]\n"
     ]
    }
   ],
   "source": [
    "# List Comprehensions: Creating a list of tuples with elements and their squares\n",
    "numbers = [1, 2, 3, 4, 5]\n",
    "pairs = [(x, x**2) for x in numbers]\n",
    "\n",
    "print(numbers)\n",
    "print(pairs)  # Output: [(1, 1), (2, 4), (3, 9), (4, 16), (5, 25)]"
   ]
  },
  {
   "cell_type": "code",
   "execution_count": 32,
   "metadata": {},
   "outputs": [
    {
     "name": "stdout",
     "output_type": "stream",
     "text": [
      "['apple', 'banana', 'cherry']\n",
      "['a', 'b', 'c']\n"
     ]
    }
   ],
   "source": [
    "# List Comprehensions: Extracting the first character from a list of words\n",
    "words = ['apple', 'banana', 'cherry']\n",
    "first_chars = [word[0] for word in words]\n",
    "\n",
    "print(words)\n",
    "print(first_chars)  # Output: ['a', 'b', 'c']"
   ]
  },
  {
   "cell_type": "markdown",
   "metadata": {},
   "source": [
    "Las listas por comprensión son una forma poderosa y concisa de crear nuevas listas y transformar datos. A menudo se utilizan en Python para tareas que implican transformar, filtrar o asignar datos de una lista a otra."
   ]
  },
  {
   "cell_type": "markdown",
   "metadata": {},
   "source": [
    "## Anidamiento de listas\n",
    "\n",
    "Las listas pueden contener otras listas, lo que le permite crear estructuras de datos más complejas. A menudo se las denomina listas anidadas."
   ]
  },
  {
   "cell_type": "code",
   "execution_count": 33,
   "metadata": {},
   "outputs": [
    {
     "name": "stdout",
     "output_type": "stream",
     "text": [
      "[[1, 2, 3], [4, 5, 6]]\n"
     ]
    }
   ],
   "source": [
    "# Nesting Lists: Lists can contain other lists, allowing you to create more complex data structures. These are often referred to as nested lists\n",
    "nested_list = [[1, 2, 3], [4, 5, 6]]\n",
    "\n",
    "print(nested_list)"
   ]
  },
  {
   "cell_type": "code",
   "execution_count": 34,
   "metadata": {},
   "outputs": [
    {
     "name": "stdout",
     "output_type": "stream",
     "text": [
      "[[1, 2, 3], [4, 5, 6], [7, 8, 9]]\n"
     ]
    }
   ],
   "source": [
    "# Nesting Lists: Creating a simple 2D matrix using nested lists\n",
    "matrix = [[1, 2, 3], [4, 5, 6], [7, 8, 9]]\n",
    "\n",
    "print(matrix)\n",
    "# Output:\n",
    "# [[1, 2, 3],\n",
    "#  [4, 5, 6],\n",
    "#  [7, 8, 9]]"
   ]
  },
  {
   "cell_type": "code",
   "execution_count": 35,
   "metadata": {},
   "outputs": [
    {
     "name": "stdout",
     "output_type": "stream",
     "text": [
      "[[1, 2, 3], [4, 5, 6], [7, 8, 9]]\n",
      "6\n"
     ]
    }
   ],
   "source": [
    "# Nesting Lists: Accessing elements in a nested list\n",
    "matrix = [[1, 2, 3], [4, 5, 6], [7, 8, 9]]\n",
    "element = matrix[1][2]  # Accesses the element at row 1, column 2 (6)\n",
    "\n",
    "print(matrix)\n",
    "print(element)"
   ]
  },
  {
   "cell_type": "code",
   "execution_count": 36,
   "metadata": {},
   "outputs": [
    {
     "name": "stdout",
     "output_type": "stream",
     "text": [
      "[[1, 2, 3], [4, 5, 6], [7, 8, 9]]\n",
      "[1, 2, 3, 4, 5, 6, 7, 8, 9]\n"
     ]
    }
   ],
   "source": [
    "# Nesting Lists: Using list comprehensions with nested lists\n",
    "nested_list = [[1, 2, 3], [4, 5, 6], [7, 8, 9]]\n",
    "flattened_list = [x for row in nested_list for x in row]\n",
    "\n",
    "print(nested_list)\n",
    "print(flattened_list)  # Output: [1, 2, 3, 4, 5, 6, 7, 8, 9]"
   ]
  },
  {
   "cell_type": "code",
   "execution_count": 37,
   "metadata": {},
   "outputs": [
    {
     "name": "stdout",
     "output_type": "stream",
     "text": [
      "[[1, 2, 3], [4, 5, 42], [7, 8, 9]]\n"
     ]
    }
   ],
   "source": [
    "# Nesting Lists: Modifying elements in a nested list\n",
    "matrix = [[1, 2, 3], [4, 5, 6], [7, 8, 9]]\n",
    "matrix[1][2] = 42  # Modifies the element at row 1, column 2\n",
    "\n",
    "print(matrix)\n",
    "# Output:\n",
    "# [[1, 2, 3],\n",
    "#  [4, 5, 42],\n",
    "#  [7, 8, 9]]"
   ]
  },
  {
   "cell_type": "code",
   "execution_count": 38,
   "metadata": {},
   "outputs": [
    {
     "name": "stdout",
     "output_type": "stream",
     "text": [
      "[7, 8, 9]\n",
      "[[1, 2, 3], [4, 5, 6], [7, 8, 9]]\n"
     ]
    }
   ],
   "source": [
    "# Nesting Lists: Appending a new row to a nested list\n",
    "matrix = [[1, 2, 3], [4, 5, 6]]\n",
    "new_row = [7, 8, 9]\n",
    "print(new_row)\n",
    "matrix.append(new_row)\n",
    "\n",
    "print(matrix)\n",
    "# Output:\n",
    "# [[1, 2, 3],\n",
    "#  [4, 5, 6],\n",
    "#  [7, 8, 9]]"
   ]
  },
  {
   "cell_type": "markdown",
   "metadata": {},
   "source": [
    "Las listas anidadas le permiten representar estructuras de datos multidimensionales, como matrices o tablas, y trabajar con datos complejos de forma estructurada."
   ]
  },
  {
   "cell_type": "markdown",
   "metadata": {},
   "source": [
    "## Operaciones de listas\n",
    "\n",
    "Puede realizar varias operaciones en listas, como concatenación y repetición."
   ]
  },
  {
   "cell_type": "code",
   "execution_count": 39,
   "metadata": {},
   "outputs": [
    {
     "name": "stdout",
     "output_type": "stream",
     "text": [
      "[1, 2, 3]\n",
      "[4, 5, 6]\n",
      "[1, 2, 3, 4, 5, 6]\n"
     ]
    }
   ],
   "source": [
    "# List Operations: Concatenation\n",
    "list1 = [1, 2, 3]\n",
    "list2 = [4, 5, 6]\n",
    "print(list1)\n",
    "print(list2)\n",
    "combined_list = list1 + list2\n",
    "\n",
    "print(combined_list)  # Output: [1, 2, 3, 4, 5, 6]"
   ]
  },
  {
   "cell_type": "code",
   "execution_count": 40,
   "metadata": {},
   "outputs": [
    {
     "name": "stdout",
     "output_type": "stream",
     "text": [
      "[1, 2]\n",
      "[1, 2, 1, 2, 1, 2]\n"
     ]
    }
   ],
   "source": [
    "# List Operations: Repetition\n",
    "my_list = [1, 2]\n",
    "print(my_list)\n",
    "repeated_list = my_list * 3\n",
    "\n",
    "print(repeated_list)  # Output: [1, 2, 1, 2, 1, 2]"
   ]
  },
  {
   "cell_type": "code",
   "execution_count": 41,
   "metadata": {},
   "outputs": [
    {
     "name": "stdout",
     "output_type": "stream",
     "text": [
      "[1, 2, 3, 4, 5]\n",
      "True\n"
     ]
    }
   ],
   "source": [
    "# List Operations: Membership\n",
    "my_list = [1, 2, 3, 4, 5]\n",
    "print(my_list)\n",
    "is_present = 3 in my_list\n",
    "\n",
    "print(is_present)  # Output: True"
   ]
  }
 ],
 "metadata": {
  "kernelspec": {
   "display_name": ".venv",
   "language": "python",
   "name": "python3"
  },
  "language_info": {
   "codemirror_mode": {
    "name": "ipython",
    "version": 3
   },
   "file_extension": ".py",
   "mimetype": "text/x-python",
   "name": "python",
   "nbconvert_exporter": "python",
   "pygments_lexer": "ipython3",
   "version": "3.12.0"
  }
 },
 "nbformat": 4,
 "nbformat_minor": 2
}
