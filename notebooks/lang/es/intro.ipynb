{
 "cells": [
  {
   "attachments": {},
   "cell_type": "markdown",
   "metadata": {},
   "source": [
    "# Aprenda a programar en Python"
   ]
  },
  {
   "attachments": {},
   "cell_type": "markdown",
   "metadata": {},
   "source": [
    "## ¿Qué es Python?\n",
    "\n",
    "Python es un lenguaje de programación versátil, interpretado y de alto nivel creado por Guido van Rossum y lanzado en 1991.\n",
    "\n",
    "Python es conocido por su simplicidad, legibilidad y amplio ecosistema de bibliotecas y marcos para diversas aplicaciones, como desarrollo web, informática científica, aprendizaje automático y más.\n",
    "\n",
    "Con su gran y activa comunidad de desarrolladores, Python se ha convertido en uno de los lenguajes de programación más utilizados en todo el mundo, lo que lo convierte en una opción popular tanto para principiantes como para desarrolladores experimentados.\n",
    "\n",
    "Según Guido van Rossum, Python es:\n",
    "\n",
    "> \"Lenguaje de programación de alto nivel, y su filosofía de diseño central tiene que ver con la legibilidad del código y una sintaxis que permite a los programadores expresar conceptos en unas pocas líneas de código\".\n",
    "\n",
    "Guido van Rossum [Página personal](https://gvanrossum.github.io/ \"Página personal\")"
   ]
  },
  {
   "attachments": {},
   "cell_type": "markdown",
   "metadata": {},
   "source": [
    "## Beneficios de aprender Python\n",
    "\n",
    "* **Versatilidad**: Python es un lenguaje versátil que se puede utilizar para una amplia gama de aplicaciones, incluido el desarrollo web, la informática científica, el análisis de datos, el aprendizaje automático, la inteligencia artificial, la automatización y más. Su versatilidad la convierte en una habilidad valiosa en diferentes industrias y dominios.\n",
    "\n",
    "* **Simplicidad y legibilidad**: La sintaxis de Python está diseñada para ser simple y legible, lo que facilita la comprensión y la escritura de código. El uso que hace Python de la sangría para la estructura de bloques y su sintaxis clara y expresiva lo convierten en un lenguaje ideal tanto para principiantes como para programadores experimentados.\n",
    "\n",
    "* **Gran ecosistema de bibliotecas y frameworks**: Python tiene un gran ecosistema de bibliotecas y frameworks que amplían sus capacidades y permiten a los desarrolladores crear fácilmente aplicaciones complejas. Bibliotecas como NumPy, Pandas, TensorFlow, PyTorch, Django, Flask y muchas otras proporcionan funcionalidades prediseñadas, lo que ahorra tiempo y esfuerzo en el desarrollo.\n",
    "\n",
    "* **Fuerte apoyo comunitario**: Python tiene una comunidad grande y activa de desarrolladores que contribuyen a su desarrollo, brindan soporte a través de foros y comunidades en línea y crean documentación y tutoriales extensos. Este sólido apoyo comunitario facilita el aprendizaje de Python y proporciona una gran cantidad de recursos para resolver problemas y ampliar habilidades.\n",
    "\n",
    "* **Oportunidades profesionales**: Python se usa ampliamente en diversas industrias y dominios, lo que crea abundantes oportunidades profesionales para los desarrolladores de Python. Con su popularidad en áreas como la ciencia de datos, el aprendizaje automático, el desarrollo web y la automatización, aprender Python puede abrir puertas a perspectivas laborales lucrativas.\n",
    "\n",
    "* **Creación y desarrollo rápidos de prototipos**: La simplicidad y la disponibilidad de bibliotecas y frameworks de Python lo convierten en un lenguaje excelente para la creación y el desarrollo rápidos de prototipos. Python permite a los desarrolladores crear y probar ideas rápidamente, iterar proyectos y ofrecer soluciones de manera oportuna.\n",
    "\n",
    "* **Compatibilidad multiplataforma**: Python es un lenguaje multiplataforma, lo que significa que el código Python se puede ejecutar en diferentes sistemas operativos, incluidos Windows, macOS, Linux y otros, sin modificaciones importantes. Esto convierte a Python en una opción flexible para desarrollar aplicaciones que deben ejecutarse en diferentes plataformas.\n",
    "\n",
    "En resumen, aprender Python ofrece numerosos beneficios, incluida su versatilidad, simplicidad, extenso ecosistema de bibliotecas y marcos, fuerte apoyo comunitario, oportunidades profesionales, capacidades de creación rápida de prototipos y compatibilidad entre plataformas, lo que lo convierte en un lenguaje valioso para adquirir en el mundo de hoy dirigido por la tecnología.\n"
   ]
  },
  {
   "attachments": {},
   "cell_type": "markdown",
   "metadata": {},
   "source": [
    "## Desventajas de aprender Python\n",
    "\n",
    "* **Performance**: La naturaleza interpretada de Python puede resultar en un rendimiento reducido para ciertas tareas computacionales intensivas en comparación con lenguajes compilados como C o Java.\n",
    "\n",
    "* **Global Interpreter Lock (GIL)**: Global Interpreter Lock (GIL) de Python limita el potencial de un verdadero paralelismo en aplicaciones multiproceso, lo que afecta el rendimiento de las tareas vinculadas a la CPU.\n",
    "\n",
    "* **Sistemas móviles e integrados**: Es posible que Python no sea la mejor opción para entornos con recursos limitados, como sistemas móviles o integrados, debido a su naturaleza interpretada y su mayor consumo de memoria.\n",
    "\n",
    "* **Gestión de dependencias**: Administrar dependencias y garantizar la compatibilidad entre diferentes bibliotecas y marcos en el extenso ecosistema de Python puede ser un desafío, especialmente en proyectos a gran escala.\n",
    "\n",
    "* **Curva de aprendizaje más pronunciada para conceptos avanzados**: El dominio de conceptos de programación avanzados o programación de sistemas de bajo nivel en Python puede requerir esfuerzo y experiencia adicionales en comparación con lenguajes de bajo nivel como C o C++.\n",
    "\n",
    "Es importante tener en cuenta que estas desventajas son relativas y pueden no ser significativas para todos los casos de uso. Python sigue siendo un lenguaje popular y versátil con una gran comunidad de desarrolladores y sus ventajas a menudo superan las desventajas para muchas aplicaciones.\n"
   ]
  },
  {
   "attachments": {},
   "cell_type": "markdown",
   "metadata": {},
   "source": [
    "## ¿Qué es la PEP?\n",
    "\n",
    "PEP significa \"Propuesta de mejora de Python\". Es un documento que describe un cambio o adición propuesta al lenguaje de programación Python. Los PEP sirven como una forma formalizada para que la comunidad Python discuta, evalúe y documente mejoras en el lenguaje, su biblioteca estándar o herramientas y procesos relacionados.\n",
    "\n",
    "Los PEP siguen un formato específico y son escritos y enviados por miembros de la comunidad de Python, incluidos desarrolladores, usuarios y entusiastas de Python. Cubren una amplia gama de temas, como nuevas características del lenguaje, mejoras a las características existentes, cambios en la sintaxis o semántica de Python, actualizaciones de la biblioteca estándar de Python y pautas para convenciones de codificación, documentación y procesos comunitarios.\n",
    "\n",
    "Los PEP son revisados y discutidos por la comunidad Python a través de listas de correo, foros y otros canales y, en última instancia, son aceptados, rechazados o aplazados según el consenso de la comunidad. Una vez que se acepta un PEP, se puede implementar en una versión futura de Python, y la propuesta y su implementación pasan a formar parte del repositorio de propuestas de mejora de Python, que sirve como referencia para el lenguaje Python y su desarrollo. Los PEP son un mecanismo importante para mantener el proceso de desarrollo abierto y colaborativo de Python, lo que permite a la comunidad contribuir a la evolución del lenguaje.\n",
    "\n",
    "[PEP 0 – Index of Python Enhancement Proposals](https://peps.python.org/ \"PEP 0 – Index of Python Enhancement Proposals\")\n"
   ]
  },
  {
   "attachments": {},
   "cell_type": "markdown",
   "metadata": {},
   "source": [
    "## ¿Qué es el Zen de Python?\n",
    "\n",
    "PEP 20, también conocido como \"El Zen de Python\", es un conjunto de principios rectores o aforismos que capturan la filosofía y los principios de diseño del lenguaje de programación Python. Fue escrito por Tim Peters y sirve como un resumen conciso e informal de los valores fundamentales que guían el desarrollo y el uso de Python. El Zen de Python a menudo se conoce como un conjunto de principios rectores que reflejan el espíritu y la filosofía generales del lenguaje Python.\n",
    "\n",
    "El Zen de Python se incluye como un huevo de Pascua en el intérprete de Python y se puede acceder a él escribiendo import this en un script de Python o en una sesión interactiva. Consta de 20 aforismos que enfatizan la simplicidad, la legibilidad y la practicidad, y alientan a los programadores de Python a escribir código limpio, elegante y eficiente.\n",
    "\n",
    "El Zen de Python sirve como filosofía guía para los desarrolladores de Python, animándolos a seguir las mejores prácticas y escribir código que no solo sea funcional, sino también fácil de entender, mantener y colaborar. Refleja el compromiso de la comunidad con la simplicidad, la legibilidad y la practicidad, y ha ayudado a dar forma al diseño y desarrollo del lenguaje Python y su ecosistema.\n",
    "\n",
    "[PEP 20 – The Zen of Python](https://peps.python.org/pep-0020/ \"PEP 20 – The Zen of Python\")\n",
    "\n",
    "El Zen de Python, de Tim Peters:\n",
    "\n",
    "Lo bello es mejor que lo feo.<br>\n",
    "Lo explícito es mejor que lo implícito.<br>\n",
    "Lo simple es mejor que lo complejo.<br>\n",
    "Complejo es mejor que complicado.<br>\n",
    "Plano es mejor que anidado.<br>\n",
    "Escaso es mejor que denso.<br>\n",
    "La legibilidad cuenta.<br>\n",
    "Los casos especiales no son lo suficientemente especiales como para romper las reglas.<br>\n",
    "Aunque la practicidad vence a la pureza.<br>\n",
    "Los errores nunca deben pasar en silencio.<br>\n",
    "A menos que se silencie explícitamente.<br>\n",
    "Ante la ambigüedad, rechace la tentación de adivinar.<br>\n",
    "Debería haber una (y preferiblemente sólo una) forma obvia de hacerlo.<br>\n",
    "Aunque puede que al principio no resulte obvio a menos que seas holandés.<br>\n",
    "Ahora es mejor que nunca.<br>\n",
    "Aunque nunca es mejor que *ahora mismo* ahora.<br>\n",
    "Si la implementación es difícil de explicar, es una mala idea.<br>\n",
    "Si la implementación es fácil de explicar, puede ser una buena idea.<br>\n",
    "Los espacios de nombres son una gran idea: ¡hagamos más de eso!<br>"
   ]
  },
  {
   "cell_type": "code",
   "execution_count": 1,
   "metadata": {},
   "outputs": [
    {
     "name": "stdout",
     "output_type": "stream",
     "text": [
      "The Zen of Python, by Tim Peters\n",
      "\n",
      "Beautiful is better than ugly.\n",
      "Explicit is better than implicit.\n",
      "Simple is better than complex.\n",
      "Complex is better than complicated.\n",
      "Flat is better than nested.\n",
      "Sparse is better than dense.\n",
      "Readability counts.\n",
      "Special cases aren't special enough to break the rules.\n",
      "Although practicality beats purity.\n",
      "Errors should never pass silently.\n",
      "Unless explicitly silenced.\n",
      "In the face of ambiguity, refuse the temptation to guess.\n",
      "There should be one-- and preferably only one --obvious way to do it.\n",
      "Although that way may not be obvious at first unless you're Dutch.\n",
      "Now is better than never.\n",
      "Although never is often better than *right* now.\n",
      "If the implementation is hard to explain, it's a bad idea.\n",
      "If the implementation is easy to explain, it may be a good idea.\n",
      "Namespaces are one honking great idea -- let's do more of those!\n"
     ]
    }
   ],
   "source": [
    "# The Zen of Python, by Tim Peters\n",
    "import this"
   ]
  },
  {
   "attachments": {},
   "cell_type": "markdown",
   "metadata": {},
   "source": [
    "## ¿Qué son las convenciones Docstring?\n",
    "\n",
    "PEP 257, titulado \"Convenciones de cadenas de documentos\", es una propuesta de mejora de Python que proporciona pautas para escribir cadenas de documentos en código Python. Las cadenas de documentación son cadenas de documentación que se utilizan para documentar módulos, clases, funciones y métodos de Python, y son una parte esencial del sistema de documentación integrado de Python.\n",
    "\n",
    "PEP 257 describe las convenciones recomendadas para escribir cadenas de documentos de manera consistente y estandarizada. Cubre temas como el formato, el contenido y el estilo de las cadenas de documentos, con el objetivo de mejorar la legibilidad, el mantenimiento y la generación de documentación del código.\n",
    "\n",
    "Algunas recomendaciones clave del PEP 257 incluyen:\n",
    "\n",
    "* Utilice comillas triples para cadenas de documentos, lo que permite cadenas de documentos de varias líneas.\n",
    "* Inicie la cadena de documentación con un resumen de una línea que describa brevemente el propósito o la funcionalidad del objeto que se está documentando.\n",
    "* Utilice oraciones completas y lenguaje claro para describir el uso, los parámetros, los valores de retorno y las excepciones de funciones y métodos.\n",
    "* Utilice el lenguaje de marcado reStructuredText para cadenas de documentos más complejas que deben procesarse mediante herramientas de generación de documentación.\n",
    "* Incluya ejemplos, si corresponde, para ilustrar cómo utilizar el objeto que se está documentando.\n",
    "\n",
    "PEP 257 sirve como guía para que los desarrolladores de Python escriban cadenas de documentación de alta calidad que otros puedan entender fácilmente y utilizar como referencia para usar y comprender el código Python. Seguir estas convenciones ayuda a mejorar la documentación del código, lo que a su vez contribuye a la mantenibilidad y legibilidad del código Python.\n",
    "\n",
    "[PEP 257 – Docstring Conventions](https://peps.python.org/pep-0257/ \"PEP 257 – Docstring Conventions\")\n"
   ]
  },
  {
   "attachments": {},
   "cell_type": "markdown",
   "metadata": {},
   "source": [
    "### One-line Docstrings\n"
   ]
  },
  {
   "cell_type": "code",
   "execution_count": 2,
   "metadata": {},
   "outputs": [],
   "source": [
    "def greet(name):\n",
    "    \"\"\"Return a greeting message for the given name.\"\"\"\n"
   ]
  },
  {
   "attachments": {},
   "cell_type": "markdown",
   "metadata": {},
   "source": [
    "En este ejemplo, la cadena de documentación de una línea proporciona un breve resumen del propósito de la función, que es devolver un mensaje de saludo para un nombre determinado. Esta cadena de documentación concisa comunica la funcionalidad básica de la función en una sola línea, lo que la hace fácil de entender de un vistazo. Sin embargo, es importante tener en cuenta que es posible que las cadenas de documentación de una línea no siempre sean suficientes para funciones más complejas o para funciones con múltiples parámetros, valores de retorno o excepciones. En tales casos, se recomienda proporcionar cadenas de documentación más detalladas que sigan las convenciones descritas en PEP 257 para una mejor documentación y comprensión del código."
   ]
  },
  {
   "attachments": {},
   "cell_type": "markdown",
   "metadata": {},
   "source": [
    "### Multi-line Docstrings\n"
   ]
  },
  {
   "cell_type": "code",
   "execution_count": 3,
   "metadata": {},
   "outputs": [],
   "source": [
    "def calculate_area(length, width):\n",
    "    \"\"\"\n",
    "    Calculate the area of a rectangle.\n",
    "\n",
    "    This function takes the length and width of a rectangle as input,\n",
    "    calculates the area using the formula `area = length * width`, and\n",
    "    returns the calculated area. The parameters 'length' and 'width'\n",
    "    should be numeric values, and the function returns a numeric value\n",
    "    as well.\n",
    "\n",
    "    :param length: Length of the rectangle.\n",
    "    :type length: int or float\n",
    "    :param width: Width of the rectangle.\n",
    "    :type width: int or float\n",
    "    :return: The area of the rectangle.\n",
    "    :rtype: int or float\n",
    "    :raises TypeError: If 'length' or 'width' are not numeric values.\n",
    "    \"\"\"\n",
    "    if not isinstance(length, (int, float)) or not isinstance(width, (int, float)):\n",
    "        raise TypeError(\"Both 'length' and 'width' must be numeric values.\")\n",
    "\n",
    "    area = length * width\n",
    "    return area\n"
   ]
  },
  {
   "attachments": {},
   "cell_type": "markdown",
   "metadata": {},
   "source": [
    "En este ejemplo, la cadena de documentación de varias líneas proporciona una descripción detallada de la función, incluidos los parámetros de entrada, el valor de retorno y cualquier excepción que pueda generarse. Utiliza el lenguaje de marcado reStructuredText para formatear la cadena de documentación, incluido el uso de las directivas :param, :type, :return y :raises para proporcionar información adicional sobre los parámetros de la función, el valor de retorno y las posibles excepciones. La cadena de documentación está entre comillas triples, lo que permite incluir varias líneas de documentación, haciéndola más completa e informativa."
   ]
  },
  {
   "attachments": {},
   "cell_type": "markdown",
   "metadata": {},
   "source": [
    "### ¿Qué pasa con el uso de # para una cadena de documentación de una línea?\n"
   ]
  },
  {
   "cell_type": "code",
   "execution_count": 4,
   "metadata": {},
   "outputs": [],
   "source": [
    "def greet(name):\n",
    "    # Return a greeting message for the given name\n",
    "    pass\n"
   ]
  },
  {
   "attachments": {},
   "cell_type": "markdown",
   "metadata": {},
   "source": [
    "En este ejemplo, la cadena de documentación de una línea está precedida por un carácter \"#\" y proporciona un breve resumen del propósito de la función, que es devolver un mensaje de saludo para un nombre determinado.\n",
    "\n",
    "Sin embargo, vale la pena señalar que el uso de \"#\" para cadenas de documentación de una línea no se considera el estilo estándar en Python. PEP 8, la guía de estilo de Python, recomienda utilizar comillas triples para las cadenas de documentos, incluso para las de una sola línea, para garantizar la coherencia y la legibilidad. Las cadenas de documentos con comillas triples también permiten cadenas de documentos de varias líneas, lo que puede resultar útil para proporcionar documentación más detallada. Entonces, si bien puedes usar \"#\" para cadenas de documentos de una línea, generalmente se recomienda usar comillas triples para seguir las convenciones estándar de cadenas de documentos de Python.\n"
   ]
  },
  {
   "attachments": {},
   "cell_type": "markdown",
   "metadata": {},
   "source": [
    "#### En su lugar, utilice los comentarios en línea con moderación.\n",
    "\n",
    "Un comentario en línea es un comentario en la misma línea que una declaración. Los comentarios en línea deben estar separados por al menos dos espacios de la declaración. Deben comenzar con un # y un solo espacio.\n",
    "\n",
    "Los comentarios en línea son innecesarios y, de hecho, distraen si dicen lo obvio.\n",
    "\n",
    "No hagas esto:\n",
    "```python\n",
    "x = x + 1       # Increment x\n",
    "```\n",
    "\n",
    "Pero a veces esto es útil.:\n",
    "```python\n",
    "x = x + 1       # Compensate for border\n",
    "```\n"
   ]
  },
  {
   "attachments": {},
   "cell_type": "markdown",
   "metadata": {},
   "source": [
    "## ¿Qué es la Guía de estilo para el código Python?\n",
    "PEP 8 es una guía de estilo para el código Python, oficialmente titulada \"Guía de estilo para el código Python\". PEP significa \"Propuesta de mejora de Python\" y es un conjunto de documentos que brindan pautas y recomendaciones para mejorar varios aspectos del lenguaje de programación Python, incluido su diseño, sintaxis y convenciones de codificación. PEP 8 se centra específicamente en el estilo y el formato del código Python para promover la coherencia y la legibilidad, lo que facilita a los desarrolladores la comprensión, el mantenimiento y la colaboración en proyectos Python.\n",
    "\n",
    "PEP 8 cubre una amplia gama de temas relacionados con el estilo de codificación, incluidas convenciones de nomenclatura para variables, funciones y clases; sangría y espacios en blanco; Longitud de la línea; comentarios y cadenas de documentación; importaciones; y más. Proporciona recomendaciones sobre cómo estructurar y formatear el código Python de manera consistente y legible para hacerlo más Pythonic y en línea con las mejores prácticas de la comunidad.\n",
    "\n",
    "Seguir las pautas de PEP 8 se considera una buena práctica en la comunidad Python, ya que ayuda a escribir código que sea más legible, mantenible y consistente. Adherirse a PEP 8 también puede mejorar la calidad del código, reducir la probabilidad de introducir errores y hacer que el código Python sea más accesible para otros desarrolladores que puedan necesitar trabajar o revisar el código.\n",
    "\n",
    "[PEP 8 – Style Guide for Python Code](https://peps.python.org/pep-0008/ \"PEP 8 – Style Guide for Python Code\")\n"
   ]
  },
  {
   "cell_type": "markdown",
   "metadata": {},
   "source": [
    "## Función de ayuda de Python ()\n",
    "En Python, la función **help()** es una utilidad incorporada que proporciona ayuda interactiva y documentación sobre varios objetos, módulos, funciones, clases y otras entidades de Python. Es una herramienta útil para obtener información sobre cómo utilizar diferentes elementos del lenguaje Python y su biblioteca estándar.\n",
    "\n",
    "Puede utilizar la función **help()** de dos maneras:\n",
    "\n",
    "1. **Usando la consola interactiva**: En una sesión interactiva de Python, simplemente puede escribir **help()** y presionar Enter. Esto iniciará el modo de ayuda interactiva, donde puede ingresar el nombre del objeto, módulo o función sobre el que desea obtener información.\n",
    "\n",
    "![Interactive Console](../../../imgs/help.png \"Interactive Console\")\n"
   ]
  },
  {
   "cell_type": "code",
   "execution_count": 5,
   "metadata": {},
   "outputs": [
    {
     "name": "stdout",
     "output_type": "stream",
     "text": [
      "Help on _Helper in module _sitebuiltins object:\n",
      "\n",
      "class _Helper(builtins.object)\n",
      " |  Define the builtin 'help'.\n",
      " |\n",
      " |  This is a wrapper around pydoc.help that provides a helpful message\n",
      " |  when 'help' is typed at the Python interactive prompt.\n",
      " |\n",
      " |  Calling help() at the Python prompt starts an interactive help session.\n",
      " |  Calling help(thing) prints help for the python object 'thing'.\n",
      " |\n",
      " |  Methods defined here:\n",
      " |\n",
      " |  __call__(self, *args, **kwds)\n",
      " |      Call self as a function.\n",
      " |\n",
      " |  __repr__(self)\n",
      " |      Return repr(self).\n",
      " |\n",
      " |  ----------------------------------------------------------------------\n",
      " |  Data descriptors defined here:\n",
      " |\n",
      " |  __dict__\n",
      " |      dictionary for instance variables (if defined)\n",
      " |\n",
      " |  __weakref__\n",
      " |      list of weak references to the object (if defined)\n",
      "\n"
     ]
    }
   ],
   "source": [
    "# In the terminal type:\n",
    "help(help)\n",
    "# Provide information about the 'help' function"
   ]
  },
  {
   "cell_type": "markdown",
   "metadata": {},
   "source": [
    "Para salir del modo de ayuda **Consola interactiva**, puede escribir quit o presionar Ctrl+D"
   ]
  },
  {
   "cell_type": "markdown",
   "metadata": {},
   "source": [
    "2. **Usando la función directamente**: También puede pasar un objeto, función o módulo directamente como argumento a la función **help()**."
   ]
  },
  {
   "cell_type": "code",
   "execution_count": 6,
   "metadata": {},
   "outputs": [
    {
     "name": "stdout",
     "output_type": "stream",
     "text": [
      "Help on built-in function print in module builtins:\n",
      "\n",
      "print(*args, sep=' ', end='\\n', file=None, flush=False)\n",
      "    Prints the values to a stream, or to sys.stdout by default.\n",
      "\n",
      "    sep\n",
      "      string inserted between values, default a space.\n",
      "    end\n",
      "      string appended after the last value, default a newline.\n",
      "    file\n",
      "      a file-like object (stream); defaults to the current sys.stdout.\n",
      "    flush\n",
      "      whether to forcibly flush the stream.\n",
      "\n"
     ]
    }
   ],
   "source": [
    "# Provides information about the 'print' function\n",
    "help(print)"
   ]
  },
  {
   "cell_type": "markdown",
   "metadata": {},
   "source": [
    "La función **help()** muestra la **documentación y cadenas de documentación** asociadas con el objeto proporcionado, brindándole información sobre su uso, parámetros, métodos, atributos y más. Es una herramienta valiosa para aprender y explorar las funciones y bibliotecas de Python."
   ]
  },
  {
   "cell_type": "markdown",
   "metadata": {},
   "source": [
    "## Python print() Function\n",
    "La función **print()** en Python es una función incorporada que se utiliza para enviar (mostrar) texto u otros datos a la salida estándar (generalmente la consola o terminal). Le permite mostrar información al usuario, depurar su código o proporcionar comentarios durante la ejecución del programa.\n",
    "\n",
    "La sintaxis básica de la función **print()** es la siguiente:\n",
    "\n",
    "```python\n",
    "print(*args, sep=' ', end='\\n', file=sys.stdout, flush=False)\n",
    "```\n",
    "\n",
    "Esto es lo que significan los diferentes parámetros:\n",
    "\n",
    "* **args**: Uno o más objetos a imprimir. Puede pasar varios objetos separados por comas y se mostrarán secuencialmente.\n",
    "\n",
    "* **sep**: Separador utilizado entre los objetos. El valor predeterminado es un carácter de espacio ' '.\n",
    "\n",
    "* **end**: La cadena que se imprime al final de la salida. El valor predeterminado es un carácter de nueva línea '\\n'.\n",
    "\n",
    "* **file**: El objeto similar a un archivo al que se debe dirigir la salida. De forma predeterminada, está configurado en sys.stdout, que representa la salida estándar.\n",
    "\n",
    "* **flush**: Si es Verdadero, el búfer de salida se vaciará después de la impresión. El valor predeterminado es falso."
   ]
  },
  {
   "cell_type": "code",
   "execution_count": 7,
   "metadata": {},
   "outputs": [
    {
     "name": "stdout",
     "output_type": "stream",
     "text": [
      "Hello, world!\n",
      "Hello, world!\n",
      "This is a line Continuing on the same line.\n"
     ]
    }
   ],
   "source": [
    "# Here are some examples of using the print() function\n",
    "print(\"Hello, world!\")  # Prints a simple string\n",
    "print(\"Hello\", \"world!\", sep=', ')  # Prints multiple objects (args) with a custom separator\n",
    "print(\"This is a line\", end=' ')   # Prints without a newline at the end\n",
    "print(\"Continuing on the same line.\")"
   ]
  },
  {
   "cell_type": "markdown",
   "metadata": {},
   "source": [
    "La función **print()** se usa comúnmente con fines de depuración, para proporcionar información al usuario o para formatear y mostrar datos de forma legible por humanos. Es una herramienta esencial para cualquier programador de Python."
   ]
  }
 ],
 "metadata": {
  "kernelspec": {
   "display_name": "Python 3",
   "language": "python",
   "name": "python3"
  },
  "language_info": {
   "codemirror_mode": {
    "name": "ipython",
    "version": 3
   },
   "file_extension": ".py",
   "mimetype": "text/x-python",
   "name": "python",
   "nbconvert_exporter": "python",
   "pygments_lexer": "ipython3",
   "version": "3.12.0"
  },
  "orig_nbformat": 4
 },
 "nbformat": 4,
 "nbformat_minor": 2
}
