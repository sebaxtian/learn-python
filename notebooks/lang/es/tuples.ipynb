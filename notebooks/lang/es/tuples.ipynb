{
 "cells": [
  {
   "cell_type": "markdown",
   "metadata": {},
   "source": [
    "# Tuplas\n",
    "\n",
    "En Python, una tupla es una colección de elementos ordenados e inmutables. Las tuplas son similares a las listas, pero a diferencia de las listas, no se pueden modificar una vez creadas. Las tuplas se definen mediante paréntesis () y los elementos dentro de una tupla están separados por comas.\n",
    "\n",
    "Aquí hay una descripción básica de las tuplas en Python:\n",
    "\n",
    "* [Creando una tupla](#creando-una-tupla)\n",
    "* [Acceso a elementos](#accediendo-a-elementos)\n",
    "* [Tuple Packing and Unpacking](#tuple-packing-and-unpacking)\n",
    "* [Naturaleza inmutable](#naturaleza-inmutable)\n",
    "* [Operaciones comunes](#operaciones-comunes-de-tuplas)\n",
    "* [Métodos](#métodos)\n",
    "* [Tuple Comprehension](#tuple-comprehension)"
   ]
  },
  {
   "cell_type": "markdown",
   "metadata": {},
   "source": [
    "## Creando una tupla\n",
    "\n",
    "Puede crear una tupla encerrando una lista de valores separados por comas entre paréntesis."
   ]
  },
  {
   "cell_type": "code",
   "execution_count": 1,
   "metadata": {},
   "outputs": [
    {
     "name": "stdout",
     "output_type": "stream",
     "text": [
      "(1, 2, 3, 4, 5)\n",
      "('apple', 3.14, True, 42)\n",
      "()\n",
      "(42,)\n",
      "(1, 2, 3)\n",
      "1 2 3\n",
      "('apple', 'banana', 'cherry')\n",
      "((1, 2), ('a', 'b'), (True, False))\n",
      "('a', 'b', 'c', 'd', 'e')\n",
      "(1, 2, 3, 4)\n"
     ]
    }
   ],
   "source": [
    "# Creating a tuple with integers\n",
    "my_tuple = (1, 2, 3, 4, 5)\n",
    "\n",
    "# Creating a tuple with mixed data types\n",
    "mixed_tuple = (\"apple\", 3.14, True, 42)\n",
    "\n",
    "# Creating an empty tuple\n",
    "empty_tuple = ()\n",
    "\n",
    "# Creating a tuple with a single element (note the comma)\n",
    "single_element_tuple = (42,)\n",
    "\n",
    "# Tuple packing and unpacking\n",
    "packed_tuple = 1, 2, 3  # Tuple packing\n",
    "a, b, c = packed_tuple  # Tuple unpacking\n",
    "\n",
    "# Creating a tuple of strings\n",
    "fruits = (\"apple\", \"banana\", \"cherry\")\n",
    "\n",
    "# Creating a nested tuple (a tuple inside a tuple)\n",
    "nested_tuple = ((1, 2), (\"a\", \"b\"), (True, False))\n",
    "\n",
    "# Using the tuple() built-in: tuple() or tuple(iterable)\n",
    "new_tuple = tuple(\"abcde\")\n",
    "list_tuple = tuple([1, 2, 3, 4])\n",
    "\n",
    "print(my_tuple)\n",
    "print(mixed_tuple)\n",
    "print(empty_tuple)\n",
    "print(single_element_tuple)\n",
    "print(packed_tuple)\n",
    "print(a, b, c)\n",
    "print(fruits)\n",
    "print(nested_tuple)\n",
    "print(new_tuple)\n",
    "print(list_tuple)"
   ]
  },
  {
   "cell_type": "markdown",
   "metadata": {},
   "source": [
    "## Accediendo a elementos\n",
    "\n",
    "Puede acceder a elementos de una tupla mediante la indexación, tal como lo hace con las listas. La indexación comienza en 0."
   ]
  },
  {
   "cell_type": "code",
   "execution_count": 2,
   "metadata": {},
   "outputs": [
    {
     "name": "stdout",
     "output_type": "stream",
     "text": [
      "(1, 2, 3, 4, 5)\n",
      "1\n",
      "2\n",
      "5\n",
      "(2, 3, 4)\n",
      "1\n",
      "2\n",
      "3\n",
      "4\n",
      "5\n",
      "3 is in the tuple\n",
      "3\n"
     ]
    }
   ],
   "source": [
    "# Accesing Elements\n",
    "my_tuple = (1, 2, 3, 4, 5)\n",
    "print(my_tuple)\n",
    "\n",
    "# Accessing elements by index\n",
    "first_element = my_tuple[0]  # Access the first element (1)\n",
    "second_element = my_tuple[1]  # Access the second element (2)\n",
    "last_element = my_tuple[-1]  # Access the last element (5)\n",
    "\n",
    "print(first_element)\n",
    "print(second_element)\n",
    "print(last_element)\n",
    "\n",
    "# Slicing to access a range of elements\n",
    "sliced_tuple = my_tuple[1:4]  # Access elements from index 1 to 3 (2, 3, 4)\n",
    "\n",
    "print(sliced_tuple)\n",
    "\n",
    "# Accessing elements using a loop\n",
    "for element in my_tuple:\n",
    "    print(element)\n",
    "\n",
    "# Checking if an element exists in the tuple\n",
    "if 3 in my_tuple:\n",
    "    print(\"3 is in the tuple\")\n",
    "\n",
    "# Finding the index of an element\n",
    "index_of_4 = my_tuple.index(4)  # Returns the index of 4, which is 3\n",
    "\n",
    "print(index_of_4)\n",
    "\n",
    "# Attempting to access an element at an invalid index\n",
    "# This will result in an \"IndexError\" if the index is out of range.\n",
    "# For example, my_tuple[10] would raise an error."
   ]
  },
  {
   "cell_type": "markdown",
   "metadata": {},
   "source": [
    "## Tuple Packing and Unpacking\n",
    "\n",
    "También puedes crear una tupla sin paréntesis simplemente separando los valores con comas. Esto se llama empaquetado de tuplas.\n",
    "También puedes asignar los valores de una tupla a variables individuales. Esto se llama desempaquetado de tuplas."
   ]
  },
  {
   "cell_type": "markdown",
   "metadata": {},
   "source": [
    "### Tuple Packing"
   ]
  },
  {
   "cell_type": "code",
   "execution_count": 3,
   "metadata": {},
   "outputs": [
    {
     "name": "stdout",
     "output_type": "stream",
     "text": [
      "(1, 2, 3)\n",
      "('apple', 3.14, True)\n"
     ]
    }
   ],
   "source": [
    "# Creating a tuple by packing values\n",
    "packed_tuple = 1, 2, 3  # Tuple packing\n",
    "print(packed_tuple)  # (1, 2, 3)\n",
    "\n",
    "# Creating a tuple with different data types\n",
    "mixed_tuple = \"apple\", 3.14, True  # Tuple packing with mixed data types\n",
    "print(mixed_tuple)  # ('apple', 3.14, True)"
   ]
  },
  {
   "cell_type": "markdown",
   "metadata": {},
   "source": [
    "### Tuple Unpacking"
   ]
  },
  {
   "cell_type": "code",
   "execution_count": 4,
   "metadata": {},
   "outputs": [
    {
     "name": "stdout",
     "output_type": "stream",
     "text": [
      "1\n",
      "2\n",
      "3\n",
      "apple\n",
      "3.14\n",
      "True\n",
      "x = 10\n",
      "y = 5\n"
     ]
    }
   ],
   "source": [
    "# Unpacking a tuple into individual variables\n",
    "a, b, c = packed_tuple  # Tuple unpacking\n",
    "print(a)  # 1\n",
    "print(b)  # 2\n",
    "print(c)  # 3\n",
    "\n",
    "# Unpacking a tuple with mixed data types\n",
    "fruit, pi, is_true = mixed_tuple  # Tuple unpacking with mixed data types\n",
    "print(fruit)    # 'apple'\n",
    "print(pi)       # 3.14\n",
    "print(is_true)  # True\n",
    "\n",
    "# Swapping the values of two variables using tuple packing and unpacking\n",
    "x = 5\n",
    "y = 10\n",
    "\n",
    "x, y = y, x  # Swap the values using tuple packing and unpacking\n",
    "print(\"x =\", x)  # x = 10\n",
    "print(\"y =\", y)  # y = 5"
   ]
  },
  {
   "cell_type": "markdown",
   "metadata": {},
   "source": [
    "## Naturaleza inmutable\n",
    "\n",
    "Las tuplas son **inmutables**, lo que significa que no puedes modificar su contenido después de su creación. Una vez creada una tupla, no se pueden agregar, eliminar ni cambiar sus elementos. Si necesita una colección que pueda modificarse, utilice una lista en su lugar."
   ]
  },
  {
   "cell_type": "code",
   "execution_count": 5,
   "metadata": {},
   "outputs": [
    {
     "name": "stdout",
     "output_type": "stream",
     "text": [
      "my_tuple[1] = 4  # Results in a TypeError\n",
      "(1, 2)\n",
      "(1, 2, 5)\n",
      "(1, 2, 3, 4)\n",
      "del my_tuple[1]  # Results in a TypeError\n"
     ]
    }
   ],
   "source": [
    "# Attempting to modify a tuple results in an error\n",
    "my_tuple = (1, 2, 3)\n",
    "# Trying to change the second element to 4 (this will raise an error)\n",
    "# my_tuple[1] = 4  # Results in a TypeError\n",
    "print(\"my_tuple[1] = 4  # Results in a TypeError\")\n",
    "\n",
    "# Appending and extending a tuple create new tuples\n",
    "tuple1 = (1, 2)\n",
    "tuple2 = (3, 4)\n",
    "# Appending a value to a tuple creates a new tuple\n",
    "new_tuple1 = tuple1 + (5,)\n",
    "# Extending a tuple also creates a new tuple\n",
    "new_tuple2 = tuple1 + tuple2\n",
    "\n",
    "print(tuple1)  # (1, 2)\n",
    "print(new_tuple1)  # (1, 2, 5)\n",
    "print(new_tuple2)  # (1, 2, 3, 4)\n",
    "\n",
    "# Deleting elements from a tuple is not allowed\n",
    "my_tuple = (1, 2, 3)\n",
    "# Attempting to delete an element (this will raise an error)\n",
    "# del my_tuple[1]  # Results in a TypeError\n",
    "print(\"del my_tuple[1]  # Results in a TypeError\")"
   ]
  },
  {
   "cell_type": "markdown",
   "metadata": {},
   "source": [
    "## Operaciones comunes de tuplas\n",
    "\n",
    "* **Concatenación**: Puedes concatenar dos o más tuplas para crear una nueva tupla.\n",
    "* **Repetición**: Puedes repetir una tupla un número específico de veces.\n",
    "* **Longitud**: Puedes encontrar la longitud de una tupla usando la función **len()**."
   ]
  },
  {
   "cell_type": "code",
   "execution_count": 6,
   "metadata": {},
   "outputs": [
    {
     "name": "stdout",
     "output_type": "stream",
     "text": [
      "(1, 2, 3, 4)\n",
      "(1, 2, 1, 2, 1, 2)\n",
      "5\n",
      "3\n",
      "3\n"
     ]
    }
   ],
   "source": [
    "# Concatenation\n",
    "tuple1 = (1, 2)\n",
    "tuple2 = (3, 4)\n",
    "concatenated_tuple = tuple1 + tuple2\n",
    "print(concatenated_tuple)  # (1, 2, 3, 4)\n",
    "\n",
    "# Repetition\n",
    "tuple1 = (1, 2)\n",
    "repeated_tuple = tuple1 * 3\n",
    "print(repeated_tuple)  # (1, 2, 1, 2, 1, 2)\n",
    "\n",
    "# Length\n",
    "my_tuple = (1, 2, 3, 4, 5)\n",
    "length = len(my_tuple)\n",
    "print(length)  # 5\n",
    "\n",
    "# Using the count() method\n",
    "my_tuple = (1, 2, 2, 3, 4, 2)\n",
    "count_2 = my_tuple.count(2)\n",
    "print(count_2)  # 3\n",
    "\n",
    "# Using the index() method\n",
    "my_tuple = (1, 2, 2, 3, 4, 2)\n",
    "index_3 = my_tuple.index(3)\n",
    "print(index_3)  # 3 (the index of the first occurrence of 3)"
   ]
  },
  {
   "cell_type": "markdown",
   "metadata": {},
   "source": [
    "## Métodos\n",
    "\n",
    "Las tuplas tienen algunos métodos integrados como **count()** y **index()**. **count()** devuelve el número de veces que aparece un valor específico en la tupla y **index()** devuelve el índice de la primera aparición de un valor específico."
   ]
  },
  {
   "cell_type": "code",
   "execution_count": 7,
   "metadata": {},
   "outputs": [
    {
     "name": "stdout",
     "output_type": "stream",
     "text": [
      "(1, 2, 2, 3, 4, 2)\n",
      "Count of 2: 3\n",
      "Index of 3: 3\n",
      "Sorted Tuple: (1, 2, 2, 2, 3, 4)\n",
      "Max Value: 4\n",
      "Min Value: 1\n"
     ]
    }
   ],
   "source": [
    "# Methods\n",
    "# Sample tuple\n",
    "my_tuple = (1, 2, 2, 3, 4, 2)\n",
    "print(my_tuple)\n",
    "\n",
    "# Using the count() method to count the occurrences of a value\n",
    "count_2 = my_tuple.count(2)\n",
    "print(\"Count of 2:\", count_2)  # Count of 2: 3\n",
    "\n",
    "# Using the index() method to find the index of the first occurrence of a value\n",
    "index_3 = my_tuple.index(3)\n",
    "print(\"Index of 3:\", index_3)  # Index of 3: 3\n",
    "\n",
    "# Sorting a tuple using sorted() and converting it back to a tuple\n",
    "sorted_tuple = tuple(sorted(my_tuple))\n",
    "print(\"Sorted Tuple:\", sorted_tuple)  # Sorted Tuple: (1, 2, 2, 2, 3, 4)\n",
    "\n",
    "# Finding the maximum and minimum values in a tuple\n",
    "max_value = max(my_tuple)\n",
    "min_value = min(my_tuple)\n",
    "print(\"Max Value:\", max_value)  # Max Value: 4\n",
    "print(\"Min Value:\", min_value)  # Min Value: 1"
   ]
  },
  {
   "cell_type": "markdown",
   "metadata": {},
   "source": [
    "## Tuple Comprehension"
   ]
  },
  {
   "cell_type": "code",
   "execution_count": 8,
   "metadata": {},
   "outputs": [
    {
     "name": "stdout",
     "output_type": "stream",
     "text": [
      "(1, 4, 9, 16, 25)\n",
      "(1, 8, 27, 64, 125)\n",
      "(1, 16, 81, 256, 625)\n"
     ]
    }
   ],
   "source": [
    "# Tuples Comprehension\n",
    "my_tuple = (1, 2, 3, 4, 5)\n",
    "\n",
    "a = *(x**2 for x in my_tuple), # comma, unpack notation\n",
    "b = tuple(x**3 for x in my_tuple) # from generator\n",
    "c = tuple([x**4 for x in my_tuple]) # from list comprehension\n",
    "\n",
    "\n",
    "print(a)\n",
    "print(b)\n",
    "print(c)\n"
   ]
  },
  {
   "cell_type": "markdown",
   "metadata": {},
   "source": [
    "---\n",
    "Las tuplas se utilizan a menudo cuando se desea garantizar que los datos permanezcan constantes y no se puedan cambiar accidentalmente. También consumen más memoria que las listas:\n",
    "\n",
    "1. **Naturaleza inmutable**: las tuplas son inmutables, lo que significa que una vez que creas una tupla, no puedes cambiar su contenido. Esta inmutabilidad permite a Python realizar ciertas optimizaciones que resultan en un menor consumo de memoria. Por el contrario, las listas son mutables, por lo que requieren memoria adicional para adaptarse a posibles cambios.\n",
    "2. **Tamaño fijo**: debido a que las tuplas tienen un tamaño fijo, Python puede asignar memoria para todos los elementos a la vez. Las listas, al ser mutables, pueden requerir una asignación de memoria dinámica a medida que se agregan o eliminan elementos, lo que puede provocar fragmentación de la memoria y una mayor sobrecarga de memoria.\n",
    "3. **Menos gastos generales**: las tuplas tienen menos gastos generales en comparación con las listas. Las listas requieren memoria adicional para almacenar información sobre su tamaño y las direcciones de memoria de sus elementos. Las tuplas, por otro lado, no requieren esta sobrecarga adicional.\n",
    "4. **Mejor para datos heterogéneos**: las tuplas se utilizan a menudo para agrupar elementos de diferentes tipos de datos, lo que puede conducir a una mejor eficiencia de la memoria. Las listas, aunque todavía pueden contener datos heterogéneos, normalmente se usan para datos homogéneos, y esto puede resultar en una mayor sobrecarga de memoria.\n",
    "5. **Iteración más rápida**: iterar sobre una tupla es generalmente más rápido que iterar sobre una lista debido a la reducción de la sobrecarga y la inmutabilidad. Esto puede conducir a un uso más eficiente de la memoria cuando se procesan grandes cantidades de datos.\n",
    "\n",
    "Es importante tener en cuenta que la diferencia en la eficiencia de la memoria entre tuplas y listas suele ser pequeña para estructuras de datos pequeñas, y la elección entre ellas debe basarse principalmente en el uso previsto de los datos y si se desea la inmutabilidad. Sin embargo, en escenarios en los que tiene grandes colecciones de datos que no cambian, el uso de tuplas puede ayudar a conservar memoria y potencialmente mejorar el rendimiento."
   ]
  }
 ],
 "metadata": {
  "kernelspec": {
   "display_name": ".venv",
   "language": "python",
   "name": "python3"
  },
  "language_info": {
   "codemirror_mode": {
    "name": "ipython",
    "version": 3
   },
   "file_extension": ".py",
   "mimetype": "text/x-python",
   "name": "python",
   "nbconvert_exporter": "python",
   "pygments_lexer": "ipython3",
   "version": "3.12.0"
  }
 },
 "nbformat": 4,
 "nbformat_minor": 2
}
