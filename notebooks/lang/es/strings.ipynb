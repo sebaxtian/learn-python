{
 "cells": [
  {
   "cell_type": "markdown",
   "metadata": {},
   "source": [
    "# Strings\n",
    "\n",
    "En Python, un string es una secuencia de caracteres encerrados entre comillas simples (''), comillas dobles (\"\") o comillas triples ('''''', \"\"\"\"\"), y se utiliza para representar datos de texto. Los strings son uno de los tipos de datos fundamentales en Python. A continuación se ofrece información básica sobre cómo trabajar con strings en Python:\n",
    "\n",
    "* [Creación](#creación)\n",
    "* [Concatenación](#concatenación)\n",
    "* [Indexing and Slicing](#indexing-and-slicing)\n",
    "* [Built-in Methods](#built-in-methods)\n",
    "* [Formatting](#formatting)\n",
    "* [Escape Characters](#escape-characters)\n",
    "* [Inmutabilidad](#inmutabilidad)\n",
    "* [Operaciones](#operaciones)\n",
    "* [Codificación/Decodificación](#codificacióndecodificación)"
   ]
  },
  {
   "cell_type": "markdown",
   "metadata": {},
   "source": [
    "## Creación\n",
    "\n",
    "Puede crear strings utilizando comillas simples, dobles o triples."
   ]
  },
  {
   "cell_type": "code",
   "execution_count": 1,
   "metadata": {},
   "outputs": [
    {
     "name": "stdout",
     "output_type": "stream",
     "text": [
      "This is a single-quoted string\n",
      "This is a double-quoted string\n",
      "This is a triple-quoted string\n"
     ]
    }
   ],
   "source": [
    "# String Creation\n",
    "single_quoted_string = 'This is a single-quoted string'\n",
    "double_quoted_string = \"This is a double-quoted string\"\n",
    "triple_quoted_string = '''This is a triple-quoted string'''\n",
    "\n",
    "print(single_quoted_string)\n",
    "print(double_quoted_string)\n",
    "print(triple_quoted_string)"
   ]
  },
  {
   "cell_type": "markdown",
   "metadata": {},
   "source": [
    "## Concatenación\n",
    "\n",
    "Puede concatenar strings utilizando el operador +."
   ]
  },
  {
   "cell_type": "code",
   "execution_count": 2,
   "metadata": {},
   "outputs": [
    {
     "name": "stdout",
     "output_type": "stream",
     "text": [
      "Hello, world!\n"
     ]
    }
   ],
   "source": [
    "# String Concatenation\n",
    "str1 = \"Hello, \"\n",
    "str2 = \"world!\"\n",
    "result = str1 + str2  # This will create a new string \"Hello, world!\"\n",
    "\n",
    "print(result)"
   ]
  },
  {
   "cell_type": "markdown",
   "metadata": {},
   "source": [
    "## Indexing and Slicing\n",
    "\n",
    "Puede acceder a caracteres individuales en un string mediante indexación y puede extraer substrings mediante slicing."
   ]
  },
  {
   "cell_type": "code",
   "execution_count": 3,
   "metadata": {},
   "outputs": [
    {
     "name": "stdout",
     "output_type": "stream",
     "text": [
      "P\n",
      "yth\n",
      "Python\n",
      "is awesome\n",
      "awesom\n",
      "Pto sae\n",
      "emosewa si nohtyP\n"
     ]
    }
   ],
   "source": [
    "# String Indexing and Slicing\n",
    "my_string = \"Python\"\n",
    "\n",
    "print(my_string[0])    # Access the first character: 'P'\n",
    "print(my_string[1:4])  # Slice from index 1 to 3: 'yth'\n",
    "\n",
    "my_string = \"Python is awesome\"\n",
    "\n",
    "# Slicing from the 0th index up to, but not including, the 6th index\n",
    "substring1 = my_string[0:6]\n",
    "print(substring1)  # Output: \"Python\"\n",
    "\n",
    "# Slicing from the 7th index to the end of the string\n",
    "substring2 = my_string[7:]\n",
    "print(substring2)  # Output: \"is awesome\"\n",
    "\n",
    "# Slicing with a negative index (counting from the end of the string)\n",
    "substring3 = my_string[-7:-1]\n",
    "print(substring3)  # Output: \"awesom\"\n",
    "\n",
    "# Slicing with a step value\n",
    "substring4 = my_string[0:14:2]\n",
    "print(substring4)  # Output: \"Pto sae\"\n",
    "\n",
    "# Reverse the string using slicing\n",
    "reversed_string = my_string[::-1]\n",
    "print(reversed_string)  # Output: \"emosewa si nohtyP\""
   ]
  },
  {
   "cell_type": "markdown",
   "metadata": {},
   "source": [
    "Slicing con un valor de paso es una forma de extraer cada enésimo carácter de un string, donde \"n\" es el valor de paso. Esto significa que puede omitir algunos caracteres mientras extrae un substring. Echemos un vistazo más de cerca al ejemplo de slicing con un valor de paso."
   ]
  },
  {
   "cell_type": "code",
   "execution_count": 4,
   "metadata": {},
   "outputs": [
    {
     "name": "stdout",
     "output_type": "stream",
     "text": [
      "Pto sae\n"
     ]
    }
   ],
   "source": [
    "# Slicing with a step value\n",
    "my_string = \"Python is awesome\"\n",
    "\n",
    "substring4 = my_string[0:14:2]\n",
    "print(substring4)  # Output: \"Pto sae\""
   ]
  },
  {
   "cell_type": "markdown",
   "metadata": {},
   "source": [
    "El ejemplo anterior, substring4, se crea haciendo slicing sobre my_string del índice 0 al índice 14 (exclusivo) con un valor de paso de 2. Así es como funciona:\n",
    "\n",
    "1. Índice inicial (0): el slicing comienza en el índice 0 del string, que corresponde a la letra \"P\".\n",
    "2. Índice final (14): el slicing continúa hasta el índice 14, pero sin incluirlo. Esto incluye el carácter de espacio justo antes de \"es\", por lo que se detiene en \"es\".\n",
    "3. Valor del paso (2): el valor del paso es 2, lo que significa que por cada carácter extraído, Python omite el siguiente carácter del string. Esta es la razón por la que \"P\" va seguida de \"t\", y luego de \"o\", y así sucesivamente.\n",
    "\n",
    "El resultado de este slicing es \"Pto sae\". Extrae cada segundo carácter del rango especificado, lo que da como resultado los caracteres \"P\", \"t\", \"o\", espacio, \"s\", \"a\" y \"e\"."
   ]
  },
  {
   "cell_type": "code",
   "execution_count": 5,
   "metadata": {},
   "outputs": [
    {
     "name": "stdout",
     "output_type": "stream",
     "text": [
      "cfi\n"
     ]
    }
   ],
   "source": [
    "# Slicing with a step value\n",
    "my_string = \"abcdefghij\"\n",
    "\n",
    "# Slicing with a step value\n",
    "substring = my_string[2:9:3]\n",
    "print(substring)  # Output: \"cfi\""
   ]
  },
  {
   "cell_type": "markdown",
   "metadata": {},
   "source": [
    "En el ejemplo anterior, substring se crea haciendo slicing sobre my_string del índice 2 al índice 9 (exclusivo) con un valor de paso de 3. Así es como funciona:\n",
    "\n",
    "1. Índice inicial (2): el slicing comienza en el segundo índice del string, que corresponde a la letra \"c\".\n",
    "2. Índice final (9): el slicing continúa hasta el noveno índice, pero sin incluirlo. Esto incluye \"g\", por lo que se detiene en \"g\".\n",
    "3. Valor del paso (3): el valor del paso es 3, lo que significa que por cada carácter extraído, Python omite los dos caracteres siguientes del string. Es por eso que \"c\" va seguida de \"f\" y luego de \"i\".\n",
    "\n",
    "El resultado de este slicing es \"cfi\". Extrae cada tercer carácter del rango especificado, lo que da como resultado los caracteres \"c\", \"f\" e \"i\". Esto demuestra cómo puede controlar el espaciado de los caracteres que extrae utilizando el valor de paso en el slicing."
   ]
  },
  {
   "cell_type": "markdown",
   "metadata": {},
   "source": [
    "## Built-in Methods\n",
    "\n",
    "Python proporciona una variedad de métodos para manipular strings, como **len()**, **lower()**, **upper()**, **strip()**, **split()* *, **unirse()** y muchos más."
   ]
  },
  {
   "cell_type": "markdown",
   "metadata": {},
   "source": [
    "### len()\n",
    "\n",
    "Devuelve la longitud de un string."
   ]
  },
  {
   "cell_type": "code",
   "execution_count": 6,
   "metadata": {},
   "outputs": [
    {
     "name": "stdout",
     "output_type": "stream",
     "text": [
      "13\n"
     ]
    }
   ],
   "source": [
    "# len(): Returns the length of a string.\n",
    "my_string = \"Hello, World!\"\n",
    "length = len(my_string)\n",
    "\n",
    "print(length)  # Output: 13"
   ]
  },
  {
   "cell_type": "markdown",
   "metadata": {},
   "source": [
    "### lower()\n",
    "\n",
    "Convierte todos los caracteres de un string a minúsculas."
   ]
  },
  {
   "cell_type": "code",
   "execution_count": 7,
   "metadata": {},
   "outputs": [
    {
     "name": "stdout",
     "output_type": "stream",
     "text": [
      "hello, world!\n"
     ]
    }
   ],
   "source": [
    "# lower(): Converts all characters in the string to lowercase.\n",
    "my_string = \"Hello, World!\"\n",
    "lowercase = my_string.lower()\n",
    "\n",
    "print(lowercase)  # Output: \"hello, world!\""
   ]
  },
  {
   "cell_type": "markdown",
   "metadata": {},
   "source": [
    "### upper()\n",
    "\n",
    "Convierte todos los caracteres de un string a mayúsculas."
   ]
  },
  {
   "cell_type": "code",
   "execution_count": 8,
   "metadata": {},
   "outputs": [
    {
     "name": "stdout",
     "output_type": "stream",
     "text": [
      "HELLO, WORLD!\n"
     ]
    }
   ],
   "source": [
    "# upper(): Converts all characters in the string to uppercase.\n",
    "my_string = \"Hello, World!\"\n",
    "uppercase = my_string.upper()\n",
    "\n",
    "print(uppercase)  # Output: \"HELLO, WORLD!\""
   ]
  },
  {
   "cell_type": "markdown",
   "metadata": {},
   "source": [
    "### strip()\n",
    "\n",
    "Elimina los espacios en blanco iniciales y finales del substring."
   ]
  },
  {
   "cell_type": "code",
   "execution_count": 9,
   "metadata": {},
   "outputs": [
    {
     "name": "stdout",
     "output_type": "stream",
     "text": [
      "Hello, World!\n"
     ]
    }
   ],
   "source": [
    "# strip(): Removes leading and trailing whitespace characters from the string.\n",
    "my_string = \"   Hello, World!   \"\n",
    "stripped = my_string.strip()\n",
    "\n",
    "print(stripped)  # Output: \"Hello, World!\""
   ]
  },
  {
   "cell_type": "markdown",
   "metadata": {},
   "source": [
    "### replace(substring, replacement)\n",
    "\n",
    "Reemplaza las apariciones de una substring con un string de reemplazo."
   ]
  },
  {
   "cell_type": "code",
   "execution_count": 10,
   "metadata": {},
   "outputs": [
    {
     "name": "stdout",
     "output_type": "stream",
     "text": [
      "Hi, World! Hi, Universe!\n"
     ]
    }
   ],
   "source": [
    "# replace(substring, replacement): Replaces occurrences of a substring with a replacement string.\n",
    "original_string = \"Hello, World! Hello, Universe!\"\n",
    "new_string = original_string.replace(\"Hello\", \"Hi\")\n",
    "\n",
    "print(new_string)\n",
    "# Output: \"Hi, World! Hi, Universe!\""
   ]
  },
  {
   "cell_type": "markdown",
   "metadata": {},
   "source": [
    "### split(delimiter)\n",
    "\n",
    "Divide un string en una lista de substrings según un delimitador."
   ]
  },
  {
   "cell_type": "code",
   "execution_count": 11,
   "metadata": {},
   "outputs": [
    {
     "name": "stdout",
     "output_type": "stream",
     "text": [
      "['This', 'is', 'a', 'sample', 'sentence.']\n",
      "['This is ', ' s', 'mple sentence.']\n"
     ]
    }
   ],
   "source": [
    "# split(delimiter): Splits a string into a list of substrings based on a delimiter.\n",
    "sentence = \"This is a sample sentence.\"\n",
    "words = sentence.split(\" \")\n",
    "words2 = sentence.split(\"a\")\n",
    "\n",
    "print(words)\n",
    "# Output: ['This', 'is', 'a', 'sample', 'sentence.']\n",
    "print(words2)"
   ]
  },
  {
   "cell_type": "markdown",
   "metadata": {},
   "source": [
    "### join(iterable)\n",
    "\n",
    "Une los elementos de un iterable en un solo string usando el string actual como separador."
   ]
  },
  {
   "cell_type": "code",
   "execution_count": 12,
   "metadata": {},
   "outputs": [
    {
     "name": "stdout",
     "output_type": "stream",
     "text": [
      "This is a list of words.\n",
      "This~is~a~list~of~words.\n"
     ]
    }
   ],
   "source": [
    "# join(iterable): Joins the elements of an iterable into a single string using the current string as a separator.\n",
    "words = ['This', 'is', 'a', 'list', 'of', 'words.']\n",
    "sentence = ' '.join(words)\n",
    "sentence2 = '~'.join(words)\n",
    "\n",
    "print(sentence)\n",
    "# Output: \"This is a list of words.\"\n",
    "print(sentence2)"
   ]
  },
  {
   "cell_type": "markdown",
   "metadata": {},
   "source": [
    "### count(substring)\n",
    "\n",
    "Cuenta el número de apariciones no superpuestas de un string."
   ]
  },
  {
   "cell_type": "code",
   "execution_count": 13,
   "metadata": {},
   "outputs": [
    {
     "name": "stdout",
     "output_type": "stream",
     "text": [
      "4\n"
     ]
    }
   ],
   "source": [
    "# count(substring): Counts the number of non-overlapping occurrences of a substring.\n",
    "text = \"How much wood would a woodchuck chuck if a woodchuck could chuck wood?\"\n",
    "\n",
    "count = text.count(\"wood\")\n",
    "print(count)\n",
    "# Output: 4"
   ]
  },
  {
   "cell_type": "markdown",
   "metadata": {},
   "source": [
    "### find(substring)\n",
    "\n",
    "Encuentra el índice de la primera aparición de un substring en el string."
   ]
  },
  {
   "cell_type": "code",
   "execution_count": 14,
   "metadata": {},
   "outputs": [
    {
     "name": "stdout",
     "output_type": "stream",
     "text": [
      "10\n"
     ]
    }
   ],
   "source": [
    "# find(substring): Finds the index of the first occurrence of a substring in the string.\n",
    "sentence = \"This is a sample sentence.\"\n",
    "position = sentence.find(\"sample\")\n",
    "\n",
    "print(position)\n",
    "# Output: 10"
   ]
  },
  {
   "cell_type": "markdown",
   "metadata": {},
   "source": [
    "### capitalize()\n",
    "\n",
    "Convierte el primer carácter del string a mayúscula y el resto a minúsculas."
   ]
  },
  {
   "cell_type": "code",
   "execution_count": 15,
   "metadata": {},
   "outputs": [
    {
     "name": "stdout",
     "output_type": "stream",
     "text": [
      "John doe\n"
     ]
    }
   ],
   "source": [
    "# capitalize(): Converts the first character of the string to uppercase and the rest to lowercase.\n",
    "name = \"john doe\"\n",
    "capitalized_name = name.capitalize()\n",
    "\n",
    "print(capitalized_name)\n",
    "# Output: \"John doe\""
   ]
  },
  {
   "cell_type": "markdown",
   "metadata": {},
   "source": [
    "### title()\n",
    "\n",
    "Convierte el primer carácter de cada palabra a mayúscula y el resto a minúsculas."
   ]
  },
  {
   "cell_type": "code",
   "execution_count": 16,
   "metadata": {},
   "outputs": [
    {
     "name": "stdout",
     "output_type": "stream",
     "text": [
      "The Quick Brown Fox\n"
     ]
    }
   ],
   "source": [
    "# title(): Converts the first character of each word to uppercase and the rest to lowercase.\n",
    "title = \"the quick brown fox\"\n",
    "title_case = title.title()\n",
    "\n",
    "print(title_case)\n",
    "# Output: \"The Quick Brown Fox\""
   ]
  },
  {
   "cell_type": "markdown",
   "metadata": {},
   "source": [
    "### isupper()\n",
    "\n",
    "Comprueba si todos los caracteres del string están en mayúsculas."
   ]
  },
  {
   "cell_type": "code",
   "execution_count": 17,
   "metadata": {},
   "outputs": [
    {
     "name": "stdout",
     "output_type": "stream",
     "text": [
      "True\n"
     ]
    }
   ],
   "source": [
    "# isupper(): Checks if all characters in the string are uppercase.\n",
    "uppercase_string = \"HELLO\"\n",
    "is_upper = uppercase_string.isupper()\n",
    "\n",
    "print(is_upper)\n",
    "# Output: True"
   ]
  },
  {
   "cell_type": "markdown",
   "metadata": {},
   "source": [
    "### islower()\n",
    "\n",
    "Comprueba si todos los caracteres del string están en minúsculas."
   ]
  },
  {
   "cell_type": "code",
   "execution_count": 18,
   "metadata": {},
   "outputs": [
    {
     "name": "stdout",
     "output_type": "stream",
     "text": [
      "True\n"
     ]
    }
   ],
   "source": [
    "# islower(): Checks if all characters in the string are lowercase.\n",
    "lowercase_string = \"hello\"\n",
    "is_lower = lowercase_string.islower()\n",
    "\n",
    "print(is_lower)\n",
    "# Output: True"
   ]
  },
  {
   "cell_type": "markdown",
   "metadata": {},
   "source": [
    "### isalpha()\n",
    "\n",
    "Comprueba si todos los caracteres de un string son alfabéticos (letras)."
   ]
  },
  {
   "cell_type": "code",
   "execution_count": 19,
   "metadata": {},
   "outputs": [
    {
     "name": "stdout",
     "output_type": "stream",
     "text": [
      "True\n"
     ]
    }
   ],
   "source": [
    "# isalpha(): Checks if all characters in the string are alphabetic (letters).\n",
    "alphabetic_string = \"AlphaOnly\"\n",
    "is_alpha = alphabetic_string.isalpha()\n",
    "\n",
    "print(is_alpha)\n",
    "# Output: True"
   ]
  },
  {
   "cell_type": "markdown",
   "metadata": {},
   "source": [
    "### isdecimal()\n",
    "\n",
    "Comprueba si todos los caracteres de un string son dígitos decimales."
   ]
  },
  {
   "cell_type": "code",
   "execution_count": 20,
   "metadata": {},
   "outputs": [
    {
     "name": "stdout",
     "output_type": "stream",
     "text": [
      "True\n"
     ]
    }
   ],
   "source": [
    "# isdecimal(): Checks if all characters in the string are decimal digits.\n",
    "numeric_string = \"12345\"\n",
    "is_decimal = numeric_string.isdecimal()\n",
    "\n",
    "print(is_decimal)\n",
    "# Output: True"
   ]
  },
  {
   "cell_type": "markdown",
   "metadata": {},
   "source": [
    "## Formatting\n",
    "\n",
    "Puede formatear cadenas usando f-strings (Python 3.6+), el método .format() o el operador %."
   ]
  },
  {
   "cell_type": "code",
   "execution_count": 21,
   "metadata": {},
   "outputs": [
    {
     "name": "stdout",
     "output_type": "stream",
     "text": [
      "My name is Alice and I am 30 years old.\n"
     ]
    }
   ],
   "source": [
    "# String Formatting: You can format strings using f-strings (Python 3.6+), the .format() method, or the % operator\n",
    "name = \"Alice\"\n",
    "age = 30\n",
    "formatted_string = f\"My name is {name} and I am {age} years old.\"\n",
    "\n",
    "print(formatted_string)"
   ]
  },
  {
   "cell_type": "markdown",
   "metadata": {},
   "source": [
    "## Escape Characters\n",
    "\n",
    "Puede utilizar caracteres de escape para incluir caracteres especiales dentro de un string. Por ejemplo, para incluir un carácter de nueva línea, puede utilizar \\n."
   ]
  },
  {
   "cell_type": "code",
   "execution_count": 22,
   "metadata": {},
   "outputs": [
    {
     "name": "stdout",
     "output_type": "stream",
     "text": [
      "This is a line\n",
      "and this is a new line.\n"
     ]
    }
   ],
   "source": [
    "# String Escape Characters\n",
    "escaped_string = \"This is a line\\nand this is a new line.\"\n",
    "\n",
    "print(escaped_string)\n",
    "# Output:\n",
    "# This is a line\n",
    "# and this is a new line."
   ]
  },
  {
   "cell_type": "markdown",
   "metadata": {},
   "source": [
    "## Inmutabilidad\n",
    "\n",
    "Los strings en Python son inmutables, lo que significa que no se pueden cambiar los caracteres de un string existente. En su lugar, crea un nuevo string cuando realiza modificaciones."
   ]
  },
  {
   "cell_type": "code",
   "execution_count": 23,
   "metadata": {},
   "outputs": [
    {
     "name": "stdout",
     "output_type": "stream",
     "text": [
      "Hello World\n",
      "H\n",
      "Hola\n"
     ]
    }
   ],
   "source": [
    "# String Immutability\n",
    "# Strings are immutable, so you can't change them directly. You would create a new string instead\n",
    "original_string = \"Hello\"\n",
    "modified_string = original_string + \" World\"\n",
    "\n",
    "print(modified_string)  # Output: \"Hello World\"\n",
    "print(original_string[0])\n",
    "original_string = \"Hola\"\n",
    "print(original_string)\n",
    "# original_string[0] = 'P' # TypeError, 'str' object does not support item assignment, Immutable"
   ]
  },
  {
   "cell_type": "markdown",
   "metadata": {},
   "source": [
    "## Operaciones\n",
    "\n",
    "Puede realizar varias operaciones en strings, como verificar si un substring está presente, encontrar la posición de un substring y más usando métodos como in, find y replace."
   ]
  },
  {
   "cell_type": "code",
   "execution_count": 24,
   "metadata": {},
   "outputs": [
    {
     "name": "stdout",
     "output_type": "stream",
     "text": [
      "Hello, World!\n",
      "Repeat me! Repeat me! Repeat me! \n",
      "Substring found!\n",
      "World found at index 7\n",
      "Hello, Python!\n"
     ]
    }
   ],
   "source": [
    "# String Operations\n",
    "my_string = \"Hello, World!\"\n",
    "\n",
    "# Concatenation\n",
    "str1 = \"Hello, \"\n",
    "str2 = \"World!\"\n",
    "result = str1 + str2\n",
    "\n",
    "print(result)  # Output: \"Hello, World!\"\n",
    "\n",
    "\n",
    "# Repetition\n",
    "original_string = \"Repeat me! \"\n",
    "repeated_string = original_string * 3\n",
    "\n",
    "print(repeated_string)\n",
    "# Output: \"Repeat me! Repeat me! Repeat me! \"\n",
    "\n",
    "# Membership Check (Substring)\n",
    "# Check if a substring is present in the string\n",
    "if \"Hello\" in my_string:\n",
    "    print(\"Substring found!\")\n",
    "\n",
    "# Substring Finding\n",
    "# Find the position of a substring\n",
    "position = my_string.find(\"World\")\n",
    "\n",
    "print(f\"World found at index {position}\")\n",
    "\n",
    "# Replacement\n",
    "# Replace a substring\n",
    "new_string = my_string.replace(\"World\", \"Python\")\n",
    "\n",
    "print(new_string)"
   ]
  },
  {
   "cell_type": "markdown",
   "metadata": {},
   "source": [
    "## Codificación/Decodificación\n",
    "\n",
    "La codificación y decodificación de strings son esenciales cuando se trabaja con datos de texto, especialmente cuando se trata de varias codificaciones de caracteres. En Python, puedes usar métodos como encode() y decode() para manejar la codificación y decodificación de caracteres."
   ]
  },
  {
   "cell_type": "code",
   "execution_count": 25,
   "metadata": {},
   "outputs": [
    {
     "name": "stdout",
     "output_type": "stream",
     "text": [
      "b'Hello, \\xe4\\xbd\\xa0\\xe5\\xa5\\xbd, \\xe3\\x81\\x93\\xe3\\x82\\x93\\xe3\\x81\\xab\\xe3\\x81\\xa1\\xe3\\x81\\xaf'\n",
      "Hello, 你好, こんにちは\n"
     ]
    }
   ],
   "source": [
    "# String Encoding/Decoding\n",
    "# String Encoding\n",
    "original_string = \"Hello, 你好, こんにちは\"\n",
    "encoded_string = original_string.encode(\"utf-8\")\n",
    "\n",
    "print(encoded_string)\n",
    "\n",
    "# String Decoding\n",
    "decoded_string = encoded_string.decode(\"utf-8\")\n",
    "\n",
    "print(decoded_string)"
   ]
  },
  {
   "cell_type": "markdown",
   "metadata": {},
   "source": [
    "El ejemplo anterior:\n",
    "\n",
    "1. Tenemos un string original que contiene texto en varios idiomas: \"Hola, 你好, こんにちは\".\n",
    "2. Usamos el método encode() para codificar el string en bytes usando la codificación UTF-8. El método encode() toma el formato de codificación como argumento.\n",
    "3. La variable encoded_string ahora contiene la representación en bytes del string original.\n",
    "4. Usamos el método decode() para convertir la secuencia de bytes codificados nuevamente en un string usando la misma codificación UTF-8. El método decode() toma el formato de codificación como argumento, coincidiendo con el utilizado para la codificación.\n",
    "5. La variable decoded_string contiene el strings decodificado, que es la misma que el string original.\n",
    "\n",
    "La codificación y decodificación son cruciales cuando se trata de datos de texto, ya que garantiza que los caracteres de varios idiomas se representen y procesen correctamente, independientemente de su representación de bytes subyacente. La elección de la codificación (por ejemplo, UTF-8, UTF-16, ISO-8859-1, etc.) depende de los requisitos específicos de su aplicación y del conjunto de caracteres con el que está trabajando."
   ]
  },
  {
   "cell_type": "markdown",
   "metadata": {},
   "source": [
    "---\n",
    "\n",
    "Estos son los conceptos básicos para trabajar con strings en Python. Los strings son una parte esencial de cualquier programa Python para tratar datos de texto y manipularlos de diversas formas."
   ]
  }
 ],
 "metadata": {
  "kernelspec": {
   "display_name": ".venv",
   "language": "python",
   "name": "python3"
  },
  "language_info": {
   "codemirror_mode": {
    "name": "ipython",
    "version": 3
   },
   "file_extension": ".py",
   "mimetype": "text/x-python",
   "name": "python",
   "nbconvert_exporter": "python",
   "pygments_lexer": "ipython3",
   "version": "3.12.0"
  }
 },
 "nbformat": 4,
 "nbformat_minor": 2
}
