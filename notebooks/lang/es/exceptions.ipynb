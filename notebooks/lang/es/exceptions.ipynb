{
 "cells": [
  {
   "cell_type": "markdown",
   "metadata": {},
   "source": [
    "# Excepciones\n",
    "\n",
    "Manejar excepciones en Python es esencial para escribir código robusto y tolerante a errores. Puede utilizar try, except y otras declaraciones relacionadas para detectar y manejar\n",
    "excepciones.\n",
    "\n",
    "Aquí hay una descripción general básica de cómo manejar excepciones en Python:\n",
    "\n",
    "* [Bloque Try-Except](#bloque-try-except)\n",
    "* [Múltiples bloques Except](#múltiples-bloques-except)\n",
    "* [Bloque generico Except](#bloque-genérico-except)\n",
    "* [Bloque Finally](#bloque-finally)\n",
    "* [Generar excepciones personalizadas](#generar-excepciones-personalizadas)\n",
    "* [Manejo de múltiples excepciones](#manejo-de-múltiples-excepciones)\n",
    "* [Jerarquía de excepciones](#jerarquía-de-excepciones)\n",
    "* [Excepciones comunes en Python](#excepciones-comunes-en-python)\n",
    "\n",
    "El manejo de excepciones en Python permite que su código se recupere elegantemente de los errores y continúe la ejecución cuando sea posible. Es importante elegir el nivel correcto de granularidad para el manejo de excepciones, detectando solo las excepciones que puede manejar y permitiendo que otras se propaguen si es necesario."
   ]
  },
  {
   "cell_type": "markdown",
   "metadata": {},
   "source": [
    "## Bloque Try-Except\n",
    "\n",
    "El bloque try se utiliza para encerrar el código que podría generar una excepción. El bloque except sigue al bloque try y contiene código para manejar la excepción si ocurre."
   ]
  },
  {
   "cell_type": "code",
   "execution_count": 1,
   "metadata": {},
   "outputs": [
    {
     "name": "stdout",
     "output_type": "stream",
     "text": [
      "Division by zero is not allowed.\n"
     ]
    }
   ],
   "source": [
    "# Try-Except Block\n",
    "try:\n",
    "    # Code that may raise an exception\n",
    "    result = 10 / 0  # This will raise a ZeroDivisionError\n",
    "except ZeroDivisionError:\n",
    "    # Handle the specific exception\n",
    "    print(\"Division by zero is not allowed.\")"
   ]
  },
  {
   "cell_type": "markdown",
   "metadata": {},
   "source": [
    "## Múltiples bloques Except\n",
    "\n",
    "Puede tener varios bloques Except para manejar diferentes tipos de excepciones. Python ejecutará el primer bloque Except coincidente."
   ]
  },
  {
   "cell_type": "code",
   "execution_count": 2,
   "metadata": {},
   "outputs": [
    {
     "name": "stdout",
     "output_type": "stream",
     "text": [
      "Invalid integer value.\n"
     ]
    }
   ],
   "source": [
    "# Multiple Except Blocks\n",
    "try:\n",
    "    value = int(\"foo\")  # This will raise a ValueError\n",
    "    result = 10 / 0  # This will raise a ZeroDivisionError\n",
    "except ValueError:\n",
    "    print(\"Invalid integer value.\")\n",
    "except ZeroDivisionError:\n",
    "    print(\"Division by zero is not allowed.\")"
   ]
  },
  {
   "cell_type": "markdown",
   "metadata": {},
   "source": [
    "## Bloque genérico Except\n",
    "\n",
    "Puede utilizar un bloque Except genérico para detectar todas las excepciones que no se manejan explícitamente. Sin embargo, generalmente es mejor detectar excepciones específicas siempre que sea posible, ya que esto hace que el código sea más legible y fácil de mantener."
   ]
  },
  {
   "cell_type": "code",
   "execution_count": 3,
   "metadata": {},
   "outputs": [
    {
     "name": "stdout",
     "output_type": "stream",
     "text": [
      "Division by zero is not allowed.\n"
     ]
    }
   ],
   "source": [
    "# Generic Except Block\n",
    "try:\n",
    "    result = 10 / 0  # This will raise a ZeroDivisionError\n",
    "    value = int(\"foo\")  # This will raise a ValueError\n",
    "except ValueError:\n",
    "    print(\"Invalid integer value.\")\n",
    "except ZeroDivisionError:\n",
    "    print(\"Division by zero is not allowed.\")\n",
    "except:\n",
    "    print(\"An unspecified error occurred.\")"
   ]
  },
  {
   "cell_type": "markdown",
   "metadata": {},
   "source": [
    "## Bloque Finally\n",
    "\n",
    "También puedes usar un bloque Finally para ejecutar código independientemente de si ocurrió una excepción o no. Este bloque se utiliza a menudo para operaciones de limpieza como cerrar archivos o conexiones de red."
   ]
  },
  {
   "cell_type": "code",
   "execution_count": 4,
   "metadata": {},
   "outputs": [
    {
     "name": "stdout",
     "output_type": "stream",
     "text": [
      "An error occurred while reading the file.\n",
      "File Closed\n"
     ]
    }
   ],
   "source": [
    "# Finally Block\n",
    "try:\n",
    "    file = open(\"/bin/python\", \"r\")\n",
    "    data = file.read()\n",
    "except UnicodeDecodeError:\n",
    "    print(\"An error occurred while reading the file.\")\n",
    "finally:\n",
    "    file.close()\n",
    "    print(\"File Closed\")"
   ]
  },
  {
   "cell_type": "markdown",
   "metadata": {},
   "source": [
    "## Generar excepciones personalizadas\n",
    "\n",
    "Puede generar excepciones personalizadas utilizando la declaración de raise. Esto puede resultar útil para señalar errores específicos de su aplicación."
   ]
  },
  {
   "cell_type": "code",
   "execution_count": 5,
   "metadata": {},
   "outputs": [
    {
     "name": "stdout",
     "output_type": "stream",
     "text": [
      "Division by zero is not allowed\n"
     ]
    }
   ],
   "source": [
    "# Raising Custom Exceptions\n",
    "def divide(x, y):\n",
    "    if y == 0:\n",
    "        raise ValueError(\"Division by zero is not allowed\")\n",
    "    return x / y\n",
    "\n",
    "try:\n",
    "    result = divide(10, 0)\n",
    "except ValueError as e:\n",
    "    print(e)"
   ]
  },
  {
   "cell_type": "markdown",
   "metadata": {},
   "source": [
    "## Manejo de múltiples excepciones\n",
    "\n",
    "Puede manejar múltiples excepciones dentro de un único bloque Except usando paréntesis para especificar los tipos de excepción."
   ]
  },
  {
   "cell_type": "code",
   "execution_count": 6,
   "metadata": {},
   "outputs": [
    {
     "name": "stdout",
     "output_type": "stream",
     "text": [
      "An error occurred: division by zero\n"
     ]
    }
   ],
   "source": [
    "# Handling Multiple Exceptions\n",
    "try:\n",
    "    result = 10 / 0\n",
    "    value = int(\"foo\")  # This will raise a ValueError\n",
    "except (ValueError, ZeroDivisionError) as e:\n",
    "    print(f\"An error occurred: {e}\")"
   ]
  },
  {
   "cell_type": "markdown",
   "metadata": {},
   "source": [
    "## Jerarquía de excepciones\n",
    "\n",
    "La jerarquía de excepciones de Python le permite detectar categorías más amplias de excepciones al capturar sus clases principales. Por ejemplo, puede detectar todas las excepciones utilizando la clase Exception."
   ]
  },
  {
   "cell_type": "code",
   "execution_count": 7,
   "metadata": {},
   "outputs": [
    {
     "name": "stdout",
     "output_type": "stream",
     "text": [
      "An exception occurred: invalid literal for int() with base 10: 'foo'\n"
     ]
    }
   ],
   "source": [
    "# Exception Hierarchy\n",
    "try:\n",
    "    # Code that may raise an exception\n",
    "    value = int(\"foo\")  # This will raise a ValueError\n",
    "    result = 10 / 0\n",
    "except Exception as e:\n",
    "    print(f\"An exception occurred: {e}\")"
   ]
  },
  {
   "cell_type": "markdown",
   "metadata": {},
   "source": [
    "## Excepciones comunes en Python\n",
    "\n",
    "Python tiene una amplia gama de excepciones integradas para manejar diversas condiciones de error en su código.\n",
    "\n",
    "Estas son algunas de las excepciones más comunes que puede encontrar:\n",
    "\n",
    "1. **SyntaxError**: se produce cuando hay un error de sintaxis en el código.\n",
    "2. **IndentationError**: surge cuando hay un problema con la sangría de su código.\n",
    "3. **NameError**: se produce cuando no se encuentra un nombre local o global.\n",
    "4. **TypeError**: se produce cuando se aplica una operación o función a un objeto de un tipo inadecuado.\n",
    "5. **ValueError**: se produce cuando una función recibe un argumento del tipo de datos correcto pero un valor inadecuado.\n",
    "6. **KeyError**: se produce cuando se accede a un diccionario con una clave que no existe.\n",
    "7. **IndexError**: ocurre cuando intentas acceder a un elemento de una secuencia (lista, tupla, etc.) usando un índice que está fuera de rango.\n",
    "8. **FileNotFoundError**: se produce cuando falla el intento de abrir un archivo porque el archivo no existe.\n",
    "9. **IOError**: generado para errores de entrada/salida, como al leer o escribir en un archivo.\n",
    "10. **ZeroDivisionError**: aumenta al dividir por cero.\n",
    "11. **AttributeError**: ocurre al intentar acceder a un atributo que no existe.\n",
    "12. **ImportError**: ocurre cuando no se encuentra un módulo o paquete importado o hay un problema con la declaración de importación.\n",
    "13. **ModuleNotFoundError**: un tipo específico de ImportError, que se genera cuando no se encuentra un módulo.\n",
    "14. **NotImplementedError**: se produce cuando una subclase concreta no implementa un método abstracto en una clase base abstracta.\n",
    "15. **MemoryError**: se produce cuando el programa se queda sin memoria.\n",
    "16. **RecursionError**: se genera cuando se excede la profundidad máxima de recursividad.\n",
    "17. **KeyboardInterrupt**: aparece cuando el usuario interrumpe el programa (por ejemplo, presionando Ctrl+C).\n",
    "18. **AssertionError**: se produce cuando falla una declaración de afirmación.\n",
    "19. **SystemExit**: aparece cuando se llama a la función sys.exit().\n",
    "20. **ArithmeticError**: una clase base para errores numéricos, incluidos ZeroDivisionError y OverflowError.\n",
    "\n",
    "Estas son sólo algunas de las excepciones comunes que puede encontrar al escribir código Python. Es importante manejar estas excepciones adecuadamente para que su código sea más sólido y fácil de usar. Puede usar bloques try y except para detectar y manejar estas excepciones en su código, como se explica en la respuesta anterior."
   ]
  }
 ],
 "metadata": {
  "kernelspec": {
   "display_name": ".venv",
   "language": "python",
   "name": "python3"
  },
  "language_info": {
   "codemirror_mode": {
    "name": "ipython",
    "version": 3
   },
   "file_extension": ".py",
   "mimetype": "text/x-python",
   "name": "python",
   "nbconvert_exporter": "python",
   "pygments_lexer": "ipython3",
   "version": "3.12.0"
  }
 },
 "nbformat": 4,
 "nbformat_minor": 2
}
