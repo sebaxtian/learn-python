{
 "cells": [
  {
   "cell_type": "markdown",
   "metadata": {},
   "source": [
    "# Diccionarios\n",
    "\n",
    "En Python, un diccionario es un tipo de datos integrado que le permite almacenar una colección de pares **clave-valor**. Los diccionarios también se conocen como **matrices asociativas** o **mapas hash** en otros lenguajes de programación.\n",
    "\n",
    "A diferencia de las secuencias, que están indexadas por un rango de números, los diccionarios están **indexados por claves**, que pueden ser de cualquier tipo inmutable; Las cadenas y los números siempre pueden ser claves.\n",
    "\n",
    "**Las tuplas se pueden utilizar como claves** si contienen sólo cadenas, números o tuplas; Si una tupla contiene algún objeto mutable directa o indirectamente, no se puede utilizar como clave.\n",
    "\n",
    "Es mejor pensar en un diccionario como un conjunto de pares clave:valor, con el requisito de que las claves sean únicas (dentro de un diccionario). Un par de llaves crea un diccionario vacío: **{}**. Colocar una lista separada por comas de pares **clave:valor** entre llaves agrega pares iniciales **clave:valor** al diccionario; esta es también la forma en que se escriben los diccionarios en la salida.\n",
    "\n",
    "Las operaciones principales en un diccionario son **almacenar** un valor con alguna clave y **extraer** el valor dado la clave. También es posible eliminar un par clave:valor con **del**. Si almacena utilizando una clave que ya está en uso, se olvida el valor antiguo asociado con esa clave. Es un error extraer un valor utilizando una clave inexistente.\n",
    "\n",
    "Realizar **list(d)** en un diccionario devuelve una **lista de todas las claves utilizadas en el diccionario**, **en orden de inserción** (si desea ordenarlas, simplemente use sorted(d) en su lugar) . Para comprobar si una única clave está **in** el diccionario, utilice la palabra clave **in**.\n",
    "\n",
    "Se utilizan para la recuperación y almacenamiento de datos eficiente.\n",
    "\n",
    "Aquí hay una breve descripción general de los diccionarios en Python:\n",
    "\n",
    "* [Creando un diccionario](#creando-un-diccionario)\n",
    "* [Acceso a elementos](#accediendo-a-elementos)\n",
    "* [Modificar un diccionario](#modificar-un-diccionario)\n",
    "* [Métodos del diccionario](#métodos-de-diccionario)\n",
    "* [Comprobación de existencia de clave](#comprobar-la-existencia-de-claves)\n",
    "* [Eliminar elementos](#eliminando-elementos)\n",
    "* [Dictionary Comprehensions](#dictionary-comprehensions)"
   ]
  },
  {
   "cell_type": "markdown",
   "metadata": {},
   "source": [
    "## Creando un diccionario\n",
    "\n",
    "Puede crear un diccionario usando llaves **{}** o usando el constructor **dict()**. Los pares clave-valor están separados por dos puntos y los pares están separados por comas."
   ]
  },
  {
   "cell_type": "code",
   "execution_count": 1,
   "metadata": {},
   "outputs": [
    {
     "name": "stdout",
     "output_type": "stream",
     "text": [
      "{'name': 'John', 'age': 30, 'city': 'New York'}\n",
      "{}\n",
      "{'name': 'Alice', 'age': 25, 'city': 'Los Angeles', 'is_student': True}\n",
      "{'name': 'Bob', 'position': 'Developer', 'contact': {'email': 'bob@example.com', 'phone': '123-456-7890'}}\n"
     ]
    }
   ],
   "source": [
    "# Creating a dictionary with curly braces {}\n",
    "\n",
    "# Creating a dictionary with key-value pairs\n",
    "person = {'name': 'John', 'age': 30, 'city': 'New York'}\n",
    "\n",
    "# Creating an empty dictionary\n",
    "empty_dict = {}\n",
    "\n",
    "# Creating a dictionary with mixed data types\n",
    "mixed_dict = {'name': 'Alice', 'age': 25, 'city': 'Los Angeles', 'is_student': True}\n",
    "\n",
    "# Nested dictionary\n",
    "employee = {\n",
    "    'name': 'Bob',\n",
    "    'position': 'Developer',\n",
    "    'contact': {\n",
    "        'email': 'bob@example.com',\n",
    "        'phone': '123-456-7890'\n",
    "    }\n",
    "}\n",
    "\n",
    "print(person)\n",
    "print(empty_dict)\n",
    "print(mixed_dict)\n",
    "print(employee)"
   ]
  },
  {
   "cell_type": "code",
   "execution_count": 2,
   "metadata": {},
   "outputs": [
    {
     "name": "stdout",
     "output_type": "stream",
     "text": [
      "{'name': 'John', 'age': 30, 'city': 'New York'}\n",
      "{}\n",
      "{'name': 'Alice', 'age': 25, 'city': 'Los Angeles', 'is_student': True}\n",
      "{'name': 'Bob', 'position': 'Developer', 'contact': {'email': 'bob@example.com', 'phone': '123-456-7890'}}\n"
     ]
    }
   ],
   "source": [
    "# Creating a dictionary using the dict() constructor\n",
    "\n",
    "# Using the dict() constructor to create a dictionary\n",
    "person = dict(name='John', age=30, city='New York')\n",
    "\n",
    "# Creating an empty dictionary using the constructor\n",
    "empty_dict = dict()\n",
    "\n",
    "# Creating a dictionary with key-value pairs using keyword arguments\n",
    "mixed_dict = dict(name='Alice', age=25, city='Los Angeles', is_student=True)\n",
    "\n",
    "# Nested dictionary using the constructor\n",
    "employee = dict(\n",
    "    name='Bob',\n",
    "    position='Developer',\n",
    "    contact={\n",
    "        'email': 'bob@example.com',\n",
    "        'phone': '123-456-7890'\n",
    "    }\n",
    ")\n",
    "\n",
    "print(person)\n",
    "print(empty_dict)\n",
    "print(mixed_dict)\n",
    "print(employee)"
   ]
  },
  {
   "cell_type": "markdown",
   "metadata": {},
   "source": [
    "## Accediendo a elementos\n",
    "\n",
    "Puede acceder a los valores asociados con las claves en un diccionario usando corchetes **[]** o el método **get()**.\n",
    "\n",
    "Es importante tener en cuenta que si intenta acceder a una **clave que no existe** en el diccionario, generará un **KeyError** al **usar corchetes**. El método **get()**, por otro lado, devolverá **Ninguno** de forma predeterminada para las claves faltantes, pero puede **proporcionar un valor predeterminado** como segundo argumento para **get()**."
   ]
  },
  {
   "cell_type": "code",
   "execution_count": 3,
   "metadata": {},
   "outputs": [
    {
     "name": "stdout",
     "output_type": "stream",
     "text": [
      "{'name': 'John', 'age': 30, 'city': 'New York'}\n",
      "John\n",
      "30\n",
      "New York\n",
      "{'name': 'John', 'age': 30, 'city': 'New York'}\n",
      "John\n",
      "30\n",
      "New York\n",
      "N/A\n"
     ]
    }
   ],
   "source": [
    "# Accessing Elements\n",
    "\n",
    "# Accessing Elements Using Square Brackets []\n",
    "# Creating a dictionary\n",
    "person = {'name': 'John', 'age': 30, 'city': 'New York'}\n",
    "\n",
    "# Accessing values using square brackets\n",
    "name = person['name']  # Access the 'name' key\n",
    "age = person['age']    # Access the 'age' key\n",
    "city = person['city']  # Access the 'city' key\n",
    "\n",
    "# Attempting to access a key that doesn't exist will raise a KeyError\n",
    "# occupation = person['occupation']  # KeyError: 'occupation' not in dictionary\n",
    "print(person)\n",
    "print(name)\n",
    "print(age)\n",
    "print(city)\n",
    "\n",
    "\n",
    "# Accessing Elements Using the get() Method\n",
    "# Creating a dictionary\n",
    "person = {'name': 'John', 'age': 30, 'city': 'New York'}\n",
    "\n",
    "# Accessing values using the get() method\n",
    "name = person.get('name')  # Access the 'name' key\n",
    "age = person.get('age')    # Access the 'age' key\n",
    "city = person.get('city')  # Access the 'city' key\n",
    "\n",
    "# The get() method can handle missing keys by providing a default value\n",
    "occupation = person.get('occupation', 'N/A')  # Returns 'N/A' for missing key\n",
    "\n",
    "print(person)\n",
    "print(name)\n",
    "print(age)\n",
    "print(city)\n",
    "print(occupation)\n"
   ]
  },
  {
   "cell_type": "markdown",
   "metadata": {},
   "source": [
    "## Modificar un diccionario\n",
    "\n",
    "Puede modificar un diccionario asignando un nuevo valor a una clave existente o agregando un nuevo par clave-valor."
   ]
  },
  {
   "cell_type": "code",
   "execution_count": 4,
   "metadata": {},
   "outputs": [
    {
     "name": "stdout",
     "output_type": "stream",
     "text": [
      "{'name': 'John', 'age': 30, 'city': 'New York'}\n",
      "{'name': 'John', 'age': 31, 'city': 'New York'}\n"
     ]
    }
   ],
   "source": [
    "# Modifying an Existing Key's Value\n",
    "\n",
    "# Creating a dictionary\n",
    "person = {'name': 'John', 'age': 30, 'city': 'New York'}\n",
    "print(person)\n",
    "\n",
    "# Modifying the value associated with an existing key\n",
    "person['age'] = 31  # Changing John's age to 31\n",
    "\n",
    "# Printing the modified dictionary\n",
    "print(person)"
   ]
  },
  {
   "cell_type": "code",
   "execution_count": 5,
   "metadata": {},
   "outputs": [
    {
     "name": "stdout",
     "output_type": "stream",
     "text": [
      "{'name': 'John', 'age': 30, 'city': 'New York'}\n",
      "{'name': 'John', 'age': 30, 'city': 'New York', 'country': 'USA'}\n"
     ]
    }
   ],
   "source": [
    "# Adding a New Key-Value Pair\n",
    "\n",
    "# Creating a dictionary\n",
    "person = {'name': 'John', 'age': 30, 'city': 'New York'}\n",
    "print(person)\n",
    "\n",
    "# Adding a new key-value pair\n",
    "person['country'] = 'USA'\n",
    "\n",
    "# Printing the dictionary with the new key-value pair\n",
    "print(person)"
   ]
  },
  {
   "cell_type": "code",
   "execution_count": 6,
   "metadata": {},
   "outputs": [
    {
     "name": "stdout",
     "output_type": "stream",
     "text": [
      "{'name': 'John', 'age': 30, 'city': 'New York'}\n",
      "{'name': 'John', 'age': 30}\n"
     ]
    }
   ],
   "source": [
    "# Removing a Key-Value Pair Using del\n",
    "\n",
    "# Creating a dictionary\n",
    "person = {'name': 'John', 'age': 30, 'city': 'New York'}\n",
    "print(person)\n",
    "\n",
    "# Removing a key-value pair using the 'del' statement\n",
    "del person['city']  # Removing the 'city' key and its value\n",
    "\n",
    "# Printing the modified dictionary\n",
    "print(person)"
   ]
  },
  {
   "cell_type": "code",
   "execution_count": 7,
   "metadata": {},
   "outputs": [
    {
     "name": "stdout",
     "output_type": "stream",
     "text": [
      "{'name': 'John', 'age': 30, 'city': 'New York'}\n",
      "{'name': 'John', 'city': 'New York'}\n",
      "Removed age: 30\n"
     ]
    }
   ],
   "source": [
    "# Removing a Key-Value Pair Using the pop() Method\n",
    "\n",
    "# Creating a dictionary\n",
    "person = {'name': 'John', 'age': 30, 'city': 'New York'}\n",
    "print(person)\n",
    "\n",
    "# Removing a key-value pair using the 'pop()' method\n",
    "age = person.pop('age')  # Removing the 'age' key and returning its value\n",
    "\n",
    "# Printing the modified dictionary and the returned value\n",
    "print(person)\n",
    "print(\"Removed age:\", age)"
   ]
  },
  {
   "cell_type": "markdown",
   "metadata": {},
   "source": [
    "## Métodos de diccionario\n",
    "\n",
    "Los diccionarios de Python vienen con varios métodos integrados para operaciones comunes, como **keys()**, **values()** y **items()**."
   ]
  },
  {
   "cell_type": "code",
   "execution_count": 8,
   "metadata": {},
   "outputs": [
    {
     "name": "stdout",
     "output_type": "stream",
     "text": [
      "{'name': 'John', 'age': 30, 'city': 'New York'}\n",
      "dict_keys(['name', 'age', 'city'])\n"
     ]
    }
   ],
   "source": [
    "# Using keys() method\n",
    "\n",
    "# Creating a dictionary\n",
    "person = {'name': 'John', 'age': 30, 'city': 'New York'}\n",
    "print(person)\n",
    "\n",
    "# Getting a list of keys in the dictionary using keys()\n",
    "keys = person.keys()\n",
    "\n",
    "# Printing the list of keys\n",
    "print(keys)"
   ]
  },
  {
   "cell_type": "code",
   "execution_count": 9,
   "metadata": {},
   "outputs": [
    {
     "name": "stdout",
     "output_type": "stream",
     "text": [
      "{'name': 'John', 'age': 30, 'city': 'New York'}\n",
      "dict_values(['John', 30, 'New York'])\n"
     ]
    }
   ],
   "source": [
    "# Using values() method\n",
    "\n",
    "# Creating a dictionary\n",
    "person = {'name': 'John', 'age': 30, 'city': 'New York'}\n",
    "print(person)\n",
    "\n",
    "# Getting a list of values in the dictionary using values()\n",
    "values = person.values()\n",
    "\n",
    "# Printing the list of values\n",
    "print(values)"
   ]
  },
  {
   "cell_type": "code",
   "execution_count": 10,
   "metadata": {},
   "outputs": [
    {
     "name": "stdout",
     "output_type": "stream",
     "text": [
      "{'name': 'John', 'age': 30, 'city': 'New York'}\n",
      "dict_items([('name', 'John'), ('age', 30), ('city', 'New York')])\n"
     ]
    }
   ],
   "source": [
    "# Using items() method\n",
    "\n",
    "# Creating a dictionary\n",
    "person = {'name': 'John', 'age': 30, 'city': 'New York'}\n",
    "print(person)\n",
    "\n",
    "# Getting a list of key-value pairs (tuples) in the dictionary using items()\n",
    "items = person.items()\n",
    "\n",
    "# Printing the list of key-value pairs\n",
    "print(items)"
   ]
  },
  {
   "cell_type": "code",
   "execution_count": 11,
   "metadata": {},
   "outputs": [
    {
     "name": "stdout",
     "output_type": "stream",
     "text": [
      "{'name': 'John', 'age': 30}\n",
      "{'city': 'New York', 'zipcode': '10001'}\n",
      "{'name': 'John', 'age': 30, 'city': 'New York', 'zipcode': '10001'}\n"
     ]
    }
   ],
   "source": [
    "# Using update() method to merge dictionaries\n",
    "\n",
    "# Creating two dictionaries\n",
    "person = {'name': 'John', 'age': 30}\n",
    "address = {'city': 'New York', 'zipcode': '10001'}\n",
    "print(person)\n",
    "print(address)\n",
    "\n",
    "# Merging the 'address' dictionary into the 'person' dictionary using update()\n",
    "person.update(address)\n",
    "\n",
    "# Printing the modified 'person' dictionary\n",
    "print(person)"
   ]
  },
  {
   "cell_type": "code",
   "execution_count": 12,
   "metadata": {},
   "outputs": [
    {
     "name": "stdout",
     "output_type": "stream",
     "text": [
      "{'name': 'John', 'age': 30, 'city': 'New York'}\n",
      "{}\n"
     ]
    }
   ],
   "source": [
    "# Using clear() method to remove all items from a dictionary\n",
    "\n",
    "# Creating a dictionary\n",
    "person = {'name': 'John', 'age': 30, 'city': 'New York'}\n",
    "print(person)\n",
    "\n",
    "# Clearing all items from the dictionary using clear()\n",
    "person.clear()\n",
    "\n",
    "# Printing the empty dictionary\n",
    "print(person)"
   ]
  },
  {
   "cell_type": "code",
   "execution_count": 13,
   "metadata": {},
   "outputs": [
    {
     "name": "stdout",
     "output_type": "stream",
     "text": [
      "{'name': 'John', 'age': 30, 'city': 'New York'}\n",
      "{'name': 'John', 'age': 30, 'city': 'New York'}\n",
      "{'name': 'John', 'age': 30, 'city': 'New York'}\n",
      "{'name': 'Juan', 'age': 30, 'city': 'New York'}\n"
     ]
    }
   ],
   "source": [
    "# Using copy() method to create a shallow copy of a dictionary\n",
    "\n",
    "# Creating a dictionary\n",
    "person = {'name': 'John', 'age': 30, 'city': 'New York'}\n",
    "print(person)\n",
    "\n",
    "# Creating a shallow copy of the dictionary using copy()\n",
    "person_copy = person.copy()\n",
    "\n",
    "# Printing the copy of the dictionary\n",
    "print(person_copy)\n",
    "\n",
    "person_copy[\"name\"] = \"Juan\"\n",
    "\n",
    "print(person)\n",
    "print(person_copy)"
   ]
  },
  {
   "cell_type": "markdown",
   "metadata": {},
   "source": [
    "## Comprobar la existencia de claves\n",
    "\n",
    "Puede verificar si existe una clave en un diccionario usando la palabra clave **in** o el método **get()**."
   ]
  },
  {
   "cell_type": "code",
   "execution_count": 14,
   "metadata": {},
   "outputs": [
    {
     "name": "stdout",
     "output_type": "stream",
     "text": [
      "{'name': 'John', 'age': 30, 'city': 'New York'}\n",
      "'name' exists in the dictionary.\n",
      "'occupation' does not exist in the dictionary.\n"
     ]
    }
   ],
   "source": [
    "# Using the in Keyword\n",
    "\n",
    "# Creating a dictionary\n",
    "person = {'name': 'John', 'age': 30, 'city': 'New York'}\n",
    "print(person)\n",
    "\n",
    "# Checking if a key exists using the 'in' keyword\n",
    "if 'name' in person:\n",
    "    print(\"'name' exists in the dictionary.\")\n",
    "\n",
    "if 'occupation' in person:\n",
    "    print(\"'occupation' exists in the dictionary.\")\n",
    "else:\n",
    "    print(\"'occupation' does not exist in the dictionary.\")"
   ]
  },
  {
   "cell_type": "code",
   "execution_count": 15,
   "metadata": {},
   "outputs": [
    {
     "name": "stdout",
     "output_type": "stream",
     "text": [
      "{'name': 'John', 'age': 30, 'city': 'New York'}\n",
      "'name' exists in the dictionary.\n",
      "'occupation' does not exist in the dictionary.\n"
     ]
    }
   ],
   "source": [
    "# Using the get() Method\n",
    "\n",
    "# Creating a dictionary\n",
    "person = {'name': 'John', 'age': 30, 'city': 'New York'}\n",
    "print(person)\n",
    "\n",
    "# Checking if a key exists using the 'get()' method\n",
    "name = person.get('name')\n",
    "occupation = person.get('occupation')\n",
    "\n",
    "if name is not None:\n",
    "    print(\"'name' exists in the dictionary.\")\n",
    "\n",
    "if occupation is None:\n",
    "    print(\"'occupation' does not exist in the dictionary.\")"
   ]
  },
  {
   "cell_type": "code",
   "execution_count": 16,
   "metadata": {},
   "outputs": [
    {
     "name": "stdout",
     "output_type": "stream",
     "text": [
      "{'name': 'John', 'age': 30, 'city': 'New York'}\n",
      "'occupation' does not exist in the dictionary.\n"
     ]
    }
   ],
   "source": [
    "# Using a Try-Except Block to Handle Key Existence\n",
    "\n",
    "# Creating a dictionary\n",
    "person = {'name': 'John', 'age': 30, 'city': 'New York'}\n",
    "print(person)\n",
    "\n",
    "# Using a try-except block to handle key existence\n",
    "try:\n",
    "    occupation = person['occupation']\n",
    "    print(\"'occupation' exists in the dictionary.\")\n",
    "except KeyError:\n",
    "    print(\"'occupation' does not exist in the dictionary.\")"
   ]
  },
  {
   "cell_type": "markdown",
   "metadata": {},
   "source": [
    "## Eliminando elementos\n",
    "\n",
    "Puede eliminar elementos de un diccionario utilizando la instrucción **del** o el método **pop()**."
   ]
  },
  {
   "cell_type": "code",
   "execution_count": 17,
   "metadata": {},
   "outputs": [
    {
     "name": "stdout",
     "output_type": "stream",
     "text": [
      "{'name': 'John', 'age': 30, 'city': 'New York'}\n",
      "{'name': 'John', 'age': 30}\n"
     ]
    }
   ],
   "source": [
    "# Removing an Item Using the del Statement\n",
    "\n",
    "# Creating a dictionary\n",
    "person = {'name': 'John', 'age': 30, 'city': 'New York'}\n",
    "print(person)\n",
    "\n",
    "# Removing a key-value pair using the 'del' statement\n",
    "del person['city']  # Removing the 'city' key and its value\n",
    "\n",
    "# Printing the modified dictionary\n",
    "print(person)"
   ]
  },
  {
   "cell_type": "code",
   "execution_count": 18,
   "metadata": {},
   "outputs": [
    {
     "name": "stdout",
     "output_type": "stream",
     "text": [
      "{'name': 'John', 'age': 30, 'city': 'New York'}\n",
      "{'name': 'John', 'city': 'New York'}\n",
      "Removed age: 30\n"
     ]
    }
   ],
   "source": [
    "# Removing an Item Using the pop() Method\n",
    "\n",
    "# Creating a dictionary\n",
    "person = {'name': 'John', 'age': 30, 'city': 'New York'}\n",
    "print(person)\n",
    "\n",
    "# Removing a key-value pair using the 'pop()' method\n",
    "age = person.pop('age')  # Removing the 'age' key and returning its value\n",
    "\n",
    "# Printing the modified dictionary and the returned value\n",
    "print(person)\n",
    "print(\"Removed age:\", age)"
   ]
  },
  {
   "cell_type": "code",
   "execution_count": 19,
   "metadata": {},
   "outputs": [
    {
     "name": "stdout",
     "output_type": "stream",
     "text": [
      "{'name': 'John', 'city': 'New York'}\n",
      "{'name': 'John', 'city': 'New York'}\n",
      "Removed age: Unknown\n"
     ]
    }
   ],
   "source": [
    "# Removing an Item with a Default Value Using pop()\n",
    "\n",
    "# Creating a dictionary\n",
    "person = {'name': 'John', 'city': 'New York'}\n",
    "print(person)\n",
    "\n",
    "# Removing a key-value pair using 'pop()' with a default value\n",
    "age = person.pop('age', 'Unknown')  # Removing the 'age' key, returns 'Unknown'\n",
    "\n",
    "# Printing the modified dictionary and the returned value\n",
    "print(person)\n",
    "print(\"Removed age:\", age)"
   ]
  },
  {
   "cell_type": "code",
   "execution_count": 20,
   "metadata": {},
   "outputs": [
    {
     "name": "stdout",
     "output_type": "stream",
     "text": [
      "{'name': 'John', 'age': 30, 'city': 'New York'}\n",
      "{'name': 'John', 'age': 30}\n",
      "Removed item: ('city', 'New York')\n"
     ]
    }
   ],
   "source": [
    "# Removing the Last Item Using popitem()\n",
    "\n",
    "# Creating a dictionary\n",
    "person = {'name': 'John', 'age': 30, 'city': 'New York'}\n",
    "print(person)\n",
    "\n",
    "# Removing the last key-value pair using 'popitem()'\n",
    "last_item = person.popitem()\n",
    "\n",
    "# Printing the modified dictionary and the removed key-value pair\n",
    "print(person)\n",
    "print(\"Removed item:\", last_item)"
   ]
  },
  {
   "cell_type": "markdown",
   "metadata": {},
   "source": [
    "## Dictionary Comprehensions\n",
    "\n",
    "Puede crear diccionarios utilizando comprensiones de diccionarios, que son similares a las listas de comprensión."
   ]
  },
  {
   "cell_type": "code",
   "execution_count": 21,
   "metadata": {},
   "outputs": [
    {
     "name": "stdout",
     "output_type": "stream",
     "text": [
      "{1: 1, 2: 4, 3: 9, 4: 16, 5: 25}\n"
     ]
    }
   ],
   "source": [
    "# Creating a dictionary of squares of numbers from 1 to 5\n",
    "squares = {x: x**2 for x in range(1, 6)}\n",
    "print(squares)"
   ]
  },
  {
   "cell_type": "code",
   "execution_count": 22,
   "metadata": {},
   "outputs": [
    {
     "name": "stdout",
     "output_type": "stream",
     "text": [
      "{2: 4, 4: 16, 6: 36, 8: 64, 10: 100}\n"
     ]
    }
   ],
   "source": [
    "# Creating a dictionary that maps even numbers to their squares within a specified range\n",
    "start = 2\n",
    "end = 10\n",
    "even_squares = {x: x**2 for x in range(start, end + 1) if x % 2 == 0}\n",
    "print(even_squares)"
   ]
  },
  {
   "cell_type": "code",
   "execution_count": 23,
   "metadata": {},
   "outputs": [
    {
     "name": "stdout",
     "output_type": "stream",
     "text": [
      "{'apple': 5, 'banana': 6, 'cherry': 6, 'date': 4, 'elderberry': 10}\n"
     ]
    }
   ],
   "source": [
    "# Creating a dictionary from a list of strings with their lengths as values\n",
    "words = ['apple', 'banana', 'cherry', 'date', 'elderberry']\n",
    "word_lengths = {word: len(word) for word in words}\n",
    "print(word_lengths)"
   ]
  },
  {
   "cell_type": "code",
   "execution_count": 24,
   "metadata": {},
   "outputs": [
    {
     "name": "stdout",
     "output_type": "stream",
     "text": [
      "{2: 4, 4: 16, 6: 36, 8: 64}\n"
     ]
    }
   ],
   "source": [
    "# Using a dictionary comprehension to create a dictionary with conditional filtering\n",
    "numbers = [1, 2, 3, 4, 5, 6, 7, 8, 9]\n",
    "squared_even = {x: x**2 for x in numbers if x % 2 == 0}\n",
    "print(squared_even)"
   ]
  },
  {
   "cell_type": "markdown",
   "metadata": {},
   "source": [
    "---\n",
    "\n",
    "Los diccionarios en Python están desordenados, lo que significa que no se garantiza el orden de los pares clave-valor. Sin embargo, a partir de Python 3.7, los diccionarios mantienen el orden de inserción. En Python 3.6 y versiones anteriores, los diccionarios no garantizan la conservación del orden.\n",
    "\n",
    "Los diccionarios son versátiles y ampliamente utilizados para diversas tareas de almacenamiento y recuperación de datos en Python debido a su eficiencia y flexibilidad."
   ]
  }
 ],
 "metadata": {
  "kernelspec": {
   "display_name": ".venv",
   "language": "python",
   "name": "python3"
  },
  "language_info": {
   "codemirror_mode": {
    "name": "ipython",
    "version": 3
   },
   "file_extension": ".py",
   "mimetype": "text/x-python",
   "name": "python",
   "nbconvert_exporter": "python",
   "pygments_lexer": "ipython3",
   "version": "3.12.0"
  }
 },
 "nbformat": 4,
 "nbformat_minor": 2
}
