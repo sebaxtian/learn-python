{
 "cells": [
  {
   "cell_type": "markdown",
   "metadata": {},
   "source": [
    "# POO: Programación Orientada a Objetos\n",
    "\n",
    "En Python, **POO** es un paradigma de programación que utiliza objetos y clases para organizar código y datos. Python es un lenguaje multiparadigma que admite programación orientada a objetos y le permite crear clases y objetos para crear aplicaciones sólidas y modulares.\n",
    "\n",
    "El concepto de **clases**, las definiciones del formato de datos (**atributos**) y los procedimientos disponibles (**comportamientos**) para un tipo o clase de objeto determinado; También pueden contener datos y procedimientos (conocidos como **métodos** de clase), es decir, las clases contienen los miembros de datos y las funciones miembro, las clases son planos que definen atributos y comportamientos.\n",
    "\n",
    "El concepto de **objetos** son instancias de clase que pueden contener datos y código: datos en forma de campos (a menudo conocidos como atributos o **propiedades**) y código en forma de procedimientos (a menudo conocidos como **métodos**).\n",
    "\n",
    "A continuación se muestran algunos conceptos y principios clave de la programación orientada a objetos en Python:\n",
    "\n",
    "* [Abstracción](#abstracción)\n",
    "* [Clases y Objetos](#clases-y-objetos)\n",
    "* [Constructor](#constructor)\n",
    "* [Atributos y Métodos](#atributos-y-métodos)\n",
    "* [Herencia](#herencia)\n",
    "* [Encapsulación](#encapsulación)\n",
    "* [Polimorfismo](#polimorfismo)\n",
    "* [Cohesión](#cohesión)\n",
    "* [Acoplamiento](#acoplamiento)"
   ]
  },
  {
   "cell_type": "markdown",
   "metadata": {},
   "source": [
    "## Abstracción\n",
    "\n",
    "En la programación orientada a objetos (**POO**), la abstracción es uno de los principios fundamentales. La **Abstracción** implica simplificar sistemas complejos modelando clases basadas en las **propiedades y comportamientos** esenciales que comparten, mientras se ocultan los detalles innecesarios. Es una forma de gestionar la complejidad centrándose en los aspectos relevantes de un objeto e ignorando los irrelevantes.\n",
    "\n",
    "Hay dos tipos principales de abstracción en programación orientada a objetos:\n",
    "\n",
    "1. **Abstracción de datos**:\n",
    "- **Encapsulación**: Este es el proceso de agrupar los datos (**atributos o propiedades**) y los métodos (**funciones o procedimientos**) que operan sobre los datos en una sola unidad conocida como ** clase**. La encapsulación **oculta los detalles internos** de un objeto y **restringe el acceso directo a algunos de sus componentes**, permitiendo que el objeto **controle su estado y comportamiento**.\n",
    "\n",
    "- **Ocultación de datos**: la encapsulación también implica el concepto de **ocultación de datos**, donde los detalles internos de un objeto se ocultan del mundo exterior. El acceso a los datos internos se controla a través de **modificadores de acceso públicos y privados**, lo que garantiza que solo la información necesaria esté expuesta al entorno externo.\n",
    "\n",
    "2. **Abstracción conductual**:\n",
    "- **Herencia**: Este es un mecanismo que permite que una clase (subclase o clase derivada) herede las propiedades y comportamientos de otra clase (superclase o clase base). La herencia **promueve la reutilización del código y establece una relación entre clases**, donde la subclase hereda las características de la superclase. Permite la creación de una jerarquía de clases, facilitando la comprensión y gestión de las relaciones entre diferentes objetos.\n",
    "\n",
    "- **Polimorfismo**: Esto permite que objetos de diferentes clases sean tratados como objetos de una clase base común. El polimorfismo permite que una única interfaz represente diferentes tipos de objetos, proporcionando flexibilidad y extensibilidad. Hay **dos tipos de polimorfismo**: en tiempo de compilación (**sobreescritura de métodos**) y en tiempo de ejecución (**anulación de métodos**)."
   ]
  },
  {
   "cell_type": "code",
   "execution_count": 1,
   "metadata": {},
   "outputs": [
    {
     "name": "stdout",
     "output_type": "stream",
     "text": [
      "78.5\n"
     ]
    }
   ],
   "source": [
    "# Abstraction\n",
    "from abc import ABC, abstractmethod\n",
    "\n",
    "class Shape(ABC):\n",
    "    @abstractmethod\n",
    "    def calculate_area(self):\n",
    "        pass\n",
    "\n",
    "class Circle(Shape):\n",
    "    def __init__(self, radius):\n",
    "        self.radius = radius\n",
    "\n",
    "    def calculate_area(self):\n",
    "        return 3.14 * self.radius * self.radius\n",
    "\n",
    "# Usage\n",
    "circle = Circle(5)\n",
    "print(circle.calculate_area())"
   ]
  },
  {
   "cell_type": "markdown",
   "metadata": {},
   "source": [
    "## Clases y Objetos\n",
    "\n",
    "La programación orientada a objetos (**POO**) es un paradigma de programación que organiza el código en **objetos**, **que son instancias de clases**. Las clases sirven como planos o plantillas para crear objetos, y los objetos son instancias de esas clases. Este paradigma ayuda a organizar y estructurar el código de una manera más modular y reutilizable.\n",
    "\n",
    "1. **Clase**:\n",
    "\n",
    "- Una clase es un **modelo o plantilla** para crear objetos.\n",
    "- Define un conjunto de **atributos** (miembros de datos) y **métodos** (funciones) que tendrán los objetos creados a partir de la clase.\n",
    "- Las clases se utilizan para modelar entidades del mundo real y sus comportamientos.\n",
    "\n",
    "2. **Objeto**:\n",
    "\n",
    "- Un objeto es una instancia de una clase.\n",
    "- Se crea en base al plano definido por la clase.\n",
    "- Los objetos **encapsulan datos** (atributos) y **comportamiento** (métodos) en una **única unidad**.\n",
    "\n",
    "3. **Atributos**:\n",
    "\n",
    "- Los atributos son variables que almacenan datos dentro de una clase o un objeto.\n",
    "- Representan **el estado de un objeto**.\n",
    "\n",
    "4. **Métodos**:\n",
    "\n",
    "- Los métodos son funciones definidas dentro de una clase.\n",
    "- Representan **el comportamiento de un objeto**.\n",
    "\n",
    "Estos conceptos de clases y objetos son fundamentales para comprender y trabajar con la programación orientada a objetos. Proporcionan una forma de estructurar el código, promover la reutilización del código y modelar entidades del mundo real de una manera más intuitiva y organizada."
   ]
  },
  {
   "cell_type": "code",
   "execution_count": 2,
   "metadata": {},
   "outputs": [
    {
     "name": "stdout",
     "output_type": "stream",
     "text": [
      "Toyota Camry\n",
      "Suzuki Jimny\n"
     ]
    }
   ],
   "source": [
    "# Classes and Objects\n",
    "\n",
    "class Car:\n",
    "    def __init__(self, make, model):\n",
    "        self.make = make\n",
    "        self.model = model\n",
    "\n",
    "my_car = Car(\"Toyota\", \"Camry\")\n",
    "other_car = Car(\"Suzuki\", \"Jimny\")\n",
    "print(my_car.make, my_car.model)\n",
    "print(other_car.make, other_car.model)"
   ]
  },
  {
   "cell_type": "markdown",
   "metadata": {},
   "source": [
    "## Constructor\n",
    "\n",
    "En programación orientada a objetos (**POO**), un constructor es un método especial que se llama automáticamente cuando se crea un objeto de una clase. Su propósito principal es **inicializar los atributos del objeto o configurar el estado del objeto**. Los constructores desempeñan un papel crucial a la hora de garantizar que los objetos se inicialicen correctamente antes de su uso.\n",
    "\n",
    "- El método **__init__** es un método especial que se utiliza para inicializar los atributos de un objeto cuando se crea.\n",
    "- También se le conoce como constructor y se llama automáticamente cuando creas un objeto."
   ]
  },
  {
   "cell_type": "code",
   "execution_count": 3,
   "metadata": {},
   "outputs": [
    {
     "name": "stdout",
     "output_type": "stream",
     "text": [
      "Alice 25\n"
     ]
    }
   ],
   "source": [
    "# Constructor\n",
    "\n",
    "class Person:\n",
    "    def __init__(self, name, age):\n",
    "        self.name = name\n",
    "        self.age = age\n",
    "\n",
    "person = Person(\"Alice\", 25)\n",
    "print(person.name, person.age)"
   ]
  },
  {
   "cell_type": "markdown",
   "metadata": {},
   "source": [
    "## Atributos y Métodos\n",
    "\n",
    "En la programación orientada a objetos (**POO**), las clases se utilizan para modelar entidades del mundo real **encapsulando datos** (atributos) y **comportamiento** (métodos) en una sola unidad.\n",
    "\n",
    "<br>\n",
    "\n",
    "1. **Atributos**: Son propiedades o características que describen **el estado de un objeto**. Representan los miembros de datos de una clase y definen qué es el objeto. Los atributos también se conocen como **campos, propiedades o variables miembro**. Aquí hay algunos puntos clave sobre los atributos:\n",
    "\n",
    "- **Variables de instancia**: los atributos a menudo se implementan como **variables de instancia**, lo que significa **cada objeto de la clase tiene su propio conjunto de estas variables**.\n",
    "\n",
    "- **Control de acceso**: los atributos pueden tener diferentes niveles de visibilidad o control de acceso, como público, privado o protegido, para **controlar cómo se puede acceder a ellos o modificarlos**.\n",
    "\n",
    "- **Tipos de datos**: los atributos tienen tipos de datos que especifican **el tipo de valores que pueden contener**, como números enteros, cadenas u objetos personalizados.\n",
    "\n",
    "- **Inicialización**: los atributos se pueden inicializar **cuando se crea un objeto** o durante el ciclo de vida del objeto.\n",
    "\n",
    "<br>\n",
    "\n",
    "2. **Métodos**: Son funciones asociadas a un objeto que **definen su comportamiento**. Representan las **acciones u operaciones** que un objeto puede realizar. Aquí hay algunos puntos clave sobre los métodos:\n",
    "\n",
    "- **Métodos de instancia**: los métodos generalmente se definen como métodos de instancia, lo que significa que **operan en una instancia de la clase**. Tienen acceso a los atributos de la instancia.\n",
    "\n",
    "- **Parámetro Self**: en muchos lenguajes de programación orientada a objetos como Python, el primer parámetro de un método se denomina convencionalmente **auto**, **que representa la instancia** en la que se llama al método.\n",
    "\n",
    "- **Encapsulación**: Los métodos contribuyen a la encapsulación al permitir el acceso controlado al estado del objeto. **Proporcionan una interfaz para interactuar** con el objeto.\n",
    "\n",
    "- **Retornar valores**: los métodos pueden devolver valores, que pueden ser utilizados por otras partes del programa."
   ]
  },
  {
   "cell_type": "code",
   "execution_count": 4,
   "metadata": {},
   "outputs": [
    {
     "name": "stdout",
     "output_type": "stream",
     "text": [
      "Buddy says Woof!\n"
     ]
    }
   ],
   "source": [
    "# Attributes and Methods\n",
    "\n",
    "class Dog:\n",
    "    def __init__(self, name):\n",
    "        self.name = name\n",
    "\n",
    "    # Instance method\n",
    "    def bark(self):\n",
    "        print(f\"{self.name} says Woof!\")\n",
    "\n",
    "my_dog = Dog(\"Buddy\")\n",
    "my_dog.bark()"
   ]
  },
  {
   "cell_type": "markdown",
   "metadata": {},
   "source": [
    "## Herencia\n",
    "\n",
    "La herencia es un concepto fundamental en la Programación Orientada a Objetos (**POO**) que permite a una clase **heredar propiedades y comportamientos de otra clase**. La clase de la que se hereda se llama \"**clase principal**\" o \"**clase base**\", y la clase que hereda de ella se llama \"**clase secundaria**\" o \"** clase derivada**.\" La herencia promueve la reutilización del código y ayuda a crear una estructura jerárquica en su código.\n",
    "\n",
    "Aquí hay algunos puntos clave sobre la herencia en programación orientada a objetos:\n",
    "\n",
    "1. **Clase base (clase principal)**:\n",
    "\n",
    "- La clase cuyas propiedades y comportamientos son heredados por otra clase.\n",
    "- También se la conoce como superclase o clase base.\n",
    "\n",
    "2. **Clase derivada (clase secundaria)**:\n",
    "\n",
    "- La clase que hereda propiedades y comportamientos de otra clase.\n",
    "- También se la conoce como subclase o clase derivada.\n",
    "\n",
    "3. **Acceso a miembros de la clase base**:\n",
    "\n",
    "- La clase hija puede acceder a las propiedades y métodos de la clase base.\n",
    "- Dependiendo del lenguaje de programación, puedes usar palabras clave como super() para referirte a la clase principal.\n",
    "\n",
    "4. **Tipos de herencia**:\n",
    "\n",
    "- **Herencia única**: una clase hereda de una sola clase base.\n",
    "- **Herencia múltiple**: una clase hereda de más de una clase base.\n",
    "- **Herencia multinivel**: una clase hereda de otra clase y luego otra clase hereda de ella.\n",
    "\n",
    "5. **Anulación del método**:\n",
    "\n",
    "- La clase secundaria puede proporcionar una implementación específica para un método que ya está definido en la clase principal. Esto se conoce como anulación de método.\n",
    "\n",
    "6. **Constructor en Herencia**:\n",
    "\n",
    "- Generalmente se llama a los constructores de las clases padre e hijo. En algunos idiomas, es posible que necesites llamar explícitamente al constructor de la clase principal.\n",
    "\n",
    "La herencia es un concepto poderoso que facilita la organización del código, la reutilización y la creación de jerarquías de clases. Sin embargo, debe utilizarse con prudencia para evitar la creación de estructuras de clases demasiado complejas y estrechamente acopladas."
   ]
  },
  {
   "cell_type": "code",
   "execution_count": 5,
   "metadata": {},
   "outputs": [
    {
     "name": "stdout",
     "output_type": "stream",
     "text": [
      "Woof!\n",
      "Meow!\n"
     ]
    }
   ],
   "source": [
    "# Inheritance\n",
    "\n",
    "# Base Class\n",
    "class Animal:\n",
    "    def speak(self):\n",
    "        pass\n",
    "\n",
    "# Child Class\n",
    "class Dog(Animal):\n",
    "    def speak(self):\n",
    "        return \"Woof!\"\n",
    "\n",
    "# Child Class\n",
    "class Cat(Animal):\n",
    "    def speak(self):\n",
    "        return \"Meow!\"\n",
    "\n",
    "dog = Dog()\n",
    "cat = Cat()\n",
    "\n",
    "print(dog.speak())\n",
    "print(cat.speak())"
   ]
  },
  {
   "cell_type": "markdown",
   "metadata": {},
   "source": [
    "## Encapsulación\n",
    "\n",
    "La encapsulación es uno de los cuatro principios fundamentales de la programación orientada a objetos (**POO**), siendo los otros **herencia**, **polimorfismo** y **abstracción**. La encapsulación se refiere a la agrupación de datos (**atributos** o propiedades) y los **métodos** (funciones o procedimientos) que operan con los datos en una sola unidad, conocida como clase. Es una **forma de restringir el acceso al estado interno de un objeto** y solo permitir el acceso controlado **a través de métodos**.\n",
    "\n",
    "Los principales objetivos de la encapsulación son:\n",
    "\n",
    "1. **Ocultación de datos**: la encapsulación **oculta los detalles internos de cómo funciona un objeto y expone solo lo que es necesario**. Esto ayuda a evitar la manipulación directa de los datos de un objeto desde fuera de la clase, lo cual es importante para mantener un estado claro y coherente.\n",
    "\n",
    "2. **Modularidad**: la encapsulación promueve la modularidad al **organizar el código en unidades manejables (clases)**. Cada clase encapsula un conjunto específico de funcionalidades, lo que facilita la comprensión, el mantenimiento y la modificación del código sin afectar otras partes del programa.\n",
    "\n",
    "La encapsulación ayuda a crear software sólido y seguro al ocultar los detalles de implementación y exponer una interfaz bien definida para interactuar con los objetos. De esta manera, el funcionamiento interno de un objeto se puede modificar sin afectar el código que utiliza el objeto, promoviendo la mantenibilidad y flexibilidad del código."
   ]
  },
  {
   "cell_type": "code",
   "execution_count": 6,
   "metadata": {},
   "outputs": [
    {
     "name": "stdout",
     "output_type": "stream",
     "text": [
      "100\n"
     ]
    }
   ],
   "source": [
    "# Encapsulation\n",
    "\n",
    "class BankAccount:\n",
    "    def __init__(self):\n",
    "        # Data Hiding\n",
    "        self._balance = 0\n",
    "\n",
    "    # Modularity\n",
    "    def deposit(self, amount):\n",
    "        if amount > 0:\n",
    "            self._balance += amount\n",
    "\n",
    "    # Modularity\n",
    "    def get_balance(self):\n",
    "        return self._balance\n",
    "\n",
    "account = BankAccount()\n",
    "account.deposit(100)\n",
    "print(account.get_balance())"
   ]
  },
  {
   "cell_type": "markdown",
   "metadata": {},
   "source": [
    "## Polimorfismo\n",
    "\n",
    "El polimorfismo es un concepto fundamental en la programación orientada a objetos (**POO**) que permite que objetos de diferentes clases sean tratados como objetos de una clase base común. Permite que una única interfaz represente diferentes tipos de objetos y proporciona una forma de utilizar una **interfaz única para representar varios tipos de comportamiento**.\n",
    "\n",
    "Hay dos tipos principales de polimorfismo en programación orientada a objetos:\n",
    "\n",
    "1. **Polimorfismo (estático) en tiempo de compilación**:\n",
    "\n",
    "- También conocido como **sobrecarga de métodos** o sobrecarga de funciones.\n",
    "- Ocurre cuando varios métodos de la misma clase tienen el mismo nombre pero diferentes parámetros (número o tipo).\n",
    "- El compilador selecciona el **método apropiado en función del número y los tipos de argumentos que se le pasan**.\n",
    "\n",
    "2. **Polimorfismo (dinámico) en tiempo de ejecución**:\n",
    "\n",
    "- También conocido como **anulación de método**.\n",
    "- Ocurre cuando una subclase proporciona una implementación específica para un método que ya está definido en su superclase.\n",
    "- La decisión sobre qué método llamar se realiza en **tiempo de ejecución según el tipo real del objeto**.\n",
    "- Requiere el uso de herencia y la anotación @Override en lenguajes como Java.\n",
    "\n",
    "El polimorfismo ayuda a mejorar la organización, legibilidad y reutilización del código al permitir que el código funcione con objetos en un nivel superior y más abstracto. Es un concepto clave en el diseño de sistemas orientados a objetos flexibles y extensibles.\n",
    "\n",
    "En Python, el polimorfismo se logra mediante una combinación de **tipificación dinámica**, **tipificación pato** y **anulación de método**. Así es como funciona el polimorfismo en Python:\n",
    "\n",
    "1. **Duck Typing**:\n",
    "\n",
    "- Python se **escribe dinámicamente**, lo que significa que el tipo de un objeto se **determina en tiempo de ejecución**.\n",
    "- La tipificación Duck te permite **usar un objeto según su comportamiento** (métodos y propiedades) en lugar de su tipo real.\n",
    "- Si un objeto camina como un pato y grazna como un pato, entonces se trata como un pato.\n",
    "\n",
    "2. **Method Overriding**:\n",
    "\n",
    "- En Python, el polimorfismo a menudo se logra **mediante la anulación de métodos**, donde una subclase proporciona una implementación específica para un método que ya está definido en su superclase.\n",
    "- Permite anular métodos y vincular métodos dinámicos, lo que significa que el **método llamado se determina en tiempo de ejecución**.\n",
    "\n",
    "Es importante tener en cuenta que, si bien Python admite el polimorfismo, es posible que no sea tan explícito o obligatorio como en lenguajes de tipo estático como Java. La flexibilidad de la **escritura dinámica y la escritura pato** de Python permite un estilo de codificación más fluido y expresivo."
   ]
  },
  {
   "cell_type": "code",
   "execution_count": 7,
   "metadata": {},
   "outputs": [
    {
     "name": "stdout",
     "output_type": "stream",
     "text": [
      "Chirp!\n",
      "Squawk!\n"
     ]
    }
   ],
   "source": [
    "# Polymorphism\n",
    "\n",
    "# Base Class\n",
    "class Bird:\n",
    "    def make_sound(self):\n",
    "        pass\n",
    "\n",
    "# Child Class\n",
    "class Sparrow(Bird):\n",
    "    # Method Overriding\n",
    "    def make_sound(self):\n",
    "        return \"Chirp!\"\n",
    "\n",
    "# Child Class\n",
    "class Parrot(Bird):\n",
    "    # Method Overriding\n",
    "    def make_sound(self):\n",
    "        return \"Squawk!\"\n",
    "\n",
    "birds = [Sparrow(), Parrot()]\n",
    "\n",
    "for bird in birds:\n",
    "    print(bird.make_sound())"
   ]
  },
  {
   "cell_type": "markdown",
   "metadata": {},
   "source": [
    "## Cohesión\n",
    "\n",
    "En programación orientada a objetos (**POO**), la cohesión se refiere al grado en que los elementos dentro de un módulo (clase) están relacionados entre sí. Es una medida de cuán estrechamente están relacionados los métodos y atributos de una clase y cuán enfocada está la clase en una única responsabilidad **bien definida**.\n",
    "\n",
    "Generalmente existen cuatro tipos de cohesión:\n",
    "\n",
    "1. **Cohesión funcional**: los métodos dentro de una clase realizan tareas similares y contribuyen a una funcionalidad única y bien definida. Este suele considerarse el nivel más alto de cohesión.\n",
    "\n",
    "2. **Cohesión secuencial**: los métodos dentro de una clase están organizados en una secuencia y la salida de un método es la entrada para el siguiente. Si bien esto puede ser cohesivo, no es tan deseable como la cohesión funcional porque podría indicar una falta de reutilización.\n",
    "\n",
    "3. **Cohesión comunicacional**: Los métodos dentro de una clase operan con el mismo conjunto de datos. Son cohesivos porque manipulan el mismo conjunto de atributos, pero esto puede ser menos deseable si los métodos no están relacionados lógicamente.\n",
    "\n",
    "4. **Cohesión de procedimiento**: los métodos dentro de una clase se agrupan porque todos contribuyen a una tarea particular, pero la relación puede no ser tan fuerte como en la cohesión funcional. Esto suele considerarse un nivel más bajo de cohesión.\n",
    "\n",
    "En general, **es deseable una alta cohesión** porque conduce a un código más fácil de mantener y reutilizable. Las clases con alta cohesión tienden a tener métodos que funcionan juntos **para realizar una tarea única y bien definida**, lo que hace que el código sea más fácil de entender y modificar.\n",
    "\n",
    "Por otro lado, **la baja cohesión puede dar lugar a clases que sean más difíciles de entender, mantener y reutilizar**. Las clases con baja cohesión a menudo tienen métodos que no están estrechamente relacionados o que realizan una variedad de tareas no relacionadas, lo que hace que la clase esté menos enfocada y sea más difícil trabajar con ella.\n",
    "\n",
    "Al diseñar clases en un sistema orientado a objetos, generalmente es una buena práctica apuntar a una **alta cohesión** para crear código bien organizado y mantenible."
   ]
  },
  {
   "cell_type": "code",
   "execution_count": 8,
   "metadata": {},
   "outputs": [
    {
     "name": "stdout",
     "output_type": "stream",
     "text": [
      "8 15\n"
     ]
    }
   ],
   "source": [
    "# Cohesion\n",
    "\n",
    "# Function Cohesion\n",
    "class MathOperations:\n",
    "    # Well-defined functionality\n",
    "    @staticmethod\n",
    "    def add(a, b):\n",
    "        return a + b\n",
    "    ## Well-defined functionality\n",
    "    @staticmethod\n",
    "    def multiply(a, b):\n",
    "        return a * b\n",
    "\n",
    "# Usage\n",
    "result_sum = MathOperations.add(5, 3)\n",
    "result_product = MathOperations.multiply(5, 3)\n",
    "print(result_sum, result_product)"
   ]
  },
  {
   "cell_type": "markdown",
   "metadata": {},
   "source": [
    "## Acoplamiento\n",
    "\n",
    "En programación orientada a objetos (**POO**), el acoplamiento se refiere al **grado de dependencia** entre diferentes clases o módulos. Mide qué tan estrechamente está conectada una clase o módulo con otra, o depende de ella. Hay dos tipos de acoplamiento: acoplamiento flojo y acoplamiento apretado.\n",
    "\n",
    "1. **Acoplamiento bajo**:\n",
    "\n",
    "- En un sistema débilmente acoplado, los **componentes son independientes** y pueden funcionar sin un conocimiento detallado entre sí.\n",
    "- Los cambios en una clase o módulo **tienen un impacto mínimo en otras clases** o módulos.\n",
    "- El acoplamiento bajo promueve la **flexibilidad**, la **mantenibilidad** y la **reutilización**.\n",
    "- Se logra mediante el uso de **interfaces**, **clases abstractas** e **inyección de dependencia**.\n",
    "\n",
    "2. Acoplamiento alto:\n",
    "\n",
    "- En un sistema estrechamente acoplado, **las clases o módulos dependen en gran medida** entre sí.\n",
    "- Los cambios en una clase pueden requerir modificaciones en otras clases, lo que genera un mayor riesgo de errores y **mayor dificultad de mantenimiento**.\n",
    "- Un acoplamiento alto puede **hacer que el sistema sea menos flexible** y **más difícil de entender**.\n",
    "- Generalmente se **desaconseja** en el diseño orientado a objetos.\n",
    "\n",
    "**Formas de lograr un acoplamiento bajo**:\n",
    "\n",
    "1. **Abstracción**:\n",
    "\n",
    "- Utilice **interfaces** y **clases abstractas** para definir una interfaz común **sin exponer los detalles de la implementación**.\n",
    "- Los clientes **dependen de abstracciones** en lugar de clases concretas.\n",
    "\n",
    "2. **Inyección de dependencia**:\n",
    "\n",
    "- En lugar de crear dependencias dentro de una clase, **inyéctalas desde el exterior**. Esto hace que la clase sea más flexible y más fácil de probar.\n",
    "- Los marcos de inyección de dependencia pueden ayudar a gestionar las dependencias.\n",
    "\n",
    "3. **Manejo de eventos**:\n",
    "\n",
    "- Utilice eventos y oyentes para desacoplar componentes. **Un componente puede notificar a otros sobre los cambios sin que necesiten conocerse**.\n",
    "\n",
    "4. **Localizador de servicios e inversión de dependencia**:\n",
    "\n",
    "- Implementar un localizador de servicios o utilizar la inversión de dependencias para **invertir el flujo de control** y reducir las dependencias directas.\n",
    "\n",
    "5. **Patrones de diseño**:\n",
    "\n",
    "- Aplique patrones de diseño como **patrón de observador**, **patrón de estrategia** y **patrón de adaptador** para lograr un acoplamiento flexible."
   ]
  },
  {
   "cell_type": "code",
   "execution_count": 9,
   "metadata": {},
   "outputs": [
    {
     "name": "stdout",
     "output_type": "stream",
     "text": [
      "Engine started\n"
     ]
    }
   ],
   "source": [
    "# Coupling\n",
    "\n",
    "# Abstraction\n",
    "class Engine:\n",
    "    def start(self):\n",
    "        return \"Engine started\"\n",
    "\n",
    "class Car:\n",
    "    # Dependency Injection\n",
    "    def __init__(self, engine):\n",
    "        self.engine = engine\n",
    "\n",
    "    def start(self):\n",
    "        return self.engine.start()\n",
    "\n",
    "# Usage\n",
    "car_engine = Engine()\n",
    "my_car = Car(car_engine)\n",
    "print(my_car.start())"
   ]
  },
  {
   "cell_type": "markdown",
   "metadata": {},
   "source": [
    "---\n",
    "Estos son algunos de los conceptos fundamentales de la programación orientada a objetos en Python. Al utilizar estos conceptos de forma eficaz, puede crear código bien organizado, modular y reutilizable."
   ]
  }
 ],
 "metadata": {
  "kernelspec": {
   "display_name": ".venv",
   "language": "python",
   "name": "python3"
  },
  "language_info": {
   "codemirror_mode": {
    "name": "ipython",
    "version": 3
   },
   "file_extension": ".py",
   "mimetype": "text/x-python",
   "name": "python",
   "nbconvert_exporter": "python",
   "pygments_lexer": "ipython3",
   "version": "3.12.0"
  }
 },
 "nbformat": 4,
 "nbformat_minor": 2
}
