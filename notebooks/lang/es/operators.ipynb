{
 "cells": [
  {
   "cell_type": "markdown",
   "metadata": {},
   "source": [
    "# Operadores en Python\n",
    "\n",
    "En Python, los operadores son símbolos o caracteres especiales utilizados para realizar operaciones en valores o variables. Python admite varios tipos de operadores, que se pueden categorizar en los siguientes grupos:\n",
    "\n",
    "* [Aritméticos](#operadores-aritméticos)\n",
    "* [Comparación](#operadores-de-comparación)\n",
    "* [Lógicos](#operadores-lógicos)\n",
    "* [Asignación](#operadores-de-asignación)\n",
    "* [Identidad](#operadores-de-identidad)\n",
    "* [Pertenencia](#operadores-de-pertenencia)\n",
    "* [Bit a bit](#operadores-a-nivel-de-bits)"
   ]
  },
  {
   "cell_type": "markdown",
   "metadata": {},
   "source": [
    "## Operadores Aritméticos\n",
    "\n",
    "Los operadores aritméticos en Python se utilizan para realizar operaciones matemáticas en valores numéricos. A continuación se presentan algunos de los operadores aritméticos más comunes:\n",
    "\n",
    "* `+`: Suma\n",
    "* `-`: Resta\n",
    "* `*`: Multiplicación\n",
    "* `/`: División\n",
    "* `%`: Módulo (resto de la división)\n",
    "* `**`: Exponenciación (elevado a la potencia)\n",
    "* `//`: División entera (cociente entero de la división)"
   ]
  },
  {
   "cell_type": "markdown",
   "metadata": {},
   "source": [
    "### Suma +"
   ]
  },
  {
   "cell_type": "code",
   "execution_count": 1,
   "metadata": {},
   "outputs": [
    {
     "name": "stdout",
     "output_type": "stream",
     "text": [
      "3\n",
      "10\n"
     ]
    }
   ],
   "source": [
    "# Suma dos o más números\n",
    "print(1 + 2)\n",
    "print(2 + 3 + 5)"
   ]
  },
  {
   "cell_type": "markdown",
   "metadata": {},
   "source": [
    "### Resta -"
   ]
  },
  {
   "cell_type": "code",
   "execution_count": 2,
   "metadata": {},
   "outputs": [
    {
     "name": "stdout",
     "output_type": "stream",
     "text": [
      "-1\n",
      "4\n"
     ]
    }
   ],
   "source": [
    "# Resta el segundo número del primero\n",
    "print(1 - 2)\n",
    "print(12 - 3 - 5)"
   ]
  },
  {
   "cell_type": "markdown",
   "metadata": {},
   "source": [
    "### Multiplicación *"
   ]
  },
  {
   "cell_type": "code",
   "execution_count": 3,
   "metadata": {},
   "outputs": [
    {
     "name": "stdout",
     "output_type": "stream",
     "text": [
      "4\n",
      "8\n",
      "18\n"
     ]
    }
   ],
   "source": [
    "# Multiplica dos o más números\n",
    "print(2 * 2)\n",
    "print(8 * 1)\n",
    "print(3 * 3 * 2)"
   ]
  },
  {
   "cell_type": "markdown",
   "metadata": {},
   "source": [
    "### División /"
   ]
  },
  {
   "cell_type": "code",
   "execution_count": 4,
   "metadata": {},
   "outputs": [
    {
     "name": "stdout",
     "output_type": "stream",
     "text": [
      "1.0\n",
      "3.4285714285714284\n",
      "2.1666666666666665\n"
     ]
    }
   ],
   "source": [
    "# Divide el primer número por el segundo (resultando en un número decimal)\n",
    "print(2 / 2)\n",
    "print(24 / 7)\n",
    "print(13 / 3 / 2)"
   ]
  },
  {
   "cell_type": "markdown",
   "metadata": {},
   "source": [
    "### División entera //"
   ]
  },
  {
   "cell_type": "code",
   "execution_count": 5,
   "metadata": {},
   "outputs": [
    {
     "name": "stdout",
     "output_type": "stream",
     "text": [
      "1\n",
      "3\n",
      "2\n"
     ]
    }
   ],
   "source": [
    "# Divide el primer número por el segundo, descartando la parte fraccionaria (resultando en un número entero)\n",
    "print(2 // 2)\n",
    "print(24 // 7)\n",
    "print(13 // 3 // 2)"
   ]
  },
  {
   "cell_type": "markdown",
   "metadata": {},
   "source": [
    "### Módulo %"
   ]
  },
  {
   "cell_type": "code",
   "execution_count": 6,
   "metadata": {},
   "outputs": [
    {
     "name": "stdout",
     "output_type": "stream",
     "text": [
      "0\n",
      "3\n",
      "1\n"
     ]
    }
   ],
   "source": [
    "# Devuelve el resto después de la división\n",
    "print(2 % 2)\n",
    "print(24 % 7)\n",
    "print(13 % 3 % 2)"
   ]
  },
  {
   "cell_type": "markdown",
   "metadata": {},
   "source": [
    "### Exponenciación **"
   ]
  },
  {
   "cell_type": "code",
   "execution_count": 7,
   "metadata": {},
   "outputs": [
    {
     "name": "stdout",
     "output_type": "stream",
     "text": [
      "4\n",
      "125\n",
      "16\n"
     ]
    }
   ],
   "source": [
    "# Eleva el primer número a la potencia del segundo\n",
    "print(2 ** 2)\n",
    "print(5 ** 3)\n",
    "print(2 ** 2 ** 2)"
   ]
  },
  {
   "cell_type": "markdown",
   "metadata": {},
   "source": [
    "## Operadores de Comparación"
   ]
  },
  {
   "cell_type": "markdown",
   "metadata": {},
   "source": [
    "### Igual a =="
   ]
  },
  {
   "cell_type": "code",
   "execution_count": 8,
   "metadata": {},
   "outputs": [
    {
     "name": "stdout",
     "output_type": "stream",
     "text": [
      "True\n",
      "False\n",
      "True\n",
      "False\n",
      "True\n",
      "True\n",
      "False\n",
      "<class 'bool'>\n",
      "<class 'int'>\n"
     ]
    }
   ],
   "source": [
    "# Verifica si dos valores son iguales\n",
    "print(2 == 2)\n",
    "print(3 == 1)\n",
    "print('1' == '1')\n",
    "print(0 == '0')\n",
    "print(1 == True) # True\n",
    "print(0 == False) # True\n",
    "print(1 == False)\n",
    "print(type(True))\n",
    "print(type(1))"
   ]
  },
  {
   "cell_type": "markdown",
   "metadata": {},
   "source": [
    "### No igual a !="
   ]
  },
  {
   "cell_type": "code",
   "execution_count": 9,
   "metadata": {},
   "outputs": [
    {
     "name": "stdout",
     "output_type": "stream",
     "text": [
      "False\n",
      "True\n",
      "True\n",
      "True\n",
      "False\n",
      "<class 'bool'>\n",
      "<class 'int'>\n"
     ]
    }
   ],
   "source": [
    "# Verifica si dos valores no son iguales\n",
    "print(3 != 3)\n",
    "print(0 != 1)\n",
    "print(True != 0) # True\n",
    "print(False != 1) # True\n",
    "print(True != 1)\n",
    "print(type(False))\n",
    "print(type(0))"
   ]
  },
  {
   "cell_type": "markdown",
   "metadata": {},
   "source": [
    "### Mayor que >"
   ]
  },
  {
   "cell_type": "code",
   "execution_count": 10,
   "metadata": {},
   "outputs": [
    {
     "name": "stdout",
     "output_type": "stream",
     "text": [
      "False\n",
      "False\n",
      "True\n",
      "True\n",
      "False\n",
      "<class 'bool'>\n",
      "<class 'int'>\n"
     ]
    }
   ],
   "source": [
    "# Verifica si el primer valor es mayor que el segundo\n",
    "print(2 > 3)\n",
    "print(5 > 5)\n",
    "print(3 > 2 > 1)\n",
    "print(True > False) # True\n",
    "print(False > 0) # False\n",
    "print(type(True))\n",
    "print(type(0))"
   ]
  },
  {
   "cell_type": "markdown",
   "metadata": {},
   "source": [
    "### Menor que <"
   ]
  },
  {
   "cell_type": "code",
   "execution_count": 11,
   "metadata": {},
   "outputs": [
    {
     "name": "stdout",
     "output_type": "stream",
     "text": [
      "True\n",
      "False\n",
      "False\n",
      "False\n",
      "False\n",
      "<class 'bool'>\n",
      "<class 'int'>\n"
     ]
    }
   ],
   "source": [
    "# Verifica si el primer valor es menor que el segundo\n",
    "print(2 < 3)\n",
    "print(5 < 5)\n",
    "print(3 < 2 < 1)\n",
    "print(True < False) # False\n",
    "print(False < 0) # False\n",
    "print(type(False))\n",
    "print(type(1))"
   ]
  },
  {
   "cell_type": "markdown",
   "metadata": {},
   "source": [
    "### Mayor o igual que >="
   ]
  },
  {
   "cell_type": "code",
   "execution_count": 12,
   "metadata": {},
   "outputs": [
    {
     "name": "stdout",
     "output_type": "stream",
     "text": [
      "False\n",
      "True\n",
      "True\n",
      "True\n",
      "True\n",
      "<class 'bool'>\n",
      "<class 'int'>\n"
     ]
    }
   ],
   "source": [
    "# Verifica si el primer valor es mayor o igual que el segundo\n",
    "print(2 >= 3)\n",
    "print(5 >= 5)\n",
    "print(3 >= 2 >= 1)\n",
    "print(True >= False) # True\n",
    "print(False >= 0) # True\n",
    "print(type(True))\n",
    "print(type(0))"
   ]
  },
  {
   "cell_type": "markdown",
   "metadata": {},
   "source": [
    "### Menor o igual que <="
   ]
  },
  {
   "cell_type": "code",
   "execution_count": 13,
   "metadata": {},
   "outputs": [
    {
     "name": "stdout",
     "output_type": "stream",
     "text": [
      "True\n",
      "True\n",
      "False\n",
      "False\n",
      "True\n",
      "<class 'bool'>\n",
      "<class 'int'>\n"
     ]
    }
   ],
   "source": [
    "# Verifica si el primer valor es menor o igual que el segundo\n",
    "print(2 <= 3)\n",
    "print(5 <= 5)\n",
    "print(3 <= 2 <= 1)\n",
    "print(True <= False) # False\n",
    "print(False <= 0) # True\n",
    "print(type(False))\n",
    "print(type(1))"
   ]
  },
  {
   "cell_type": "markdown",
   "metadata": {},
   "source": [
    "## Operadores Lógicos"
   ]
  },
  {
   "cell_type": "markdown",
   "metadata": {},
   "source": [
    "### and"
   ]
  },
  {
   "cell_type": "code",
   "execution_count": 14,
   "metadata": {},
   "outputs": [
    {
     "name": "stdout",
     "output_type": "stream",
     "text": [
      "True\n",
      "True\n",
      "False\n",
      "True\n",
      "False\n",
      "True\n"
     ]
    }
   ],
   "source": [
    "# Devuelve True si ambas condiciones son verdaderas\n",
    "print(2 < 3 and 1 > 0)\n",
    "print(2 + 2 == 4 and 3 != 4)\n",
    "print(False and False) # False\n",
    "print(True and True) # True\n",
    "print(False and True) # False\n",
    "print(True == 1 and False == 0)"
   ]
  },
  {
   "cell_type": "markdown",
   "metadata": {},
   "source": [
    "### or"
   ]
  },
  {
   "cell_type": "code",
   "execution_count": 15,
   "metadata": {},
   "outputs": [
    {
     "name": "stdout",
     "output_type": "stream",
     "text": [
      "True\n",
      "True\n",
      "False\n",
      "True\n",
      "True\n",
      "True\n"
     ]
    }
   ],
   "source": [
    "# Devuelve True si al menos una condición es verdadera\n",
    "print(2 < 3 or 1 > 0)\n",
    "print(2 + 2 == 4 or 3 == 4)\n",
    "print(False or False) # False\n",
    "print(True or True) # True\n",
    "print(False or True) # True\n",
    "print(True == 1 or False == 0)"
   ]
  },
  {
   "cell_type": "markdown",
   "metadata": {},
   "source": [
    "### not"
   ]
  },
  {
   "cell_type": "code",
   "execution_count": 16,
   "metadata": {},
   "outputs": [
    {
     "name": "stdout",
     "output_type": "stream",
     "text": [
      "False\n",
      "True\n",
      "False\n",
      "True\n",
      "False\n",
      "True\n"
     ]
    }
   ],
   "source": [
    "# Devuelve el opuesto de la condición (True se convierte en False, y False se convierte en True)\n",
    "print(not 2 < 3)\n",
    "print(2 + 2 == 4 and not 3 == 4)\n",
    "print(False and False) # False\n",
    "print(True or True) # True\n",
    "print(False and not True) # False\n",
    "print(True == 1 or False == 0)"
   ]
  },
  {
   "cell_type": "markdown",
   "metadata": {},
   "source": [
    "## Operadores de Asignación"
   ]
  },
  {
   "cell_type": "markdown",
   "metadata": {},
   "source": [
    "### ="
   ]
  },
  {
   "cell_type": "code",
   "execution_count": 17,
   "metadata": {},
   "outputs": [
    {
     "name": "stdout",
     "output_type": "stream",
     "text": [
      "2 5 1 True 0\n",
      "6\n",
      "7\n",
      "<class 'str'>\n"
     ]
    }
   ],
   "source": [
    "# Asigna un valor a una variable\n",
    "variable = 2\n",
    "x = 5\n",
    "y: int = 1\n",
    "z: bool = True\n",
    "w: int = '0'\n",
    "print(variable, x, y, z, w)\n",
    "print(x + y)\n",
    "print(x + y + z)\n",
    "print(type(w))\n",
    "# print(x + y + w) # error"
   ]
  },
  {
   "cell_type": "code",
   "execution_count": 18,
   "metadata": {},
   "outputs": [
    {
     "name": "stdout",
     "output_type": "stream",
     "text": [
      "Fatos 28 Europe\n"
     ]
    }
   ],
   "source": [
    "# También podemos declarar varias variables en la misma línea\n",
    "name, age, location = \"Fatos\", 28, \"Europe\"\n",
    "print(name, age, location)"
   ]
  },
  {
   "cell_type": "code",
   "execution_count": 19,
   "metadata": {},
   "outputs": [
    {
     "name": "stdout",
     "output_type": "stream",
     "text": [
      "1\n",
      "2\n",
      "2\n",
      "1\n",
      "1\n",
      "2\n",
      "2\n",
      "1\n"
     ]
    }
   ],
   "source": [
    "# Podemos utilizar esto como una forma de intercambiar valores entre variables. Por ejemplo, supongamos que tenemos dos variables, a y b, y queremos intercambiar sus valores.\n",
    "\n",
    "# Una forma lógica de hacerlo sería introducir una tercera variable que sirva como variable temporal:\n",
    "a, b = 1, 2\n",
    "\n",
    "print(a)  # 1\n",
    "print(b)  # 2\n",
    "\n",
    "c = a\n",
    "a = b\n",
    "b = c\n",
    "\n",
    "print(a)  # 2\n",
    "print(b)  # 1\n",
    "\n",
    "# Podemos hacerlo en una sola línea de la siguiente manera:\n",
    "a, b = 1, 2\n",
    "\n",
    "print(a)  # 1\n",
    "print(b)  # 2\n",
    "\n",
    "b, a = a, b\n",
    "\n",
    "print(a)  # 2\n",
    "print(b)  # 1"
   ]
  },
  {
   "cell_type": "markdown",
   "metadata": {},
   "source": [
    "### +="
   ]
  },
  {
   "cell_type": "code",
   "execution_count": 20,
   "metadata": {},
   "outputs": [
    {
     "name": "stdout",
     "output_type": "stream",
     "text": [
      "2 True 5 False\n",
      "3 6 5 False\n"
     ]
    }
   ],
   "source": [
    "# Suma el operando derecho al operando izquierdo y asigna el resultado al operando izquierdo\n",
    "x: int = 2\n",
    "y: bool = True # 1\n",
    "z: int = 5\n",
    "w: bool = False # 0\n",
    "print(x, y, z, w)\n",
    "x += y\n",
    "y += z\n",
    "z += w\n",
    "print(x, y, z, w)"
   ]
  },
  {
   "cell_type": "markdown",
   "metadata": {},
   "source": [
    "### -="
   ]
  },
  {
   "cell_type": "code",
   "execution_count": 21,
   "metadata": {},
   "outputs": [
    {
     "name": "stdout",
     "output_type": "stream",
     "text": [
      "2 True 5 False\n",
      "1 -4 5 False\n"
     ]
    }
   ],
   "source": [
    "# Resta el operando derecho al operando izquierdo y asigna el resultado al operando izquierdo\n",
    "x: int = 2\n",
    "y: bool = True # 1\n",
    "z: int = 5\n",
    "w: bool = False # 0\n",
    "print(x, y, z, w)\n",
    "x -= y\n",
    "y -= z\n",
    "z -= w\n",
    "print(x, y, z, w)"
   ]
  },
  {
   "cell_type": "markdown",
   "metadata": {},
   "source": [
    "### *="
   ]
  },
  {
   "cell_type": "code",
   "execution_count": 22,
   "metadata": {},
   "outputs": [
    {
     "name": "stdout",
     "output_type": "stream",
     "text": [
      "2 True 5 False\n",
      "2 5 0 False\n"
     ]
    }
   ],
   "source": [
    "# Multiplica el operando izquierdo por el operando derecho y asigna el resultado al operando izquierdo\n",
    "x: int = 2\n",
    "y: bool = True # 1\n",
    "z: int = 5\n",
    "w: bool = False # 0\n",
    "print(x, y, z, w)\n",
    "x *= y\n",
    "y *= z\n",
    "z *= w\n",
    "print(x, y, z, w)"
   ]
  },
  {
   "cell_type": "markdown",
   "metadata": {},
   "source": [
    "### /="
   ]
  },
  {
   "cell_type": "code",
   "execution_count": 23,
   "metadata": {},
   "outputs": [
    {
     "name": "stdout",
     "output_type": "stream",
     "text": [
      "2 True 5 False\n",
      "2.0 0.2 5.0 False\n"
     ]
    }
   ],
   "source": [
    "# Divide el operando izquierdo por el operando derecho y asigna el resultado al operando izquierdo\n",
    "x: int = 2\n",
    "y: bool = True # 1\n",
    "z: int = 5\n",
    "w: bool = False # 0\n",
    "print(x, y, z, w)\n",
    "x /= y\n",
    "y /= z\n",
    "z /= w + True\n",
    "print(x, y, z, w)"
   ]
  },
  {
   "cell_type": "markdown",
   "metadata": {},
   "source": [
    "### //="
   ]
  },
  {
   "cell_type": "code",
   "execution_count": 24,
   "metadata": {},
   "outputs": [
    {
     "name": "stdout",
     "output_type": "stream",
     "text": [
      "3 True 5 False\n",
      "1 0 2 False\n"
     ]
    }
   ],
   "source": [
    "# Realiza la división entera y asigna el resultado al operando izquierdo\n",
    "x: int = 3\n",
    "y: bool = True # 1\n",
    "z: int = 5\n",
    "w: bool = False # 0\n",
    "print(x, y, z, w)\n",
    "x //= y * 2\n",
    "y //= z\n",
    "z //= w + True + 1\n",
    "print(x, y, z, w)"
   ]
  },
  {
   "cell_type": "markdown",
   "metadata": {},
   "source": [
    "### %="
   ]
  },
  {
   "cell_type": "code",
   "execution_count": 25,
   "metadata": {},
   "outputs": [
    {
     "name": "stdout",
     "output_type": "stream",
     "text": [
      "2 True 5 False\n",
      "0 1 0 False\n"
     ]
    }
   ],
   "source": [
    "# Calcula el módulo y asigna el resultado al operando izquierdo\n",
    "x: int = 2\n",
    "y: bool = True # 1\n",
    "z: int = 5\n",
    "w: bool = False # 0\n",
    "print(x, y, z, w)\n",
    "x %= y\n",
    "y %= z\n",
    "z %= w + True\n",
    "print(x, y, z, w)"
   ]
  },
  {
   "cell_type": "markdown",
   "metadata": {},
   "source": [
    "### **="
   ]
  },
  {
   "cell_type": "code",
   "execution_count": 26,
   "metadata": {},
   "outputs": [
    {
     "name": "stdout",
     "output_type": "stream",
     "text": [
      "2 True 5 False\n",
      "16 1 25 False\n"
     ]
    }
   ],
   "source": [
    "# Eleva el operando izquierdo a la potencia del operando derecho y asigna el resultado al operando izquierdo\n",
    "x: int = 2\n",
    "y: bool = True # 1\n",
    "z: int = 5\n",
    "w: bool = False # 0\n",
    "print(x, y, z, w)\n",
    "x **= y + 3\n",
    "y **= z\n",
    "z **= w + True + 1\n",
    "print(x, y, z, w)"
   ]
  },
  {
   "cell_type": "markdown",
   "metadata": {},
   "source": [
    "## Operadores de Identidad\n",
    "\n",
    "Los operadores de identidad en Python se utilizan para comprobar si dos variables u objetos se refieren a la misma ubicación de memoria."
   ]
  },
  {
   "cell_type": "markdown",
   "metadata": {},
   "source": [
    "### is"
   ]
  },
  {
   "cell_type": "code",
   "execution_count": 27,
   "metadata": {},
   "outputs": [
    {
     "name": "stdout",
     "output_type": "stream",
     "text": [
      "True\n",
      "False\n",
      "True\n",
      "True\n"
     ]
    }
   ],
   "source": [
    "# is: Devuelve True si dos variables son el mismo objeto\n",
    "x = 5\n",
    "y: bool = x\n",
    "z: int = 2\n",
    "w: int = y\n",
    "print(y is x)\n",
    "print(z is y)\n",
    "print(w is x)\n",
    "print(w is y)"
   ]
  },
  {
   "cell_type": "markdown",
   "metadata": {},
   "source": [
    "### is not"
   ]
  },
  {
   "cell_type": "code",
   "execution_count": 28,
   "metadata": {},
   "outputs": [
    {
     "name": "stdout",
     "output_type": "stream",
     "text": [
      "False\n",
      "True\n",
      "False\n",
      "False\n"
     ]
    }
   ],
   "source": [
    "# Devuelve True si dos variables no son el mismo objeto\n",
    "x = 5\n",
    "y: bool = x\n",
    "z: int = 2\n",
    "w: int = y\n",
    "print(y is not x)\n",
    "print(z is not y)\n",
    "print(w is not x)\n",
    "print(w is not y)"
   ]
  },
  {
   "cell_type": "markdown",
   "metadata": {},
   "source": [
    "## Operadores de Pertenencia\n",
    "\n",
    "Los operadores de pertenencia en Python se utilizan para verificar si un valor es miembro de una secuencia o contenedor, como una lista, tupla, cadena o conjunto."
   ]
  },
  {
   "cell_type": "markdown",
   "metadata": {},
   "source": [
    "### in"
   ]
  },
  {
   "cell_type": "code",
   "execution_count": 29,
   "metadata": {},
   "outputs": [
    {
     "name": "stdout",
     "output_type": "stream",
     "text": [
      "True\n",
      "False\n"
     ]
    }
   ],
   "source": [
    "# Devuelve True si se encuentra un valor en una secuencia (por ejemplo, lista, tupla, cadena)\n",
    "my_list: list[int] = [1, 2, 3, 4]\n",
    "# Check if a value is in the list\n",
    "result: bool = 3 in my_list\n",
    "print(result)  # True\n",
    "result = 6 in my_list\n",
    "print(result)  # False"
   ]
  },
  {
   "cell_type": "markdown",
   "metadata": {},
   "source": [
    "### not in"
   ]
  },
  {
   "cell_type": "code",
   "execution_count": 30,
   "metadata": {},
   "outputs": [
    {
     "name": "stdout",
     "output_type": "stream",
     "text": [
      "True\n",
      "False\n"
     ]
    }
   ],
   "source": [
    "# Devuelve True si un valor no se encuentra en una secuencia\n",
    "my_string = \"Hello, World!\"\n",
    "# Check if a substring is not in the string\n",
    "result = \"Python\" not in my_string\n",
    "print(result)  # True\n",
    "result: bool = \"World\" not in my_string\n",
    "print(result)  # False"
   ]
  },
  {
   "cell_type": "markdown",
   "metadata": {},
   "source": [
    "## Operadores a Nivel de Bits\n",
    "\n",
    "Los operadores a nivel de bits en Python operan sobre los bits individuales de los enteros.\n",
    "\n",
    "Estos operadores suelen utilizarse en programación de bajo nivel, sistemas integrados y al trabajar con datos binarios. También pueden ser útiles para ciertas tareas de optimización y manipulación en Python."
   ]
  },
  {
   "cell_type": "markdown",
   "metadata": {},
   "source": [
    "### &"
   ]
  },
  {
   "cell_type": "code",
   "execution_count": 31,
   "metadata": {},
   "outputs": [
    {
     "name": "stdout",
     "output_type": "stream",
     "text": [
      "1\n"
     ]
    }
   ],
   "source": [
    "# El operador `&` realiza una operación AND a nivel de bits en las representaciones binarias de los números.\n",
    "# Bitwise AND of 5 and 3\n",
    "result: int = 5 & 3\n",
    "print(result)  # Output: 1 (binary: 101 & 011 = 001)"
   ]
  },
  {
   "cell_type": "markdown",
   "metadata": {},
   "source": [
    "### |"
   ]
  },
  {
   "cell_type": "code",
   "execution_count": 32,
   "metadata": {},
   "outputs": [
    {
     "name": "stdout",
     "output_type": "stream",
     "text": [
      "7\n"
     ]
    }
   ],
   "source": [
    "# El operador `|` realiza una operación OR a nivel de bits.\n",
    "# Bitwise OR of 5 and 3\n",
    "result: int = 5 | 3\n",
    "print(result)  # Output: 7 (binary: 101 | 011 = 111)"
   ]
  },
  {
   "cell_type": "markdown",
   "metadata": {},
   "source": [
    "### ^"
   ]
  },
  {
   "cell_type": "code",
   "execution_count": 33,
   "metadata": {},
   "outputs": [
    {
     "name": "stdout",
     "output_type": "stream",
     "text": [
      "6\n"
     ]
    }
   ],
   "source": [
    "# El operador `^` realiza una operación XOR a nivel de bits.\n",
    "# Bitwise XOR of 5 and 3\n",
    "result: int = 5 ^ 3\n",
    "print(result)  # Output: 6 (binary: 101 ^ 011 = 110)"
   ]
  },
  {
   "cell_type": "markdown",
   "metadata": {},
   "source": [
    "### ~"
   ]
  },
  {
   "cell_type": "code",
   "execution_count": 34,
   "metadata": {},
   "outputs": [
    {
     "name": "stdout",
     "output_type": "stream",
     "text": [
      "-6\n",
      "0b101\n",
      "-0b110\n",
      "-0b110\n"
     ]
    }
   ],
   "source": [
    "# El operador `~` invierte los bits de un número.\n",
    "# Bitwise NOT of 5\n",
    "result: int = ~5\n",
    "print(result)  # Output: -6 (binary: ~101 = 110)\n",
    "print(bin(5))\n",
    "print(bin(~5))\n",
    "print(bin(-6))"
   ]
  },
  {
   "cell_type": "markdown",
   "metadata": {},
   "source": [
    "### <<"
   ]
  },
  {
   "cell_type": "code",
   "execution_count": 35,
   "metadata": {},
   "outputs": [
    {
     "name": "stdout",
     "output_type": "stream",
     "text": [
      "20\n"
     ]
    }
   ],
   "source": [
    "# El operador `<<` desplaza los bits hacia la izquierda por el número especificado de posiciones.\n",
    "# Left shifting 5 by 2 positions\n",
    "result: int = 5 << 2\n",
    "print(result)  # Output: 20 (binary: 101 << 2 = 10100)"
   ]
  },
  {
   "cell_type": "markdown",
   "metadata": {},
   "source": [
    "### >>"
   ]
  },
  {
   "cell_type": "code",
   "execution_count": 36,
   "metadata": {},
   "outputs": [
    {
     "name": "stdout",
     "output_type": "stream",
     "text": [
      "5\n"
     ]
    }
   ],
   "source": [
    "# El operador `>>` desplaza los bits hacia la derecha por el número especificado de posiciones.\n",
    "# Right shifting 20 by 2 positions\n",
    "result: int = 20 >> 2\n",
    "print(result)  # Output: 5 (binary: 10100 >> 2 = 101)"
   ]
  }
 ],
 "metadata": {
  "kernelspec": {
   "display_name": ".venv",
   "language": "python",
   "name": "python3"
  },
  "language_info": {
   "codemirror_mode": {
    "name": "ipython",
    "version": 3
   },
   "file_extension": ".py",
   "mimetype": "text/x-python",
   "name": "python",
   "nbconvert_exporter": "python",
   "pygments_lexer": "ipython3",
   "version": "3.12.0"
  }
 },
 "nbformat": 4,
 "nbformat_minor": 2
}
