{
 "cells": [
  {
   "cell_type": "markdown",
   "metadata": {},
   "source": [
    "# Variables\n",
    "\n",
    "En Python, una variable es un nombre simbólico que se refiere a un valor almacenado en la memoria de la computadora. Las variables se utilizan para almacenar y manipular datos en tus programas. Aquí hay algunos puntos clave sobre las variables en Python:\n",
    "\n",
    "* [Reglas de Nomenclatura de Variables](#reglas-de-nomenclatura-de-variables)\n",
    "* [Asignación de Variables](#asignación-de-variables)\n",
    "* [Tipos de Datos](#tipos-de-datos)\n",
    "* [Reasignación de Variables](#reasignación-de-variables)\n",
    "* [Ámbito de Variables](#alcance-de-las-variables)\n",
    "* [Constantes](#constantes)\n",
    "* [Eliminación de Variables](#eliminación-de-variables)\n",
    "* [Asignación Múltiple](#asignación-múltiple)\n",
    "* [Tipos de Variables y Conversión](#tipos-de-variables-y-conversión)\n",
    "\n",
    "Cada variable en Python es un objeto.\n",
    "\n",
    "Una variable se crea en el momento en que se inicializa con un valor.\n",
    "\n",
    "En el momento en que desees cambiar un valor, simplemente puedes hacerlo en un solo lugar y ese nuevo valor que acabas de cambiar se reflejará en todos los demás lugares donde se use esa variable.\n",
    "\n",
    "Podemos utilizar prácticamente cualquier nombre que deseemos, pero es una mejor práctica utilizar nombres que tanto tú como tus colegas que trabajen contigo puedan entender."
   ]
  },
  {
   "cell_type": "markdown",
   "metadata": {},
   "source": [
    "## Reglas de Nomenclatura de Variables\n",
    "\n",
    "* Los nombres de las variables distinguen entre mayúsculas y minúsculas, lo que significa que **mivar** y **miVar** se consideran variables diferentes.\n",
    "* Los nombres de las variables pueden consistir en letras (tanto mayúsculas como minúsculas), dígitos y guiones bajos.\n",
    "* Los nombres de las variables deben comenzar con una letra (a-z, A-Z) o un guion bajo (_).\n",
    "* La convención de nomenclatura en Python es **snake case** [Snake case](https://es.wikipedia.org/wiki/Snake_case)."
   ]
  },
  {
   "cell_type": "markdown",
   "metadata": {},
   "source": [
    "### Snake case"
   ]
  },
  {
   "cell_type": "code",
   "execution_count": 1,
   "metadata": {},
   "outputs": [],
   "source": [
    "# Snake case es la convención de nomenclatura en Python\n",
    "# \n",
    "# my_var\n",
    "# MY_VAR\n",
    "# this_is_another_variable\n",
    "# _also_this_is_legal\n",
    "# __my_var\n",
    "# numeral_123\n",
    "# CAPITAL_LETTERS_TO_INDICATE_CONSTANTS\n",
    "#\n"
   ]
  },
  {
   "cell_type": "markdown",
   "metadata": {},
   "source": [
    "## Asignación de variables\n",
    "\n",
    "Puede asignar un valor a una variable usando el operador =. Por ejemplo:"
   ]
  },
  {
   "cell_type": "code",
   "execution_count": 2,
   "metadata": {},
   "outputs": [
    {
     "name": "stdout",
     "output_type": "stream",
     "text": [
      "42\n",
      "John\n"
     ]
    }
   ],
   "source": [
    "# Asignación de variables =\n",
    "my_variable = 42\n",
    "name = \"John\"\n",
    "\n",
    "print(my_variable)\n",
    "print(name)"
   ]
  },
  {
   "cell_type": "markdown",
   "metadata": {},
   "source": [
    "## Tipos de datos\n",
    "\n",
    "Python es de tipado dinámico, lo que significa que no es necesario declarar explícitamente el tipo de datos de una variable. El tipo de una variable se determina automáticamente en función del valor que contiene. Los tipos de datos comunes en Python incluyen integers, floats, strings, lists, dictionaries, y más."
   ]
  },
  {
   "cell_type": "code",
   "execution_count": 3,
   "metadata": {},
   "outputs": [
    {
     "name": "stdout",
     "output_type": "stream",
     "text": [
      "25 <class 'int'>\n",
      "5.9 <class 'float'>\n",
      "Alice <class 'str'>\n",
      "[1, 2, 3] <class 'list'>\n",
      "{'key': 'value'} <class 'dict'>\n"
     ]
    }
   ],
   "source": [
    "# Tipos de datos\n",
    "age = 25        # Integer\n",
    "height = 5.9    # Float\n",
    "name = \"Alice\"  # String\n",
    "my_list = [1, 2, 3]  # List\n",
    "my_dict = {'key': 'value'}  # Dictionary\n",
    "\n",
    "print(age, type(age))\n",
    "print(height, type(height))\n",
    "print(name, type(name))\n",
    "print(my_list, type(my_list))\n",
    "print(my_dict, type(my_dict))"
   ]
  },
  {
   "cell_type": "markdown",
   "metadata": {},
   "source": [
    "## Reasignación de variables\n",
    "\n",
    "Puede cambiar el valor de una variable asignándole un nuevo valor. Python actualizará el contenido de la variable en consecuencia."
   ]
  },
  {
   "cell_type": "code",
   "execution_count": 4,
   "metadata": {},
   "outputs": [
    {
     "name": "stdout",
     "output_type": "stream",
     "text": [
      "5\n",
      "10\n"
     ]
    }
   ],
   "source": [
    "# Reasignación de variable\n",
    "x = 5\n",
    "print(x)\n",
    "x = 10  # Reassigning the value of x\n",
    "\n",
    "print(x)"
   ]
  },
  {
   "cell_type": "markdown",
   "metadata": {},
   "source": [
    "## Alcance de las variables\n",
    "\n",
    "Las variables tienen diferentes alcances en Python. El alcance de una variable determina dónde se puede acceder a ella en su código. Los dos tipos principales de alcance son global y local. Las variables definidas fuera de cualquier función se consideran globales, mientras que las variables definidas dentro de una función son locales.\n",
    "\n",
    "Este ejemplo ilustra la distinción entre alcance de variable global y local en Python. Se puede acceder a las variables globales desde cualquier parte del programa, mientras que las variables locales se limitan a la función o bloque específico en el que están definidas:"
   ]
  },
  {
   "cell_type": "code",
   "execution_count": 5,
   "metadata": {},
   "outputs": [
    {
     "name": "stdout",
     "output_type": "stream",
     "text": [
      "Inside the function:\n",
      "local_variable = 5\n",
      "global_variable = 10\n",
      "Outside the function: global_variable = 10\n",
      "After modifying global_variable: 20\n"
     ]
    }
   ],
   "source": [
    "# Alcance de las variables\n",
    "\n",
    "# Global variable\n",
    "global_variable = 10\n",
    "\n",
    "def my_function():\n",
    "    # Local variable\n",
    "    local_variable = 5\n",
    "    print(\"Inside the function:\")\n",
    "    print(\"local_variable =\", local_variable)  # Accessing the local variable\n",
    "    print(\"global_variable =\", global_variable)  # Accessing the global variable\n",
    "\n",
    "my_function()\n",
    "\n",
    "# Intentar acceder a local_variable fuera de la función generará un error.\n",
    "# Descomentar la línea siguiente provocaría un NameError.\n",
    "# print(\"Outside the function: local_variable =\", local_variable)\n",
    "\n",
    "print(\"Outside the function: global_variable =\", global_variable)  # Accessing the global variable\n",
    "\n",
    "# También puede modificar la variable global dentro de una función usando la palabra clave global.\n",
    "def modify_global_variable():\n",
    "    global global_variable\n",
    "    global_variable = 20\n",
    "\n",
    "modify_global_variable()\n",
    "\n",
    "print(\"After modifying global_variable:\", global_variable)  # Global variable has been modified\n"
   ]
  },
  {
   "cell_type": "markdown",
   "metadata": {},
   "source": [
    "En el ejemplo anterior:\n",
    "\n",
    "1. **global_variable** es una variable global, definida fuera de cualquier función, y se puede acceder a ella tanto desde dentro como desde fuera de la función.\n",
    "2. **variable_local** es una variable local, definida dentro de my_function. Solo es accesible dentro del alcance de la función. Intentar acceder a él fuera de la función daría como resultado un **NameError**.\n",
    "3. La función **modify_global_variable** demuestra cómo se puede modificar una variable global desde dentro de una función usando la palabra clave **global**."
   ]
  },
  {
   "cell_type": "markdown",
   "metadata": {},
   "source": [
    "## Constantes\n",
    "\n",
    "Si bien Python no tiene constantes como otros lenguajes de programación, es una práctica común usar nombres de variables en letras mayúsculas para indicar que el valor de una variable no debe cambiarse. Se trata de una convención más que de una regla impuesta por el lenguaje."
   ]
  },
  {
   "cell_type": "code",
   "execution_count": 6,
   "metadata": {},
   "outputs": [
    {
     "name": "stdout",
     "output_type": "stream",
     "text": [
      "3.14159\n"
     ]
    }
   ],
   "source": [
    "# Constante\n",
    "PI = 3.14159\n",
    "\n",
    "print(PI)"
   ]
  },
  {
   "cell_type": "markdown",
   "metadata": {},
   "source": [
    "## Eliminación de variables\n",
    "\n",
    "Puede eliminar una variable usando la declaración del. Una vez eliminada, la variable ya no está disponible."
   ]
  },
  {
   "cell_type": "code",
   "execution_count": 7,
   "metadata": {},
   "outputs": [
    {
     "name": "stdout",
     "output_type": "stream",
     "text": [
      "10\n"
     ]
    }
   ],
   "source": [
    "# Eliminación de variables\n",
    "\n",
    "x = 10\n",
    "print(x)\n",
    "del x  # Deletes the variable x\n",
    "\n",
    "# print(x) # NameError, name 'x' is not defined"
   ]
  },
  {
   "cell_type": "markdown",
   "metadata": {},
   "source": [
    "## Asignación múltiple\n",
    "\n",
    "Puede asignar valores a múltiples variables en una sola línea."
   ]
  },
  {
   "cell_type": "code",
   "execution_count": 8,
   "metadata": {},
   "outputs": [
    {
     "name": "stdout",
     "output_type": "stream",
     "text": [
      "1\n",
      "2\n",
      "3\n"
     ]
    }
   ],
   "source": [
    "# Asignación múltiple\n",
    "a, b, c = 1, 2, 3\n",
    "\n",
    "print(a)\n",
    "print(b)\n",
    "print(c)"
   ]
  },
  {
   "cell_type": "markdown",
   "metadata": {},
   "source": [
    "## Tipos de variables y conversión\n",
    "\n",
    "Puede cambiar el tipo de una variable mediante conversión, como convertir un número entero en una cadena o viceversa."
   ]
  },
  {
   "cell_type": "code",
   "execution_count": 9,
   "metadata": {},
   "outputs": [
    {
     "name": "stdout",
     "output_type": "stream",
     "text": [
      "5 <class 'int'>\n",
      "5 <class 'str'>\n"
     ]
    }
   ],
   "source": [
    "# Tipos de variables y conversión\n",
    "x = 5\n",
    "y = str(x)  # Convierte el número entero x en una cadena y lo asigna a y\n",
    "\n",
    "print(x, type(x))\n",
    "print(y, type(y))"
   ]
  },
  {
   "cell_type": "markdown",
   "metadata": {},
   "source": [
    "---\n",
    "Estos son los conceptos básicos de variables en Python. Las variables son fundamentales para la programación en Python y desempeñan un papel crucial en el almacenamiento y manipulación de datos dentro de sus programas."
   ]
  }
 ],
 "metadata": {
  "kernelspec": {
   "display_name": ".venv",
   "language": "python",
   "name": "python3"
  },
  "language_info": {
   "codemirror_mode": {
    "name": "ipython",
    "version": 3
   },
   "file_extension": ".py",
   "mimetype": "text/x-python",
   "name": "python",
   "nbconvert_exporter": "python",
   "pygments_lexer": "ipython3",
   "version": "3.12.0"
  }
 },
 "nbformat": 4,
 "nbformat_minor": 2
}
