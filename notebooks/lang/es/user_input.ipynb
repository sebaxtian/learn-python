{
 "cells": [
  {
   "cell_type": "markdown",
   "metadata": {},
   "source": [
    "# Entrada del usuario\n",
    "\n",
    "Las entradas del usuario en Python se pueden obtener usando la función input(). La función input() le permite interactuar con su programa Python ingresando datos a través del teclado."
   ]
  },
  {
   "cell_type": "code",
   "execution_count": 4,
   "metadata": {},
   "outputs": [
    {
     "name": "stdout",
     "output_type": "stream",
     "text": [
      "You entered: Python is nice\n"
     ]
    }
   ],
   "source": [
    "# Here's a basic example of how to use input() to get user input:\n",
    "\"\"\"\n",
    "In this example, the input() function displays the prompt \"Enter something: \" to the user, and it waits for the user to type something and press Enter.\n",
    "The user's input is stored in the user_input variable, which you can then use in your program.\n",
    "\"\"\"\n",
    "\n",
    "user_input = input(\"Enter something: \")\n",
    "print(\"You entered:\", user_input)"
   ]
  },
  {
   "cell_type": "markdown",
   "metadata": {},
   "source": [
    "## Aquí hay algunas cosas importantes a tener en cuenta al trabajar con entradas de usuario en Python:"
   ]
  },
  {
   "cell_type": "markdown",
   "metadata": {},
   "source": [
    "### 1. input() siempre devuelve una cadena:\n",
    "\n",
    "Independientemente de lo que ingrese el usuario, input() lo devuelve como una cadena. Si necesita utilizar la entrada como un tipo de datos diferente, como un número entero o un flotante, debe convertirla usando las funciones int() o float()."
   ]
  },
  {
   "cell_type": "code",
   "execution_count": 5,
   "metadata": {},
   "outputs": [
    {
     "name": "stdout",
     "output_type": "stream",
     "text": [
      "<class 'str'> <class 'int'>\n"
     ]
    }
   ],
   "source": [
    "# input() always returns a string:\n",
    "user_input = input(\"Enter a number: \")\n",
    "number = int(user_input)  # Convert the input to an integer\n",
    "\n",
    "print(type(user_input), type(number))"
   ]
  },
  {
   "cell_type": "markdown",
   "metadata": {},
   "source": [
    "### 2. Manejar la validación de la entrada del usuario:\n",
    "\n",
    "Debe validar la entrada del usuario según sea necesario para garantizar que coincida con los requisitos de su programa. Por ejemplo, es posible que desee comprobar si la entrada es un número válido, dentro de un rango específico o contiene el formato esperado."
   ]
  },
  {
   "cell_type": "markdown",
   "metadata": {},
   "source": [
    "### 3. La entrada del usuario puede ser peligrosa:\n",
    "\n",
    "Cuando trabaje con entradas de usuarios, tenga cuidado con la seguridad. Las entradas del usuario pueden ser una fuente potencial de vulnerabilidades de seguridad como la inyección de SQL o la inyección de código. Si está procesando la entrada del usuario para realizar acciones como consultas a bases de datos o ejecutar código, asegúrese de desinfectar y validar la entrada para evitar tales vulnerabilidades."
   ]
  },
  {
   "cell_type": "code",
   "execution_count": 6,
   "metadata": {},
   "outputs": [
    {
     "name": "stdout",
     "output_type": "stream",
     "text": [
      "Valid age: 35\n"
     ]
    }
   ],
   "source": [
    "# Handle user input validation, user input can be dangerous:\n",
    "while True:\n",
    "    age_input = input(\"Enter your age (between 18 and 100): \")\n",
    "    \n",
    "    try:\n",
    "        age = int(age_input)  # Convert the input to an integer\n",
    "        \n",
    "        if 18 <= age <= 100:\n",
    "            print(\"Valid age:\", age)\n",
    "            break\n",
    "        else:\n",
    "            print(\"Age must be between 18 and 100. Try again.\")\n",
    "    except ValueError:\n",
    "        print(\"Invalid input. Please enter a valid number for your age.\")"
   ]
  }
 ],
 "metadata": {
  "kernelspec": {
   "display_name": ".venv",
   "language": "python",
   "name": "python3"
  },
  "language_info": {
   "codemirror_mode": {
    "name": "ipython",
    "version": 3
   },
   "file_extension": ".py",
   "mimetype": "text/x-python",
   "name": "python",
   "nbconvert_exporter": "python",
   "pygments_lexer": "ipython3",
   "version": "3.12.0"
  }
 },
 "nbformat": 4,
 "nbformat_minor": 2
}
