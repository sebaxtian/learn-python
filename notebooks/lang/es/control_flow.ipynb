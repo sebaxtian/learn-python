{
 "cells": [
  {
   "cell_type": "markdown",
   "metadata": {},
   "source": [
    "# Control de flujo\n",
    "\n",
    "El control de flujo en Python se refiere al orden en que se ejecutan las declaraciones en un programa Python. Python proporciona varias construcciones de control de flujo para ayudarlo a administrar el flujo de su programa, incluidas sentencias condicionales y bucles.\n",
    "\n",
    "Estas son las estructuras de control de flujo principales en Python:\n",
    "\n",
    "* [Declaraciones condicionales](#declaraciones-condicionales)\n",
    "* [Bucles](#bucles)\n",
    "* [Loop Control Statements](#loop-control-statements)\n",
    "* [Manejo de excepciones](#manejo-de-excepciones)\n",
    "* [Switch-Like Behavior](#switch-like-behavior)\n",
    "\n",
    "Estas estructuras de control de flujo le permiten escribir programas más dinámicos y flexibles al controlar el orden de ejecución en función de condiciones, bucles y excepciones. Comprender y utilizar eficazmente estas construcciones es crucial para escribir código Python eficiente y funcional."
   ]
  },
  {
   "cell_type": "markdown",
   "metadata": {},
   "source": [
    "## Declaraciones condicionales\n",
    "\n",
    "Declaraciones **if**: se utilizan para ejecutar un bloque de código si una condición especificada es verdadera. También puedes usar **elif** (abreviatura de \"**else if**\") y else para manejar múltiples condiciones.\n",
    "\n",
    "Estos ejemplos demuestran las diferentes formas en que puede utilizar declaraciones condicionales en Python para controlar el flujo de su código en función de condiciones específicas."
   ]
  },
  {
   "cell_type": "code",
   "execution_count": 1,
   "metadata": {},
   "outputs": [
    {
     "name": "stdout",
     "output_type": "stream",
     "text": [
      "You are an adult.\n",
      "Positive number\n"
     ]
    }
   ],
   "source": [
    "\"\"\"\n",
    "if condition:\n",
    "    # Code to execute if condition is True\n",
    "elif another_condition:\n",
    "    # Code to execute if another_condition is True\n",
    "else:\n",
    "    # Code to execute if no conditions are True\n",
    "\"\"\"\n",
    "\n",
    "# Basic if statement\n",
    "age = 20\n",
    "\n",
    "if age >= 18:\n",
    "    print(\"You are an adult.\")\n",
    "\n",
    "# if, elif, and else statements\n",
    "num = 5\n",
    "\n",
    "if num > 0:\n",
    "    print(\"Positive number\")\n",
    "elif num < 0:\n",
    "    print(\"Negative number\")\n",
    "else:\n",
    "    print(\"Zero\")"
   ]
  },
  {
   "cell_type": "code",
   "execution_count": 2,
   "metadata": {},
   "outputs": [
    {
     "name": "stdout",
     "output_type": "stream",
     "text": [
      "10 5\n",
      "Both x and y are positive.\n"
     ]
    }
   ],
   "source": [
    "# Nested if statements\n",
    "x = 10\n",
    "y = 5\n",
    "\n",
    "print(x, y)\n",
    "\n",
    "if x > 0:\n",
    "    if y > 0:\n",
    "        print(\"Both x and y are positive.\")\n",
    "    else:\n",
    "        print(\"x is positive, but y is not.\")\n",
    "else:\n",
    "    print(\"x is not positive.\")"
   ]
  },
  {
   "cell_type": "code",
   "execution_count": 3,
   "metadata": {},
   "outputs": [
    {
     "name": "stdout",
     "output_type": "stream",
     "text": [
      "True Sunny\n"
     ]
    }
   ],
   "source": [
    "# Ternary conditional expression\n",
    "# You can use a ternary conditional expression to assign a value based on a condition in a single line.\n",
    "is_sunny = True\n",
    "weather = \"Sunny\" if is_sunny else \"Rainy\"\n",
    "\n",
    "print(is_sunny, weather)"
   ]
  },
  {
   "cell_type": "code",
   "execution_count": 4,
   "metadata": {},
   "outputs": [
    {
     "name": "stdout",
     "output_type": "stream",
     "text": [
      "Apple is in the list of fruits.\n",
      "['apple', 'banana', 'cherry']\n"
     ]
    }
   ],
   "source": [
    "# Checking membership in a list\n",
    "# You can use the in operator to check if an item is present in a list.\n",
    "fruits = ['apple', 'banana', 'cherry']\n",
    "\n",
    "if 'apple' in fruits:\n",
    "    print(\"Apple is in the list of fruits.\")\n",
    "\n",
    "print(fruits)"
   ]
  },
  {
   "cell_type": "code",
   "execution_count": 5,
   "metadata": {},
   "outputs": [
    {
     "name": "stdout",
     "output_type": "stream",
     "text": [
      "It's a sunny weekday.\n",
      "True False\n"
     ]
    }
   ],
   "source": [
    "# Logical operators (and, or, not)\n",
    "# You can use logical operators to combine conditions.\n",
    "is_weekday = True\n",
    "is_raining = False\n",
    "\n",
    "if is_weekday and not is_raining:\n",
    "    print(\"It's a sunny weekday.\")\n",
    "\n",
    "print(is_weekday, is_raining)"
   ]
  },
  {
   "cell_type": "code",
   "execution_count": 6,
   "metadata": {},
   "outputs": [
    {
     "name": "stdout",
     "output_type": "stream",
     "text": [
      "It's either hot or sunny, but not both.\n",
      "25 True\n"
     ]
    }
   ],
   "source": [
    "# Multiple conditions\n",
    "# You can combine multiple conditions using logical operators.\n",
    "temperature = 25\n",
    "is_sunny = True\n",
    "\n",
    "if temperature > 30 and is_sunny:\n",
    "    print(\"It's a hot and sunny day.\")\n",
    "elif temperature > 30 or is_sunny:\n",
    "    print(\"It's either hot or sunny, but not both.\")\n",
    "else:\n",
    "    print(\"The weather is neither hot nor sunny.\")\n",
    "\n",
    "print(temperature, is_sunny)"
   ]
  },
  {
   "cell_type": "markdown",
   "metadata": {},
   "source": [
    "## Bucles\n",
    "\n",
    "Bucle **for**: se utiliza para iterar sobre una secuencia (como una lista, tupla o cadena) o cualquier **objeto iterable**.\n",
    "\n",
    "Bucle **while**: **ejecuta repetidamente un bloque de código** siempre que una condición especificada sea verdadera.\n",
    "\n",
    "Estos ejemplos ilustran cómo utilizar los bucles **for** y **while**, junto con **declaraciones de control**, para realizar diversas tareas de bucle en Python."
   ]
  },
  {
   "cell_type": "code",
   "execution_count": 7,
   "metadata": {},
   "outputs": [
    {
     "name": "stdout",
     "output_type": "stream",
     "text": [
      "1\n",
      "2\n",
      "3\n",
      "4\n",
      "5\n",
      "1\n",
      "2\n",
      "3\n",
      "4\n",
      "5\n"
     ]
    }
   ],
   "source": [
    "\"\"\"\n",
    "for item in iterable:\n",
    "    # Code to execute for each item in the iterable\n",
    "\n",
    "while condition:\n",
    "    # Code to execute as long as the condition is True\n",
    "\n",
    "\"\"\"\n",
    "\n",
    "# for Loop\n",
    "numbers = [1, 2, 3, 4, 5]\n",
    "\n",
    "for num in numbers:\n",
    "    print(num)\n",
    "\n",
    "\n",
    "# while Loop\n",
    "count = 1\n",
    "\n",
    "while count <= 5:\n",
    "    print(count)\n",
    "    count += 1\n"
   ]
  },
  {
   "cell_type": "code",
   "execution_count": 8,
   "metadata": {},
   "outputs": [
    {
     "name": "stdout",
     "output_type": "stream",
     "text": [
      "1\n",
      "2\n",
      "3\n",
      "4\n",
      "5\n"
     ]
    }
   ],
   "source": [
    "# for Loop with range\n",
    "# You can use the range() function to generate a sequence of numbers for iteration.\n",
    "for i in range(1, 6):  # Iterates from 1 to 5 (inclusive)\n",
    "    print(i)"
   ]
  },
  {
   "cell_type": "code",
   "execution_count": 9,
   "metadata": {},
   "outputs": [
    {
     "name": "stdout",
     "output_type": "stream",
     "text": [
      "H\n",
      "e\n",
      "l\n",
      "l\n",
      "o\n",
      ",\n",
      " \n",
      "P\n",
      "y\n",
      "t\n",
      "h\n",
      "o\n",
      "n\n",
      "!\n"
     ]
    }
   ],
   "source": [
    "# for Loop with strings\n",
    "# You can loop through characters in a string.\n",
    "text = \"Hello, Python!\"\n",
    "\n",
    "for char in text:\n",
    "    print(char)"
   ]
  },
  {
   "cell_type": "code",
   "execution_count": 10,
   "metadata": {},
   "outputs": [
    {
     "name": "stdout",
     "output_type": "stream",
     "text": [
      "(0, 0)\n",
      "(0, 1)\n",
      "(1, 0)\n",
      "(1, 1)\n",
      "(2, 0)\n",
      "(2, 1)\n"
     ]
    }
   ],
   "source": [
    "# Nested Loops\n",
    "# You can use nested loops to iterate through multiple levels of data.\n",
    "for i in range(3):\n",
    "    for j in range(2):\n",
    "        print(f\"({i}, {j})\")"
   ]
  },
  {
   "cell_type": "code",
   "execution_count": 11,
   "metadata": {},
   "outputs": [
    {
     "name": "stdout",
     "output_type": "stream",
     "text": [
      "name Alice\n",
      "age 30\n",
      "city New York\n",
      "Alice\n",
      "30\n",
      "New York\n",
      "name Alice\n",
      "age 30\n",
      "city New York\n"
     ]
    }
   ],
   "source": [
    "# Looping through a dictionary\n",
    "# You can iterate through a dictionary's keys, values, or key-value pairs.\n",
    "person = {'name': 'Alice', 'age': 30, 'city': 'New York'}\n",
    "\n",
    "# Iterate through keys\n",
    "for key in person:\n",
    "    print(key, person[key])\n",
    "\n",
    "# Iterate through values\n",
    "for value in person.values():\n",
    "    print(value)\n",
    "\n",
    "# Iterate through key-value pairs\n",
    "for key, value in person.items():\n",
    "    print(key, value)"
   ]
  },
  {
   "cell_type": "markdown",
   "metadata": {},
   "source": [
    "## Loop Control Statements\n",
    "\n",
    "Las declaraciones de control de bucle se utilizan para modificar el comportamiento de los bucles.\n",
    "\n",
    "**break**: finaliza el bucle prematuramente, independientemente de la condición del bucle.\n",
    "\n",
    "**continue**: omite el resto de la iteración actual y continúa con la siguiente iteración del ciclo.\n",
    "\n",
    "Estos ejemplos demuestran el uso de declaraciones de control de bucles en Python para alterar el flujo y el comportamiento de los bucles en función de determinadas condiciones."
   ]
  },
  {
   "cell_type": "code",
   "execution_count": 12,
   "metadata": {},
   "outputs": [
    {
     "name": "stdout",
     "output_type": "stream",
     "text": [
      "1\n",
      "2\n"
     ]
    }
   ],
   "source": [
    "# break Statement\n",
    "# The break statement is used to exit a loop prematurely when a certain condition is met.\n",
    "numbers = [1, 2, 3, 4, 5]\n",
    "\n",
    "for num in numbers:\n",
    "    if num == 3:\n",
    "        break\n",
    "    print(num)"
   ]
  },
  {
   "cell_type": "code",
   "execution_count": 13,
   "metadata": {},
   "outputs": [
    {
     "name": "stdout",
     "output_type": "stream",
     "text": [
      "1\n",
      "2\n",
      "4\n",
      "5\n"
     ]
    }
   ],
   "source": [
    "# continue Statement\n",
    "# The continue statement is used to skip the current iteration of a loop and move to the next one.\n",
    "numbers = [1, 2, 3, 4, 5]\n",
    "\n",
    "for num in numbers:\n",
    "    if num == 3:\n",
    "        continue\n",
    "    print(num)"
   ]
  },
  {
   "cell_type": "code",
   "execution_count": 14,
   "metadata": {},
   "outputs": [
    {
     "name": "stdout",
     "output_type": "stream",
     "text": [
      "0\n",
      "1\n",
      "3\n",
      "4\n"
     ]
    }
   ],
   "source": [
    "# pass Statement\n",
    "# The pass statement is a null operation, meaning it does nothing.\n",
    "# It is often used as a placeholder when a statement is syntactically required but you don't want to execute any code.\n",
    "for i in range(5):\n",
    "    if i == 2:\n",
    "        pass\n",
    "    else:\n",
    "        print(i)"
   ]
  },
  {
   "cell_type": "code",
   "execution_count": 15,
   "metadata": {},
   "outputs": [
    {
     "name": "stdout",
     "output_type": "stream",
     "text": [
      "No number 6 found.\n"
     ]
    }
   ],
   "source": [
    "# else Clause with Loops\n",
    "# Python allows you to use an else clause in a loop. The code in the else block is executed if the loop runs to completion without encountering a break statement.\n",
    "numbers = [1, 2, 3, 4, 5]\n",
    "\n",
    "for num in numbers:\n",
    "    if num == 6:\n",
    "        break\n",
    "else:\n",
    "    print(\"No number 6 found.\")"
   ]
  },
  {
   "cell_type": "code",
   "execution_count": 16,
   "metadata": {},
   "outputs": [
    {
     "name": "stdout",
     "output_type": "stream",
     "text": [
      "0\n",
      "1\n",
      "2\n",
      "3\n",
      "4\n",
      "Loop completed.\n"
     ]
    }
   ],
   "source": [
    "# while Loop with else Clause\n",
    "# The else clause can also be used with while loops.\n",
    "i = 0\n",
    "\n",
    "while i < 5:\n",
    "    print(i)\n",
    "    i += 1\n",
    "else:\n",
    "    print(\"Loop completed.\")"
   ]
  },
  {
   "cell_type": "markdown",
   "metadata": {},
   "source": [
    "## Manejo de excepciones\n",
    "\n",
    "Los bloques **try** y **except** se utilizan para **manejar excepciones** y errores con elegancia en su código.\n",
    "\n",
    "El manejo de excepciones en Python le permite manejar con gracia los errores y excepciones que pueden ocurrir durante la ejecución de su código.\n",
    "\n",
    "Estos ejemplos demuestran cómo utilizar el manejo de excepciones en Python para abordar con elegancia varios tipos de errores y excepciones que pueden ocurrir durante la ejecución del programa:"
   ]
  },
  {
   "cell_type": "code",
   "execution_count": 17,
   "metadata": {},
   "outputs": [
    {
     "name": "stdout",
     "output_type": "stream",
     "text": [
      "An exception occurred: division by zero\n"
     ]
    }
   ],
   "source": [
    "\"\"\"\n",
    "try:\n",
    "    # Code that might raise an exception\n",
    "except ExceptionType as e:\n",
    "    # Code to handle the exception\n",
    "else:\n",
    "    # Code to execute if no exception occurred\n",
    "finally:\n",
    "    # Code that always executes (whether an exception occurred or not)\n",
    "\"\"\"\n",
    "\n",
    "# Handling a Specific Exception\n",
    "try:\n",
    "    result = 10 / 0  # Division by zero\n",
    "except ZeroDivisionError as e:\n",
    "    print(f\"An exception occurred: {e}\")"
   ]
  },
  {
   "cell_type": "code",
   "execution_count": 18,
   "metadata": {},
   "outputs": [
    {
     "name": "stdout",
     "output_type": "stream",
     "text": [
      "ValueError: invalid literal for int() with base 10: 'abc'\n"
     ]
    }
   ],
   "source": [
    "# Handling Multiple Exceptions\n",
    "# You can handle multiple exceptions by using multiple except blocks.\n",
    "try:\n",
    "    value = int(\"abc\")  # This will raise a ValueError\n",
    "except ValueError as e:\n",
    "    print(f\"ValueError: {e}\")\n",
    "except ZeroDivisionError as e:\n",
    "    print(f\"ZeroDivisionError: {e}\")"
   ]
  },
  {
   "cell_type": "code",
   "execution_count": 19,
   "metadata": {},
   "outputs": [
    {
     "name": "stdout",
     "output_type": "stream",
     "text": [
      "Result: 5.0\n"
     ]
    }
   ],
   "source": [
    "# Using else with try-except\n",
    "# You can use the else block to execute code when no exceptions are raised.\n",
    "try:\n",
    "    result = 10 / 2\n",
    "except ZeroDivisionError as e:\n",
    "    print(f\"An exception occurred: {e}\")\n",
    "else:\n",
    "    print(f\"Result: {result}\")"
   ]
  },
  {
   "cell_type": "code",
   "execution_count": 20,
   "metadata": {},
   "outputs": [
    {
     "name": "stdout",
     "output_type": "stream",
     "text": [
      "This code always runs.\n"
     ]
    }
   ],
   "source": [
    "# Using finally Block\n",
    "# The finally block is used to execute code that must run, whether an exception occurs or not.\n",
    "try:\n",
    "    result = 10 / 2\n",
    "except ZeroDivisionError as e:\n",
    "    print(f\"An exception occurred: {e}\")\n",
    "finally:\n",
    "    print(\"This code always runs.\")"
   ]
  },
  {
   "cell_type": "code",
   "execution_count": 21,
   "metadata": {},
   "outputs": [
    {
     "name": "stdout",
     "output_type": "stream",
     "text": [
      "An exception occurred: Division by zero is not allowed.\n"
     ]
    }
   ],
   "source": [
    "# Raising Custom Exceptions\n",
    "# You can raise custom exceptions using the raise statement.\n",
    "def divide(x, y):\n",
    "    if y == 0:\n",
    "        raise ValueError(\"Division by zero is not allowed.\")\n",
    "    return x / y\n",
    "\n",
    "try:\n",
    "    result = divide(10, 0)\n",
    "except ValueError as e:\n",
    "    print(f\"An exception occurred: {e}\")"
   ]
  },
  {
   "cell_type": "code",
   "execution_count": 22,
   "metadata": {},
   "outputs": [
    {
     "name": "stdout",
     "output_type": "stream",
     "text": [
      "An exception occurred: unsupported operand type(s) for /: 'int' and 'str'\n"
     ]
    }
   ],
   "source": [
    "# Handling Unspecified Exceptions\n",
    "# You can use a generic except block to catch unspecified exceptions.\n",
    "try:\n",
    "    result = 10 / \"2\"  # This will raise a TypeError\n",
    "except Exception as e:\n",
    "    print(f\"An exception occurred: {e}\")"
   ]
  },
  {
   "cell_type": "markdown",
   "metadata": {},
   "source": [
    "## Switch-Like Behavior\n",
    "\n",
    "Python no tiene una instrucción **switch** como otros lenguajes de programación, pero puedes usar diccionarios y funciones para lograr un comportamiento similar.\n",
    "Estos ejemplos demuestran diferentes enfoques para lograr un comportamiento similar a un interruptor en Python usando **diccionarios**, **funciones** y declaraciones **if-elif** para manejar diferentes casos según una entrada específica.\n",
    "\n",
    "También podemos usar palabras clave **match** y **case**. Python introdujo una nueva función de coincidencia de patrones estructurales en Python 3.10, que le permite usar las palabras clave **match** y **case** para implementar un comportamiento similar a un interruptor.\n",
    "\n",
    "Estos ejemplos ilustran cómo utilizar las palabras clave match y case en Python 3.10 para realizar coincidencias de patrones basadas en valores, clases de datos y enumeraciones. Esta característica proporciona una forma más estructurada y expresiva de manejar diferentes casos en su código."
   ]
  },
  {
   "cell_type": "markdown",
   "metadata": {},
   "source": [
    "### Usando diccionarios, funciones y if-elif"
   ]
  },
  {
   "cell_type": "code",
   "execution_count": 23,
   "metadata": {},
   "outputs": [
    {
     "name": "stdout",
     "output_type": "stream",
     "text": [
      "Code for case 2\n",
      "Default code\n"
     ]
    }
   ],
   "source": [
    "# Using a Dictionary to Implement a Simple Switch\n",
    "def switch_case(case):\n",
    "    switch_dict = {\n",
    "        'case1': 'Code for case 1',\n",
    "        'case2': 'Code for case 2',\n",
    "        'case3': 'Code for case 3',\n",
    "    }\n",
    "    return switch_dict.get(case, 'Default code')\n",
    "\n",
    "print(switch_case('case2'))  # Output: Code for case 2\n",
    "print(switch_case('case4'))  # Output: Default code"
   ]
  },
  {
   "cell_type": "code",
   "execution_count": 24,
   "metadata": {},
   "outputs": [
    {
     "name": "stdout",
     "output_type": "stream",
     "text": [
      "Code for case 2\n",
      "Default code\n"
     ]
    }
   ],
   "source": [
    "# Using Functions for Case Handling\n",
    "# You can use functions to implement different cases.\n",
    "def case1():\n",
    "    return \"Code for case 1\"\n",
    "\n",
    "def case2():\n",
    "    return \"Code for case 2\"\n",
    "\n",
    "def case3():\n",
    "    return \"Code for case 3\"\n",
    "\n",
    "def default_case():\n",
    "    return \"Default code\"\n",
    "\n",
    "def switch_case(case):\n",
    "    switch_dict = {\n",
    "        'case1': case1,\n",
    "        'case2': case2,\n",
    "        'case3': case3,\n",
    "    }\n",
    "    selected_case = switch_dict.get(case, default_case)\n",
    "    return selected_case()\n",
    "\n",
    "print(switch_case('case2'))  # Output: Code for case 2\n",
    "print(switch_case('case4'))  # Output: Default code"
   ]
  },
  {
   "cell_type": "code",
   "execution_count": 25,
   "metadata": {},
   "outputs": [
    {
     "name": "stdout",
     "output_type": "stream",
     "text": [
      "Code for case 2\n",
      "Default code\n"
     ]
    }
   ],
   "source": [
    "# Using if-elif Statements for Case Handling\n",
    "# You can use if-elif statements to implement a simple switch-like behavior.\n",
    "def switch_case(case):\n",
    "    if case == 'case1':\n",
    "        return \"Code for case 1\"\n",
    "    elif case == 'case2':\n",
    "        return \"Code for case 2\"\n",
    "    elif case == 'case3':\n",
    "        return \"Code for case 3\"\n",
    "    else:\n",
    "        return \"Default code\"\n",
    "\n",
    "print(switch_case('case2'))  # Output: Code for case 2\n",
    "print(switch_case('case4'))  # Output: Default code"
   ]
  },
  {
   "cell_type": "markdown",
   "metadata": {},
   "source": [
    "### Usando las palabras clave match y case"
   ]
  },
  {
   "cell_type": "code",
   "execution_count": 26,
   "metadata": {},
   "outputs": [
    {
     "name": "stdout",
     "output_type": "stream",
     "text": [
      "Code for case 2\n",
      "Default code\n"
     ]
    }
   ],
   "source": [
    "# How to use the match and case keywords introduced in Python 3.10 for pattern matching\n",
    "# Simple Switch-Like Behavior with match and case\n",
    "def switch_case(case):\n",
    "    match case:\n",
    "        case 'case1':\n",
    "            return \"Code for case 1\"\n",
    "        case 'case2':\n",
    "            return \"Code for case 2\"\n",
    "        case 'case3':\n",
    "            return \"Code for case 3\"\n",
    "        case _:\n",
    "            return \"Default code\"\n",
    "\n",
    "print(switch_case('case2'))  # Output: Code for case 2\n",
    "print(switch_case('case4'))  # Output: Default code"
   ]
  },
  {
   "cell_type": "code",
   "execution_count": 27,
   "metadata": {},
   "outputs": [
    {
     "name": "stdout",
     "output_type": "stream",
     "text": [
      "This is a blue color.\n",
      "Unknown color.\n"
     ]
    }
   ],
   "source": [
    "# Matching Simple Values\n",
    "def describe_color(color):\n",
    "    match color:\n",
    "        case 'red':\n",
    "            return \"This is a red color.\"\n",
    "        case 'blue':\n",
    "            return \"This is a blue color.\"\n",
    "        case 'green':\n",
    "            return \"This is a green color.\"\n",
    "        case _:\n",
    "            return \"Unknown color.\"\n",
    "\n",
    "print(describe_color('blue'))  # Output: This is a blue color\n",
    "print(describe_color('yellow'))  # Output: Unknown color\n"
   ]
  },
  {
   "cell_type": "code",
   "execution_count": 28,
   "metadata": {},
   "outputs": [
    {
     "name": "stdout",
     "output_type": "stream",
     "text": [
      "Even\n",
      "Odd\n"
     ]
    }
   ],
   "source": [
    "# Matching with Wildcard _\n",
    "# The underscore _ is used as a wildcard to match any value\n",
    "def is_even_or_odd(number):\n",
    "    match number:\n",
    "        case _ if number % 2 == 0:\n",
    "            return \"Even\"\n",
    "        case _:\n",
    "            return \"Odd\"\n",
    "\n",
    "print(is_even_or_odd(6))  # Output: Even\n",
    "print(is_even_or_odd(7))  # Output: Odd"
   ]
  },
  {
   "cell_type": "code",
   "execution_count": 29,
   "metadata": {},
   "outputs": [
    {
     "name": "stdout",
     "output_type": "stream",
     "text": [
      "The door is open.\n",
      "The door is locked.\n"
     ]
    }
   ],
   "source": [
    "# Matching Enums\n",
    "# Enums can be used for pattern matching to represent different states.\n",
    "from enum import Enum\n",
    "\n",
    "class State(Enum):\n",
    "    OPEN = \"open\"\n",
    "    CLOSED = \"closed\"\n",
    "    LOCKED = \"locked\"\n",
    "\n",
    "def door_status(state):\n",
    "    match state:\n",
    "        case State.OPEN:\n",
    "            return \"The door is open.\"\n",
    "        case State.CLOSED:\n",
    "            return \"The door is closed.\"\n",
    "        case State.LOCKED:\n",
    "            return \"The door is locked.\"\n",
    "\n",
    "print(door_status(State.OPEN))   # Output: The door is open\n",
    "print(door_status(State.LOCKED)) # Output: The door is locked"
   ]
  },
  {
   "cell_type": "code",
   "execution_count": 30,
   "metadata": {},
   "outputs": [
    {
     "name": "stdout",
     "output_type": "stream",
     "text": [
      "Origin Point\n",
      "On Y-Axis\n",
      "On X-Axis\n",
      "Arbitrary Point\n"
     ]
    }
   ],
   "source": [
    "# Pattern Matching with Data Classes\n",
    "# You can use data classes in pattern matching for more complex cases.\n",
    "from dataclasses import dataclass\n",
    "\n",
    "@dataclass\n",
    "class Point:\n",
    "    x: int\n",
    "    y: int\n",
    "\n",
    "def describe_shape(shape):\n",
    "    match shape:\n",
    "        case Point(x=0, y=0):\n",
    "            return \"Origin Point\"\n",
    "        case Point(x=0, y=_):\n",
    "            return \"On Y-Axis\"\n",
    "        case Point(x=_, y=0):\n",
    "            return \"On X-Axis\"\n",
    "        case _:\n",
    "            return \"Arbitrary Point\"\n",
    "\n",
    "point1 = Point(0, 0)\n",
    "point2 = Point(0, 5)\n",
    "point3 = Point(3, 0)\n",
    "point4 = Point(2, 2)\n",
    "\n",
    "print(describe_shape(point1))  # Output: Origin Point\n",
    "print(describe_shape(point2))  # Output: On Y-Axis\n",
    "print(describe_shape(point3))  # Output: On X-Axis\n",
    "print(describe_shape(point4))  # Output: Arbitrary Point"
   ]
  }
 ],
 "metadata": {
  "kernelspec": {
   "display_name": ".venv",
   "language": "python",
   "name": "python3"
  },
  "language_info": {
   "codemirror_mode": {
    "name": "ipython",
    "version": 3
   },
   "file_extension": ".py",
   "mimetype": "text/x-python",
   "name": "python",
   "nbconvert_exporter": "python",
   "pygments_lexer": "ipython3",
   "version": "3.12.0"
  }
 },
 "nbformat": 4,
 "nbformat_minor": 2
}
