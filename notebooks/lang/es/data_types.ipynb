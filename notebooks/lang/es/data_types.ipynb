{
 "cells": [
  {
   "cell_type": "markdown",
   "metadata": {},
   "source": [
    "# Tipos de datos en Python\n",
    "\n",
    "Python admite varios tipos de datos integrados, que se utilizan para representar diferentes tipos de datos. Algunos de los tipos de datos más comunes en Python incluyen:\n",
    "\n",
    "* [Integers](#integers)\n",
    "* [Floats](#floats)\n",
    "* [Strings](#strings)\n",
    "* [Booleans](#booleans)\n",
    "* [Lists](#lists)\n",
    "* [Tuples](#tuples)\n",
    "* [Dictionaries](#dictionaries)\n",
    "* [Sets](#sets)\n",
    "* [NoneType](#nonetype)\n",
    "* [Complex Numbers](#complex-numbers)\n",
    "* [Bytes and Byte Arrays](#bytes-and-byte-arrays)\n",
    "* [Enums](#enums)\n",
    "* [User-Defined Classes](#user-defined-classes)"
   ]
  },
  {
   "cell_type": "markdown",
   "metadata": {},
   "source": [
    "## Integers\n",
    "\n",
    "Se utiliza para representar números enteros, tanto positivos como negativos, sin punto decimal. Por ejemplo, 5, -12 y 0 son números enteros."
   ]
  },
  {
   "cell_type": "code",
   "execution_count": 1,
   "metadata": {},
   "outputs": [
    {
     "name": "stdout",
     "output_type": "stream",
     "text": [
      "42 <class 'int'>\n"
     ]
    }
   ],
   "source": [
    "# Integers (int)\n",
    "my_integer = 42\n",
    "\n",
    "print(my_integer, type(my_integer))"
   ]
  },
  {
   "cell_type": "markdown",
   "metadata": {},
   "source": [
    "## Floats\n",
    "\n",
    "Se utiliza para representar números reales con un punto decimal. Por ejemplo, 3,14 y -0,5 son números de punto flotante."
   ]
  },
  {
   "cell_type": "code",
   "execution_count": 2,
   "metadata": {},
   "outputs": [
    {
     "name": "stdout",
     "output_type": "stream",
     "text": [
      "3.14 <class 'float'>\n"
     ]
    }
   ],
   "source": [
    "# Floats (float)\n",
    "my_float = 3.14\n",
    "\n",
    "print(my_float, type(my_float))"
   ]
  },
  {
   "cell_type": "markdown",
   "metadata": {},
   "source": [
    "## Strings\n",
    "\n",
    "Se utiliza para representar secuencias de caracteres. Strings están entre comillas simples o dobles. Por ejemplo, \"¡Hola mundo!\" y 'Python' son strings."
   ]
  },
  {
   "cell_type": "code",
   "execution_count": 3,
   "metadata": {},
   "outputs": [
    {
     "name": "stdout",
     "output_type": "stream",
     "text": [
      "Hello, World! <class 'str'>\n",
      "Hello, World! <class 'str'>\n"
     ]
    }
   ],
   "source": [
    "# Strings (str)\n",
    "my_string = \"Hello, World!\"\n",
    "my_new_string = 'Hello, World!'\n",
    "\n",
    "print(my_string, type(my_string))\n",
    "print(my_new_string, type(my_new_string))"
   ]
  },
  {
   "cell_type": "markdown",
   "metadata": {},
   "source": [
    "## Booleans\n",
    "\n",
    "Se utiliza para representar valores binarios, ya sea Verdadero o Falso. Los booleanos se utilizan a menudo en declaraciones condicionales. Por ejemplo, True y False son valores booleanos."
   ]
  },
  {
   "cell_type": "code",
   "execution_count": 4,
   "metadata": {},
   "outputs": [
    {
     "name": "stdout",
     "output_type": "stream",
     "text": [
      "True <class 'bool'>\n",
      "False <class 'bool'>\n"
     ]
    }
   ],
   "source": [
    "# Booleans (bool)\n",
    "is_true = True\n",
    "is_false = False\n",
    "\n",
    "print(is_true, type(is_true))\n",
    "print(is_false, type(is_false))"
   ]
  },
  {
   "cell_type": "markdown",
   "metadata": {},
   "source": [
    "## Lists\n",
    "\n",
    "Una lista es una colección de valores ordenada y mutable. Las listas pueden contener elementos de diferentes tipos de datos. Por ejemplo, [1, 2, 3] y ['manzana', 'plátano', 'cereza'] son listas."
   ]
  },
  {
   "cell_type": "code",
   "execution_count": 5,
   "metadata": {},
   "outputs": [
    {
     "name": "stdout",
     "output_type": "stream",
     "text": [
      "[1, '2', 3, True, 5.25] <class 'list'>\n"
     ]
    }
   ],
   "source": [
    "# List (list)\n",
    "my_list = [1, \"2\", 3, True, 5.25]\n",
    "\n",
    "print(my_list, type(my_list))"
   ]
  },
  {
   "cell_type": "markdown",
   "metadata": {},
   "source": [
    "## Tuples\n",
    "\n",
    "Similares a las listas, pero son inmutables **(no se pueden cambiar después de la creación)**. Las tuplas se utilizan a menudo para colecciones de datos relacionados. Por ejemplo, (1, 2, 3) es una tupla."
   ]
  },
  {
   "cell_type": "code",
   "execution_count": 6,
   "metadata": {},
   "outputs": [
    {
     "name": "stdout",
     "output_type": "stream",
     "text": [
      "('10', 20, 30, False, 3.25) <class 'tuple'>\n"
     ]
    }
   ],
   "source": [
    "# Tuples (tuple)\n",
    "my_tuple = (\"10\", 20, 30, False, 3.25)\n",
    "\n",
    "print(my_tuple, type(my_tuple))"
   ]
  },
  {
   "cell_type": "markdown",
   "metadata": {},
   "source": [
    "## Dictionaries\n",
    "\n",
    "Un diccionario es una **colección desordenada** de pares clave-valor. Cada clave es única y está asociada a un valor. Por ejemplo, {'nombre': 'Alice', 'edad': 30} es un diccionario."
   ]
  },
  {
   "cell_type": "code",
   "execution_count": 7,
   "metadata": {},
   "outputs": [
    {
     "name": "stdout",
     "output_type": "stream",
     "text": [
      "{'name': 'Alice', 'age': 30, 'city': 'New York', 'data': {'key': 123}, 'active': True, 'size': 2.5} <class 'dict'>\n"
     ]
    }
   ],
   "source": [
    "# Dictionaries (dict)\n",
    "my_dict = {'name': 'Alice', 'age': 30, 'city': 'New York', 'data': {'key': 123}, 'active': True, 'size': 2.5}\n",
    "\n",
    "print(my_dict, type(my_dict))"
   ]
  },
  {
   "cell_type": "markdown",
   "metadata": {},
   "source": [
    "## Sets\n",
    "\n",
    "Un conjunto es una colección desordenada de **elementos únicos**. Los conjuntos se utilizan para operaciones matemáticas de conjuntos como unión, intersección y diferencia. Por ejemplo, {1, 2, 3} es un conjunto."
   ]
  },
  {
   "cell_type": "code",
   "execution_count": 8,
   "metadata": {},
   "outputs": [
    {
     "name": "stdout",
     "output_type": "stream",
     "text": [
      "{False, 1, 2, '3', 4, 1.5} <class 'set'>\n"
     ]
    }
   ],
   "source": [
    "# Sets (set)\n",
    "my_set = {1, 2, \"3\", 4, False, 1.5}\n",
    "\n",
    "print(my_set, type(my_set))"
   ]
  },
  {
   "cell_type": "markdown",
   "metadata": {},
   "source": [
    "## NoneType\n",
    "\n",
    "Representa la ausencia de un valor. A menudo se utiliza para indicar que una variable o función no devuelve nada."
   ]
  },
  {
   "cell_type": "code",
   "execution_count": 9,
   "metadata": {},
   "outputs": [
    {
     "name": "stdout",
     "output_type": "stream",
     "text": [
      "None <class 'NoneType'>\n"
     ]
    }
   ],
   "source": [
    "# NoneType (NoneType)\n",
    "empty_variable = None\n",
    "\n",
    "print(empty_variable, type(empty_variable))"
   ]
  },
  {
   "cell_type": "markdown",
   "metadata": {},
   "source": [
    "## Complex Numbers\n",
    "\n",
    "Se utiliza para representar números complejos en la forma a + bj, donde a y b son números reales y j representa la raíz cuadrada de -1."
   ]
  },
  {
   "cell_type": "code",
   "execution_count": 10,
   "metadata": {},
   "outputs": [
    {
     "name": "stdout",
     "output_type": "stream",
     "text": [
      "(3+4j) <class 'complex'>\n"
     ]
    }
   ],
   "source": [
    "# Complex (complex)\n",
    "my_complex = 3 + 4j\n",
    "\n",
    "print(my_complex, type(my_complex))"
   ]
  },
  {
   "cell_type": "markdown",
   "metadata": {},
   "source": [
    "## Bytes and Byte Arrays\n",
    "\n",
    "Se utiliza para manejar datos binarios. Los **Bytes** representan **secuencias inmutables de bytes**, mientras que las **matrices de bytes** **son mutables**."
   ]
  },
  {
   "cell_type": "code",
   "execution_count": 11,
   "metadata": {},
   "outputs": [
    {
     "name": "stdout",
     "output_type": "stream",
     "text": [
      "b'Hello' <class 'bytes'>\n",
      "bytearray(b'ABC') <class 'bytearray'>\n"
     ]
    }
   ],
   "source": [
    "# Bytes and Byte Arrays (bytes), (bytearray)\n",
    "my_bytes = b'Hello'\n",
    "my_byte_array = bytearray([65, 66, 67])\n",
    "\n",
    "print(my_bytes, type(my_bytes))\n",
    "print(my_byte_array, type(my_byte_array))"
   ]
  },
  {
   "cell_type": "markdown",
   "metadata": {},
   "source": [
    "## Enums\n",
    "\n",
    "Las enumeraciones le permiten crear nombres simbólicos para conjuntos discretos de valores."
   ]
  },
  {
   "cell_type": "code",
   "execution_count": 12,
   "metadata": {},
   "outputs": [
    {
     "name": "stdout",
     "output_type": "stream",
     "text": [
      "Color.RED <enum 'Color'>\n"
     ]
    }
   ],
   "source": [
    "# Enums (enum 'Color')\n",
    "from enum import Enum\n",
    "\n",
    "class Color(Enum):\n",
    "    RED = 1\n",
    "    GREEN = 2\n",
    "    BLUE = 3\n",
    "\n",
    "my_color = Color.RED\n",
    "\n",
    "print(my_color, type(my_color))"
   ]
  },
  {
   "cell_type": "markdown",
   "metadata": {},
   "source": [
    "## User-Defined Classes\n",
    "\n",
    "Puede crear sus propias clases personalizadas para representar tipos de datos específicos."
   ]
  },
  {
   "cell_type": "code",
   "execution_count": 13,
   "metadata": {},
   "outputs": [
    {
     "name": "stdout",
     "output_type": "stream",
     "text": [
      "<__main__.Person object at 0x7f692a1144d0> <class '__main__.Person'>\n"
     ]
    }
   ],
   "source": [
    "# User-Defined Classes\n",
    "class Person:\n",
    "    def __init__(self, name, age):\n",
    "        self.name = name\n",
    "        self.age = age\n",
    "\n",
    "person1 = Person(\"Alice\", 30)\n",
    "\n",
    "print(person1, type(person1))"
   ]
  },
  {
   "cell_type": "markdown",
   "metadata": {},
   "source": [
    "---\n",
    "Estos ejemplos ilustran los diferentes tipos de datos en Python y cómo usarlos. Puede realizar diversas operaciones y manipulaciones con estos tipos de datos según sus necesidades de programación."
   ]
  }
 ],
 "metadata": {
  "kernelspec": {
   "display_name": ".venv",
   "language": "python",
   "name": "python3"
  },
  "language_info": {
   "codemirror_mode": {
    "name": "ipython",
    "version": 3
   },
   "file_extension": ".py",
   "mimetype": "text/x-python",
   "name": "python",
   "nbconvert_exporter": "python",
   "pygments_lexer": "ipython3",
   "version": "3.12.0"
  }
 },
 "nbformat": 4,
 "nbformat_minor": 2
}
