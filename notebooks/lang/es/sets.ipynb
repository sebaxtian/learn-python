{
 "cells": [
  {
   "cell_type": "markdown",
   "metadata": {},
   "source": [
    "# Conjuntos\n",
    "\n",
    "En Python, un conjunto es una colección desordenada y no indexada de elementos únicos. Dado que los elementos de los conjuntos no están ordenados, no podemos acceder a los elementos mediante índices o mediante el método get(). Podemos agregar tuplas, pero no podemos agregar diccionarios o listas en un conjunto. No podemos agregar elementos duplicados en conjuntos. Los objetos establecidos también admiten operaciones matemáticas como unión, intersección, diferencia y diferencia simétrica. Los conjuntos son mutables.\n",
    "\n",
    "A continuación se muestran algunas características y operaciones importantes relacionadas con los conjuntos en Python:\n",
    "\n",
    "* [Creando un conjunto](#creando-un-conjunto)\n",
    "* [Agregar elementos](#agregar-elementos)\n",
    "* [Eliminar elementos](#eliminando-elementos)\n",
    "* [Tamaño de un conjunto](#tamaño-de-un-conjunto)\n",
    "* [Iterando sobre un conjunto](#iterando-sobre-un-conjunto)\n",
    "* [Comprobación de membresía](#comprobando-membresía)\n",
    "* [Operaciones de conjuntos](#operaciones-de-conjuntos)\n",
    "* [Set Comprehension](#set-comprehension)"
   ]
  },
  {
   "cell_type": "markdown",
   "metadata": {},
   "source": [
    "## Creando un conjunto\n",
    "\n",
    "Puede crear un conjunto encerrando una secuencia de elementos separados por comas entre llaves **{}** o utilizando el constructor **set()**.\n",
    "Nota: para crear un conjunto vacío tienes que usar **set()**, no **{}**; las últimas llaves vacías **{}** crean un diccionario vacío, una estructura de datos que analizaremos en el siguiente cuaderno."
   ]
  },
  {
   "cell_type": "code",
   "execution_count": 1,
   "metadata": {},
   "outputs": [
    {
     "name": "stdout",
     "output_type": "stream",
     "text": [
      "set()\n",
      "{1, 2, 3, 4, 5}\n",
      "{2, 4, 6, 8, 10}\n",
      "{'apple', 'cherry', 'banana'}\n",
      "{(2, 3), 1, 'apple', 3.14}\n",
      "{1, 2, 3, 4}\n",
      "{1, 2, 3, 4, 5, 6}\n"
     ]
    }
   ],
   "source": [
    "# Creating a Set\n",
    "\n",
    "# Creating an empty set\n",
    "empty_set = set()\n",
    "print(empty_set)\n",
    "\n",
    "# Creating a set with elements using curly braces\n",
    "my_set = {1, 2, 3, 4, 5}\n",
    "print(my_set)\n",
    "\n",
    "# Creating a set using the set() constructor with a list of elements\n",
    "my_set = set([2, 4, 6, 8, 10])\n",
    "print(my_set)\n",
    "\n",
    "# Creating a set with strings\n",
    "string_set = {\"apple\", \"banana\", \"cherry\"}\n",
    "print(string_set)\n",
    "\n",
    "# Creating a set with mixed data types\n",
    "mixed_set = {1, \"apple\", 3.14, (2, 3)}\n",
    "print(mixed_set)\n",
    "\n",
    "# Remember that sets automatically remove duplicates, so if you create a set with duplicate elements, only the unique elements will be retained\n",
    "duplicate_set = {1, 2, 2, 3, 3, 3, 4, 4, 4, 4}\n",
    "print(duplicate_set)  # Output: {1, 2, 3, 4}\n",
    "\n",
    "# Remove duplicates from a list\n",
    "my_list = [1, 2, 2, 4, 5, 5, 1, 3, 3, 4, 6]\n",
    "my_set = set(my_list)\n",
    "print(my_set)\n"
   ]
  },
  {
   "cell_type": "markdown",
   "metadata": {},
   "source": [
    "## Agregar elementos\n",
    "\n",
    "Puede agregar elementos a un conjunto usando el método **add()**."
   ]
  },
  {
   "cell_type": "code",
   "execution_count": 2,
   "metadata": {},
   "outputs": [
    {
     "name": "stdout",
     "output_type": "stream",
     "text": [
      "{1, 2, 3, 4}\n",
      "{1, 2, 3, 4, 5, 6, 8, (8,)}\n",
      "{1, 2, 3, 4, 5}\n",
      "{(2, 3), 1, 'apple', 3.14}\n",
      "{1, 2, 3}\n"
     ]
    }
   ],
   "source": [
    "# Adding Elements\n",
    "\n",
    "# Using the add() method to add a single element\n",
    "my_set = {1, 2, 3}\n",
    "my_set.add(4)\n",
    "print(my_set)  # Output: {1, 2, 3, 4}\n",
    "\n",
    "# Adding multiple elements using the update() method with an iterable (e.g., a list, tuple or another set)\n",
    "my_set = {1, 2, 3}\n",
    "my_set.update([3, 4, 5])\n",
    "my_set.update((6, (8, ), 8, 3))\n",
    "print(my_set)  # Output: {1, 2, 3, 4, 5, 6, 8, (8,)}\n",
    "\n",
    "# Using the update() method with another set to merge two sets\n",
    "set1 = {1, 2, 3}\n",
    "set2 = {3, 4, 5}\n",
    "set1.update(set2)\n",
    "print(set1)  # Output: {1, 2, 3, 4, 5}\n",
    "\n",
    "# Adding elements of different data types\n",
    "my_set = {1, \"apple\", 3.14}\n",
    "my_set.add((2, 3))\n",
    "print(my_set)  # Output: {1, 'apple', 3.14, (2, 3)}\n",
    "\n",
    "# It's important to note that sets only store unique elements, so if you attempt to add an element that is already in the set, it won't create a duplicate\n",
    "my_set = {1, 2, 3}\n",
    "my_set.add(3)  # Adding 3, which is already in the set\n",
    "print(my_set)  # Output: {1, 2, 3}\n"
   ]
  },
  {
   "cell_type": "markdown",
   "metadata": {},
   "source": [
    "## Eliminando elementos\n",
    "\n",
    "Puede eliminar elementos de un conjunto utilizando el método remove(). Si el elemento no está en el conjunto, genera un KeyError. Para evitar esto, puede utilizar el método descartar(), que elimina el elemento si existe y no hace nada si no existe."
   ]
  },
  {
   "cell_type": "code",
   "execution_count": 3,
   "metadata": {},
   "outputs": [
    {
     "name": "stdout",
     "output_type": "stream",
     "text": [
      "{1, 2, 5}\n",
      "{1, 2, 3, 4, 5}\n",
      "{2, 3, 4, 5, 10}\n",
      "{3, 4, 5, 10}\n",
      "2\n",
      "set()\n"
     ]
    }
   ],
   "source": [
    "# Removing Elements\n",
    "\n",
    "# Using the remove() method to remove a specific element\n",
    "my_set = {1, 2, 3, (4, ), 4, 5}\n",
    "my_set.remove(3)\n",
    "my_set.remove(4)\n",
    "my_set.remove((4, ))\n",
    "# my_set.remove((4, )) # KeyError\n",
    "print(my_set)  # Output: {1, 2, 5}\n",
    "\n",
    "# Using the discard() method to remove a specific element. It is similar to remove(), but it doesn't raise an error if the element is not in the set\n",
    "my_set = {1, 2, 3, 4, 5}\n",
    "my_set.discard(6)  # 6 is not in the set\n",
    "print(my_set)  # Output: {1, 2, 3, 4, 5}\n",
    "\n",
    "# Using the pop() method to remove and return an arbitrary element. Note that since sets are unordered, the element removed is not guaranteed to be any specific one\n",
    "my_set = {10, 2, 3, 4, 5}\n",
    "print(my_set)\n",
    "removed_element = my_set.pop()\n",
    "print(my_set)  # Output: The set without the removed element\n",
    "print(removed_element)  # Output: The removed element\n",
    "\n",
    "# Clearing all elements from a set using the clear() method\n",
    "my_set = {1, 2, 3, 4, 5}\n",
    "my_set.clear()\n",
    "print(my_set)  # Output: set()\n",
    "\n"
   ]
  },
  {
   "cell_type": "markdown",
   "metadata": {},
   "source": [
    "## Tamaño de un conjunto\n",
    "\n",
    "Puede encontrar la cantidad de elementos en un conjunto usando la función **len()**."
   ]
  },
  {
   "cell_type": "code",
   "execution_count": 4,
   "metadata": {},
   "outputs": [
    {
     "name": "stdout",
     "output_type": "stream",
     "text": [
      "5\n"
     ]
    }
   ],
   "source": [
    "# Set Size\n",
    "my_set = {1, 2, 3, 4, 5}\n",
    "num_elements = len(my_set)\n",
    "\n",
    "print(num_elements)"
   ]
  },
  {
   "cell_type": "markdown",
   "metadata": {},
   "source": [
    "## Iterando sobre un conjunto\n",
    "\n",
    "Puede recorrer los elementos de un conjunto utilizando un bucle for."
   ]
  },
  {
   "cell_type": "code",
   "execution_count": 5,
   "metadata": {},
   "outputs": [
    {
     "name": "stdout",
     "output_type": "stream",
     "text": [
      "1\n",
      "2\n",
      "3\n",
      "4\n",
      "5\n"
     ]
    }
   ],
   "source": [
    "# Iterating Over a Set\n",
    "my_set = {1, 2, 3, 4, 5}\n",
    "for element in my_set:\n",
    "    print(element)"
   ]
  },
  {
   "cell_type": "markdown",
   "metadata": {},
   "source": [
    "## Comprobando membresía\n",
    "\n",
    "Puede comprobar si un elemento está en un conjunto utilizando la palabra clave in."
   ]
  },
  {
   "cell_type": "code",
   "execution_count": 6,
   "metadata": {},
   "outputs": [
    {
     "name": "stdout",
     "output_type": "stream",
     "text": [
      "3 is in the set\n",
      "6 is not in the set\n",
      "banana is a fruit in the set\n",
      "(3, 4) is in the set of coordinates\n"
     ]
    }
   ],
   "source": [
    "# Checking for Membership\n",
    "\n",
    "# Using the in keyword to check if an element is in a set\n",
    "my_set = {1, 2, 3, 4, 5}\n",
    "element = 3\n",
    "\n",
    "if element in my_set:\n",
    "    print(f\"{element} is in the set\")\n",
    "else:\n",
    "    print(f\"{element} is not in the set\")\n",
    "\n",
    "# Using the not in keyword to check if an element is not in a set\n",
    "my_set = {1, 2, 3, 4, 5}\n",
    "element = 6\n",
    "\n",
    "if element not in my_set:\n",
    "    print(f\"{element} is not in the set\")\n",
    "else:\n",
    "    print(f\"{element} is in the set\")\n",
    "\n",
    "# Checking for membership with strings in a set\n",
    "fruits = {\"apple\", \"banana\", \"cherry\"}\n",
    "fruit_to_check = \"banana\"\n",
    "\n",
    "if fruit_to_check in fruits:\n",
    "    print(f\"{fruit_to_check} is a fruit in the set\")\n",
    "\n",
    "# Checking for membership with a tuple in a set\n",
    "coordinates = {(1, 2), (3, 4), (5, 6)}\n",
    "coordinate_to_check = (3, 4)\n",
    "\n",
    "if coordinate_to_check in coordinates:\n",
    "    print(f\"{coordinate_to_check} is in the set of coordinates\")"
   ]
  },
  {
   "cell_type": "markdown",
   "metadata": {},
   "source": [
    "## Operaciones de conjuntos\n",
    "\n",
    "Los conjuntos admiten varias operaciones matemáticas de conjuntos, como unión, intersección, diferencia y diferencia simétrica. Puede realizar estas operaciones utilizando métodos u operadores como **|**, **&**, **-** y **^**."
   ]
  },
  {
   "cell_type": "markdown",
   "metadata": {},
   "source": [
    "### Unión\n",
    "\n",
    "La unión de dos conjuntos contiene todos los elementos únicos de ambos conjuntos."
   ]
  },
  {
   "cell_type": "code",
   "execution_count": 7,
   "metadata": {},
   "outputs": [
    {
     "name": "stdout",
     "output_type": "stream",
     "text": [
      "{1, 2, 3, 4, 5, 6, 7}\n",
      "{1, 2, 3, 4, 5, 6, 7}\n"
     ]
    }
   ],
   "source": [
    "# Union |\n",
    "set1 = {1, 2, 3, 4, 5}\n",
    "set2 = {3, 4, 5, 6, 7}\n",
    "union_set = set1 | set2  # Using the '|' operator\n",
    "# Alternatively: union_set = set1.union(set2)\n",
    "print(union_set)  # Output: {1, 2, 3, 4, 5, 6, 7}\n",
    "print(set1.union(set2))"
   ]
  },
  {
   "cell_type": "markdown",
   "metadata": {},
   "source": [
    "### Intersección\n",
    "\n",
    "La intersección de dos conjuntos contiene elementos que son comunes a ambos conjuntos."
   ]
  },
  {
   "cell_type": "code",
   "execution_count": 8,
   "metadata": {},
   "outputs": [
    {
     "name": "stdout",
     "output_type": "stream",
     "text": [
      "{3, 4, 5}\n",
      "{3, 4, 5}\n"
     ]
    }
   ],
   "source": [
    "# Intersection &\n",
    "set1 = {1, 2, 3, 4, 5}\n",
    "set2 = {3, 4, 5, 6, 7}\n",
    "intersection_set = set1 & set2  # Using the '&' operator\n",
    "# Alternatively: intersection_set = set1.intersection(set2)\n",
    "print(intersection_set)  # Output: {3, 4, 5}\n",
    "print(set1.intersection(set2))"
   ]
  },
  {
   "cell_type": "markdown",
   "metadata": {},
   "source": [
    "### Diferencia\n",
    "\n",
    "La diferencia de dos conjuntos contiene elementos que están en el primer conjunto pero no en el segundo."
   ]
  },
  {
   "cell_type": "code",
   "execution_count": 9,
   "metadata": {},
   "outputs": [
    {
     "name": "stdout",
     "output_type": "stream",
     "text": [
      "{1, 2}\n",
      "{1, 2}\n"
     ]
    }
   ],
   "source": [
    "# Difference -\n",
    "set1 = {1, 2, 3, 4, 5}\n",
    "set2 = {3, 4, 5, 6, 7}\n",
    "difference_set = set1 - set2  # Using the '-' operator\n",
    "# Alternatively: difference_set = set1.difference(set2)\n",
    "print(difference_set)  # Output: {1, 2}\n",
    "print(set1.difference(set2))"
   ]
  },
  {
   "cell_type": "markdown",
   "metadata": {},
   "source": [
    "### Diferencia simétrica\n",
    "\n",
    "La diferencia simétrica de dos conjuntos contiene elementos que están en cualquiera de los conjuntos, pero no en ambos."
   ]
  },
  {
   "cell_type": "code",
   "execution_count": 10,
   "metadata": {},
   "outputs": [
    {
     "name": "stdout",
     "output_type": "stream",
     "text": [
      "{1, 2, 6, 7}\n",
      "{1, 2, 6, 7}\n"
     ]
    }
   ],
   "source": [
    "# Symmetric Difference ^\n",
    "set1 = {1, 2, 3, 4, 5}\n",
    "set2 = {3, 4, 5, 6, 7}\n",
    "symmetric_difference_set = set1 ^ set2  # Using the '^' operator\n",
    "# Alternatively: symmetric_difference_set = set1.symmetric_difference(set2)\n",
    "print(symmetric_difference_set)  # Output: {1, 2, 6, 7}\n",
    "print(set1.symmetric_difference(set2))"
   ]
  },
  {
   "cell_type": "markdown",
   "metadata": {},
   "source": [
    "## Set Comprehension"
   ]
  },
  {
   "cell_type": "code",
   "execution_count": 11,
   "metadata": {},
   "outputs": [
    {
     "name": "stdout",
     "output_type": "stream",
     "text": [
      "{1, 4, 9, 16, 25}\n",
      "{2, 4, 6, 8, 10}\n",
      "{'e', 'l', 'o', 'd', 'r', 'w', 'h'}\n",
      "{64, 100, 4, 36, 16}\n"
     ]
    }
   ],
   "source": [
    "# Set Comprehension\n",
    "\n",
    "# Creating a set of squares for numbers from 1 to 5\n",
    "squares = {x**2 for x in range(1, 6)}\n",
    "print(squares)  # Output: {1, 4, 9, 16, 25}\n",
    "\n",
    "# Using a set comprehension to filter out even numbers from a list\n",
    "numbers = [1, 2, 3, 4, 5, 6, 7, 8, 9, 10]\n",
    "even_numbers = {x for x in numbers if x % 2 == 0}\n",
    "print(even_numbers)  # Output: {2, 4, 6, 8, 10}\n",
    "\n",
    "# Creating a set of unique characters from a string\n",
    "text = \"hello, world\"\n",
    "unique_characters = {char for char in text if char.isalpha()}\n",
    "print(unique_characters)  # Output: {'h', 'e', 'o', 'l', 'w', 'r', 'd'}\n",
    "\n",
    "# Using a set comprehension with a conditional expression\n",
    "numbers = [1, 2, 3, 4, 5, 6, 7, 8, 9, 10]\n",
    "squared_even_numbers = {x**2 for x in numbers if x % 2 == 0}\n",
    "print(squared_even_numbers)  # Output: {4, 16, 64, 100}"
   ]
  },
  {
   "cell_type": "markdown",
   "metadata": {},
   "source": [
    "---\n",
    "\n",
    "Los conjuntos son útiles cuando necesitas almacenar una colección de elementos únicos y realizar operaciones de conjuntos como encontrar elementos comunes, diferencias y más. Son mutables y puedes modificarlos agregando o eliminando elementos, pero los elementos en sí deben ser inmutables (por ejemplo, números, cadenas o tuplas), ya que los conjuntos se basan en una tabla hash."
   ]
  }
 ],
 "metadata": {
  "kernelspec": {
   "display_name": ".venv",
   "language": "python",
   "name": "python3"
  },
  "language_info": {
   "codemirror_mode": {
    "name": "ipython",
    "version": 3
   },
   "file_extension": ".py",
   "mimetype": "text/x-python",
   "name": "python",
   "nbconvert_exporter": "python",
   "pygments_lexer": "ipython3",
   "version": "3.12.0"
  }
 },
 "nbformat": 4,
 "nbformat_minor": 2
}
