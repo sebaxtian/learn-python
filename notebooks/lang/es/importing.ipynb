{
 "cells": [
  {
   "cell_type": "markdown",
   "metadata": {},
   "source": [
    "# Imports\n",
    "\n",
    "En Python, puedes importar módulos y paquetes para acceder a sus funciones, clases y variables en tu código. La importación es un concepto fundamental en Python y le permite utilizar código escrito por otros y organizar su propio código en módulos reutilizables.\n",
    "\n",
    "Uno de los principales beneficios de utilizar un lenguaje popular como Python es su gran cantidad de bibliotecas que puede utilizar y de las que puede beneficiarse.\n",
    "\n",
    "Muchos desarrolladores de todo el mundo son generosos con su tiempo y conocimientos y publican muchas bibliotecas realmente útiles. Estas bibliotecas pueden ahorrarnos mucho tiempo tanto en nuestro trabajo profesional como en nuestros proyectos paralelos que podemos realizar por diversión.\n",
    "\n",
    "Así es como puedes importar en Python:\n",
    "\n",
    "* [Importar módulos](#importar-módulos)\n",
    "* [Importar elementos específicos desde un módulo](#importación-de-elementos-específicos-desde-un-módulo)\n",
    "* [Importar con Alias](#importar-con-alias)\n",
    "* [Importando tus propios módulos](#importando-tus-propios-módulos)\n",
    "* [Importar desde paquetes](#importar-desde-paquetes)\n",
    "* [Importar varios módulos a la vez](#importar-varios-módulos-a-la-vez)\n",
    "* [Problemas al importar todo desde un módulo](#problemas-al-importar-todo-desde-un-módulo)"
   ]
  },
  {
   "cell_type": "markdown",
   "metadata": {},
   "source": [
    "## Importación de módulos\n",
    "\n",
    "Para importar un módulo, utilice la palabra clave import seguida del nombre del módulo. Por ejemplo, para importar el módulo de matemáticas."
   ]
  },
  {
   "cell_type": "code",
   "execution_count": 1,
   "metadata": {},
   "outputs": [
    {
     "name": "stdout",
     "output_type": "stream",
     "text": [
      "5.0\n"
     ]
    }
   ],
   "source": [
    "# For example, to import the math module, you would write:\n",
    "import math\n",
    "\n",
    "# After importing, you can use functions and variables from the math module like this:\n",
    "print(math.sqrt(25))  # Calculates the square root of 25"
   ]
  },
  {
   "cell_type": "markdown",
   "metadata": {},
   "source": [
    "## Importación de elementos específicos desde un módulo\n",
    "\n",
    "También puede importar funciones, clases o variables específicas desde un módulo utilizando la palabra clave from. Por ejemplo, para importar solo la función sqrt del módulo matemático."
   ]
  },
  {
   "cell_type": "code",
   "execution_count": 2,
   "metadata": {},
   "outputs": [
    {
     "name": "stdout",
     "output_type": "stream",
     "text": [
      "5.0\n"
     ]
    }
   ],
   "source": [
    "# For example, to import just the sqrt function from the math module, you can do:\n",
    "from math import sqrt\n",
    "\n",
    "# Then, you can use sqrt directly without prefixing it with the module name:\n",
    "print(sqrt(25))"
   ]
  },
  {
   "cell_type": "markdown",
   "metadata": {},
   "source": [
    "## Importar con alias\n",
    "\n",
    "Puede importar un módulo con un alias (un nombre diferente) para que sea más fácil de consultar. Esto se usa frecuentemente para módulos con nombres largos."
   ]
  },
  {
   "cell_type": "code",
   "execution_count": 3,
   "metadata": {},
   "outputs": [
    {
     "name": "stdout",
     "output_type": "stream",
     "text": [
      "[1 2 3]\n"
     ]
    }
   ],
   "source": [
    "# For example:\n",
    "import numpy as np\n",
    "\n",
    "# Now you can use np to refer to the numpy module:\n",
    "array = np.array([1, 2, 3])\n",
    "\n",
    "print(array)"
   ]
  },
  {
   "cell_type": "markdown",
   "metadata": {},
   "source": [
    "## Importando tus propios módulos\n",
    "\n",
    "Puede crear sus propios módulos de Python colocando funciones, clases o variables en un archivo .py. Para importar sus propios módulos, utilice la misma declaración de importación que con los módulos integrados."
   ]
  },
  {
   "cell_type": "code",
   "execution_count": 4,
   "metadata": {},
   "outputs": [
    {
     "name": "stdout",
     "output_type": "stream",
     "text": [
      "Hello, Alice!\n"
     ]
    }
   ],
   "source": [
    "# For example, if you have a file named my_module.py with a function greet, you can import it like this:\n",
    "\n",
    "# Import the custom module\n",
    "import my_module\n",
    "\n",
    "# Use the greet function from the custom module\n",
    "message = my_module.greet(\"Alice\")\n",
    "\n",
    "# Print the result\n",
    "print(message)"
   ]
  },
  {
   "cell_type": "markdown",
   "metadata": {},
   "source": [
    "## Importando desde paquetes\n",
    "\n",
    "Si tiene un paquete (un directorio que contiene varios módulos), puede importar módulos desde él usando notación de puntos.\n",
    "\n",
    "Supongamos que tiene un paquete llamado my_package y dentro de él hay un módulo llamado my_module. Quiere importar y utilizar las funciones o variables definidas en my_module en un script de Python independiente.\n",
    "\n",
    "Organice sus archivos de la siguiente manera:\n",
    "\n",
    "     my_package/\n",
    "         ├── __init__.py\n",
    "         ├── my_module.py\n",
    "\n",
    "* **my_package**: es el directorio del paquete que contiene sus módulos.\n",
    "* **\\_\\_init\\_\\_.py**: es un archivo vacío que hace que Python trate el directorio como un paquete.\n",
    "* **my_module.py**: es el módulo que desea importar."
   ]
  },
  {
   "cell_type": "code",
   "execution_count": 5,
   "metadata": {},
   "outputs": [
    {
     "name": "stdout",
     "output_type": "stream",
     "text": [
      "Hello, Bob!\n"
     ]
    }
   ],
   "source": [
    "# Import a module from a package\n",
    "from my_package import my_module\n",
    "\n",
    "# Use the greet function from the module\n",
    "message = my_module.greet(\"Bob\")\n",
    "\n",
    "# Print the result\n",
    "print(message)"
   ]
  },
  {
   "cell_type": "markdown",
   "metadata": {},
   "source": [
    "## Importar varios módulos a la vez\n",
    "\n",
    "Ahora, importemos varios módulos a la vez."
   ]
  },
  {
   "cell_type": "code",
   "execution_count": 6,
   "metadata": {},
   "outputs": [
    {
     "name": "stdout",
     "output_type": "stream",
     "text": [
      "oop.ipynb\n",
      "variables.ipynb\n",
      "README.md\n",
      "__pycache__\n",
      "control_flow.ipynb\n",
      "my_module.py\n",
      "importing.ipynb\n",
      "intro.ipynb\n",
      "dictionaries.ipynb\n",
      "type_conversions.ipynb\n",
      "user_input.ipynb\n",
      "exceptions.ipynb\n",
      "strings.ipynb\n",
      "operators.ipynb\n",
      "lists.ipynb\n",
      "tuples.ipynb\n",
      "sets.ipynb\n",
      "functions.ipynb\n",
      "my_package\n",
      "data_types.ipynb\n",
      "This is an integer.\n",
      "The square root of 16 is 4.0\n"
     ]
    }
   ],
   "source": [
    "# Now, let's import multiple modules at once:\n",
    "import os, numbers, math\n",
    "\n",
    "# List files in the current directory\n",
    "files = os.listdir()\n",
    "for file in files:\n",
    "    print(file)\n",
    "\n",
    "num = 42\n",
    "\n",
    "if isinstance(num, numbers.Integral):\n",
    "    print(\"This is an integer.\")\n",
    "else:\n",
    "    print(\"This is not an integer.\")\n",
    "\n",
    "number = 16\n",
    "\n",
    "# Calculate the square root\n",
    "square_root = math.sqrt(number)\n",
    "print(f\"The square root of {number} is {square_root}\")"
   ]
  },
  {
   "cell_type": "markdown",
   "metadata": {},
   "source": [
    "## Problemas al importar todo desde un módulo\n",
    "\n",
    "Importar todo desde un módulo utilizando una importación con comodín (por ejemplo, desde la importación de módulo *) puede generar varios problemas y, en general, no se recomienda. Si bien puede parecer conveniente, puede hacer que su código sea menos legible, más difícil de mantener y más propenso a errores. Estos son algunos de los problemas al importar todo desde un módulo:\n",
    "\n",
    "1. **Contaminación del espacio de nombres**: cuando importa todo desde un módulo, todas sus funciones, clases y variables quedan disponibles en su espacio de nombres actual. Esto puede provocar conflictos de nombres si dos módulos tienen funciones o variables con el mismo nombre. Se vuelve un desafío determinar de dónde se originó una función o variable específica, lo que hace que el código sea menos claro.\n",
    "\n",
    "2. **Legibilidad**: Puede resultar difícil comprender el origen de funciones y variables cuando no se especifica explícitamente el módulo del que provienen. Esto puede hacer que su código sea menos legible y más difícil de depurar.\n",
    "\n",
    "3. **Mantenimiento de código**: las importaciones de comodines dificultan el seguimiento de las dependencias en su código. Cuando revise o mantenga su código en el futuro, puede que no quede claro qué funciones o variables se utilizan, de dónde provienen y si todavía son necesarias.\n",
    "\n",
    "4. **Rendimiento**: Importar todo desde un módulo puede afectar el rendimiento. El módulo puede contener una gran cantidad de funciones y clases, e importar todo puede consumir memoria innecesaria y ralentizar su aplicación.\n",
    "\n",
    "5. **Conflictos de código**: algunos módulos pueden definir funciones o variables que tienen nombres comunes, como open o name. Importar todo puede provocar un sombreado involuntario de funciones o variables integradas.\n",
    "\n",
    "6. **Riesgos de seguridad**: las importaciones con comodines pueden introducir riesgos de seguridad si importa funciones que ejecutan código malicioso o anulan funciones de biblioteca estándar.\n",
    "\n",
    "Para evitar estos problemas, generalmente se recomienda importar funciones, clases o variables específicas que necesite de un módulo, o usar alias para hacer que el código sea más legible sin importar todo."
   ]
  },
  {
   "cell_type": "code",
   "execution_count": 7,
   "metadata": {},
   "outputs": [],
   "source": [
    "# For example, instead of from module import *, you can use:\n",
    "# from module import function1, function2  # Import only the specific functions you need"
   ]
  },
  {
   "cell_type": "markdown",
   "metadata": {},
   "source": [
    "Este enfoque proporciona una mejor organización, legibilidad y mantenimiento del código. También reduce el riesgo de contaminación y conflictos del espacio de nombres."
   ]
  }
 ],
 "metadata": {
  "kernelspec": {
   "display_name": ".venv",
   "language": "python",
   "name": "python3"
  },
  "language_info": {
   "codemirror_mode": {
    "name": "ipython",
    "version": 3
   },
   "file_extension": ".py",
   "mimetype": "text/x-python",
   "name": "python",
   "nbconvert_exporter": "python",
   "pygments_lexer": "ipython3",
   "version": "3.12.0"
  }
 },
 "nbformat": 4,
 "nbformat_minor": 2
}
