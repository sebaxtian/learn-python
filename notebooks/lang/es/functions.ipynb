{
 "cells": [
  {
   "cell_type": "markdown",
   "metadata": {},
   "source": [
    "# Funciones\n",
    "\n",
    "En Python, una **función** es un bloque de código reutilizable que realiza una tarea específica o un conjunto de tareas. Las funciones se definen usando la palabra clave **def** y le permiten **encapsular** un fragmento de código, darle un nombre y **reutilizarlo** varias veces a lo largo de su programa. Las funciones ayudan a que su código sea más **modular**, **legible** y **mantenible**.\n",
    "\n",
    "* [Componentes de una función](#componentes-de-una-función)\n",
    "* [Argumentos predeterminados en funciones](#argumentos-predeterminados-en-funciones)\n",
    "* [Keyword Argument List](#keyword-argument-list)\n",
    "* [Ciclo de vida de los datos](#ciclo-de-vida-de-los-datos)\n",
    "* [Cómo cambiar datos dentro de funciones](#cómo-cambiar-datos-dentro-de-funciones)\n",
    "* [Funciones Lambda](#funciones-lambda)\n",
    "* [Función map()](#función-map)\n",
    "* [Función filter()](#función-filter)\n",
    "* [Funciones como argumentos de funciones](#funciones-como-argumentos-de-funciones)\n",
    "* [Decoradores](#decoradores)\n",
    "* [Cómo pasar argumentos a funciones decoradoras](#cómo-pasar-argumentos-a-funciones-decoradoras)\n",
    "* [Cómo apilar decoradores](#cómo-apilar-decoradores)\n",
    "* [Built-in decorators](#built-in-decorators)"
   ]
  },
  {
   "cell_type": "markdown",
   "metadata": {},
   "source": [
    "## Componentes de una función\n",
    "\n",
    "Las funciones se pueden definir y utilizar para realizar una amplia gama de tareas en Python, desde cálculos simples hasta operaciones complejas. También pueden incluir declaraciones condicionales, bucles y pueden usarse para agrupar y organizar su código para una mejor legibilidad y mantenimiento.\n",
    "\n",
    "Analicemos los componentes de una función:\n",
    "\n",
    "* **def**: Esta palabra clave se utiliza para definir una función.\n",
    "\n",
    "* **nombre_función**: Debes elegir un nombre descriptivo para tu función, siguiendo las convenciones de nomenclatura (por ejemplo, usar letras minúsculas y guiones bajos para los nombres de funciones). El nombre debe ser único dentro de su programa.\n",
    "\n",
    "* **parámetros**: Estos son opcionales. Le permiten pasar valores a la función, que luego puede usar en su código. Los parámetros están entre paréntesis y separados por comas. Si una función no necesita ningún parámetro, puede dejar los paréntesis vacíos.\n",
    "\n",
    "* **cuerpo de la función**: Este es un bloque de código sangrado que contiene las instrucciones sobre lo que debe hacer la función.\n",
    "\n",
    "* **return**: esta palabra clave se utiliza para especificar el valor que la función debe devolver cuando se llama. Las funciones pueden devolver un valor único, varios valores (como una tupla) o nada (en cuyo caso, se devuelve Ninguno)."
   ]
  },
  {
   "cell_type": "code",
   "execution_count": 1,
   "metadata": {},
   "outputs": [
    {
     "name": "stdout",
     "output_type": "stream",
     "text": [
      "Hello, Alice!\n"
     ]
    },
    {
     "data": {
      "text/plain": [
       "'Hello, Bob!'"
      ]
     },
     "execution_count": 1,
     "metadata": {},
     "output_type": "execute_result"
    }
   ],
   "source": [
    "# Here's an example of a simple Python function:\n",
    "def greet(name):\n",
    "    return f\"Hello, {name}!\"\n",
    "\n",
    "# Calling the function\n",
    "result = greet(\"Alice\")\n",
    "print(result)\n",
    "\n",
    "\"\"\"\n",
    "When you call greet(\"Alice\"), the function is executed with the parameter \"Alice\", and it returns the string \"Hello, Alice!\".\n",
    "The result is then printed to the console.\n",
    "\"\"\"\n",
    "\n",
    "# You can also call functions without storing their return values, like this:\n",
    "greet(\"Bob\")"
   ]
  },
  {
   "cell_type": "markdown",
   "metadata": {},
   "source": [
    "## Argumentos predeterminados en funciones\n",
    "\n",
    "En Python, puedes definir argumentos predeterminados para funciones. Los argumentos predeterminados se utilizan para proporcionar un valor predeterminado para un parámetro si quien llama a la función no proporciona un valor para ese parámetro. Esto es particularmente útil cuando desea que un parámetro sea opcional y, si la persona que llama no proporciona un valor, se usa el valor predeterminado."
   ]
  },
  {
   "cell_type": "code",
   "execution_count": 2,
   "metadata": {},
   "outputs": [
    {
     "name": "stdout",
     "output_type": "stream",
     "text": [
      "Hello, Alice!\n",
      "Hi, Bob!\n"
     ]
    }
   ],
   "source": [
    "# Here's how you can define a function with default arguments:\n",
    "\"\"\"\n",
    "def function_name(param1, param2=default_value):\n",
    "    # Function body\n",
    "    # Code that uses param1 and param2\n",
    "\"\"\"\n",
    "# In this syntax:\n",
    "\"\"\"\n",
    "param1: is a required parameter that the caller must provide a value for.\n",
    "param2: is an optional parameter with a default value (default_value).\n",
    "\n",
    "If the caller provides a value for param2, it will override the default value.\n",
    "If the caller doesn't provide a value for param2, the default value will be used.\n",
    "\"\"\"\n",
    "# Here's an example:\n",
    "def greet(name, greeting=\"Hello\"):\n",
    "    return f\"{greeting}, {name}!\"\n",
    "\n",
    "# Calling the function with and without the second argument\n",
    "result1 = greet(\"Alice\")  # Uses the default greeting\n",
    "result2 = greet(\"Bob\", \"Hi\")  # Overrides the default greeting\n",
    "\n",
    "print(result1)  # Output: \"Hello, Alice!\"\n",
    "print(result2)  # Output: \"Hi, Bob!\""
   ]
  },
  {
   "cell_type": "code",
   "execution_count": 3,
   "metadata": {},
   "outputs": [
    {
     "name": "stdout",
     "output_type": "stream",
     "text": [
      "Name: Alice Smith, Age: 30, City: Unknown\n",
      "Name: Bob Johnson, Age: 25, City: Unknown\n",
      "Name: Charlie Brown, Age: 40, City: New York\n"
     ]
    }
   ],
   "source": [
    "\"\"\"\n",
    "You can also have multiple parameters with default values, and you can mix parameters with and without default values in the same function.\n",
    "However, parameters with default values should come after parameters without default values in the function definition.\n",
    "\"\"\"\n",
    "# Here's an example with multiple default arguments:\n",
    "def create_person(first_name, last_name, age=30, city=\"Unknown\"):\n",
    "    return f\"Name: {first_name} {last_name}, Age: {age}, City: {city}\"\n",
    "\n",
    "# Calling the function with and without all arguments\n",
    "result1 = create_person(\"Alice\", \"Smith\")\n",
    "result2 = create_person(\"Bob\", \"Johnson\", 25)\n",
    "result3 = create_person(\"Charlie\", \"Brown\", 40, \"New York\")\n",
    "\n",
    "print(result1)  # Output: \"Name: Alice Smith, Age: 30, City: Unknown\"\n",
    "print(result2)  # Output: \"Name: Bob Johnson, Age: 25, City: Unknown\"\n",
    "print(result3)  # Output: \"Name: Charlie Brown, Age: 40, City: New York\""
   ]
  },
  {
   "cell_type": "markdown",
   "metadata": {},
   "source": [
    "## Keyword Argument List\n",
    "\n",
    "En Python, puede usar argumentos de palabras clave y desempaquetar para pasar un número variable de argumentos de palabras clave a una función. Los argumentos de palabras clave le permiten pasar argumentos a una función utilizando el nombre del parámetro como palabra clave, lo que hace que el código sea más legible y flexible.\n",
    "\n",
    "Puede utilizar el doble asterisco ** antes del nombre de un parámetro en la definición de la función para indicar que debe aceptar un número variable de argumentos de palabras clave. Estos argumentos de palabras clave se recopilan en un diccionario dentro de la función, donde las claves son los nombres de los parámetros y los valores son los valores de los argumentos correspondientes.\n",
    "\n",
    "Esto le permite tener una función flexible que puede aceptar una combinación de argumentos regulares y de palabras clave, lo que hace que su código sea más versátil y adaptable a diversos casos de uso."
   ]
  },
  {
   "cell_type": "code",
   "execution_count": 4,
   "metadata": {},
   "outputs": [
    {
     "name": "stdout",
     "output_type": "stream",
     "text": [
      "name: Alice\n",
      "age: 25\n",
      "city: New York\n",
      "Name: Bob\n",
      "age: 30\n",
      "city: Los Angeles\n",
      "message: I Love Python!\n"
     ]
    }
   ],
   "source": [
    "# Here's how to define a function that accepts a variable number of keyword arguments:\n",
    "\"\"\"\n",
    "def function_name(**kwargs):\n",
    "    # kwargs is a dictionary containing keyword arguments\n",
    "    # Code that uses the keyword arguments\n",
    "\"\"\"\n",
    "# You can call this function by providing any number of keyword arguments when you call it.\n",
    "def print_info(**kwargs):\n",
    "    for key, value in kwargs.items():\n",
    "        print(f\"{key}: {value}\")\n",
    "\n",
    "# Calling the function with keyword arguments\n",
    "print_info(name=\"Alice\", age=25, city=\"New York\")\n",
    "\n",
    "# You can also use a combination of regular parameters and keyword arguments in a function.\n",
    "# Just make sure that regular parameters come before keyword arguments in the function definition.\n",
    "def print_person_info(name, **kwargs):\n",
    "    print(f\"Name: {name}\")\n",
    "    for key, value in kwargs.items():\n",
    "        print(f\"{key}: {value}\")\n",
    "\n",
    "# Calling the function with a regular parameter and keyword arguments\n",
    "print_person_info(\"Bob\", age=30, city=\"Los Angeles\", message=\"I Love Python!\")"
   ]
  },
  {
   "cell_type": "markdown",
   "metadata": {},
   "source": [
    "## Ciclo de vida de los datos\n",
    "\n",
    "El ciclo de vida de los datos en Python se refiere a las etapas por las que pasan los datos durante su vida en un programa Python. Comprender el ciclo de vida de los datos es importante para administrar la memoria de manera eficiente y evitar problemas como pérdidas de memoria.\n",
    "\n",
    "Es importante tener en cuenta que Python administra automáticamente la memoria y la recolección de basura. Sin embargo, debe conocer estas etapas del ciclo de vida de los datos para escribir código eficiente y evitar pérdidas de memoria. En algunos casos, puede liberar recursos explícitamente, como cerrar archivos o conexiones de red, para garantizar una gestión adecuada de la memoria. Además, comprender cómo se crean, utilizan y administran los datos puede ayudarle a optimizar su código para el rendimiento y la eficiencia de la memoria.\n",
    "\n",
    "Estas son las etapas típicas de los datos en el ciclo de vida de los datos de Python:"
   ]
  },
  {
   "cell_type": "markdown",
   "metadata": {},
   "source": [
    "### Creación"
   ]
  },
  {
   "cell_type": "code",
   "execution_count": 5,
   "metadata": {},
   "outputs": [
    {
     "name": "stdout",
     "output_type": "stream",
     "text": [
      "42 Alice\n"
     ]
    }
   ],
   "source": [
    "# Data is created when you define a variable and assign it a value.\n",
    "\n",
    "x = 42  # Creation of an integer variable\n",
    "name = \"Alice\"  # Creation of a string variable\n",
    "\n",
    "print(x, name)"
   ]
  },
  {
   "cell_type": "markdown",
   "metadata": {},
   "source": [
    "### Uso"
   ]
  },
  {
   "cell_type": "code",
   "execution_count": 6,
   "metadata": {},
   "outputs": [
    {
     "name": "stdout",
     "output_type": "stream",
     "text": [
      "The result is 10\n",
      "The square of 5 is 25\n"
     ]
    }
   ],
   "source": [
    "# Data is used in your program by performing operations on it, reading its value, or passing it to functions.\n",
    "\n",
    "# Creating a variable\n",
    "number = 5\n",
    "\n",
    "# Using the data by performing operations\n",
    "result = number * 2  # Multiplying the value of 'number' by 2\n",
    "\n",
    "# Reading the value\n",
    "print(f\"The result is {result}\")  # Printing the result\n",
    "\n",
    "# Defining a function that takes data as a parameter\n",
    "def square_and_print(value):\n",
    "    squared = value ** 2\n",
    "    print(f\"The square of {value} is {squared}\")\n",
    "\n",
    "# Passing the data to the function\n",
    "square_and_print(number)"
   ]
  },
  {
   "cell_type": "markdown",
   "metadata": {},
   "source": [
    "### Conteo de referencias\n",
    "\n",
    "En Python, el recuento de referencias es un mecanismo importante para gestionar la memoria. Cuando el recuento de referencias de un objeto cae a cero, significa que no hay más referencias a ese objeto, lo que lo hace elegible para la recolección de basura.\n",
    "\n",
    "En este ejemplo:\n",
    "\n",
    "1. Creamos una lista my_list y usamos sys.getrefcount() para verificar su recuento de referencias antes de crear cualquier referencia.\n",
    "El recuento de referencias en este punto incluirá la referencia creada por la propia función getrefcount().\n",
    "\n",
    "2. Creamos una referencia my_list_reference que apunta a la misma lista que my_list. Esto aumenta el recuento de referencias.\n",
    "\n",
    "3. Eliminamos la referencia my_list_reference, lo que reduce el recuento de referencias.\n",
    "\n",
    "4. Comprobamos los recuentos de referencia en diferentes etapas e imprimimos los resultados.\n",
    "\n",
    "Cuando ejecute este código, observará que el recuento de referencias aumenta cuando se crea una referencia y disminuye cuando se elimina.\n",
    "El recuento de referencias se verifica usando sys.getrefcount() para demostrar cómo Python realiza un seguimiento de las referencias a un objeto.\n",
    "Al final, cuando se elimina la lista original, el recuento de referencias cae a cero, lo que la hace elegible para la recolección de basura."
   ]
  },
  {
   "cell_type": "code",
   "execution_count": 7,
   "metadata": {},
   "outputs": [
    {
     "name": "stdout",
     "output_type": "stream",
     "text": [
      "Reference count before: 2\n",
      "Reference count after creating reference: 3\n",
      "Reference count after removing reference: 2\n"
     ]
    }
   ],
   "source": [
    "# Here's an example that demonstrates reference counting in Python:\n",
    "\n",
    "import sys\n",
    "\n",
    "# Creating a list and checking its reference count\n",
    "my_list = [1, 2, 3]\n",
    "ref_count_before = sys.getrefcount(my_list)\n",
    "\n",
    "# Creating a reference to the same list\n",
    "my_list_reference = my_list\n",
    "ref_count_after_reference = sys.getrefcount(my_list)\n",
    "\n",
    "# Removing the reference\n",
    "del my_list_reference\n",
    "ref_count_after_removal = sys.getrefcount(my_list)\n",
    "\n",
    "# Check reference counts\n",
    "print(\"Reference count before:\", ref_count_before)\n",
    "print(\"Reference count after creating reference:\", ref_count_after_reference)\n",
    "print(\"Reference count after removing reference:\", ref_count_after_removal)\n",
    "\n",
    "# Deleting the original list\n",
    "del my_list"
   ]
  },
  {
   "cell_type": "markdown",
   "metadata": {},
   "source": [
    "### Mutación"
   ]
  },
  {
   "cell_type": "code",
   "execution_count": 8,
   "metadata": {},
   "outputs": [
    {
     "name": "stdout",
     "output_type": "stream",
     "text": [
      "[1, 2, 3, 4]\n"
     ]
    }
   ],
   "source": [
    "# Some data types, like lists or dictionaries, can be modified after creation.\n",
    "# When you change the value of an existing variable, you're mutating the data.\n",
    "my_list = [1, 2, 3]\n",
    "my_list.append(4)  # Mutation of the list\n",
    "\n",
    "print(my_list)"
   ]
  },
  {
   "cell_type": "markdown",
   "metadata": {},
   "source": [
    "### Reasignación"
   ]
  },
  {
   "cell_type": "code",
   "execution_count": 9,
   "metadata": {},
   "outputs": [
    {
     "name": "stdout",
     "output_type": "stream",
     "text": [
      "37\n"
     ]
    }
   ],
   "source": [
    "# Data can be reassigned to a new value, which may release the previous value from memory if there are no references left to it.\n",
    "x = 42  # Initial assignment\n",
    "x = 37  # Reassignment, old value 42 may be released if there are no references\n",
    "\n",
    "print(x)"
   ]
  },
  {
   "cell_type": "markdown",
   "metadata": {},
   "source": [
    "### Alcance\n",
    "\n",
    "El concepto de alcance en Python se refiere a dónde se define una variable y dónde se puede acceder a ella o modificarla. Los datos dentro del alcance de una función existen solo durante la vida útil de la función."
   ]
  },
  {
   "cell_type": "code",
   "execution_count": 10,
   "metadata": {},
   "outputs": [
    {
     "name": "stdout",
     "output_type": "stream",
     "text": [
      "I am a local variable\n",
      "I am a global variable\n"
     ]
    }
   ],
   "source": [
    "# Here's an example that demonstrates the scope of a variable in Python:\n",
    "\n",
    "# Global scope variable\n",
    "global_var = \"I am a global variable\"\n",
    "\n",
    "def demonstrate_scope():\n",
    "    # Local scope variable\n",
    "    local_var = \"I am a local variable\"\n",
    "    print(local_var)  # Accessing the local variable\n",
    "\n",
    "    # Accessing the global variable from within the function\n",
    "    print(global_var)\n",
    "\n",
    "# Call the function\n",
    "demonstrate_scope()\n",
    "\n",
    "# Trying to access the local variable from the global scope (will result in an error)\n",
    "# print(local_var)  # Uncommenting this line will raise a NameError"
   ]
  },
  {
   "cell_type": "markdown",
   "metadata": {},
   "source": [
    "### Recolección de basura\n",
    "\n",
    "En Python, la recolección de basura es responsable de recuperar la memoria ocupada por objetos a los que ya no se hace referencia. Cuando el recuento de referencias de un objeto cae a cero, se vuelve elegible para la recolección de basura y el recolector de basura de Python desasigna la memoria utilizada por ese objeto.\n",
    "\n",
    "El recolector de basura de Python es responsable de desasignar memoria automáticamente cuando ya no se hace referencia a los objetos, pero también puede activar manualmente la recolección de basura usando gc.collect() cuando sea necesario, aunque esto rara vez es necesario en los programas típicos de Python.\n",
    "\n",
    "En este ejemplo:\n",
    "\n",
    "1. Definimos una clase MyClass con un constructor y un método destructor (__del__). Se llama al destructor cuando un objeto está a punto de ser recolectado como basura.\n",
    "\n",
    "2. Creamos dos instancias de MyClass, denominadas obj1 y obj2.\n",
    "\n",
    "3. Verificamos si el recolector de basura está habilitado usando gc.isenabled() e imprimimos si está habilitado o no.\n",
    "\n",
    "4. Eliminamos las referencias a obj1 y obj2 usando la declaración del`, que reduce el recuento de referencias de estos objetos.\n",
    "\n",
    "5. Ejecutamos manualmente el recolector de basura usando gc.collect(). Esto hace que el recolector de basura desasigne objetos con un recuento de referencia de cero.\n",
    "\n",
    "6. Como resultado, se llama al destructor __del__ para obj1 y `obj2, y se imprime el mensaje \"Eliminando instancia de...\"."
   ]
  },
  {
   "cell_type": "code",
   "execution_count": 11,
   "metadata": {},
   "outputs": [
    {
     "name": "stdout",
     "output_type": "stream",
     "text": [
      "Garbage collector enabled: True\n",
      "Deleting instance of Object 1\n",
      "Deleting instance of Object 2\n"
     ]
    },
    {
     "data": {
      "text/plain": [
       "194"
      ]
     },
     "execution_count": 11,
     "metadata": {},
     "output_type": "execute_result"
    }
   ],
   "source": [
    "# Here's an example that demonstrates Python's garbage collection:\n",
    "\n",
    "import gc\n",
    "\n",
    "# Create a simple class with a destructor (__del__) method\n",
    "class MyClass:\n",
    "    def __init__(self, name):\n",
    "        self.name = name\n",
    "\n",
    "    def __del__(self):\n",
    "        print(f\"Deleting instance of {self.name}\")\n",
    "\n",
    "# Create instances of MyClass\n",
    "obj1 = MyClass(\"Object 1\")\n",
    "obj2 = MyClass(\"Object 2\")\n",
    "\n",
    "# Check if the garbage collector is enabled\n",
    "gc_enabled = gc.isenabled()\n",
    "print(\"Garbage collector enabled:\", gc_enabled)\n",
    "\n",
    "# Remove references to obj1 and obj2\n",
    "del obj1\n",
    "del obj2\n",
    "\n",
    "# Manually run the garbage collector\n",
    "gc.collect() # The number of unreachable objects is returned.\n",
    "\n",
    "# At this point, the objects obj1 and obj2 have been deallocated"
   ]
  },
  {
   "cell_type": "markdown",
   "metadata": {},
   "source": [
    "### Terminación del programa\n",
    "\n",
    "En Python, cuando finaliza un programa, se liberan todos los datos y el sistema operativo recupera la memoria. Esto sucede automáticamente como parte del proceso de limpieza de Python.\n",
    "\n",
    "La administración automática de memoria y la recolección de basura de Python garantizan que los recursos se administren de manera eficiente y que la memoria se recupere cuando ya no sea necesaria, lo que facilita a los desarrolladores concentrarse en escribir código sin preocuparse por la administración manual de la memoria."
   ]
  },
  {
   "cell_type": "markdown",
   "metadata": {},
   "source": [
    "## Cómo cambiar datos dentro de funciones\n",
    "\n",
    "En Python, puedes cambiar datos dentro de funciones modificando variables. Sin embargo, la forma de modificar los datos depende del tipo de variable con la que esté trabajando. Las variables en Python se pueden clasificar en dos tipos principales: mutables e inmutables. Los objetos mutables se pueden modificar in situ, mientras que los objetos inmutables no se pueden cambiar; en cambio, crean nuevos objetos cuando intentas modificarlos.\n",
    "\n",
    "A continuación se explica cómo puede cambiar datos dentro de las funciones de Python para objetos mutables e inmutables:"
   ]
  },
  {
   "cell_type": "markdown",
   "metadata": {},
   "source": [
    "### Objetos mutables\n",
    "\n",
    "Los objetos mutables incluyen listas, diccionarios, conjuntos y clases definidas por el usuario. Puede modificarlos directamente dentro de una función porque se pueden cambiar en el lugar."
   ]
  },
  {
   "cell_type": "code",
   "execution_count": 12,
   "metadata": {},
   "outputs": [
    {
     "name": "stdout",
     "output_type": "stream",
     "text": [
      "[99, 2, 3, 4, 5, 6]\n"
     ]
    }
   ],
   "source": [
    "def modify_list(my_list):\n",
    "    my_list.append(4)  # Modifying the list by adding an element\n",
    "    my_list.extend([5, 6])  # Extending the list\n",
    "    my_list[0] = 99  # Changing an element at a specific index\n",
    "\n",
    "original_list = [1, 2, 3]\n",
    "modify_list(original_list)\n",
    "print(original_list)  # The list has been modified: [99, 2, 3, 4, 5, 6]"
   ]
  },
  {
   "cell_type": "markdown",
   "metadata": {},
   "source": [
    "### Objetos inmutables\n",
    "\n",
    "Los objetos inmutables incluyen números enteros, cadenas, tuplas y conjuntos congelados. Estos objetos no se pueden modificar directamente. Cuando intentas cambiar un objeto inmutable, creas un nuevo objeto.\n",
    "\n",
    "Para modificar un objeto inmutable y que los cambios persistan fuera de la función, debe devolver el objeto modificado desde la función y asignarlo a la variable original:"
   ]
  },
  {
   "cell_type": "code",
   "execution_count": 13,
   "metadata": {},
   "outputs": [
    {
     "name": "stdout",
     "output_type": "stream",
     "text": [
      "Hello\n"
     ]
    }
   ],
   "source": [
    "def modify_string(my_string):\n",
    "    my_string += \" World\"  # Creating a new string\n",
    "\n",
    "original_string = \"Hello\"\n",
    "modify_string(original_string)\n",
    "print(original_string)  # The original string remains unchanged: \"Hello\""
   ]
  },
  {
   "cell_type": "code",
   "execution_count": 14,
   "metadata": {},
   "outputs": [
    {
     "name": "stdout",
     "output_type": "stream",
     "text": [
      "Hello World\n"
     ]
    }
   ],
   "source": [
    "def modify_string(my_string):\n",
    "    my_string += \" World\"  # Creating a new string\n",
    "    return my_string\n",
    "\n",
    "original_string = \"Hello\"\n",
    "original_string = modify_string(original_string)\n",
    "print(original_string)  # The string is modified: \"Hello World\""
   ]
  },
  {
   "cell_type": "markdown",
   "metadata": {},
   "source": [
    "En resumen, para cambiar datos dentro de las funciones de Python:\n",
    "\n",
    "* Para objetos mutables, puedes modificarlos directamente dentro de la función.\n",
    "\n",
    "* Para objetos inmutables, debe crear un nuevo objeto con los cambios deseados y devolverlo desde la función, luego reasignarlo a la variable original fuera de la función."
   ]
  },
  {
   "cell_type": "markdown",
   "metadata": {},
   "source": [
    "## Funciones Lambda\n",
    "\n",
    "En Python, una función lambda, también conocida como función anónima o expresión lambda, es una función pequeña y anónima que puede tener cualquier número de argumentos pero solo puede tener una expresión. Las funciones Lambda se utilizan a menudo cuando se necesita una función simple durante un período corto y no se desea definir una función formal utilizando la palabra clave def. Se utilizan comúnmente para operaciones breves y simples y como argumentos para funciones de orden superior.\n",
    "\n",
    "Las funciones Lambda son concisas y útiles para tareas pequeñas y únicas, pero para funciones más complejas o reutilizables, suele ser mejor utilizar una función con nombre normal definida con def."
   ]
  },
  {
   "cell_type": "code",
   "execution_count": 15,
   "metadata": {},
   "outputs": [
    {
     "name": "stdout",
     "output_type": "stream",
     "text": [
      "8\n"
     ]
    }
   ],
   "source": [
    "# The syntax of a lambda function is as follows:\n",
    "\"\"\"\n",
    "lambda arguments: expression\n",
    "\n",
    "Here are some key points about lambda functions:\n",
    "\n",
    "* lambda: is the keyword used to define a lambda function.\n",
    "* arguments: are the input parameters to the function.\n",
    "* expression: is a single expression that is evaluated and returned as the result of the lambda function.\n",
    "\"\"\"\n",
    "\n",
    "# Simple lambda function\n",
    "add = lambda x, y: x + y\n",
    "result = add(3, 5)\n",
    "\n",
    "print(result)  # Output: 8"
   ]
  },
  {
   "cell_type": "code",
   "execution_count": 16,
   "metadata": {},
   "outputs": [
    {
     "name": "stdout",
     "output_type": "stream",
     "text": [
      "[(4, 'four'), (1, 'one'), (3, 'three'), (2, 'two')]\n"
     ]
    }
   ],
   "source": [
    "# Sorting a list of tuples by the second element\n",
    "pairs = [(1, 'one'), (4, 'four'), (3, 'three'), (2, 'two')]\n",
    "pairs.sort(key=lambda pair: pair[1])\n",
    "\n",
    "print(pairs)  # Output: [(4, 'four'), (1, 'one'), (3, 'three'), (2, 'two')]"
   ]
  },
  {
   "cell_type": "code",
   "execution_count": 17,
   "metadata": {},
   "outputs": [
    {
     "name": "stdout",
     "output_type": "stream",
     "text": [
      "[2, 4, 6, 8, 10]\n"
     ]
    }
   ],
   "source": [
    "# Filtering a list\n",
    "numbers = [1, 2, 3, 4, 5, 6, 7, 8, 9, 10]\n",
    "even_numbers = list(filter(lambda x: x % 2 == 0, numbers))\n",
    "\n",
    "print(even_numbers)  # Output: [2, 4, 6, 8, 10]"
   ]
  },
  {
   "cell_type": "code",
   "execution_count": 18,
   "metadata": {},
   "outputs": [
    {
     "name": "stdout",
     "output_type": "stream",
     "text": [
      "[1, 4, 9, 16, 25]\n"
     ]
    }
   ],
   "source": [
    "# Using lambda functions with map\n",
    "numbers = [1, 2, 3, 4, 5]\n",
    "squared_numbers = list(map(lambda x: x**2, numbers))\n",
    "\n",
    "print(squared_numbers)  # Output: [1, 4, 9, 16, 25]"
   ]
  },
  {
   "cell_type": "markdown",
   "metadata": {},
   "source": [
    "## Función map()\n",
    "\n",
    "En Python, la función map() es una función incorporada que se utiliza para aplicar una función específica a cada elemento en un iterable (como una lista, tupla u otros objetos iterables) y devolver un iterable (generalmente un objeto de map, que es un iterador) que contiene los resultados. El propósito de map() es transformar los datos en el iterable original aplicando la función especificada a cada elemento."
   ]
  },
  {
   "cell_type": "code",
   "execution_count": 19,
   "metadata": {},
   "outputs": [
    {
     "name": "stdout",
     "output_type": "stream",
     "text": [
      "[1, 4, 9, 16, 25]\n",
      "[1, 4, 9, 16, 25]\n"
     ]
    }
   ],
   "source": [
    "# The basic syntax of the map() function is as follows:\n",
    "\"\"\"\n",
    "map(function, iterable)\n",
    "\n",
    "* function: A function that will be applied to each element of the iterable.\n",
    "* iterable: An iterable (e.g., a list, tuple, or other iterable) containing the data that you want to process.\n",
    "\n",
    "The map() function returns an iterator, so you often need to convert it to a list, tuple, or another iterable to see the results.\n",
    "\"\"\"\n",
    "# Here's an example of how the map() function is used:\n",
    "\n",
    "# Define a function to square a number\n",
    "def square(x):\n",
    "    return x ** 2\n",
    "\n",
    "# Create a list of numbers\n",
    "numbers = [1, 2, 3, 4, 5]\n",
    "\n",
    "# Use the map function to apply the 'square' function to each element in the 'numbers' list\n",
    "squared_numbers = map(square, numbers)\n",
    "\n",
    "# Convert the result to a list to see the squared numbers\n",
    "squared_numbers_list = list(squared_numbers)\n",
    "\n",
    "print(squared_numbers_list)\n",
    "# Output: [1, 4, 9, 16, 25]\n",
    "\n",
    "\n",
    "# You can also use map() with lambda functions for more concise code\n",
    "numbers = [1, 2, 3, 4, 5]\n",
    "\n",
    "# Using a lambda function to square each element\n",
    "squared_numbers = map(lambda x: x ** 2, numbers)\n",
    "\n",
    "squared_numbers_list = list(squared_numbers)\n",
    "print(squared_numbers_list)\n",
    "# Output: [1, 4, 9, 16, 25]"
   ]
  },
  {
   "cell_type": "markdown",
   "metadata": {},
   "source": [
    "La función map() es útil para aplicar la misma operación a todos los elementos en un iterable, evitando la necesidad de bucles explícitos y haciendo que el código sea más conciso y legible."
   ]
  },
  {
   "cell_type": "markdown",
   "metadata": {},
   "source": [
    "## Función filter()\n",
    "\n",
    "En Python, la función filter() es una función incorporada que le permite filtrar elementos de un iterable (por ejemplo, una lista, tupla u otro objeto iterable) en función de una función o condición específica. La función filter() devuelve un iterador que contiene los elementos para los cuales la función o condición especificada se evalúa como Verdadera."
   ]
  },
  {
   "cell_type": "code",
   "execution_count": 20,
   "metadata": {},
   "outputs": [
    {
     "name": "stdout",
     "output_type": "stream",
     "text": [
      "[2, 4, 6, 8, 10]\n",
      "[2, 4, 6, 8, 10]\n"
     ]
    }
   ],
   "source": [
    "# The basic syntax of the filter() function is as follows:\n",
    "\"\"\"\n",
    "filter(function, iterable)\n",
    "\n",
    "* function: A function or a lambda function that defines the condition for filtering elements.\n",
    "The function should return True for the elements you want to keep in the result.\n",
    "* iterable: An iterable containing the data that you want to filter.\n",
    "\n",
    "The filter() function returns an iterator, so you often need to convert it to a list, tuple, or another iterable to see the filtered results.\n",
    "\"\"\"\n",
    "# Here's an example of how the filter() function is used:\n",
    "\n",
    "# Define a function to check if a number is even\n",
    "def is_even(x):\n",
    "    return x % 2 == 0\n",
    "\n",
    "# Create a list of numbers\n",
    "numbers = [1, 2, 3, 4, 5, 6, 7, 8, 9, 10]\n",
    "\n",
    "# Use the filter function to filter even numbers from the 'numbers' list\n",
    "even_numbers = filter(is_even, numbers)\n",
    "\n",
    "# Convert the result to a list to see the filtered numbers\n",
    "even_numbers_list = list(even_numbers)\n",
    "\n",
    "print(even_numbers_list)\n",
    "# Output: [2, 4, 6, 8, 10]\n",
    "\n",
    "\n",
    "# You can also use filter() with lambda functions for more concise code\n",
    "numbers = [1, 2, 3, 4, 5, 6, 7, 8, 9, 10]\n",
    "\n",
    "# Using a lambda function to filter even numbers\n",
    "even_numbers = filter(lambda x: x % 2 == 0, numbers)\n",
    "\n",
    "even_numbers_list = list(even_numbers)\n",
    "print(even_numbers_list)\n",
    "# Output: [2, 4, 6, 8, 10]"
   ]
  },
  {
   "cell_type": "markdown",
   "metadata": {},
   "source": [
    "La función filter() es útil para extraer selectivamente elementos de un iterable en función de una condición o criterio específico, lo que hace que su código sea más conciso y legible."
   ]
  },
  {
   "cell_type": "markdown",
   "metadata": {},
   "source": [
    "## Funciones como argumentos de funciones.\n",
    "\n",
    "En Python, puedes pasar funciones como argumentos a otras funciones. Este concepto se conoce como funciones de orden superior y le permite crear código más flexible y reutilizable al tratar las funciones como ciudadanos de primera clase. Puede pasar funciones como argumentos a otras funciones y devolver funciones desde funciones.\n",
    "\n",
    "El uso de funciones como argumentos de funciones en Python le permite crear código más flexible y potente, ya que le permite reutilizar funciones y adaptar su comportamiento en función de requisitos o condiciones específicas."
   ]
  },
  {
   "cell_type": "markdown",
   "metadata": {},
   "source": [
    "### Pasar funciones como argumentos\n",
    "\n",
    "Puede pasar una función como argumento a otra función. Esto se usa a menudo cuando desea aplicar una operación o transformación específica a elementos en un iterable."
   ]
  },
  {
   "cell_type": "code",
   "execution_count": 21,
   "metadata": {},
   "outputs": [
    {
     "name": "stdout",
     "output_type": "stream",
     "text": [
      "[2, 4, 6, 8, 10]\n"
     ]
    }
   ],
   "source": [
    "# Define a function that applies another function to each element of a list\n",
    "def apply_function_to_list(func, lst):\n",
    "    result = []\n",
    "    for item in lst:\n",
    "        result.append(func(item))\n",
    "    return result\n",
    "\n",
    "# Define a function to double a number\n",
    "def double(x):\n",
    "    return x * 2\n",
    "\n",
    "# Define a list of numbers\n",
    "numbers = [1, 2, 3, 4, 5]\n",
    "\n",
    "# Pass the 'double' function as an argument to 'apply_function_to_list'\n",
    "doubled_numbers = apply_function_to_list(double, numbers)\n",
    "\n",
    "print(doubled_numbers)  # Output: [2, 4, 6, 8, 10]"
   ]
  },
  {
   "cell_type": "markdown",
   "metadata": {},
   "source": [
    "### Devolver funciones desde funciones\n",
    "\n",
    "También puede devolver funciones desde funciones. Esto es útil para crear funciones que encapsulan el comportamiento en función de algunas condiciones o configuraciones."
   ]
  },
  {
   "cell_type": "code",
   "execution_count": 22,
   "metadata": {},
   "outputs": [
    {
     "name": "stdout",
     "output_type": "stream",
     "text": [
      "8\n",
      "6\n"
     ]
    }
   ],
   "source": [
    "# Define a function that returns a function based on a condition\n",
    "def select_operation(condition):\n",
    "    if condition == \"add\":\n",
    "        return lambda x, y: x + y\n",
    "    elif condition == \"subtract\":\n",
    "        return lambda x, y: x - y\n",
    "\n",
    "# Get the appropriate function based on the condition\n",
    "add_function = select_operation(\"add\")\n",
    "subtract_function = select_operation(\"subtract\")\n",
    "\n",
    "result1 = add_function(5, 3)  # Output: 8\n",
    "result2 = subtract_function(10, 4)  # Output: 6\n",
    "\n",
    "print(result1)\n",
    "print(result2)"
   ]
  },
  {
   "cell_type": "markdown",
   "metadata": {},
   "source": [
    "### Uso de funciones como funciones clave\n",
    "\n",
    "Puede pasar funciones como funciones clave a funciones como sorted() o max(), lo que le permite personalizar los criterios de clasificación o selección."
   ]
  },
  {
   "cell_type": "code",
   "execution_count": 23,
   "metadata": {},
   "outputs": [
    {
     "name": "stdout",
     "output_type": "stream",
     "text": [
      "[('Alice', 95), ('Charlie', 92), ('Bob', 88)]\n"
     ]
    }
   ],
   "source": [
    "# Define a list of tuples\n",
    "students = [(\"Alice\", 95), (\"Bob\", 88), (\"Charlie\", 92)]\n",
    "\n",
    "# Use a lambda function as a key to sort by the second element of each tuple (the grades)\n",
    "sorted_students = sorted(students, key=lambda x: x[1], reverse=True)\n",
    "\n",
    "print(sorted_students)  # Output: [('Alice', 95), ('Charlie', 92), ('Bob', 88)]"
   ]
  },
  {
   "cell_type": "markdown",
   "metadata": {},
   "source": [
    "## Decoradores\n",
    "\n",
    "Los decoradores son una característica poderosa y ampliamente utilizada en Python. Le permiten modificar o mejorar el comportamiento de funciones o métodos sin cambiar su código. Los decoradores se utilizan a menudo para tareas como registro, autenticación, memorización y más.\n",
    "\n",
    "En Python, un decorador es una función que toma otra función como argumento y extiende el comportamiento de esa función sin modificar explícitamente su código fuente. Los decoradores normalmente se aplican usando el símbolo \"@\" delante de la definición de una función."
   ]
  },
  {
   "cell_type": "code",
   "execution_count": 24,
   "metadata": {},
   "outputs": [
    {
     "name": "stdout",
     "output_type": "stream",
     "text": [
      "Something is happening before the function is called.\n",
      "Hello!\n",
      "Something is happening after the function is called.\n"
     ]
    }
   ],
   "source": [
    "# Here's a basic example of a decorator:\n",
    "\"\"\"\n",
    "In this example:\n",
    "\n",
    "1. We define a decorator function my_decorator, which takes another function func as an argument.\n",
    "Inside my_decorator, we define a nested function called wrapper that wraps around func.\n",
    "\n",
    "2. The wrapper function can execute code before and after the original function func. In this case, it prints messages before and after calling func.\n",
    "\n",
    "3. We apply the my_decorator to the say_hello function using the @ symbol.\n",
    "This is equivalent to writing say_hello = my_decorator(say_hello).\n",
    "\n",
    "4. When we call say_hello, the my_decorator modifies its behavior by adding the before and after messages.\n",
    "\"\"\"\n",
    "def my_decorator(func):\n",
    "    def wrapper():\n",
    "        print(\"Something is happening before the function is called.\")\n",
    "        func()\n",
    "        print(\"Something is happening after the function is called.\")\n",
    "    return wrapper\n",
    "\n",
    "@my_decorator\n",
    "def say_hello():\n",
    "    print(\"Hello!\")\n",
    "\n",
    "say_hello()"
   ]
  },
  {
   "cell_type": "code",
   "execution_count": 25,
   "metadata": {},
   "outputs": [
    {
     "name": "stdout",
     "output_type": "stream",
     "text": [
      "Hello, Alice!\n",
      "Hello, Alice!\n",
      "Hello, Alice!\n"
     ]
    }
   ],
   "source": [
    "# Decorators can also take arguments to make them more flexible.\n",
    "# Here's an example with a decorator that takes an argument:\n",
    "\"\"\"\n",
    "In this example, the repeat decorator takes an argument n, which specifies how many times the decorated function should be repeated.\n",
    "The greet function is decorated to repeat the greeting three times when called.\n",
    "\"\"\"\n",
    "def repeat(n):\n",
    "    def decorator(func):\n",
    "        def wrapper(*args, **kwargs):\n",
    "            for _ in range(n):\n",
    "                func(*args, **kwargs)\n",
    "        return wrapper\n",
    "    return decorator\n",
    "\n",
    "@repeat(3)\n",
    "def greet(name):\n",
    "    print(f\"Hello, {name}!\")\n",
    "\n",
    "greet(\"Alice\")"
   ]
  },
  {
   "cell_type": "markdown",
   "metadata": {},
   "source": [
    "Los decoradores se utilizan ampliamente en los marcos de Python, como Flask, Django y FastAPI, para tareas como manejo de rutas, autenticación y más. Proporcionan una forma limpia y modular de ampliar el comportamiento de funciones y métodos en un programa."
   ]
  },
  {
   "cell_type": "markdown",
   "metadata": {},
   "source": [
    "## Cómo pasar argumentos a funciones decoradoras\n",
    "\n",
    "También podemos pasar argumentos a funciones decoradoras:"
   ]
  },
  {
   "cell_type": "code",
   "execution_count": 26,
   "metadata": {},
   "outputs": [
    {
     "name": "stdout",
     "output_type": "stream",
     "text": [
      "The sum of 1 and 2 is 3\n"
     ]
    }
   ],
   "source": [
    "# We can also pass arguments to decorator functions:\n",
    "\n",
    "def add_numbers_decorator(input_function):\n",
    "    def function_wrapper(a, b):\n",
    "        result = 'The sum of {} and {} is {}'.format(\n",
    "            a, b, input_function(a, b))  # calling the input function with arguments\n",
    "        return result\n",
    "    return function_wrapper\n",
    "\n",
    "@add_numbers_decorator\n",
    "def add_numbers(a, b):\n",
    "    return a + b\n",
    "\n",
    "print(add_numbers(1, 2))  # The sum of 1 and 2 is 3"
   ]
  },
  {
   "cell_type": "markdown",
   "metadata": {},
   "source": [
    "## Cómo apilar decoradores\n",
    "\n",
    "En Python, puedes apilar varios decoradores en una sola función para aplicar múltiples transformaciones o comportamientos a esa función. Apilar decoradores es una forma de modularizar y ampliar la funcionalidad de sus funciones. El orden en el que se apilan los decoradores es importante porque los decoradores se aplican desde el interior hacia el exterior.\n",
    "\n",
    "Aquí se explica cómo apilar decoradores en Python:\n",
    "\n",
    "1. Defina sus decoradores: cree múltiples funciones de decorador, cada una con su propio comportamiento.\n",
    "\n",
    "2. Aplique los decoradores a una función: apile los decoradores encima de una función colocándolos uno encima del otro usando el símbolo @.\n",
    "\n",
    "3. Llame a la función decorada: cuando llama a la función decorada, los decoradores se aplican en el orden en que fueron apilados."
   ]
  },
  {
   "cell_type": "code",
   "execution_count": 27,
   "metadata": {},
   "outputs": [
    {
     "name": "stdout",
     "output_type": "stream",
     "text": [
      "HELLO, ALICE UPPER! EXCLAMATION\n",
      "HELLO, PEDRO! EXCLAMATION UPPER\n"
     ]
    }
   ],
   "source": [
    "# Here's an example of stacking decorators on a function\n",
    "\n",
    "# First decorator\n",
    "def uppercase_decorator(func):\n",
    "    def wrapper(*args, **kwargs):\n",
    "        result = func(*args, **kwargs)\n",
    "        return result.upper() +  \" UPPER\"\n",
    "    return wrapper\n",
    "\n",
    "# Second decorator\n",
    "def exclamation_decorator(func):\n",
    "    def wrapper(*args, **kwargs):\n",
    "        result = func(*args, **kwargs)\n",
    "        return f\"{result}!\" + \" EXCLAMATION\"\n",
    "    return wrapper\n",
    "\n",
    "\n",
    "# Apply decorators to a function\n",
    "@exclamation_decorator  # outermost\n",
    "@uppercase_decorator    # innermost\n",
    "def greet(name):\n",
    "    return f\"Hello, {name}\"\n",
    "\n",
    "# Call the decorated function\n",
    "result = greet(\"Alice\")\n",
    "print(result)  # Output: \"HELLO, ALICE UPPER! EXCLAMATION\"\n",
    "\n",
    "\n",
    "# Apply decorators to a function\n",
    "@uppercase_decorator    # outermost\n",
    "@exclamation_decorator  # innermost\n",
    "def greet(name):\n",
    "    return f\"Hello, {name}\"\n",
    "\n",
    "# Call the decorated function\n",
    "result = greet(\"Pedro\")\n",
    "print(result)  # Output: \"HELLO, PEDRO! EXCLAMATION UPPER\""
   ]
  },
  {
   "cell_type": "markdown",
   "metadata": {},
   "source": [
    "Puede apilar tantos decoradores como necesite para lograr la funcionalidad deseada para sus funciones. Sólo recuerde que el orden de apilamiento afecta el orden en que se aplican los decoradores."
   ]
  },
  {
   "cell_type": "markdown",
   "metadata": {},
   "source": [
    "## Built-in decorators\n",
    "\n",
    "Python tiene varios decoradores integrados que brindan funciones útiles cuando se aplican a funciones o métodos. Estos decoradores integrados lo ayudan con tareas como administrar el comportamiento de las funciones, el control de acceso y más. Estos son algunos de los decoradores integrados más utilizados en Python:"
   ]
  },
  {
   "cell_type": "markdown",
   "metadata": {},
   "source": [
    "### @staticmethod\n",
    "\n",
    "Este decorador se utiliza para definir un método estático dentro de una clase. Los métodos estáticos están vinculados a la clase y no a una instancia de la clase. Se pueden invocar en la propia clase y no tienen acceso a atributos específicos de la instancia."
   ]
  },
  {
   "cell_type": "code",
   "execution_count": 28,
   "metadata": {},
   "outputs": [
    {
     "name": "stdout",
     "output_type": "stream",
     "text": [
      "This is a static method\n"
     ]
    }
   ],
   "source": [
    "# @staticmethod\n",
    "class MyClass:\n",
    "    @staticmethod\n",
    "    def static_method():\n",
    "        print(\"This is a static method\")\n",
    "\n",
    "MyClass.static_method()"
   ]
  },
  {
   "cell_type": "markdown",
   "metadata": {},
   "source": [
    "### @classmethod\n",
    "\n",
    "Este decorador define un método de clase dentro de una clase. Los métodos de clase están vinculados a la clase y pueden acceder o modificar atributos de nivel de clase."
   ]
  },
  {
   "cell_type": "code",
   "execution_count": 29,
   "metadata": {},
   "outputs": [
    {
     "name": "stdout",
     "output_type": "stream",
     "text": [
      "Class variable: 42\n"
     ]
    }
   ],
   "source": [
    "# @classmethod\n",
    "class MyClass:\n",
    "    class_variable = 42\n",
    "\n",
    "    @classmethod\n",
    "    def class_method(cls):\n",
    "        print(f\"Class variable: {cls.class_variable}\")\n",
    "\n",
    "MyClass.class_method()"
   ]
  },
  {
   "cell_type": "markdown",
   "metadata": {},
   "source": [
    "### @property\n",
    "\n",
    "Este decorador le permite definir un método al que se puede acceder como un atributo. Se utiliza para crear métodos getter."
   ]
  },
  {
   "cell_type": "code",
   "execution_count": 30,
   "metadata": {},
   "outputs": [
    {
     "name": "stdout",
     "output_type": "stream",
     "text": [
      "5\n"
     ]
    }
   ],
   "source": [
    "# @property\n",
    "class Circle:\n",
    "    def __init__(self, radius):\n",
    "        self._radius = radius\n",
    "\n",
    "    @property\n",
    "    def radius(self):\n",
    "        return self._radius\n",
    "\n",
    "c = Circle(5)\n",
    "print(c.radius)  # Accessing radius like an attribute"
   ]
  },
  {
   "cell_type": "markdown",
   "metadata": {},
   "source": [
    "### @{property_name}.setter\n",
    "\n",
    "Este decorador se utiliza junto con el decorador @{property_name} para crear un método de establecimiento para una propiedad."
   ]
  },
  {
   "cell_type": "code",
   "execution_count": 31,
   "metadata": {},
   "outputs": [
    {
     "name": "stdout",
     "output_type": "stream",
     "text": [
      "7\n"
     ]
    }
   ],
   "source": [
    "# @{property_name}.setter\n",
    "class Circle:\n",
    "    def __init__(self, radius):\n",
    "        self._radius = radius\n",
    "\n",
    "    @property\n",
    "    def radius(self):\n",
    "        return self._radius\n",
    "\n",
    "    @radius.setter\n",
    "    def radius(self, value):\n",
    "        if value < 0:\n",
    "            raise ValueError(\"Radius cannot be negative\")\n",
    "        self._radius = value\n",
    "\n",
    "c = Circle(5)\n",
    "c.radius = 7  # Using the setter\n",
    "\n",
    "print(c.radius)"
   ]
  },
  {
   "cell_type": "markdown",
   "metadata": {},
   "source": [
    "### @{property_name}.deleter\n",
    "\n",
    "Este decorador se usa con @{property_name} para crear un método de eliminación para una propiedad."
   ]
  },
  {
   "cell_type": "code",
   "execution_count": 32,
   "metadata": {},
   "outputs": [
    {
     "name": "stdout",
     "output_type": "stream",
     "text": [
      "Deleting the radius property\n"
     ]
    }
   ],
   "source": [
    "# @{property_name}.deleter\n",
    "class Circle:\n",
    "    def __init__(self, radius):\n",
    "        self._radius = radius\n",
    "\n",
    "    @property\n",
    "    def radius(self):\n",
    "        return self._radius\n",
    "\n",
    "    @radius.deleter\n",
    "    def radius(self):\n",
    "        print(\"Deleting the radius property\")\n",
    "        del self._radius\n",
    "\n",
    "c = Circle(5)\n",
    "del c.radius  # Using the deleter"
   ]
  },
  {
   "cell_type": "markdown",
   "metadata": {},
   "source": [
    "### @abstractmethod\n",
    "\n",
    "Este decorador es parte del módulo abc (Clases base abstractas). Se utiliza para definir métodos abstractos dentro de una clase abstracta. Se requieren subclases para proporcionar una implementación de métodos abstractos."
   ]
  },
  {
   "cell_type": "code",
   "execution_count": 33,
   "metadata": {},
   "outputs": [
    {
     "name": "stdout",
     "output_type": "stream",
     "text": [
      "my_abstract_method implemented\n"
     ]
    }
   ],
   "source": [
    "# @abstractmethod\n",
    "from abc import ABC, abstractmethod\n",
    "\n",
    "class MyAbstractClass(ABC):\n",
    "    @abstractmethod\n",
    "    def my_abstract_method(self):\n",
    "        pass\n",
    "\n",
    "class OtherClass(MyAbstractClass):\n",
    "    def my_abstract_method(self):   # Must be implemented\n",
    "        print(\"my_abstract_method implemented\")\n",
    "\n",
    "my_obj = OtherClass()\n",
    "my_obj.my_abstract_method()"
   ]
  },
  {
   "cell_type": "markdown",
   "metadata": {},
   "source": [
    "Estos son algunos de los decoradores integrados más utilizados en Python, y cada uno tiene un propósito diferente. Puede usarlos para modificar o mejorar el comportamiento de funciones, métodos o clases en su código."
   ]
  }
 ],
 "metadata": {
  "kernelspec": {
   "display_name": ".venv",
   "language": "python",
   "name": "python3"
  },
  "language_info": {
   "codemirror_mode": {
    "name": "ipython",
    "version": 3
   },
   "file_extension": ".py",
   "mimetype": "text/x-python",
   "name": "python",
   "nbconvert_exporter": "python",
   "pygments_lexer": "ipython3",
   "version": "3.12.0"
  }
 },
 "nbformat": 4,
 "nbformat_minor": 2
}
