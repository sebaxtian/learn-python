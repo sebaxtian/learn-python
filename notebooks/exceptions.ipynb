{
 "cells": [
  {
   "cell_type": "markdown",
   "metadata": {},
   "source": [
    "# Exceptions\n",
    "\n",
    "Handling exceptions in Python is essential for writing robust and error-tolerant code. You can use try, except, and other related statements to catch and handle \n",
    "exceptions.\n",
    "\n",
    "Here's a basic overview of how to handle exceptions in Python:\n",
    "\n",
    "* [Try-Except Block](#try-except-block)\n",
    "* [Multiple Except Blocks](#multiple-except-blocks)\n",
    "* [Generic Except Block](#generic-except-block)\n",
    "* [Finally Block](#finally-block)\n",
    "* [Raising Custom Exceptions](#raising-custom-exceptions)\n",
    "* [Handling Multiple Exceptions](#handling-multiple-exceptions)\n",
    "* [Exception Hierarchy](#exception-hierarchy)\n",
    "* [Common Exceptions in Python](#common-exceptions-in-python)\n",
    "\n",
    "Handling exceptions in Python allows your code to gracefully recover from errors and continue execution when possible. It's important to choose the right level of granularity for your exception handling, catching only the exceptions you can handle while allowing others to propagate if necessary."
   ]
  },
  {
   "cell_type": "markdown",
   "metadata": {},
   "source": [
    "## Try-Except Block\n",
    "\n",
    "The try block is used to enclose the code that might raise an exception. The except block follows the try block and contains code to handle the exception if it occurs."
   ]
  },
  {
   "cell_type": "code",
   "execution_count": 1,
   "metadata": {},
   "outputs": [
    {
     "name": "stdout",
     "output_type": "stream",
     "text": [
      "Division by zero is not allowed.\n"
     ]
    }
   ],
   "source": [
    "# Try-Except Block\n",
    "try:\n",
    "    # Code that may raise an exception\n",
    "    result = 10 / 0  # This will raise a ZeroDivisionError\n",
    "except ZeroDivisionError:\n",
    "    # Handle the specific exception\n",
    "    print(\"Division by zero is not allowed.\")"
   ]
  },
  {
   "cell_type": "markdown",
   "metadata": {},
   "source": [
    "## Multiple Except Blocks\n",
    "\n",
    "You can have multiple except blocks to handle different types of exceptions. Python will execute the first matching except block."
   ]
  },
  {
   "cell_type": "code",
   "execution_count": 2,
   "metadata": {},
   "outputs": [
    {
     "name": "stdout",
     "output_type": "stream",
     "text": [
      "Invalid integer value.\n"
     ]
    }
   ],
   "source": [
    "# Multiple Except Blocks\n",
    "try:\n",
    "    value = int(\"foo\")  # This will raise a ValueError\n",
    "    result = 10 / 0  # This will raise a ZeroDivisionError\n",
    "except ValueError:\n",
    "    print(\"Invalid integer value.\")\n",
    "except ZeroDivisionError:\n",
    "    print(\"Division by zero is not allowed.\")"
   ]
  },
  {
   "cell_type": "markdown",
   "metadata": {},
   "source": [
    "## Generic Except Block\n",
    "\n",
    "You can use a generic except block to catch all exceptions that are not explicitly handled. However, it's generally better to catch specific exceptions whenever possible, as this makes your code more readable and maintainable."
   ]
  },
  {
   "cell_type": "code",
   "execution_count": 3,
   "metadata": {},
   "outputs": [
    {
     "name": "stdout",
     "output_type": "stream",
     "text": [
      "Division by zero is not allowed.\n"
     ]
    }
   ],
   "source": [
    "# Generic Except Block\n",
    "try:\n",
    "    result = 10 / 0  # This will raise a ZeroDivisionError\n",
    "    value = int(\"foo\")  # This will raise a ValueError\n",
    "except ValueError:\n",
    "    print(\"Invalid integer value.\")\n",
    "except ZeroDivisionError:\n",
    "    print(\"Division by zero is not allowed.\")\n",
    "except:\n",
    "    print(\"An unspecified error occurred.\")"
   ]
  },
  {
   "cell_type": "markdown",
   "metadata": {},
   "source": [
    "## Finally Block\n",
    "\n",
    "You can also use a finally block to execute code regardless of whether an exception occurred or not. This block is often used for cleanup operations like closing files or network connections."
   ]
  },
  {
   "cell_type": "code",
   "execution_count": 4,
   "metadata": {},
   "outputs": [
    {
     "name": "stdout",
     "output_type": "stream",
     "text": [
      "An error occurred while reading the file.\n",
      "File Closed\n"
     ]
    }
   ],
   "source": [
    "# Finally Block\n",
    "try:\n",
    "    file = open(\"/bin/python\", \"r\")\n",
    "    data = file.read()\n",
    "except UnicodeDecodeError:\n",
    "    print(\"An error occurred while reading the file.\")\n",
    "finally:\n",
    "    file.close()\n",
    "    print(\"File Closed\")"
   ]
  },
  {
   "cell_type": "markdown",
   "metadata": {},
   "source": [
    "## Raising Custom Exceptions\n",
    "\n",
    "You can raise custom exceptions using the raise statement. This can be useful to signal errors specific to your application."
   ]
  },
  {
   "cell_type": "code",
   "execution_count": 5,
   "metadata": {},
   "outputs": [
    {
     "name": "stdout",
     "output_type": "stream",
     "text": [
      "Division by zero is not allowed\n"
     ]
    }
   ],
   "source": [
    "# Raising Custom Exceptions\n",
    "def divide(x, y):\n",
    "    if y == 0:\n",
    "        raise ValueError(\"Division by zero is not allowed\")\n",
    "    return x / y\n",
    "\n",
    "try:\n",
    "    result = divide(10, 0)\n",
    "except ValueError as e:\n",
    "    print(e)"
   ]
  },
  {
   "cell_type": "markdown",
   "metadata": {},
   "source": [
    "## Handling Multiple Exceptions\n",
    "\n",
    "You can handle multiple exceptions within a single except block using parentheses to specify the exception types."
   ]
  },
  {
   "cell_type": "code",
   "execution_count": 6,
   "metadata": {},
   "outputs": [
    {
     "name": "stdout",
     "output_type": "stream",
     "text": [
      "An error occurred: division by zero\n"
     ]
    }
   ],
   "source": [
    "# Handling Multiple Exceptions\n",
    "try:\n",
    "    result = 10 / 0\n",
    "    value = int(\"foo\")  # This will raise a ValueError\n",
    "except (ValueError, ZeroDivisionError) as e:\n",
    "    print(f\"An error occurred: {e}\")"
   ]
  },
  {
   "cell_type": "markdown",
   "metadata": {},
   "source": [
    "## Exception Hierarchy\n",
    "\n",
    "Python's exception hierarchy allows you to catch broader categories of exceptions by catching their parent classes. For example, you can catch all exceptions by using the Exception class."
   ]
  },
  {
   "cell_type": "code",
   "execution_count": 7,
   "metadata": {},
   "outputs": [
    {
     "name": "stdout",
     "output_type": "stream",
     "text": [
      "An exception occurred: invalid literal for int() with base 10: 'foo'\n"
     ]
    }
   ],
   "source": [
    "# Exception Hierarchy\n",
    "try:\n",
    "    # Code that may raise an exception\n",
    "    value = int(\"foo\")  # This will raise a ValueError\n",
    "    result = 10 / 0\n",
    "except Exception as e:\n",
    "    print(f\"An exception occurred: {e}\")"
   ]
  },
  {
   "cell_type": "markdown",
   "metadata": {},
   "source": [
    "## Common Exceptions in Python\n",
    "\n",
    "Python has a wide range of built-in exceptions to handle various error conditions in your code.\n",
    "\n",
    "Here are some of the most common exceptions you may encounter:\n",
    "\n",
    "1. **SyntaxError**: Raised when there's a syntax error in your code.\n",
    "2. **IndentationError**: Raised when there's an issue with the indentation of your code.\n",
    "3. **NameError**: Raised when a local or global name is not found.\n",
    "4. **TypeError**: Raised when an operation or function is applied to an object of an inappropriate type.\n",
    "5. **ValueError**: Raised when a function receives an argument of the correct data type but an inappropriate value.\n",
    "6. **KeyError**: Raised when a dictionary is accessed with a key that doesn't exist.\n",
    "7. **IndexError**: Raised when you try to access an element of a sequence (list, tuple, etc.) using an index that is out of range.\n",
    "8. **FileNotFoundError**: Raised when an attempt to open a file fails because the file does not exist.\n",
    "9. **IOError**: Raised for input/output errors, such as when reading or writing to a file.\n",
    "10. **ZeroDivisionError**: Raised when dividing by zero.\n",
    "11. **AttributeError**: Raised when trying to access an attribute that does not exist.\n",
    "12. **ImportError**: Raised when an imported module or package is not found or there is an issue with the import statement.\n",
    "13. **ModuleNotFoundError**: A specific type of ImportError, raised when a module is not found.\n",
    "14. **NotImplementedError**: Raised when an abstract method in an abstract base class is not implemented by a concrete subclass.\n",
    "15. **MemoryError**: Raised when the program runs out of memory.\n",
    "16. **RecursionError**: Raised when the maximum recursion depth is exceeded.\n",
    "17. **KeyboardInterrupt**: Raised when the user interrupts the program (e.g., pressing Ctrl+C).\n",
    "18. **AssertionError**: Raised when an assert statement fails.\n",
    "19. **SystemExit**: Raised when the sys.exit() function is called.\n",
    "20. **ArithmeticError**: A base class for numeric errors, including ZeroDivisionError and OverflowError.\n",
    "\n",
    "These are just some of the common exceptions you might encounter while writing Python code. It's important to handle these exceptions appropriately to make your code more robust and user-friendly. You can use try and except blocks to catch and handle these exceptions in your code, as explained in the previous answer."
   ]
  }
 ],
 "metadata": {
  "kernelspec": {
   "display_name": ".venv",
   "language": "python",
   "name": "python3"
  },
  "language_info": {
   "codemirror_mode": {
    "name": "ipython",
    "version": 3
   },
   "file_extension": ".py",
   "mimetype": "text/x-python",
   "name": "python",
   "nbconvert_exporter": "python",
   "pygments_lexer": "ipython3",
   "version": "3.12.0"
  }
 },
 "nbformat": 4,
 "nbformat_minor": 2
}
