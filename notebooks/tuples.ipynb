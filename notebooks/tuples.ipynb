{
 "cells": [
  {
   "cell_type": "markdown",
   "metadata": {},
   "source": [
    "# Tuples\n",
    "\n",
    "In Python, a tuple is a collection of ordered, immutable elements. Tuples are similar to lists, but unlike lists, they cannot be modified once they are created. Tuples are defined using parentheses (), and the elements within a tuple are separated by commas.\n",
    "\n",
    "Here's a basic overview of tuples in Python:\n",
    "\n",
    "* [Creating a Tuple](#creating-a-tuple)\n",
    "* [Accessing Elements](#accessing-elements)\n",
    "* [Tuple Packing and Unpacking](#tuple-packing-and-unpacking)\n",
    "* [Immutable Nature](#immutable-nature)\n",
    "* [Common Tuple Operations](#common-tuple-operations)\n",
    "* [Methods](#methods)\n",
    "* [Tuples Comprehension](#tuples-comprehension)"
   ]
  },
  {
   "cell_type": "markdown",
   "metadata": {},
   "source": [
    "## Creating a Tuple\n",
    "\n",
    "You can create a tuple by enclosing a comma-separated list of values within parentheses."
   ]
  },
  {
   "cell_type": "code",
   "execution_count": 1,
   "metadata": {},
   "outputs": [
    {
     "name": "stdout",
     "output_type": "stream",
     "text": [
      "(1, 2, 3, 4, 5)\n",
      "('apple', 3.14, True, 42)\n",
      "()\n",
      "(42,)\n",
      "(1, 2, 3)\n",
      "1 2 3\n",
      "('apple', 'banana', 'cherry')\n",
      "((1, 2), ('a', 'b'), (True, False))\n",
      "('a', 'b', 'c', 'd', 'e')\n",
      "(1, 2, 3, 4)\n"
     ]
    }
   ],
   "source": [
    "# Creating a tuple with integers\n",
    "my_tuple = (1, 2, 3, 4, 5)\n",
    "\n",
    "# Creating a tuple with mixed data types\n",
    "mixed_tuple = (\"apple\", 3.14, True, 42)\n",
    "\n",
    "# Creating an empty tuple\n",
    "empty_tuple = ()\n",
    "\n",
    "# Creating a tuple with a single element (note the comma)\n",
    "single_element_tuple = (42,)\n",
    "\n",
    "# Tuple packing and unpacking\n",
    "packed_tuple = 1, 2, 3  # Tuple packing\n",
    "a, b, c = packed_tuple  # Tuple unpacking\n",
    "\n",
    "# Creating a tuple of strings\n",
    "fruits = (\"apple\", \"banana\", \"cherry\")\n",
    "\n",
    "# Creating a nested tuple (a tuple inside a tuple)\n",
    "nested_tuple = ((1, 2), (\"a\", \"b\"), (True, False))\n",
    "\n",
    "# Using the tuple() built-in: tuple() or tuple(iterable)\n",
    "new_tuple = tuple(\"abcde\")\n",
    "list_tuple = tuple([1, 2, 3, 4])\n",
    "\n",
    "print(my_tuple)\n",
    "print(mixed_tuple)\n",
    "print(empty_tuple)\n",
    "print(single_element_tuple)\n",
    "print(packed_tuple)\n",
    "print(a, b, c)\n",
    "print(fruits)\n",
    "print(nested_tuple)\n",
    "print(new_tuple)\n",
    "print(list_tuple)"
   ]
  },
  {
   "cell_type": "markdown",
   "metadata": {},
   "source": [
    "## Accessing Elements\n",
    "\n",
    "You can access elements of a tuple using indexing, just like you do with lists. Indexing starts at 0."
   ]
  },
  {
   "cell_type": "code",
   "execution_count": 2,
   "metadata": {},
   "outputs": [
    {
     "name": "stdout",
     "output_type": "stream",
     "text": [
      "(1, 2, 3, 4, 5)\n",
      "1\n",
      "2\n",
      "5\n",
      "(2, 3, 4)\n",
      "1\n",
      "2\n",
      "3\n",
      "4\n",
      "5\n",
      "3 is in the tuple\n",
      "3\n"
     ]
    }
   ],
   "source": [
    "# Accesing Elements\n",
    "my_tuple = (1, 2, 3, 4, 5)\n",
    "print(my_tuple)\n",
    "\n",
    "# Accessing elements by index\n",
    "first_element = my_tuple[0]  # Access the first element (1)\n",
    "second_element = my_tuple[1]  # Access the second element (2)\n",
    "last_element = my_tuple[-1]  # Access the last element (5)\n",
    "\n",
    "print(first_element)\n",
    "print(second_element)\n",
    "print(last_element)\n",
    "\n",
    "# Slicing to access a range of elements\n",
    "sliced_tuple = my_tuple[1:4]  # Access elements from index 1 to 3 (2, 3, 4)\n",
    "\n",
    "print(sliced_tuple)\n",
    "\n",
    "# Accessing elements using a loop\n",
    "for element in my_tuple:\n",
    "    print(element)\n",
    "\n",
    "# Checking if an element exists in the tuple\n",
    "if 3 in my_tuple:\n",
    "    print(\"3 is in the tuple\")\n",
    "\n",
    "# Finding the index of an element\n",
    "index_of_4 = my_tuple.index(4)  # Returns the index of 4, which is 3\n",
    "\n",
    "print(index_of_4)\n",
    "\n",
    "# Attempting to access an element at an invalid index\n",
    "# This will result in an \"IndexError\" if the index is out of range.\n",
    "# For example, my_tuple[10] would raise an error."
   ]
  },
  {
   "cell_type": "markdown",
   "metadata": {},
   "source": [
    "## Tuple Packing and Unpacking\n",
    "\n",
    "You can also create a tuple without parentheses by simply separating values with commas. This is called tuple packing.\n",
    "You can also assign the values of a tuple to individual variables. This is called tuple unpacking."
   ]
  },
  {
   "cell_type": "markdown",
   "metadata": {},
   "source": [
    "### Tuple Packing"
   ]
  },
  {
   "cell_type": "code",
   "execution_count": 3,
   "metadata": {},
   "outputs": [
    {
     "name": "stdout",
     "output_type": "stream",
     "text": [
      "(1, 2, 3)\n",
      "('apple', 3.14, True)\n"
     ]
    }
   ],
   "source": [
    "# Creating a tuple by packing values\n",
    "packed_tuple = 1, 2, 3  # Tuple packing\n",
    "print(packed_tuple)  # (1, 2, 3)\n",
    "\n",
    "# Creating a tuple with different data types\n",
    "mixed_tuple = \"apple\", 3.14, True  # Tuple packing with mixed data types\n",
    "print(mixed_tuple)  # ('apple', 3.14, True)"
   ]
  },
  {
   "cell_type": "markdown",
   "metadata": {},
   "source": [
    "### Tuple Unpacking"
   ]
  },
  {
   "cell_type": "code",
   "execution_count": 4,
   "metadata": {},
   "outputs": [
    {
     "name": "stdout",
     "output_type": "stream",
     "text": [
      "1\n",
      "2\n",
      "3\n",
      "apple\n",
      "3.14\n",
      "True\n",
      "x = 10\n",
      "y = 5\n"
     ]
    }
   ],
   "source": [
    "# Unpacking a tuple into individual variables\n",
    "a, b, c = packed_tuple  # Tuple unpacking\n",
    "print(a)  # 1\n",
    "print(b)  # 2\n",
    "print(c)  # 3\n",
    "\n",
    "# Unpacking a tuple with mixed data types\n",
    "fruit, pi, is_true = mixed_tuple  # Tuple unpacking with mixed data types\n",
    "print(fruit)    # 'apple'\n",
    "print(pi)       # 3.14\n",
    "print(is_true)  # True\n",
    "\n",
    "# Swapping the values of two variables using tuple packing and unpacking\n",
    "x = 5\n",
    "y = 10\n",
    "\n",
    "x, y = y, x  # Swap the values using tuple packing and unpacking\n",
    "print(\"x =\", x)  # x = 10\n",
    "print(\"y =\", y)  # y = 5"
   ]
  },
  {
   "cell_type": "markdown",
   "metadata": {},
   "source": [
    "## Immutable Nature\n",
    "\n",
    "Tuples are **immutable**, which means you cannot modify their contents after creation. Once a tuple is created, you cannot add, remove, or change its elements. If you need a collection that can be modified, use a list instead."
   ]
  },
  {
   "cell_type": "code",
   "execution_count": 5,
   "metadata": {},
   "outputs": [
    {
     "name": "stdout",
     "output_type": "stream",
     "text": [
      "my_tuple[1] = 4  # Results in a TypeError\n",
      "(1, 2)\n",
      "(1, 2, 5)\n",
      "(1, 2, 3, 4)\n",
      "del my_tuple[1]  # Results in a TypeError\n"
     ]
    }
   ],
   "source": [
    "# Attempting to modify a tuple results in an error\n",
    "my_tuple = (1, 2, 3)\n",
    "# Trying to change the second element to 4 (this will raise an error)\n",
    "# my_tuple[1] = 4  # Results in a TypeError\n",
    "print(\"my_tuple[1] = 4  # Results in a TypeError\")\n",
    "\n",
    "# Appending and extending a tuple create new tuples\n",
    "tuple1 = (1, 2)\n",
    "tuple2 = (3, 4)\n",
    "# Appending a value to a tuple creates a new tuple\n",
    "new_tuple1 = tuple1 + (5,)\n",
    "# Extending a tuple also creates a new tuple\n",
    "new_tuple2 = tuple1 + tuple2\n",
    "\n",
    "print(tuple1)  # (1, 2)\n",
    "print(new_tuple1)  # (1, 2, 5)\n",
    "print(new_tuple2)  # (1, 2, 3, 4)\n",
    "\n",
    "# Deleting elements from a tuple is not allowed\n",
    "my_tuple = (1, 2, 3)\n",
    "# Attempting to delete an element (this will raise an error)\n",
    "# del my_tuple[1]  # Results in a TypeError\n",
    "print(\"del my_tuple[1]  # Results in a TypeError\")"
   ]
  },
  {
   "cell_type": "markdown",
   "metadata": {},
   "source": [
    "## Common Tuple Operations\n",
    "\n",
    "* **Concatenation**: You can concatenate two or more tuples to create a new tuple.\n",
    "* **Repetition**: You can repeat a tuple a specified number of times.\n",
    "* **Length**: You can find the length of a tuple using the **len()** function."
   ]
  },
  {
   "cell_type": "code",
   "execution_count": 6,
   "metadata": {},
   "outputs": [
    {
     "name": "stdout",
     "output_type": "stream",
     "text": [
      "(1, 2, 3, 4)\n",
      "(1, 2, 1, 2, 1, 2)\n",
      "5\n",
      "3\n",
      "3\n"
     ]
    }
   ],
   "source": [
    "# Concatenation\n",
    "tuple1 = (1, 2)\n",
    "tuple2 = (3, 4)\n",
    "concatenated_tuple = tuple1 + tuple2\n",
    "print(concatenated_tuple)  # (1, 2, 3, 4)\n",
    "\n",
    "# Repetition\n",
    "tuple1 = (1, 2)\n",
    "repeated_tuple = tuple1 * 3\n",
    "print(repeated_tuple)  # (1, 2, 1, 2, 1, 2)\n",
    "\n",
    "# Length\n",
    "my_tuple = (1, 2, 3, 4, 5)\n",
    "length = len(my_tuple)\n",
    "print(length)  # 5\n",
    "\n",
    "# Using the count() method\n",
    "my_tuple = (1, 2, 2, 3, 4, 2)\n",
    "count_2 = my_tuple.count(2)\n",
    "print(count_2)  # 3\n",
    "\n",
    "# Using the index() method\n",
    "my_tuple = (1, 2, 2, 3, 4, 2)\n",
    "index_3 = my_tuple.index(3)\n",
    "print(index_3)  # 3 (the index of the first occurrence of 3)"
   ]
  },
  {
   "cell_type": "markdown",
   "metadata": {},
   "source": [
    "## Methods\n",
    "\n",
    "Tuples have some built-in methods like **count()** and **index()**. **count()** returns the number of times a specified value occurs in the tuple, and **index()** returns the index of the first occurrence of a specified value."
   ]
  },
  {
   "cell_type": "code",
   "execution_count": 7,
   "metadata": {},
   "outputs": [
    {
     "name": "stdout",
     "output_type": "stream",
     "text": [
      "(1, 2, 2, 3, 4, 2)\n",
      "Count of 2: 3\n",
      "Index of 3: 3\n",
      "Sorted Tuple: (1, 2, 2, 2, 3, 4)\n",
      "Max Value: 4\n",
      "Min Value: 1\n"
     ]
    }
   ],
   "source": [
    "# Methods\n",
    "# Sample tuple\n",
    "my_tuple = (1, 2, 2, 3, 4, 2)\n",
    "print(my_tuple)\n",
    "\n",
    "# Using the count() method to count the occurrences of a value\n",
    "count_2 = my_tuple.count(2)\n",
    "print(\"Count of 2:\", count_2)  # Count of 2: 3\n",
    "\n",
    "# Using the index() method to find the index of the first occurrence of a value\n",
    "index_3 = my_tuple.index(3)\n",
    "print(\"Index of 3:\", index_3)  # Index of 3: 3\n",
    "\n",
    "# Sorting a tuple using sorted() and converting it back to a tuple\n",
    "sorted_tuple = tuple(sorted(my_tuple))\n",
    "print(\"Sorted Tuple:\", sorted_tuple)  # Sorted Tuple: (1, 2, 2, 2, 3, 4)\n",
    "\n",
    "# Finding the maximum and minimum values in a tuple\n",
    "max_value = max(my_tuple)\n",
    "min_value = min(my_tuple)\n",
    "print(\"Max Value:\", max_value)  # Max Value: 4\n",
    "print(\"Min Value:\", min_value)  # Min Value: 1"
   ]
  },
  {
   "cell_type": "markdown",
   "metadata": {},
   "source": [
    "## Tuples Comprehension"
   ]
  },
  {
   "cell_type": "code",
   "execution_count": 9,
   "metadata": {},
   "outputs": [
    {
     "name": "stdout",
     "output_type": "stream",
     "text": [
      "(1, 4, 9, 16, 25)\n",
      "(1, 8, 27, 64, 125)\n",
      "(1, 16, 81, 256, 625)\n"
     ]
    }
   ],
   "source": [
    "# Tuples Comprehension\n",
    "my_tuple = (1, 2, 3, 4, 5)\n",
    "\n",
    "a = *(x**2 for x in my_tuple), # comma, unpack notation\n",
    "b = tuple(x**3 for x in my_tuple) # from generator\n",
    "c = tuple([x**4 for x in my_tuple]) # from list comprehension\n",
    "\n",
    "\n",
    "print(a)\n",
    "print(b)\n",
    "print(c)\n"
   ]
  },
  {
   "cell_type": "markdown",
   "metadata": {},
   "source": [
    "---\n",
    "Tuples are often used when you want to ensure that the data remains constant and cannot be accidentally changed. They are also more memory-efficient than lists:\n",
    "\n",
    "1. **Immutable Nature**: Tuples are immutable, which means once you create a tuple, you cannot change its contents. This immutability allows Python to make certain optimizations that result in lower memory consumption. In contrast, lists are mutable, so they require extra memory to accommodate potential changes.\n",
    "2. **Fixed Size**: Because tuples are of fixed size, Python can allocate memory for all the elements at once. Lists, being mutable, may require dynamic memory allocation as elements are added or removed, which can lead to memory fragmentation and increased memory overhead.\n",
    "3. **Less Overhead**: Tuples have less overhead compared to lists. Lists require additional memory to store information about their size and the memory addresses of their elements. Tuples, on the other hand, do not require this extra overhead.\n",
    "4. **Better for Heterogeneous Data**: Tuples are often used to group together elements of different data types, which can lead to better memory efficiency. Lists, while still capable of containing heterogeneous data, are typically used for homogeneous data, and this can result in more memory overhead.\n",
    "5. **Faster Iteration**: Iterating over a tuple is generally faster than iterating over a list due to the reduced overhead and immutability. This can lead to more efficient memory usage when you are processing large amounts of data.\n",
    "\n",
    "It's important to note that the memory efficiency difference between tuples and lists is typically small for small data structures, and the choice between them should primarily be based on the intended use of the data and whether immutability is desired. However, in scenarios where you have large collections of data that won't change, using tuples can help conserve memory and potentially improve performance."
   ]
  }
 ],
 "metadata": {
  "kernelspec": {
   "display_name": ".venv",
   "language": "python",
   "name": "python3"
  },
  "language_info": {
   "codemirror_mode": {
    "name": "ipython",
    "version": 3
   },
   "file_extension": ".py",
   "mimetype": "text/x-python",
   "name": "python",
   "nbconvert_exporter": "python",
   "pygments_lexer": "ipython3",
   "version": "3.12.0"
  }
 },
 "nbformat": 4,
 "nbformat_minor": 2
}
