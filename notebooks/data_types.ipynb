{
 "cells": [
  {
   "cell_type": "markdown",
   "metadata": {},
   "source": [
    "# Data Types in Python\n",
    "\n",
    "Python supports several built-in data types, which are used to represent different kinds of data. Some of the most common data types in Python include:\n",
    "\n",
    "* [Integers](#integers)\n",
    "* [Floats](#floats)\n",
    "* [Strings](#strings)\n",
    "* [Booleans](#booleans)\n",
    "* [Lists](#lists)\n",
    "* [Tuples](#tuples)\n",
    "* [Dictionaries](#dictionaries)\n",
    "* [Sets](#sets)\n",
    "* [NoneType](#nonetype)\n",
    "* [Complex Numbers](#complex-numbers)\n",
    "* [Bytes and Byte Arrays](#bytes-and-byte-arrays)\n",
    "* [Enums](#enums)\n",
    "* [User-Defined Classes](#user-defined-classes)\n"
   ]
  },
  {
   "cell_type": "markdown",
   "metadata": {},
   "source": [
    "## Integers\n",
    "\n",
    "Used to represent whole numbers, both positive and negative, without a decimal point. For example, 5, -12, and 0 are integers."
   ]
  },
  {
   "cell_type": "code",
   "execution_count": 1,
   "metadata": {},
   "outputs": [
    {
     "name": "stdout",
     "output_type": "stream",
     "text": [
      "42 <class 'int'>\n"
     ]
    }
   ],
   "source": [
    "# Integers (int)\n",
    "my_integer = 42\n",
    "\n",
    "print(my_integer, type(my_integer))"
   ]
  },
  {
   "cell_type": "markdown",
   "metadata": {},
   "source": [
    "## Floats\n",
    "\n",
    "Used to represent real numbers with a decimal point. For example, 3.14 and -0.5 are floating-point numbers."
   ]
  },
  {
   "cell_type": "code",
   "execution_count": 2,
   "metadata": {},
   "outputs": [
    {
     "name": "stdout",
     "output_type": "stream",
     "text": [
      "3.14 <class 'float'>\n"
     ]
    }
   ],
   "source": [
    "# Floats (float)\n",
    "my_float = 3.14\n",
    "\n",
    "print(my_float, type(my_float))"
   ]
  },
  {
   "cell_type": "markdown",
   "metadata": {},
   "source": [
    "## Strings\n",
    "\n",
    "Used to represent sequences of characters. Strings are enclosed in single or double quotes. For example, \"Hello, World!\" and 'Python' are strings."
   ]
  },
  {
   "cell_type": "code",
   "execution_count": 3,
   "metadata": {},
   "outputs": [
    {
     "name": "stdout",
     "output_type": "stream",
     "text": [
      "Hello, World! <class 'str'>\n",
      "Hello, World! <class 'str'>\n"
     ]
    }
   ],
   "source": [
    "# Strings (str)\n",
    "my_string = \"Hello, World!\"\n",
    "my_new_string = 'Hello, World!'\n",
    "\n",
    "print(my_string, type(my_string))\n",
    "print(my_new_string, type(my_new_string))"
   ]
  },
  {
   "cell_type": "markdown",
   "metadata": {},
   "source": [
    "## Booleans\n",
    "\n",
    "Used to represent binary values, either True or False. Booleans are often used in conditional statements. For example, True and False are Boolean values."
   ]
  },
  {
   "cell_type": "code",
   "execution_count": 4,
   "metadata": {},
   "outputs": [
    {
     "name": "stdout",
     "output_type": "stream",
     "text": [
      "True <class 'bool'>\n",
      "False <class 'bool'>\n"
     ]
    }
   ],
   "source": [
    "# Booleans (bool)\n",
    "is_true = True\n",
    "is_false = False\n",
    "\n",
    "print(is_true, type(is_true))\n",
    "print(is_false, type(is_false))"
   ]
  },
  {
   "cell_type": "markdown",
   "metadata": {},
   "source": [
    "## Lists\n",
    "\n",
    "A list is an ordered, mutable collection of values. Lists can contain elements of different data types. For example, [1, 2, 3] and ['apple', 'banana', 'cherry'] are lists."
   ]
  },
  {
   "cell_type": "code",
   "execution_count": 5,
   "metadata": {},
   "outputs": [
    {
     "name": "stdout",
     "output_type": "stream",
     "text": [
      "[1, '2', 3, True, 5.25] <class 'list'>\n"
     ]
    }
   ],
   "source": [
    "# List (list)\n",
    "my_list = [1, \"2\", 3, True, 5.25]\n",
    "\n",
    "print(my_list, type(my_list))"
   ]
  },
  {
   "cell_type": "markdown",
   "metadata": {},
   "source": [
    "## Tuples\n",
    "\n",
    "Similar to lists, but they are immutable **(cannot be changed after creation)**. Tuples are often used for collections of related data. For example, (1, 2, 3) is a tuple."
   ]
  },
  {
   "cell_type": "code",
   "execution_count": 6,
   "metadata": {},
   "outputs": [
    {
     "name": "stdout",
     "output_type": "stream",
     "text": [
      "('10', 20, 30, False, 3.25) <class 'tuple'>\n"
     ]
    }
   ],
   "source": [
    "# Tuples (tuple)\n",
    "my_tuple = (\"10\", 20, 30, False, 3.25)\n",
    "\n",
    "print(my_tuple, type(my_tuple))"
   ]
  },
  {
   "cell_type": "markdown",
   "metadata": {},
   "source": [
    "## Dictionaries\n",
    "\n",
    "A dictionary is an **unordered collection** of key-value pairs. Each key is unique, and it is associated with a value. For example, {'name': 'Alice', 'age': 30} is a dictionary."
   ]
  },
  {
   "cell_type": "code",
   "execution_count": 7,
   "metadata": {},
   "outputs": [
    {
     "name": "stdout",
     "output_type": "stream",
     "text": [
      "{'name': 'Alice', 'age': 30, 'city': 'New York', 'data': {'key': 123}, 'active': True, 'size': 2.5} <class 'dict'>\n"
     ]
    }
   ],
   "source": [
    "# Dictionaries (dict)\n",
    "my_dict = {'name': 'Alice', 'age': 30, 'city': 'New York', 'data': {'key': 123}, 'active': True, 'size': 2.5}\n",
    "\n",
    "print(my_dict, type(my_dict))"
   ]
  },
  {
   "cell_type": "markdown",
   "metadata": {},
   "source": [
    "## Sets\n",
    "\n",
    "A set is an unordered collection of **unique elements**. Sets are used for mathematical set operations like union, intersection, and difference. For example, {1, 2, 3} is a set."
   ]
  },
  {
   "cell_type": "code",
   "execution_count": 8,
   "metadata": {},
   "outputs": [
    {
     "name": "stdout",
     "output_type": "stream",
     "text": [
      "{False, 1, 2, 1.5, 4, '3'} <class 'set'>\n"
     ]
    }
   ],
   "source": [
    "# Sets (set)\n",
    "my_set = {1, 2, \"3\", 4, False, 1.5}\n",
    "\n",
    "print(my_set, type(my_set))"
   ]
  },
  {
   "cell_type": "markdown",
   "metadata": {},
   "source": [
    "## NoneType\n",
    "\n",
    "Represents the absence of a value. It is often used to indicate that a variable or function returns nothing."
   ]
  },
  {
   "cell_type": "code",
   "execution_count": 9,
   "metadata": {},
   "outputs": [
    {
     "name": "stdout",
     "output_type": "stream",
     "text": [
      "None <class 'NoneType'>\n"
     ]
    }
   ],
   "source": [
    "# NoneType (NoneType)\n",
    "empty_variable = None\n",
    "\n",
    "print(empty_variable, type(empty_variable))"
   ]
  },
  {
   "cell_type": "markdown",
   "metadata": {},
   "source": [
    "## Complex Numbers\n",
    "\n",
    "Used to represent complex numbers in the form a + bj, where a and b are real numbers, and j represents the square root of -1."
   ]
  },
  {
   "cell_type": "code",
   "execution_count": 10,
   "metadata": {},
   "outputs": [
    {
     "name": "stdout",
     "output_type": "stream",
     "text": [
      "(3+4j) <class 'complex'>\n"
     ]
    }
   ],
   "source": [
    "# Complex (complex)\n",
    "my_complex = 3 + 4j\n",
    "\n",
    "print(my_complex, type(my_complex))"
   ]
  },
  {
   "cell_type": "markdown",
   "metadata": {},
   "source": [
    "## Bytes and Byte Arrays\n",
    "\n",
    "Used for handling binary data. **Bytes** represent **immutable sequences of bytes**, while **byte arrays** **are mutable**."
   ]
  },
  {
   "cell_type": "code",
   "execution_count": 11,
   "metadata": {},
   "outputs": [
    {
     "name": "stdout",
     "output_type": "stream",
     "text": [
      "b'Hello' <class 'bytes'>\n",
      "bytearray(b'ABC') <class 'bytearray'>\n"
     ]
    }
   ],
   "source": [
    "# Bytes and Byte Arrays (bytes), (bytearray)\n",
    "my_bytes = b'Hello'\n",
    "my_byte_array = bytearray([65, 66, 67])\n",
    "\n",
    "print(my_bytes, type(my_bytes))\n",
    "print(my_byte_array, type(my_byte_array))"
   ]
  },
  {
   "cell_type": "markdown",
   "metadata": {},
   "source": [
    "## Enums\n",
    "\n",
    "Enumerations allow you to create symbolic names for discrete sets of values."
   ]
  },
  {
   "cell_type": "code",
   "execution_count": 12,
   "metadata": {},
   "outputs": [
    {
     "name": "stdout",
     "output_type": "stream",
     "text": [
      "Color.RED <enum 'Color'>\n"
     ]
    }
   ],
   "source": [
    "# Enums (enum 'Color')\n",
    "from enum import Enum\n",
    "\n",
    "class Color(Enum):\n",
    "    RED = 1\n",
    "    GREEN = 2\n",
    "    BLUE = 3\n",
    "\n",
    "my_color = Color.RED\n",
    "\n",
    "print(my_color, type(my_color))"
   ]
  },
  {
   "cell_type": "markdown",
   "metadata": {},
   "source": [
    "## User-Defined Classes\n",
    "\n",
    "You can create your own custom classes to represent specific data types."
   ]
  },
  {
   "cell_type": "code",
   "execution_count": 13,
   "metadata": {},
   "outputs": [
    {
     "name": "stdout",
     "output_type": "stream",
     "text": [
      "<__main__.Person object at 0x7f0327b4c050> <class '__main__.Person'>\n"
     ]
    }
   ],
   "source": [
    "# User-Defined Classes\n",
    "class Person:\n",
    "    def __init__(self, name, age):\n",
    "        self.name = name\n",
    "        self.age = age\n",
    "\n",
    "person1 = Person(\"Alice\", 30)\n",
    "\n",
    "print(person1, type(person1))"
   ]
  },
  {
   "cell_type": "markdown",
   "metadata": {},
   "source": [
    "---\n",
    "These examples illustrate the different data types in Python and how to use them. You can perform various operations and manipulations with these data types based on your programming needs."
   ]
  }
 ],
 "metadata": {
  "kernelspec": {
   "display_name": ".venv",
   "language": "python",
   "name": "python3"
  },
  "language_info": {
   "codemirror_mode": {
    "name": "ipython",
    "version": 3
   },
   "file_extension": ".py",
   "mimetype": "text/x-python",
   "name": "python",
   "nbconvert_exporter": "python",
   "pygments_lexer": "ipython3",
   "version": "3.12.0"
  }
 },
 "nbformat": 4,
 "nbformat_minor": 2
}
