{
 "cells": [
  {
   "cell_type": "markdown",
   "metadata": {},
   "source": [
    "# User Input\n",
    "\n",
    "User inputs in Python can be obtained using the input() function. The input() function allows you to interact with your Python program by entering data through the keyboard."
   ]
  },
  {
   "cell_type": "code",
   "execution_count": 2,
   "metadata": {},
   "outputs": [
    {
     "name": "stdout",
     "output_type": "stream",
     "text": [
      "You entered: Hola Mundo\n"
     ]
    }
   ],
   "source": [
    "# Here's a basic example of how to use input() to get user input:\n",
    "\"\"\"\n",
    "In this example, the input() function displays the prompt \"Enter something: \" to the user, and it waits for the user to type something and press Enter.\n",
    "The user's input is stored in the user_input variable, which you can then use in your program.\n",
    "\"\"\"\n",
    "\n",
    "user_input = input(\"Enter something: \")\n",
    "print(\"You entered:\", user_input)"
   ]
  },
  {
   "cell_type": "markdown",
   "metadata": {},
   "source": [
    "## Here are some important things to keep in mind when working with user inputs in Python:"
   ]
  },
  {
   "cell_type": "markdown",
   "metadata": {},
   "source": [
    "### 1. input() always returns a string:\n",
    "\n",
    "Regardless of what the user enters, input() returns it as a string. If you need to use the input as a different data type, such as an integer or a float, you should convert it using int() or float() functions."
   ]
  },
  {
   "cell_type": "code",
   "execution_count": 3,
   "metadata": {},
   "outputs": [
    {
     "name": "stdout",
     "output_type": "stream",
     "text": [
      "<class 'str'> <class 'int'>\n"
     ]
    }
   ],
   "source": [
    "# input() always returns a string:\n",
    "user_input = input(\"Enter a number: \")\n",
    "number = int(user_input)  # Convert the input to an integer\n",
    "\n",
    "print(type(user_input), type(number))"
   ]
  },
  {
   "cell_type": "markdown",
   "metadata": {},
   "source": [
    "### 2. Handle user input validation:\n",
    "\n",
    "You should validate and sanitize user input as needed to ensure it matches your program's requirements. For example, you might want to check if the input is a valid number, within a specific range, or contains the expected format."
   ]
  },
  {
   "cell_type": "markdown",
   "metadata": {},
   "source": [
    "### 3. User input can be dangerous:\n",
    "\n",
    "When working with user inputs, be cautious about security. User inputs can be a potential source of security vulnerabilities like SQL injection or code injection. If you're processing user input to perform actions like database queries or executing code, make sure to sanitize and validate the input to prevent such vulnerabilities."
   ]
  },
  {
   "cell_type": "code",
   "execution_count": 5,
   "metadata": {},
   "outputs": [
    {
     "name": "stdout",
     "output_type": "stream",
     "text": [
      "Age must be between 18 and 100. Try again.\n",
      "Valid age: 32\n"
     ]
    }
   ],
   "source": [
    "# Handle user input validation, user input can be dangerous:\n",
    "while True:\n",
    "    age_input = input(\"Enter your age (between 18 and 100): \")\n",
    "    \n",
    "    try:\n",
    "        age = int(age_input)  # Convert the input to an integer\n",
    "        \n",
    "        if 18 <= age <= 100:\n",
    "            print(\"Valid age:\", age)\n",
    "            break\n",
    "        else:\n",
    "            print(\"Age must be between 18 and 100. Try again.\")\n",
    "    except ValueError:\n",
    "        print(\"Invalid input. Please enter a valid number for your age.\")"
   ]
  }
 ],
 "metadata": {
  "kernelspec": {
   "display_name": ".venv",
   "language": "python",
   "name": "python3"
  },
  "language_info": {
   "codemirror_mode": {
    "name": "ipython",
    "version": 3
   },
   "file_extension": ".py",
   "mimetype": "text/x-python",
   "name": "python",
   "nbconvert_exporter": "python",
   "pygments_lexer": "ipython3",
   "version": "3.12.0"
  }
 },
 "nbformat": 4,
 "nbformat_minor": 2
}
